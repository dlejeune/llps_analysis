{
 "cells": [
  {
   "cell_type": "code",
   "execution_count": 1,
   "metadata": {
    "collapsed": true
   },
   "outputs": [],
   "source": [
    "import pandas as pd\n",
    "import skimage as ski\n",
    "import matplotlib.pyplot as plt\n",
    "import numpy as np\n",
    "from main import load_img\n",
    "import main as m\n",
    "import matplotlib.patches as mpatches\n",
    "from pathlib import Path\n",
    "from scipy import ndimage as ndi"
   ]
  },
  {
   "cell_type": "code",
   "execution_count": null,
   "outputs": [],
   "source": [
    "good_condensates = m.load_img(\"data/massive_condensates.tif\")\n",
    "small_condensates = m.load_img(\"data/small_condensates.tif\")\n",
    "uniform_fluorescence = m.load_img(\"data/uniform_fluorescence.tif\")\n",
    "irregular_condensates = m.load_img(\"data/irregular_shape.tif\")\n",
    "\n",
    "images = [good_condensates, small_condensates, uniform_fluorescence, irregular_condensates]\n",
    "image_labels = [\"good_condensates\", \"small_condensates\", \"uniform_fluorescence\", \"irregular_condensates\"]"
   ],
   "metadata": {
    "collapsed": false
   }
  },
  {
   "cell_type": "code",
   "execution_count": 2,
   "outputs": [],
   "source": [
    "def plot_images(images, image_labels):\n",
    "    fig, ax = plt.subplots(1, len(images), figsize=(20, 20))\n",
    "    for i, image in enumerate(images):\n",
    "        ax[i].imshow(image, cmap=\"gray\")\n",
    "        ax[i].set_title(image_labels[i])\n",
    "    plt.show()"
   ],
   "metadata": {
    "collapsed": false,
    "ExecuteTime": {
     "end_time": "2023-11-01T10:16:41.697276500Z",
     "start_time": "2023-11-01T10:16:40.137125Z"
    }
   }
  },
  {
   "cell_type": "code",
   "execution_count": null,
   "outputs": [],
   "source": [
    "plot_images(images, image_labels)"
   ],
   "metadata": {
    "collapsed": false
   }
  },
  {
   "cell_type": "code",
   "execution_count": null,
   "outputs": [],
   "source": [
    "bg = ski.restoration.rolling_ball(good_condensates)"
   ],
   "metadata": {
    "collapsed": false
   }
  },
  {
   "cell_type": "code",
   "execution_count": null,
   "outputs": [],
   "source": [
    "plot_images([good_condensates, bg, good_condensates - bg], [\"good_condensates\", \"bg\", \"\"])"
   ],
   "metadata": {
    "collapsed": false
   }
  },
  {
   "cell_type": "code",
   "execution_count": null,
   "outputs": [],
   "source": [
    "mod = ski.morphology.closing(small_condensates, ski.morphology.disk(15))"
   ],
   "metadata": {
    "collapsed": false
   }
  },
  {
   "cell_type": "code",
   "execution_count": null,
   "outputs": [],
   "source": [
    "expo = ski.exposure.equalize_adapthist(small_condensates)\n",
    "\n",
    "plot_images([small_condensates, mod, expo], [\"small_condensates\", \"mod\", \"expo\"])"
   ],
   "metadata": {
    "collapsed": false
   }
  },
  {
   "cell_type": "code",
   "execution_count": null,
   "outputs": [],
   "source": [
    "def proposed_pre_processing(image):\n",
    "    # median = ski.filters.median(image, ski.morphology.disk(3))\n",
    "    # unsharp = ski.filters.unsharp_mask(image, radius=3, amount=1)\n",
    "\n",
    "    restored = ski.restoration.richardson_lucy(image, ski.morphology.disk(3), num_iter=30)\n",
    "\n",
    "    closing = ski.morphology.dilation(restored, ski.morphology.disk(3))\n",
    "    exposure_fix = ski.exposure.equalize_adapthist(closing)\n",
    "\n",
    "    return exposure_fix"
   ],
   "metadata": {
    "collapsed": false
   }
  },
  {
   "cell_type": "code",
   "execution_count": null,
   "outputs": [],
   "source": [
    "good_cond_mod = proposed_pre_processing(good_condensates)\n",
    "thresholded = good_cond_mod > ski.filters.threshold_otsu(good_cond_mod)\n",
    "plot_images([good_condensates, good_cond_mod, thresholded], [\"good_condensates\", \"good_cond_mod\", \"thresholded\"])"
   ],
   "metadata": {
    "collapsed": false
   }
  },
  {
   "cell_type": "code",
   "execution_count": null,
   "outputs": [],
   "source": [
    "good_cond_mod = proposed_pre_processing(small_condensates)\n",
    "thresholded = good_cond_mod > ski.filters.threshold_isodata(good_cond_mod)\n",
    "plot_images([good_condensates, good_cond_mod, thresholded], [\"good_condensates\", \"good_cond_mod\", \"thresholded\"])"
   ],
   "metadata": {
    "collapsed": false
   }
  },
  {
   "cell_type": "code",
   "execution_count": null,
   "outputs": [],
   "source": [
    "good_cond_mod = proposed_pre_processing(uniform_fluorescence)\n",
    "thresholded = good_cond_mod > ski.filters.threshold_isodata(good_cond_mod)\n",
    "plot_images([uniform_fluorescence, good_cond_mod, thresholded], [\"good_condensates\", \"good_cond_mod\", \"thresholded\"])"
   ],
   "metadata": {
    "collapsed": false
   }
  },
  {
   "cell_type": "code",
   "execution_count": null,
   "outputs": [],
   "source": [
    "np.mean(good_condensates)"
   ],
   "metadata": {
    "collapsed": false
   }
  },
  {
   "cell_type": "code",
   "execution_count": null,
   "outputs": [],
   "source": [
    "np.mean(irregular_condensates)"
   ],
   "metadata": {
    "collapsed": false
   }
  },
  {
   "cell_type": "code",
   "execution_count": null,
   "outputs": [],
   "source": [
    "edges = ski.filters.sobel(good_condensates)\n",
    "plot_images([good_condensates, edges], [\"good_condensates\", \"edges\"])"
   ],
   "metadata": {
    "collapsed": false
   }
  },
  {
   "cell_type": "code",
   "execution_count": null,
   "outputs": [],
   "source": [
    "edges = ski.filters.sobel(small_condensates)\n",
    "plot_images([small_condensates, edges], [\"small_condensates\", \"edges\"])"
   ],
   "metadata": {
    "collapsed": false
   }
  },
  {
   "cell_type": "code",
   "execution_count": null,
   "outputs": [],
   "source": [
    "edges = ski.filters.sobel(uniform_fluorescence)\n",
    "plot_images([uniform_fluorescence, edges], [\"uniform_fluorescence\", \"edges\"])"
   ],
   "metadata": {
    "collapsed": false
   }
  },
  {
   "cell_type": "code",
   "execution_count": null,
   "outputs": [],
   "source": [
    "edges = ski.filters.sobel(good_condensates)\n",
    "\n",
    "filled = ndi.binary_fill_holes(edges)\n",
    "\n",
    "plot_images([good_condensates, edges, filled], [\"good_condensates\", \"edges\", \"filled\"])\n"
   ],
   "metadata": {
    "collapsed": false
   }
  },
  {
   "cell_type": "code",
   "execution_count": null,
   "outputs": [],
   "source": [
    "print(np.std(uniform_fluorescence) / np.mean(uniform_fluorescence))\n",
    "print(np.std(good_condensates) / np.mean(good_condensates))\n",
    "print(np.std(small_condensates) / np.mean(small_condensates))\n",
    "print(np.std(irregular_condensates) / np.mean(irregular_condensates))"
   ],
   "metadata": {
    "collapsed": false
   }
  },
  {
   "cell_type": "code",
   "execution_count": null,
   "outputs": [],
   "source": [
    "a = Path(\"a/1.2\")"
   ],
   "metadata": {
    "collapsed": false
   }
  },
  {
   "cell_type": "code",
   "execution_count": null,
   "outputs": [],
   "source": [
    "problem_img = m.load_img(\"C:\\\\\\Users\\\\danie\\\\temp_hons_microscopy\\\\TFIIB Core\\\\64\\\\64_018.tif\")"
   ],
   "metadata": {
    "collapsed": false
   }
  },
  {
   "cell_type": "code",
   "execution_count": null,
   "outputs": [],
   "source": [
    "thresh = ski.filters.threshold_otsu(problem_img)\n",
    "thres_img = problem_img > thresh\n",
    "\n",
    "threh_mean = problem_img > 4 * np.std(problem_img)\n",
    "\n",
    "plot_images([problem_img, thres_img, threh_mean], [\"problem_img\", \"thres_img\", \"threh_mean\"])"
   ],
   "metadata": {
    "collapsed": false
   }
  },
  {
   "cell_type": "code",
   "execution_count": null,
   "outputs": [],
   "source": [
    "np.std(threh_mean)"
   ],
   "metadata": {
    "collapsed": false
   }
  },
  {
   "cell_type": "code",
   "execution_count": null,
   "outputs": [],
   "source": [
    "np.std(thres_img)"
   ],
   "metadata": {
    "collapsed": false
   }
  },
  {
   "cell_type": "code",
   "execution_count": null,
   "outputs": [],
   "source": [
    "problem_img.shape"
   ],
   "metadata": {
    "collapsed": false
   }
  },
  {
   "cell_type": "code",
   "execution_count": null,
   "outputs": [],
   "source": [
    "mu = 0\n",
    "sigma = 0\n",
    "shape = (1920, 2560)\n",
    "gauss_img = np.random.normal(mu, sigma, shape)\n",
    "gauss_img"
   ],
   "metadata": {
    "collapsed": false
   }
  },
  {
   "cell_type": "code",
   "execution_count": null,
   "outputs": [],
   "source": [
    "img = np.full((1920, 2560), 255)\n",
    "img = ski.util.random_noise(img, mode=\"speckle\")\n",
    "plt.imshow(img, cmap=\"gray\")"
   ],
   "metadata": {
    "collapsed": false
   }
  },
  {
   "cell_type": "code",
   "execution_count": null,
   "outputs": [],
   "source": [],
   "metadata": {
    "collapsed": false
   }
  },
  {
   "cell_type": "code",
   "execution_count": null,
   "outputs": [],
   "source": [
    "plt.imshow(gauss_img, cmap=\"gray\")"
   ],
   "metadata": {
    "collapsed": false
   }
  },
  {
   "cell_type": "code",
   "execution_count": null,
   "outputs": [],
   "source": [
    "np.mean(ski.filters.rank.entropy(thres_img.astype(int), ski.morphology.disk(3)))"
   ],
   "metadata": {
    "collapsed": false
   }
  },
  {
   "cell_type": "code",
   "execution_count": null,
   "outputs": [],
   "source": [
    "np.mean(ski.filters.rank.entropy(img.astype(int), ski.morphology.disk(3)))"
   ],
   "metadata": {
    "collapsed": false
   }
  },
  {
   "cell_type": "code",
   "execution_count": null,
   "outputs": [],
   "source": [
    "np.mean(ski.filters.rank.entropy(threh_mean.astype(int), ski.morphology.disk(3)))"
   ],
   "metadata": {
    "collapsed": false
   }
  },
  {
   "cell_type": "code",
   "execution_count": null,
   "outputs": [],
   "source": [
    "good_condensate_thresh = good_condensates > ski.filters.threshold_otsu(good_condensates)\n",
    "\n",
    "np.mean(ski.filters.rank.entropy(good_condensate_thresh.astype(int), ski.morphology.disk(3)))"
   ],
   "metadata": {
    "collapsed": false
   }
  },
  {
   "cell_type": "code",
   "execution_count": null,
   "outputs": [],
   "source": [
    "def calc_mean_entropy(image):\n",
    "    return np.mean(ski.filters.rank.entropy(image.astype(\"uint8\"), ski.morphology.disk(3)))"
   ],
   "metadata": {
    "collapsed": false
   }
  },
  {
   "cell_type": "code",
   "execution_count": null,
   "outputs": [],
   "source": [
    "entropy_values = []\n",
    "\n"
   ],
   "metadata": {
    "collapsed": false
   }
  },
  {
   "cell_type": "code",
   "execution_count": null,
   "outputs": [],
   "source": [
    "calc_mean_entropy(good_condensate_thresh)"
   ],
   "metadata": {
    "collapsed": false
   }
  },
  {
   "cell_type": "code",
   "execution_count": null,
   "outputs": [],
   "source": [
    "for img in Path(\"C:\\\\Users\\\\danie\\\\temp_hons_microscopy\\\\TFIIB Core\\\\64\").glob(\"*.tif\"):\n",
    "    image = m.load_img(img)\n",
    "    entropy_values.append(calc_mean_entropy(image))"
   ],
   "metadata": {
    "collapsed": false
   }
  },
  {
   "cell_type": "code",
   "execution_count": null,
   "outputs": [],
   "source": [
    "entropy_values"
   ],
   "metadata": {
    "collapsed": false
   }
  },
  {
   "cell_type": "code",
   "execution_count": null,
   "outputs": [],
   "source": [
    "\n",
    "evalues = []\n",
    "\n",
    "for img in Path(\"C:\\\\Users\\\\danie\\\\temp_hons_microscopy\\\\TFIIB Core\\\\4\").glob(\"*.tif\"):\n",
    "    image = m.load_img(img)\n",
    "    evalues.append(calc_mean_entropy(image))"
   ],
   "metadata": {
    "collapsed": false
   }
  },
  {
   "cell_type": "code",
   "execution_count": null,
   "outputs": [],
   "source": [
    "evalues  #%%\n",
    "import pandas as pd\n",
    "import skimage as ski\n",
    "import matplotlib.pyplot as plt\n",
    "import numpy as np\n",
    "from main import load_img\n",
    "import main as m\n",
    "import matplotlib.patches as mpatches\n",
    "from pathlib import Path\n",
    "from scipy import ndimage as ndi"
   ],
   "metadata": {
    "collapsed": false
   }
  },
  {
   "cell_type": "code",
   "execution_count": null,
   "outputs": [],
   "source": [
    "good_condensates = m.load_img(\"data/massive_condensates.tif\")\n",
    "small_condensates = m.load_img(\"data/small_condensates.tif\")\n",
    "uniform_fluorescence = m.load_img(\"data/uniform_fluorescence.tif\")\n",
    "irregular_condensates = m.load_img(\"data/irregular_shape.tif\")\n",
    "\n",
    "images = [good_condensates, small_condensates, uniform_fluorescence, irregular_condensates]\n",
    "image_labels = [\"good_condensates\", \"small_condensates\", \"uniform_fluorescence\", \"irregular_condensates\"]"
   ],
   "metadata": {
    "collapsed": false
   }
  },
  {
   "cell_type": "code",
   "execution_count": null,
   "outputs": [],
   "source": [
    "def plot_images(images, image_labels):\n",
    "    fig, ax = plt.subplots(1, len(images), figsize=(20, 20))\n",
    "    for i, image in enumerate(images):\n",
    "        ax[i].imshow(image, cmap=\"gray\")\n",
    "        ax[i].set_title(image_labels[i])\n",
    "    plt.show()"
   ],
   "metadata": {
    "collapsed": false
   }
  },
  {
   "cell_type": "code",
   "execution_count": null,
   "outputs": [],
   "source": [
    "plot_images(images, image_labels)"
   ],
   "metadata": {
    "collapsed": false
   }
  },
  {
   "cell_type": "code",
   "execution_count": null,
   "outputs": [],
   "source": [
    "mod = ski.morphology.closing(small_condensates, ski.morphology.disk(15))"
   ],
   "metadata": {
    "collapsed": false
   }
  },
  {
   "cell_type": "code",
   "execution_count": null,
   "outputs": [],
   "source": [
    "expo = ski.exposure.equalize_adapthist(small_condensates)\n",
    "\n",
    "plot_images([small_condensates, mod, expo], [\"small_condensates\", \"mod\", \"expo\"])"
   ],
   "metadata": {
    "collapsed": false
   }
  },
  {
   "cell_type": "code",
   "execution_count": null,
   "outputs": [],
   "source": [
    "def proposed_pre_processing(image):\n",
    "    # median = ski.filters.median(image, ski.morphology.disk(3))\n",
    "    # unsharp = ski.filters.unsharp_mask(image, radius=3, amount=1)\n",
    "\n",
    "    restored = ski.restoration.richardson_lucy(image, ski.morphology.disk(3), num_iter=30)\n",
    "\n",
    "    closing = ski.morphology.dilation(restored, ski.morphology.disk(3))\n",
    "    exposure_fix = ski.exposure.equalize_adapthist(closing)\n",
    "\n",
    "    return exposure_fix"
   ],
   "metadata": {
    "collapsed": false
   }
  },
  {
   "cell_type": "code",
   "execution_count": null,
   "outputs": [],
   "source": [
    "good_cond_mod = proposed_pre_processing(good_condensates)\n",
    "thresholded = good_cond_mod > ski.filters.threshold_otsu(good_cond_mod)\n",
    "plot_images([good_condensates, good_cond_mod, thresholded], [\"good_condensates\", \"good_cond_mod\", \"thresholded\"])"
   ],
   "metadata": {
    "collapsed": false
   }
  },
  {
   "cell_type": "code",
   "execution_count": null,
   "outputs": [],
   "source": [
    "good_cond_mod = proposed_pre_processing(small_condensates)\n",
    "thresholded = good_cond_mod > ski.filters.threshold_isodata(good_cond_mod)\n",
    "plot_images([good_condensates, good_cond_mod, thresholded], [\"good_condensates\", \"good_cond_mod\", \"thresholded\"])"
   ],
   "metadata": {
    "collapsed": false
   }
  },
  {
   "cell_type": "code",
   "execution_count": null,
   "outputs": [],
   "source": [
    "good_cond_mod = proposed_pre_processing(uniform_fluorescence)\n",
    "thresholded = good_cond_mod > ski.filters.threshold_isodata(good_cond_mod)\n",
    "plot_images([uniform_fluorescence, good_cond_mod, thresholded], [\"good_condensates\", \"good_cond_mod\", \"thresholded\"])"
   ],
   "metadata": {
    "collapsed": false
   }
  },
  {
   "cell_type": "code",
   "execution_count": null,
   "outputs": [],
   "source": [
    "np.mean(good_condensates)"
   ],
   "metadata": {
    "collapsed": false
   }
  },
  {
   "cell_type": "code",
   "execution_count": null,
   "outputs": [],
   "source": [
    "np.mean(irregular_condensates)"
   ],
   "metadata": {
    "collapsed": false
   }
  },
  {
   "cell_type": "code",
   "execution_count": null,
   "outputs": [],
   "source": [
    "edges = ski.filters.sobel(good_condensates)\n",
    "plot_images([good_condensates, edges], [\"good_condensates\", \"edges\"])"
   ],
   "metadata": {
    "collapsed": false
   }
  },
  {
   "cell_type": "code",
   "execution_count": null,
   "outputs": [],
   "source": [
    "edges = ski.filters.sobel(small_condensates)\n",
    "plot_images([small_condensates, edges], [\"small_condensates\", \"edges\"])"
   ],
   "metadata": {
    "collapsed": false
   }
  },
  {
   "cell_type": "code",
   "execution_count": null,
   "outputs": [],
   "source": [
    "edges = ski.filters.sobel(uniform_fluorescence)\n",
    "plot_images([uniform_fluorescence, edges], [\"uniform_fluorescence\", \"edges\"])"
   ],
   "metadata": {
    "collapsed": false
   }
  },
  {
   "cell_type": "code",
   "execution_count": null,
   "outputs": [],
   "source": [
    "edges = ski.filters.sobel(good_condensates)\n",
    "\n",
    "filled = ndi.binary_fill_holes(edges)\n",
    "\n",
    "plot_images([good_condensates, edges, filled], [\"good_condensates\", \"edges\", \"filled\"])\n"
   ],
   "metadata": {
    "collapsed": false
   }
  },
  {
   "cell_type": "code",
   "execution_count": null,
   "outputs": [],
   "source": [
    "print(np.std(uniform_fluorescence) / np.mean(uniform_fluorescence))\n",
    "print(np.std(good_condensates) / np.mean(good_condensates))\n",
    "print(np.std(small_condensates) / np.mean(small_condensates))\n",
    "print(np.std(irregular_condensates) / np.mean(irregular_condensates))"
   ],
   "metadata": {
    "collapsed": false
   }
  },
  {
   "cell_type": "code",
   "execution_count": null,
   "outputs": [],
   "source": [
    "a = Path(\"a/1.2\")"
   ],
   "metadata": {
    "collapsed": false
   }
  },
  {
   "cell_type": "code",
   "execution_count": null,
   "outputs": [],
   "source": [
    "problem_img = m.load_img(\"C:\\\\Users\\\\danie\\\\temp_hons_microscopy\\\\TFIIB Core\\\\64\\\\64_018.tif\")"
   ],
   "metadata": {
    "collapsed": false
   }
  },
  {
   "cell_type": "code",
   "execution_count": null,
   "outputs": [],
   "source": [
    "thresh = ski.filters.threshold_otsu(problem_img)\n",
    "thres_img = problem_img > thresh\n",
    "\n",
    "threh_mean = problem_img > 4 * np.std(problem_img)\n",
    "\n",
    "plot_images([problem_img, thres_img, threh_mean], [\"problem_img\", \"thres_img\", \"threh_mean\"])"
   ],
   "metadata": {
    "collapsed": false
   }
  },
  {
   "cell_type": "code",
   "execution_count": null,
   "outputs": [],
   "source": [
    "np.std(threh_mean)"
   ],
   "metadata": {
    "collapsed": false
   }
  },
  {
   "cell_type": "code",
   "execution_count": null,
   "outputs": [],
   "source": [
    "np.std(thres_img)"
   ],
   "metadata": {
    "collapsed": false
   }
  },
  {
   "cell_type": "code",
   "execution_count": null,
   "outputs": [],
   "source": [
    "problem_img.shape"
   ],
   "metadata": {
    "collapsed": false
   }
  },
  {
   "cell_type": "code",
   "execution_count": null,
   "outputs": [],
   "source": [
    "mu = 0\n",
    "sigma = 0\n",
    "shape = (1920, 2560)\n",
    "gauss_img = np.random.normal(mu, sigma, shape)\n",
    "gauss_img"
   ],
   "metadata": {
    "collapsed": false
   }
  },
  {
   "cell_type": "code",
   "execution_count": null,
   "outputs": [],
   "source": [
    "img = np.full((1920, 2560), 255)\n",
    "img = ski.util.random_noise(img, mode=\"speckle\")\n",
    "plt.imshow(img, cmap=\"gray\")"
   ],
   "metadata": {
    "collapsed": false
   }
  },
  {
   "cell_type": "code",
   "execution_count": null,
   "outputs": [],
   "source": [],
   "metadata": {
    "collapsed": false
   }
  },
  {
   "cell_type": "code",
   "execution_count": null,
   "outputs": [],
   "source": [
    "plt.imshow(gauss_img, cmap=\"gray\")"
   ],
   "metadata": {
    "collapsed": false
   }
  },
  {
   "cell_type": "code",
   "execution_count": null,
   "outputs": [],
   "source": [
    "np.mean(ski.filters.rank.entropy(thres_img.astype(int), ski.morphology.disk(3)))"
   ],
   "metadata": {
    "collapsed": false
   }
  },
  {
   "cell_type": "code",
   "execution_count": null,
   "outputs": [],
   "source": [
    "np.mean(ski.filters.rank.entropy(img.astype(int), ski.morphology.disk(3)))"
   ],
   "metadata": {
    "collapsed": false
   }
  },
  {
   "cell_type": "code",
   "execution_count": null,
   "outputs": [],
   "source": [
    "np.mean(ski.filters.rank.entropy(threh_mean.astype(int), ski.morphology.disk(3)))"
   ],
   "metadata": {
    "collapsed": false
   }
  },
  {
   "cell_type": "code",
   "execution_count": null,
   "outputs": [],
   "source": [
    "good_condensate_thresh = good_condensates > ski.filters.threshold_otsu(good_condensates)\n",
    "\n",
    "np.mean(ski.filters.rank.entropy(good_condensate_thresh.astype(int), ski.morphology.disk(3)))"
   ],
   "metadata": {
    "collapsed": false
   }
  },
  {
   "cell_type": "code",
   "execution_count": null,
   "outputs": [],
   "source": [
    "def calc_mean_entropy(image):\n",
    "    return np.mean(ski.filters.rank.entropy(image.astype(\"uint8\"), ski.morphology.disk(3)))"
   ],
   "metadata": {
    "collapsed": false
   }
  },
  {
   "cell_type": "code",
   "execution_count": null,
   "outputs": [],
   "source": [
    "entropy_values = []\n",
    "\n"
   ],
   "metadata": {
    "collapsed": false
   }
  },
  {
   "cell_type": "code",
   "execution_count": null,
   "outputs": [],
   "source": [
    "calc_mean_entropy(good_condensate_thresh)"
   ],
   "metadata": {
    "collapsed": false
   }
  },
  {
   "cell_type": "code",
   "execution_count": null,
   "outputs": [],
   "source": [
    "#  Let's do a test. We can try ostu vs the std method and see who comes out on top"
   ],
   "metadata": {
    "collapsed": false
   }
  },
  {
   "cell_type": "code",
   "execution_count": null,
   "outputs": [],
   "source": [
    "for img in Path(\"C:\\\\Users\\\\danie\\\\temp_hons_microscopy\\\\TFIIB Core\\\\64\").glob(\"*.tif\"):\n",
    "    image = m.load_img(img)\n",
    "    thresh_otsu = image > ski.filters.threshold_otsu(image)\n",
    "    thresh_std_2 = image > 2 * np.std(image)\n",
    "    thresh_std_3 = image > 3 * np.std(image)\n",
    "    thresh_std_4 = image > 4 * np.std(image)\n",
    "\n",
    "    print(\n",
    "        f\"Otsu: {calc_mean_entropy(thresh_otsu)}, std_2: {calc_mean_entropy(thresh_std_2)}, std_3: {calc_mean_entropy(thresh_std_3)}, std_4: {calc_mean_entropy(thresh_std_4)}\")\n",
    "\n",
    "    entropy_values.append(\n",
    "        [calc_mean_entropy(thresh_otsu), calc_mean_entropy(thresh_std_2), calc_mean_entropy(thresh_std_3),\n",
    "         calc_mean_entropy(thresh_std_4)])"
   ],
   "metadata": {
    "collapsed": false
   }
  },
  {
   "cell_type": "code",
   "execution_count": null,
   "outputs": [],
   "source": [
    "image = small_condensates\n",
    "thresh_otsu = image > ski.filters.threshold_otsu(image)\n",
    "thresh_std_2 = image > 2 * np.std(image)\n",
    "thresh_std_3 = image > 3 * np.std(image)\n",
    "thresh_std_4 = image > 4 * np.std(image)\n",
    "\n",
    "plot_images([image, thresh_otsu, thresh_std_2, thresh_std_3, thresh_std_4],\n",
    "            [\"image\", \"thresh_otsu\", \"thresh_std_2\", \"thresh_std_3\", \"thresh_std_4\"])"
   ],
   "metadata": {
    "collapsed": false
   }
  },
  {
   "cell_type": "code",
   "execution_count": null,
   "outputs": [],
   "source": [
    "print(np.std(thresh_otsu), np.std(thresh_std_2), np.std(thresh_std_3), np.std(thresh_std_4))\n",
    "print()\n",
    "print(calc_mean_entropy(thresh_otsu), calc_mean_entropy(thresh_std_2), calc_mean_entropy(thresh_std_3),\n",
    "      calc_mean_entropy(thresh_std_4))"
   ],
   "metadata": {
    "collapsed": false
   }
  },
  {
   "cell_type": "code",
   "execution_count": null,
   "outputs": [],
   "source": [
    "0.05\n",
    "evalues = []\n",
    "\n",
    "for img in Path(\"C:\\\\Users\\\\danie\\\\temp_hons_microscopy\\\\TFIIB Core\\\\4\").glob(\"*.tif\"):\n",
    "    image = m.load_img(img)\n",
    "    evalues.append(calc_mean_entropy(image))"
   ],
   "metadata": {
    "collapsed": false
   }
  },
  {
   "cell_type": "code",
   "execution_count": null,
   "outputs": [],
   "source": [
    "evalues"
   ],
   "metadata": {
    "collapsed": false
   }
  },
  {
   "cell_type": "code",
   "execution_count": null,
   "outputs": [],
   "source": [
    "img = uniform_fluorescence"
   ],
   "metadata": {
    "collapsed": false
   }
  },
  {
   "cell_type": "code",
   "execution_count": null,
   "outputs": [],
   "source": [
    "uniform_fluorescence"
   ],
   "metadata": {
    "collapsed": false
   }
  },
  {
   "cell_type": "code",
   "execution_count": null,
   "outputs": [],
   "source": [
    "np.std(uniform_fluorescence)"
   ],
   "metadata": {
    "collapsed": false
   }
  },
  {
   "cell_type": "code",
   "execution_count": null,
   "outputs": [],
   "source": [
    "thresh_img = img < 4 * np.std(img)"
   ],
   "metadata": {
    "collapsed": false
   }
  },
  {
   "cell_type": "code",
   "execution_count": null,
   "outputs": [],
   "source": [
    "thresh_img"
   ],
   "metadata": {
    "collapsed": false
   }
  },
  {
   "cell_type": "code",
   "execution_count": null,
   "outputs": [],
   "source": [
    "plt.imshow(thresh_img, cmap=\"gray\")\n",
    "plt.axis(\"off\")"
   ],
   "metadata": {
    "collapsed": false
   }
  },
  {
   "cell_type": "code",
   "execution_count": null,
   "outputs": [],
   "source": [
    "label_img = ski.measure.label(thresh_img)"
   ],
   "metadata": {
    "collapsed": false
   }
  },
  {
   "cell_type": "code",
   "execution_count": null,
   "outputs": [],
   "source": [
    "plt.imshow(label_img, cmap=\"gray\")"
   ],
   "metadata": {
    "collapsed": false
   }
  },
  {
   "cell_type": "code",
   "execution_count": null,
   "outputs": [],
   "source": [
    "plt.imshow(ski.color.label2rgb(label_img, image=img))"
   ],
   "metadata": {
    "collapsed": false
   }
  },
  {
   "cell_type": "code",
   "execution_count": null,
   "outputs": [],
   "source": [
    "np.sum(thresh_img == 1)  #%%\n",
    "import pandas as pd\n",
    "import skimage as ski\n",
    "import matplotlib.pyplot as plt\n",
    "import numpy as np\n",
    "from main import load_img\n",
    "import main as m\n",
    "import matplotlib.patches as mpatches\n",
    "from pathlib import Path\n",
    "from scipy import ndimage as ndi"
   ],
   "metadata": {
    "collapsed": false
   }
  },
  {
   "cell_type": "code",
   "execution_count": null,
   "outputs": [],
   "source": [
    "good_condensates = m.load_img(\"data/massive_condensates.tif\")\n",
    "small_condensates = m.load_img(\"data/small_condensates.tif\")\n",
    "uniform_fluorescence = m.load_img(\"data/uniform_fluorescence.tif\")\n",
    "irregular_condensates = m.load_img(\"data/irregular_shape.tif\")\n",
    "\n",
    "images = [good_condensates, small_condensates, uniform_fluorescence, irregular_condensates]\n",
    "image_labels = [\"good_condensates\", \"small_condensates\", \"uniform_fluorescence\", \"irregular_condensates\"]"
   ],
   "metadata": {
    "collapsed": false
   }
  },
  {
   "cell_type": "code",
   "execution_count": null,
   "outputs": [],
   "source": [
    "def plot_images(images, image_labels):\n",
    "    fig, ax = plt.subplots(1, len(images), figsize=(20, 20))\n",
    "    for i, image in enumerate(images):\n",
    "        ax[i].imshow(image, cmap=\"gray\")\n",
    "        ax[i].set_title(image_labels[i])\n",
    "    plt.show()"
   ],
   "metadata": {
    "collapsed": false
   }
  },
  {
   "cell_type": "code",
   "execution_count": null,
   "outputs": [],
   "source": [
    "plot_images(images, image_labels)"
   ],
   "metadata": {
    "collapsed": false
   }
  },
  {
   "cell_type": "code",
   "execution_count": null,
   "outputs": [],
   "source": [
    "bg = ski.restoration.rolling_ball(good_condensates)"
   ],
   "metadata": {
    "collapsed": false
   }
  },
  {
   "cell_type": "code",
   "execution_count": null,
   "outputs": [],
   "source": [
    "plot_images([good_condensates, bg, good_condensates - bg], [\"good_condensates\", \"bg\", \"\"])"
   ],
   "metadata": {
    "collapsed": false
   }
  },
  {
   "cell_type": "code",
   "execution_count": null,
   "outputs": [],
   "source": [
    "mod = ski.morphology.closing(small_condensates, ski.morphology.disk(15))"
   ],
   "metadata": {
    "collapsed": false
   }
  },
  {
   "cell_type": "code",
   "execution_count": null,
   "outputs": [],
   "source": [
    "expo = ski.exposure.equalize_adapthist(small_condensates)\n",
    "\n",
    "plot_images([small_condensates, mod, expo], [\"small_condensates\", \"mod\", \"expo\"])"
   ],
   "metadata": {
    "collapsed": false
   }
  },
  {
   "cell_type": "code",
   "execution_count": null,
   "outputs": [],
   "source": [
    "def proposed_pre_processing(image):\n",
    "    # median = ski.filters.median(image, ski.morphology.disk(3))\n",
    "    # unsharp = ski.filters.unsharp_mask(image, radius=3, amount=1)\n",
    "\n",
    "    restored = ski.restoration.richardson_lucy(image, ski.morphology.disk(3), num_iter=30)\n",
    "\n",
    "    closing = ski.morphology.dilation(restored, ski.morphology.disk(3))\n",
    "    exposure_fix = ski.exposure.equalize_adapthist(closing)\n",
    "\n",
    "    return exposure_fix"
   ],
   "metadata": {
    "collapsed": false
   }
  },
  {
   "cell_type": "code",
   "execution_count": null,
   "outputs": [],
   "source": [
    "good_cond_mod = proposed_pre_processing(good_condensates)\n",
    "thresholded = good_cond_mod > ski.filters.threshold_otsu(good_cond_mod)\n",
    "plot_images([good_condensates, good_cond_mod, thresholded], [\"good_condensates\", \"good_cond_mod\", \"thresholded\"])"
   ],
   "metadata": {
    "collapsed": false
   }
  },
  {
   "cell_type": "code",
   "execution_count": null,
   "outputs": [],
   "source": [
    "good_cond_mod = proposed_pre_processing(small_condensates)\n",
    "thresholded = good_cond_mod > ski.filters.threshold_isodata(good_cond_mod)\n",
    "plot_images([good_condensates, good_cond_mod, thresholded], [\"good_condensates\", \"good_cond_mod\", \"thresholded\"])"
   ],
   "metadata": {
    "collapsed": false
   }
  },
  {
   "cell_type": "code",
   "execution_count": null,
   "outputs": [],
   "source": [
    "good_cond_mod = proposed_pre_processing(uniform_fluorescence)\n",
    "thresholded = good_cond_mod > ski.filters.threshold_isodata(good_cond_mod)\n",
    "plot_images([uniform_fluorescence, good_cond_mod, thresholded], [\"good_condensates\", \"good_cond_mod\", \"thresholded\"])"
   ],
   "metadata": {
    "collapsed": false
   }
  },
  {
   "cell_type": "code",
   "execution_count": null,
   "outputs": [],
   "source": [
    "np.mean(good_condensates)"
   ],
   "metadata": {
    "collapsed": false
   }
  },
  {
   "cell_type": "code",
   "execution_count": null,
   "outputs": [],
   "source": [
    "np.mean(irregular_condensates)"
   ],
   "metadata": {
    "collapsed": false
   }
  },
  {
   "cell_type": "code",
   "execution_count": null,
   "outputs": [],
   "source": [
    "edges = ski.filters.sobel(good_condensates)\n",
    "plot_images([good_condensates, edges], [\"good_condensates\", \"edges\"])"
   ],
   "metadata": {
    "collapsed": false
   }
  },
  {
   "cell_type": "code",
   "execution_count": null,
   "outputs": [],
   "source": [
    "edges = ski.filters.sobel(small_condensates)\n",
    "plot_images([small_condensates, edges], [\"small_condensates\", \"edges\"])"
   ],
   "metadata": {
    "collapsed": false
   }
  },
  {
   "cell_type": "code",
   "execution_count": null,
   "outputs": [],
   "source": [
    "edges = ski.filters.sobel(uniform_fluorescence)\n",
    "plot_images([uniform_fluorescence, edges], [\"uniform_fluorescence\", \"edges\"])"
   ],
   "metadata": {
    "collapsed": false
   }
  },
  {
   "cell_type": "code",
   "execution_count": null,
   "outputs": [],
   "source": [
    "edges = ski.filters.sobel(good_condensates)\n",
    "\n",
    "filled = ndi.binary_fill_holes(edges)\n",
    "\n",
    "plot_images([good_condensates, edges, filled], [\"good_condensates\", \"edges\", \"filled\"])\n"
   ],
   "metadata": {
    "collapsed": false
   }
  },
  {
   "cell_type": "code",
   "execution_count": null,
   "outputs": [],
   "source": [
    "print(np.std(uniform_fluorescence) / np.mean(uniform_fluorescence))\n",
    "print(np.std(good_condensates) / np.mean(good_condensates))\n",
    "print(np.std(small_condensates) / np.mean(small_condensates))\n",
    "print(np.std(irregular_condensates) / np.mean(irregular_condensates))"
   ],
   "metadata": {
    "collapsed": false
   }
  },
  {
   "cell_type": "code",
   "execution_count": null,
   "outputs": [],
   "source": [
    "a = Path(\"a/1.2\")"
   ],
   "metadata": {
    "collapsed": false
   }
  },
  {
   "cell_type": "code",
   "execution_count": null,
   "outputs": [],
   "source": [
    "problem_img = m.load_img(\"C:\\\\Users\\\\danie\\\\temp_hons_microscopy\\\\TFIIB Core\\\\64\\\\64_018.tif\")"
   ],
   "metadata": {
    "collapsed": false
   }
  },
  {
   "cell_type": "code",
   "execution_count": null,
   "outputs": [],
   "source": [
    "thresh = ski.filters.threshold_otsu(problem_img)\n",
    "thres_img = problem_img > thresh\n",
    "\n",
    "threh_mean = problem_img > 4 * np.std(problem_img)\n",
    "\n",
    "plot_images([problem_img, thres_img, threh_mean], [\"problem_img\", \"thres_img\", \"threh_mean\"])"
   ],
   "metadata": {
    "collapsed": false
   }
  },
  {
   "cell_type": "code",
   "execution_count": null,
   "outputs": [],
   "source": [
    "np.std(threh_mean)"
   ],
   "metadata": {
    "collapsed": false
   }
  },
  {
   "cell_type": "code",
   "execution_count": null,
   "outputs": [],
   "source": [
    "np.std(thres_img)"
   ],
   "metadata": {
    "collapsed": false
   }
  },
  {
   "cell_type": "code",
   "execution_count": null,
   "outputs": [],
   "source": [
    "problem_img.shape"
   ],
   "metadata": {
    "collapsed": false
   }
  },
  {
   "cell_type": "code",
   "execution_count": null,
   "outputs": [],
   "source": [
    "mu = 0\n",
    "sigma = 0\n",
    "shape = (1920, 2560)\n",
    "gauss_img = np.random.normal(mu, sigma, shape)\n",
    "gauss_img"
   ],
   "metadata": {
    "collapsed": false
   }
  },
  {
   "cell_type": "code",
   "execution_count": null,
   "outputs": [],
   "source": [
    "img = np.full((1920, 2560), 255)\n",
    "img = ski.util.random_noise(img, mode=\"speckle\")\n",
    "plt.imshow(img, cmap=\"gray\")"
   ],
   "metadata": {
    "collapsed": false
   }
  },
  {
   "cell_type": "code",
   "execution_count": null,
   "outputs": [],
   "source": [],
   "metadata": {
    "collapsed": false
   }
  },
  {
   "cell_type": "code",
   "execution_count": null,
   "outputs": [],
   "source": [
    "plt.imshow(gauss_img, cmap=\"gray\")"
   ],
   "metadata": {
    "collapsed": false
   }
  },
  {
   "cell_type": "code",
   "execution_count": null,
   "outputs": [],
   "source": [
    "np.mean(ski.filters.rank.entropy(thres_img.astype(int), ski.morphology.disk(3)))"
   ],
   "metadata": {
    "collapsed": false
   }
  },
  {
   "cell_type": "code",
   "execution_count": null,
   "outputs": [],
   "source": [
    "np.mean(ski.filters.rank.entropy(img.astype(int), ski.morphology.disk(3)))"
   ],
   "metadata": {
    "collapsed": false
   }
  },
  {
   "cell_type": "code",
   "execution_count": null,
   "outputs": [],
   "source": [
    "np.mean(ski.filters.rank.entropy(threh_mean.astype(int), ski.morphology.disk(3)))"
   ],
   "metadata": {
    "collapsed": false
   }
  },
  {
   "cell_type": "code",
   "execution_count": null,
   "outputs": [],
   "source": [
    "good_condensate_thresh = good_condensates > ski.filters.threshold_otsu(good_condensates)\n",
    "\n",
    "np.mean(ski.filters.rank.entropy(good_condensate_thresh.astype(int), ski.morphology.disk(3)))"
   ],
   "metadata": {
    "collapsed": false
   }
  },
  {
   "cell_type": "code",
   "execution_count": null,
   "outputs": [],
   "source": [
    "def calc_mean_entropy(image):\n",
    "    return np.mean(ski.filters.rank.entropy(image.astype(\"uint8\"), ski.morphology.disk(3)))"
   ],
   "metadata": {
    "collapsed": false
   }
  },
  {
   "cell_type": "code",
   "execution_count": null,
   "outputs": [],
   "source": [
    "entropy_values = []\n",
    "\n"
   ],
   "metadata": {
    "collapsed": false
   }
  },
  {
   "cell_type": "code",
   "execution_count": null,
   "outputs": [],
   "source": [
    "calc_mean_entropy(good_condensate_thresh)"
   ],
   "metadata": {
    "collapsed": false
   }
  },
  {
   "cell_type": "code",
   "execution_count": null,
   "outputs": [],
   "source": [
    "for img in Path(\"C:\\\\Users\\\\danie\\\\temp_hons_microscopy\\\\TFIIB Core\\\\64\").glob(\"*.tif\"):\n",
    "    image = m.load_img(img)\n",
    "    entropy_values.append(calc_mean_entropy(image))"
   ],
   "metadata": {
    "collapsed": false
   }
  },
  {
   "cell_type": "code",
   "execution_count": null,
   "outputs": [],
   "source": [
    "entropy_values"
   ],
   "metadata": {
    "collapsed": false
   }
  },
  {
   "cell_type": "code",
   "execution_count": null,
   "outputs": [],
   "source": [
    "\n",
    "evalues = []\n",
    "\n",
    "for img in Path(\"C:\\\\Users\\\\danie\\\\temp_hons_microscopy\\\\TFIIB Core\\\\4\").glob(\"*.tif\"):\n",
    "    image = m.load_img(img)\n",
    "    evalues.append(calc_mean_entropy(image))"
   ],
   "metadata": {
    "collapsed": false
   }
  },
  {
   "cell_type": "code",
   "execution_count": null,
   "outputs": [],
   "source": [
    "evalues  #%%\n",
    "import pandas as pd\n",
    "import skimage as ski\n",
    "import matplotlib.pyplot as plt\n",
    "import numpy as np\n",
    "from main import load_img\n",
    "import main as m\n",
    "import matplotlib.patches as mpatches\n",
    "from pathlib import Path\n",
    "from scipy import ndimage as ndi"
   ],
   "metadata": {
    "collapsed": false
   }
  },
  {
   "cell_type": "code",
   "execution_count": null,
   "outputs": [],
   "source": [
    "good_condensates = m.load_img(\"data/massive_condensates.tif\")\n",
    "small_condensates = m.load_img(\"data/small_condensates.tif\")\n",
    "uniform_fluorescence = m.load_img(\"data/uniform_fluorescence.tif\")\n",
    "irregular_condensates = m.load_img(\"data/irregular_shape.tif\")\n",
    "\n",
    "images = [good_condensates, small_condensates, uniform_fluorescence, irregular_condensates]\n",
    "image_labels = [\"good_condensates\", \"small_condensates\", \"uniform_fluorescence\", \"irregular_condensates\"]"
   ],
   "metadata": {
    "collapsed": false
   }
  },
  {
   "cell_type": "code",
   "execution_count": null,
   "outputs": [],
   "source": [
    "def plot_images(images, image_labels):\n",
    "    fig, ax = plt.subplots(1, len(images), figsize=(20, 20))\n",
    "    for i, image in enumerate(images):\n",
    "        ax[i].imshow(image, cmap=\"gray\")\n",
    "        ax[i].set_title(image_labels[i])\n",
    "    plt.show()"
   ],
   "metadata": {
    "collapsed": false
   }
  },
  {
   "cell_type": "code",
   "execution_count": null,
   "outputs": [],
   "source": [
    "plot_images(images, image_labels)"
   ],
   "metadata": {
    "collapsed": false
   }
  },
  {
   "cell_type": "code",
   "execution_count": null,
   "outputs": [],
   "source": [
    "mod = ski.morphology.closing(small_condensates, ski.morphology.disk(15))"
   ],
   "metadata": {
    "collapsed": false
   }
  },
  {
   "cell_type": "code",
   "execution_count": null,
   "outputs": [],
   "source": [
    "expo = ski.exposure.equalize_adapthist(small_condensates)\n",
    "\n",
    "plot_images([small_condensates, mod, expo], [\"small_condensates\", \"mod\", \"expo\"])"
   ],
   "metadata": {
    "collapsed": false
   }
  },
  {
   "cell_type": "code",
   "execution_count": null,
   "outputs": [],
   "source": [
    "def proposed_pre_processing(image):\n",
    "    # median = ski.filters.median(image, ski.morphology.disk(3))\n",
    "    # unsharp = ski.filters.unsharp_mask(image, radius=3, amount=1)\n",
    "\n",
    "    restored = ski.restoration.richardson_lucy(image, ski.morphology.disk(3), num_iter=30)\n",
    "\n",
    "    closing = ski.morphology.dilation(restored, ski.morphology.disk(3))\n",
    "    exposure_fix = ski.exposure.equalize_adapthist(closing)\n",
    "\n",
    "    return exposure_fix"
   ],
   "metadata": {
    "collapsed": false
   }
  },
  {
   "cell_type": "code",
   "execution_count": null,
   "outputs": [],
   "source": [
    "good_cond_mod = proposed_pre_processing(good_condensates)\n",
    "thresholded = good_cond_mod > ski.filters.threshold_otsu(good_cond_mod)\n",
    "plot_images([good_condensates, good_cond_mod, thresholded], [\"good_condensates\", \"good_cond_mod\", \"thresholded\"])"
   ],
   "metadata": {
    "collapsed": false
   }
  },
  {
   "cell_type": "code",
   "execution_count": null,
   "outputs": [],
   "source": [
    "good_cond_mod = proposed_pre_processing(small_condensates)\n",
    "thresholded = good_cond_mod > ski.filters.threshold_isodata(good_cond_mod)\n",
    "plot_images([good_condensates, good_cond_mod, thresholded], [\"good_condensates\", \"good_cond_mod\", \"thresholded\"])"
   ],
   "metadata": {
    "collapsed": false
   }
  },
  {
   "cell_type": "code",
   "execution_count": null,
   "outputs": [],
   "source": [
    "good_cond_mod = proposed_pre_processing(uniform_fluorescence)\n",
    "thresholded = good_cond_mod > ski.filters.threshold_isodata(good_cond_mod)\n",
    "plot_images([uniform_fluorescence, good_cond_mod, thresholded], [\"good_condensates\", \"good_cond_mod\", \"thresholded\"])"
   ],
   "metadata": {
    "collapsed": false
   }
  },
  {
   "cell_type": "code",
   "execution_count": null,
   "outputs": [],
   "source": [
    "np.mean(good_condensates)"
   ],
   "metadata": {
    "collapsed": false
   }
  },
  {
   "cell_type": "code",
   "execution_count": null,
   "outputs": [],
   "source": [
    "np.mean(irregular_condensates)"
   ],
   "metadata": {
    "collapsed": false
   }
  },
  {
   "cell_type": "code",
   "execution_count": null,
   "outputs": [],
   "source": [
    "edges = ski.filters.sobel(good_condensates)\n",
    "plot_images([good_condensates, edges], [\"good_condensates\", \"edges\"])"
   ],
   "metadata": {
    "collapsed": false
   }
  },
  {
   "cell_type": "code",
   "execution_count": null,
   "outputs": [],
   "source": [
    "edges = ski.filters.sobel(small_condensates)\n",
    "plot_images([small_condensates, edges], [\"small_condensates\", \"edges\"])"
   ],
   "metadata": {
    "collapsed": false
   }
  },
  {
   "cell_type": "code",
   "execution_count": null,
   "outputs": [],
   "source": [
    "edges = ski.filters.sobel(uniform_fluorescence)\n",
    "plot_images([uniform_fluorescence, edges], [\"uniform_fluorescence\", \"edges\"])"
   ],
   "metadata": {
    "collapsed": false
   }
  },
  {
   "cell_type": "code",
   "execution_count": null,
   "outputs": [],
   "source": [
    "edges = ski.filters.sobel(good_condensates)\n",
    "\n",
    "filled = ndi.binary_fill_holes(edges)\n",
    "\n",
    "plot_images([good_condensates, edges, filled], [\"good_condensates\", \"edges\", \"filled\"])\n"
   ],
   "metadata": {
    "collapsed": false
   }
  },
  {
   "cell_type": "code",
   "execution_count": null,
   "outputs": [],
   "source": [
    "print(np.std(uniform_fluorescence) / np.mean(uniform_fluorescence))\n",
    "print(np.std(good_condensates) / np.mean(good_condensates))\n",
    "print(np.std(small_condensates) / np.mean(small_condensates))\n",
    "print(np.std(irregular_condensates) / np.mean(irregular_condensates))"
   ],
   "metadata": {
    "collapsed": false
   }
  },
  {
   "cell_type": "code",
   "execution_count": null,
   "outputs": [],
   "source": [
    "a = Path(\"a/1.2\")"
   ],
   "metadata": {
    "collapsed": false
   }
  },
  {
   "cell_type": "code",
   "execution_count": null,
   "outputs": [],
   "source": [
    "problem_img = m.load_img(\"C:\\\\Users\\\\danie\\\\temp_hons_microscopy\\\\TFIIB Core\\\\64\\\\64_018.tif\")"
   ],
   "metadata": {
    "collapsed": false
   }
  },
  {
   "cell_type": "code",
   "execution_count": null,
   "outputs": [],
   "source": [
    "thresh = ski.filters.threshold_otsu(problem_img)\n",
    "thres_img = problem_img > thresh\n",
    "\n",
    "threh_mean = problem_img > 4 * np.std(problem_img)\n",
    "\n",
    "plot_images([problem_img, thres_img, threh_mean], [\"problem_img\", \"thres_img\", \"threh_mean\"])"
   ],
   "metadata": {
    "collapsed": false
   }
  },
  {
   "cell_type": "code",
   "execution_count": null,
   "outputs": [],
   "source": [
    "np.std(threh_mean)"
   ],
   "metadata": {
    "collapsed": false
   }
  },
  {
   "cell_type": "code",
   "execution_count": null,
   "outputs": [],
   "source": [
    "np.std(thres_img)"
   ],
   "metadata": {
    "collapsed": false
   }
  },
  {
   "cell_type": "code",
   "execution_count": null,
   "outputs": [],
   "source": [
    "problem_img.shape"
   ],
   "metadata": {
    "collapsed": false
   }
  },
  {
   "cell_type": "code",
   "execution_count": null,
   "outputs": [],
   "source": [
    "mu = 0\n",
    "sigma = 0\n",
    "shape = (1920, 2560)\n",
    "gauss_img = np.random.normal(mu, sigma, shape)\n",
    "gauss_img"
   ],
   "metadata": {
    "collapsed": false
   }
  },
  {
   "cell_type": "code",
   "execution_count": null,
   "outputs": [],
   "source": [
    "img = np.full((1920, 2560), 255)\n",
    "img = ski.util.random_noise(img, mode=\"speckle\")\n",
    "plt.imshow(img, cmap=\"gray\")"
   ],
   "metadata": {
    "collapsed": false
   }
  },
  {
   "cell_type": "code",
   "execution_count": null,
   "outputs": [],
   "source": [],
   "metadata": {
    "collapsed": false
   }
  },
  {
   "cell_type": "code",
   "execution_count": null,
   "outputs": [],
   "source": [
    "plt.imshow(gauss_img, cmap=\"gray\")"
   ],
   "metadata": {
    "collapsed": false
   }
  },
  {
   "cell_type": "code",
   "execution_count": null,
   "outputs": [],
   "source": [
    "np.mean(ski.filters.rank.entropy(thres_img.astype(int), ski.morphology.disk(3)))"
   ],
   "metadata": {
    "collapsed": false
   }
  },
  {
   "cell_type": "code",
   "execution_count": null,
   "outputs": [],
   "source": [
    "np.mean(ski.filters.rank.entropy(img.astype(int), ski.morphology.disk(3)))"
   ],
   "metadata": {
    "collapsed": false
   }
  },
  {
   "cell_type": "code",
   "execution_count": null,
   "outputs": [],
   "source": [
    "np.mean(ski.filters.rank.entropy(threh_mean.astype(int), ski.morphology.disk(3)))"
   ],
   "metadata": {
    "collapsed": false
   }
  },
  {
   "cell_type": "code",
   "execution_count": null,
   "outputs": [],
   "source": [
    "good_condensate_thresh = good_condensates > ski.filters.threshold_otsu(good_condensates)\n",
    "\n",
    "np.mean(ski.filters.rank.entropy(good_condensate_thresh.astype(int), ski.morphology.disk(3)))"
   ],
   "metadata": {
    "collapsed": false
   }
  },
  {
   "cell_type": "code",
   "execution_count": null,
   "outputs": [],
   "source": [
    "def calc_mean_entropy(image):\n",
    "    return np.mean(ski.filters.rank.entropy(image.astype(\"uint8\"), ski.morphology.disk(3)))"
   ],
   "metadata": {
    "collapsed": false
   }
  },
  {
   "cell_type": "code",
   "execution_count": null,
   "outputs": [],
   "source": [
    "entropy_values = []\n",
    "\n"
   ],
   "metadata": {
    "collapsed": false
   }
  },
  {
   "cell_type": "code",
   "execution_count": null,
   "outputs": [],
   "source": [
    "calc_mean_entropy(good_condensate_thresh)"
   ],
   "metadata": {
    "collapsed": false
   }
  },
  {
   "cell_type": "code",
   "execution_count": null,
   "outputs": [],
   "source": [
    "#  Let's do a test. We can try ostu vs the std method and see who comes out on top"
   ],
   "metadata": {
    "collapsed": false
   }
  },
  {
   "cell_type": "code",
   "execution_count": null,
   "outputs": [],
   "source": [
    "for img in Path(\"C:\\\\Users\\\\danie\\\\temp_hons_microscopy\\\\TFIIB Core\\\\64\").glob(\"*.tif\"):\n",
    "    image = m.load_img(img)\n",
    "    thresh_otsu = image > ski.filters.threshold_otsu(image)\n",
    "    thresh_std_2 = image > 2 * np.std(image)\n",
    "    thresh_std_3 = image > 3 * np.std(image)\n",
    "    thresh_std_4 = image > 4 * np.std(image)\n",
    "\n",
    "    print(\n",
    "        f\"Otsu: {calc_mean_entropy(thresh_otsu)}, std_2: {calc_mean_entropy(thresh_std_2)}, std_3: {calc_mean_entropy(thresh_std_3)}, std_4: {calc_mean_entropy(thresh_std_4)}\")\n",
    "\n",
    "    entropy_values.append(\n",
    "        [calc_mean_entropy(thresh_otsu), calc_mean_entropy(thresh_std_2), calc_mean_entropy(thresh_std_3),\n",
    "         calc_mean_entropy(thresh_std_4)])"
   ],
   "metadata": {
    "collapsed": false
   }
  },
  {
   "cell_type": "code",
   "execution_count": null,
   "outputs": [],
   "source": [
    "image = small_condensates\n",
    "thresh_otsu = image > ski.filters.threshold_otsu(image)\n",
    "thresh_std_2 = image > 2 * np.std(image)\n",
    "thresh_std_3 = image > 3 * np.std(image)\n",
    "thresh_std_4 = image > 4 * np.std(image)\n",
    "\n",
    "plot_images([image, thresh_otsu, thresh_std_2, thresh_std_3, thresh_std_4],\n",
    "            [\"image\", \"thresh_otsu\", \"thresh_std_2\", \"thresh_std_3\", \"thresh_std_4\"])"
   ],
   "metadata": {
    "collapsed": false
   }
  },
  {
   "cell_type": "code",
   "execution_count": null,
   "outputs": [],
   "source": [
    "print(np.std(thresh_otsu), np.std(thresh_std_2), np.std(thresh_std_3), np.std(thresh_std_4))\n",
    "print()\n",
    "print(calc_mean_entropy(thresh_otsu), calc_mean_entropy(thresh_std_2), calc_mean_entropy(thresh_std_3),\n",
    "      calc_mean_entropy(thresh_std_4))"
   ],
   "metadata": {
    "collapsed": false
   }
  },
  {
   "cell_type": "code",
   "execution_count": null,
   "outputs": [],
   "source": [
    "0.05\n",
    "evalues = []\n",
    "\n",
    "for img in Path(\"C:\\\\Users\\\\danie\\\\temp_hons_microscopy\\\\TFIIB Core\\\\4\").glob(\"*.tif\"):\n",
    "    image = m.load_img(img)\n",
    "    evalues.append(calc_mean_entropy(image))"
   ],
   "metadata": {
    "collapsed": false
   }
  },
  {
   "cell_type": "code",
   "execution_count": null,
   "outputs": [],
   "source": [
    "evalues"
   ],
   "metadata": {
    "collapsed": false
   }
  },
  {
   "cell_type": "code",
   "execution_count": null,
   "outputs": [],
   "source": [
    "img = uniform_fluorescence"
   ],
   "metadata": {
    "collapsed": false
   }
  },
  {
   "cell_type": "code",
   "execution_count": null,
   "outputs": [],
   "source": [
    "uniform_fluorescence"
   ],
   "metadata": {
    "collapsed": false
   }
  },
  {
   "cell_type": "code",
   "execution_count": null,
   "outputs": [],
   "source": [
    "np.std(uniform_fluorescence)"
   ],
   "metadata": {
    "collapsed": false
   }
  },
  {
   "cell_type": "code",
   "execution_count": null,
   "outputs": [],
   "source": [
    "thresh_img = img > 4 * np.std(img)"
   ],
   "metadata": {
    "collapsed": false
   }
  },
  {
   "cell_type": "code",
   "execution_count": null,
   "outputs": [],
   "source": [
    "thresh_img"
   ],
   "metadata": {
    "collapsed": false
   }
  },
  {
   "cell_type": "code",
   "execution_count": null,
   "outputs": [],
   "source": [
    "plt.imshow(thresh_img)\n",
    "plt.axis(\"off\")"
   ],
   "metadata": {
    "collapsed": false
   }
  },
  {
   "cell_type": "code",
   "execution_count": null,
   "outputs": [],
   "source": [
    "label_img = ski.measure.label(thresh_img)"
   ],
   "metadata": {
    "collapsed": false
   }
  },
  {
   "cell_type": "code",
   "execution_count": null,
   "outputs": [],
   "source": [
    "plt.imshow(label_img, cmap=\"gray\")"
   ],
   "metadata": {
    "collapsed": false
   }
  },
  {
   "cell_type": "code",
   "execution_count": null,
   "outputs": [],
   "source": [
    "np.unique(label_img)"
   ],
   "metadata": {
    "collapsed": false
   }
  },
  {
   "cell_type": "code",
   "execution_count": null,
   "outputs": [],
   "source": [
    "plt.imshow(ski.color.label2rgb(label_img, image=img), cmap=\"hsv\")"
   ],
   "metadata": {
    "collapsed": false
   }
  },
  {
   "cell_type": "code",
   "execution_count": null,
   "outputs": [],
   "source": [
    "np.sum(thresh_img == 1)"
   ],
   "metadata": {
    "collapsed": false
   }
  },
  {
   "cell_type": "code",
   "execution_count": null,
   "outputs": [],
   "source": [
    "thresh_img"
   ],
   "metadata": {
    "collapsed": false
   }
  },
  {
   "cell_type": "code",
   "execution_count": null,
   "outputs": [],
   "source": [],
   "metadata": {
    "collapsed": false
   }
  },
  {
   "cell_type": "code",
   "execution_count": null,
   "outputs": [],
<<<<<<< HEAD
=======
   "source": [
    "thresh_img"
   ],
   "metadata": {
    "collapsed": false
   }
  },
  {
   "cell_type": "code",
   "execution_count": null,
   "outputs": [],
   "source": [
    "fl = \"C:\\\\Users\\\\danie\\\\temp_hons_microscopy\\\\NOT_TO_PROCESS\\\\IIB FL + TBP Constructs\\\\IIB FL + TBP\\\\IIBFL+TBPFL_RGB_RGB_Red.tif\"\n",
    "core = \"C:\\\\Users\\\\danie\\\\temp_hons_microscopy\\\\NOT_TO_PROCESS\\\\IIB FL + TBP Constructs\\\\IIB FL + TBP CORE\\\\IIBFL+TBPCORE_RGB_BrightfieldBlue3.tif\"\n",
    "idr = \"C:\\\\Users\\\\danie\\\\temp_hons_microscopy\\\\NOT_TO_PROCESS\\\\IIB FL + TBP Constructs\\\\IIBFL + TBP IDR\\\\IIBFL+TBPIDR_RGB_BrightfieldBlue3.tif\""
   ],
   "metadata": {
    "collapsed": false
   }
  },
  {
   "cell_type": "code",
   "execution_count": null,
   "outputs": [],
   "source": [
    "cf_fl, regions_fl = m.process_image(Path(fl), \"\")\n",
    "cf_core, regions_core = m.process_image(Path(core), \"\")\n",
    "cf_idr, regions_idr = m.process_image(Path(idr), \"\")"
   ],
   "metadata": {
    "collapsed": false
   }
  },
  {
   "cell_type": "code",
   "execution_count": null,
   "outputs": [],
   "source": [
    "region_columns = [\"area\",\n",
    "                  \"mean_intensity\",\n",
    "                  \"perimeter\",\n",
    "                  \"axis_major_length\",\n",
    "                  \"axis_minor_length\"]\n",
    "\n",
    "cf_columns = [\n",
    "    \"condensed_fraction\",\n",
    "    \"mean_intensity\",\n",
    "    \"std_intensity\",\n",
    "    \"max_intensity\",\n",
    "    \"min_intensity\",\n",
    "    \"mean_entropy\"\n",
    "]\n",
    "\n",
    "fl_region_df = pd.DataFrame(regions_fl, columns=region_columns)\n",
    "fl_condensed_fraction_df = pd.DataFrame([cf_fl, ], columns=cf_columns)\n",
    "fl_region_df[\"prep\"] = \"FL\"\n",
    "fl_condensed_fraction_df[\"prep\"] = \"FL\"\n"
   ],
   "metadata": {
    "collapsed": false
   }
  },
  {
   "cell_type": "code",
   "execution_count": null,
   "outputs": [],
   "source": [
    "core_region_df = pd.DataFrame(regions_core, columns=region_columns)\n",
    "core_condensed_fraction_df = pd.DataFrame([cf_core, ], columns=cf_columns)\n",
    "\n",
    "core_region_df[\"prep\"] = \"CORE\"\n",
    "core_condensed_fraction_df[\"prep\"] = \"CORE\"\n",
    "\n",
    "idr_region_df = pd.DataFrame(regions_idr, columns=region_columns)\n",
    "idr_condensed_fraction_df = pd.DataFrame([cf_idr, ], columns=cf_columns)\n",
    "\n",
    "idr_region_df[\"prep\"] = \"IDR\"\n",
    "idr_condensed_fraction_df[\"prep\"] = \"IDR\""
   ],
   "metadata": {
    "collapsed": false
   }
  },
  {
   "cell_type": "code",
   "execution_count": null,
   "outputs": [],
   "source": [
    "dfs = pd.concat([fl_condensed_fraction_df, core_condensed_fraction_df, idr_condensed_fraction_df], axis=0)"
   ],
   "metadata": {
    "collapsed": false
   }
  },
  {
   "cell_type": "code",
   "execution_count": null,
   "outputs": [],
   "source": [
    "dfs"
   ],
   "metadata": {
    "collapsed": false
   }
  },
  {
   "cell_type": "code",
   "execution_count": null,
   "outputs": [],
   "source": [
    "regions = pd.concat([fl_region_df, core_region_df, idr_region_df], axis=0)"
   ],
   "metadata": {
    "collapsed": false
   }
  },
  {
   "cell_type": "code",
   "execution_count": null,
   "outputs": [],
   "source": [
    "regions"
   ],
   "metadata": {
    "collapsed": false
   }
  },
  {
   "cell_type": "code",
   "execution_count": null,
   "outputs": [],
   "source": [
    "import plotnine as pn"
   ],
   "metadata": {
    "collapsed": false
   }
  },
  {
   "cell_type": "code",
   "execution_count": null,
   "outputs": [],
   "source": [
    "regions[\"a2\"] = regions[\"area\"] ** 2\n",
    "regions[\"log_area\"] = np.log(regions[\"area\"])"
   ],
   "metadata": {
    "collapsed": false
   }
  },
  {
   "cell_type": "code",
   "execution_count": null,
   "outputs": [],
   "source": [
    "(\n",
    "        pn.ggplot(regions[regions[\"area\"] > 50], pn.aes(x=\"prep\", y=\"log_area\", fill=\"prep\"))\n",
    "        + pn.geom_boxplot()\n",
    "        + pn.theme_classic()\n",
    ")"
   ],
   "metadata": {
    "collapsed": false
   }
  },
  {
   "cell_type": "code",
   "execution_count": null,
   "outputs": [],
   "source": [
    "core_img = m.load_img(Path(core))"
   ],
   "metadata": {
    "collapsed": false
   }
  },
  {
   "cell_type": "code",
   "execution_count": null,
   "outputs": [],
   "source": [
    "core_thresh = core_img > ski.filters.threshold_otsu(core_img)"
   ],
   "metadata": {
    "collapsed": false
   }
  },
  {
   "cell_type": "code",
   "execution_count": null,
   "outputs": [],
   "source": [],
   "metadata": {
    "collapsed": false
   }
  },
  {
   "cell_type": "code",
   "execution_count": null,
   "outputs": [],
   "source": [
    "plt.imshow(core_thresh.astype(int), cmap=\"gray\")\n",
    "plt.show()"
   ],
   "metadata": {
    "collapsed": false
   }
  },
  {
   "cell_type": "code",
   "execution_count": null,
   "outputs": [],
   "source": [
    "unqID, idx, IDsums = np.unique(core_thresh, return_counts=True, return_inverse=True)\n"
   ],
   "metadata": {
    "collapsed": false
   }
  },
  {
   "cell_type": "code",
   "execution_count": null,
   "outputs": [],
   "source": [
    "np.bincount(idx, core_thresh.ravel())"
   ],
   "metadata": {
    "collapsed": false
   }
  },
  {
   "cell_type": "code",
   "execution_count": null,
   "outputs": [],
   "source": [
    "sum_0 = 0\n",
    "sum_1 = 1\n",
    "for row_idx, row in enumerate(core_img):\n",
    "    for col_idx, col in enumerate(row):\n",
    "        if core_thresh[row_idx, col_idx] == 0:\n",
    "            sum_0 += core_img[row_idx, col_idx]\n",
    "        else:\n",
    "            sum_1 += core_img[row_idx, col_idx]\n"
   ],
   "metadata": {
    "collapsed": false
   }
  },
  {
   "cell_type": "code",
   "execution_count": null,
   "outputs": [],
   "source": [
    "sum_0"
   ],
   "metadata": {
    "collapsed": false
   }
  },
  {
   "cell_type": "code",
   "execution_count": null,
   "outputs": [],
   "source": [
    "sum_1"
   ],
   "metadata": {
    "collapsed": false
   }
  },
  {
   "cell_type": "code",
   "execution_count": null,
   "outputs": [],
   "source": [
    "np.bincount(core_thresh.astype(int).ravel(), core_img.ravel())"
   ],
   "metadata": {
    "collapsed": false
   }
  },
  {
   "cell_type": "code",
   "execution_count": null,
   "outputs": [],
   "source": [
    "np.unique(core_thresh, return_counts=True)"
   ],
   "metadata": {
    "collapsed": false
   }
  },
  {
   "cell_type": "code",
   "execution_count": null,
   "outputs": [],
   "source": [
    "74713 / 4784441  #%%\n",
    "import pandas as pd\n",
    "import skimage as ski\n",
    "import matplotlib.pyplot as plt\n",
    "import numpy as np\n",
    "from main import load_img\n",
    "import main as m\n",
    "import matplotlib.patches as mpatches\n",
    "from pathlib import Path\n",
    "from scipy import ndimage as ndi"
   ],
   "metadata": {
    "collapsed": false
   }
  },
  {
   "cell_type": "code",
   "execution_count": null,
   "outputs": [],
   "source": [
    "good_condensates = m.load_img(\"data/massive_condensates.tif\")\n",
    "small_condensates = m.load_img(\"data/small_condensates.tif\")\n",
    "uniform_fluorescence = m.load_img(\"data/uniform_fluorescence.tif\")\n",
    "irregular_condensates = m.load_img(\"data/irregular_shape.tif\")\n",
    "\n",
    "images = [good_condensates, small_condensates, uniform_fluorescence, irregular_condensates]\n",
    "image_labels = [\"good_condensates\", \"small_condensates\", \"uniform_fluorescence\", \"irregular_condensates\"]"
   ],
   "metadata": {
    "collapsed": false
   }
  },
  {
   "cell_type": "code",
   "execution_count": null,
   "outputs": [],
   "source": [
    "def plot_images(images, image_labels):\n",
    "    fig, ax = plt.subplots(1, len(images), figsize=(20, 20))\n",
    "    for i, image in enumerate(images):\n",
    "        ax[i].imshow(image, cmap=\"gray\")\n",
    "        ax[i].set_title(image_labels[i])\n",
    "    plt.show()"
   ],
   "metadata": {
    "collapsed": false
   }
  },
  {
   "cell_type": "code",
   "execution_count": null,
   "outputs": [],
   "source": [
    "plot_images(images, image_labels)"
   ],
   "metadata": {
    "collapsed": false
   }
  },
  {
   "cell_type": "code",
   "execution_count": null,
   "outputs": [],
   "source": [
    "bg = ski.restoration.rolling_ball(good_condensates)"
   ],
   "metadata": {
    "collapsed": false
   }
  },
  {
   "cell_type": "code",
   "execution_count": null,
   "outputs": [],
   "source": [
    "plot_images([good_condensates, bg, good_condensates - bg], [\"good_condensates\", \"bg\", \"\"])"
   ],
   "metadata": {
    "collapsed": false
   }
  },
  {
   "cell_type": "code",
   "execution_count": null,
   "outputs": [],
   "source": [
    "mod = ski.morphology.closing(small_condensates, ski.morphology.disk(15))"
   ],
   "metadata": {
    "collapsed": false
   }
  },
  {
   "cell_type": "code",
   "execution_count": null,
   "outputs": [],
   "source": [
    "expo = ski.exposure.equalize_adapthist(small_condensates)\n",
    "\n",
    "plot_images([small_condensates, mod, expo], [\"small_condensates\", \"mod\", \"expo\"])"
   ],
   "metadata": {
    "collapsed": false
   }
  },
  {
   "cell_type": "code",
   "execution_count": null,
   "outputs": [],
   "source": [
    "def proposed_pre_processing(image):\n",
    "    # median = ski.filters.median(image, ski.morphology.disk(3))\n",
    "    # unsharp = ski.filters.unsharp_mask(image, radius=3, amount=1)\n",
    "\n",
    "    restored = ski.restoration.richardson_lucy(image, ski.morphology.disk(3), num_iter=30)\n",
    "\n",
    "    closing = ski.morphology.dilation(restored, ski.morphology.disk(3))\n",
    "    exposure_fix = ski.exposure.equalize_adapthist(closing)\n",
    "\n",
    "    return exposure_fix"
   ],
   "metadata": {
    "collapsed": false
   }
  },
  {
   "cell_type": "code",
   "execution_count": null,
   "outputs": [],
   "source": [
    "good_cond_mod = proposed_pre_processing(good_condensates)\n",
    "thresholded = good_cond_mod > ski.filters.threshold_otsu(good_cond_mod)\n",
    "plot_images([good_condensates, good_cond_mod, thresholded], [\"good_condensates\", \"good_cond_mod\", \"thresholded\"])"
   ],
   "metadata": {
    "collapsed": false
   }
  },
  {
   "cell_type": "code",
   "execution_count": null,
   "outputs": [],
   "source": [
    "good_cond_mod = proposed_pre_processing(small_condensates)\n",
    "thresholded = good_cond_mod > ski.filters.threshold_isodata(good_cond_mod)\n",
    "plot_images([good_condensates, good_cond_mod, thresholded], [\"good_condensates\", \"good_cond_mod\", \"thresholded\"])"
   ],
   "metadata": {
    "collapsed": false
   }
  },
  {
   "cell_type": "code",
   "execution_count": null,
   "outputs": [],
   "source": [
    "good_cond_mod = proposed_pre_processing(uniform_fluorescence)\n",
    "thresholded = good_cond_mod > ski.filters.threshold_isodata(good_cond_mod)\n",
    "plot_images([uniform_fluorescence, good_cond_mod, thresholded], [\"good_condensates\", \"good_cond_mod\", \"thresholded\"])"
   ],
   "metadata": {
    "collapsed": false
   }
  },
  {
   "cell_type": "code",
   "execution_count": null,
   "outputs": [],
   "source": [
    "np.mean(good_condensates)"
   ],
   "metadata": {
    "collapsed": false
   }
  },
  {
   "cell_type": "code",
   "execution_count": null,
   "outputs": [],
   "source": [
    "np.mean(irregular_condensates)"
   ],
   "metadata": {
    "collapsed": false
   }
  },
  {
   "cell_type": "code",
   "execution_count": null,
   "outputs": [],
   "source": [
    "edges = ski.filters.sobel(good_condensates)\n",
    "plot_images([good_condensates, edges], [\"good_condensates\", \"edges\"])"
   ],
   "metadata": {
    "collapsed": false
   }
  },
  {
   "cell_type": "code",
   "execution_count": null,
   "outputs": [],
   "source": [
    "edges = ski.filters.sobel(small_condensates)\n",
    "plot_images([small_condensates, edges], [\"small_condensates\", \"edges\"])"
   ],
   "metadata": {
    "collapsed": false
   }
  },
  {
   "cell_type": "code",
   "execution_count": null,
   "outputs": [],
   "source": [
    "edges = ski.filters.sobel(uniform_fluorescence)\n",
    "plot_images([uniform_fluorescence, edges], [\"uniform_fluorescence\", \"edges\"])"
   ],
   "metadata": {
    "collapsed": false
   }
  },
  {
   "cell_type": "code",
   "execution_count": null,
   "outputs": [],
   "source": [
    "edges = ski.filters.sobel(good_condensates)\n",
    "\n",
    "filled = ndi.binary_fill_holes(edges)\n",
    "\n",
    "plot_images([good_condensates, edges, filled], [\"good_condensates\", \"edges\", \"filled\"])\n"
   ],
   "metadata": {
    "collapsed": false
   }
  },
  {
   "cell_type": "code",
   "execution_count": null,
   "outputs": [],
   "source": [
    "print(np.std(uniform_fluorescence) / np.mean(uniform_fluorescence))\n",
    "print(np.std(good_condensates) / np.mean(good_condensates))\n",
    "print(np.std(small_condensates) / np.mean(small_condensates))\n",
    "print(np.std(irregular_condensates) / np.mean(irregular_condensates))"
   ],
   "metadata": {
    "collapsed": false
   }
  },
  {
   "cell_type": "code",
   "execution_count": null,
   "outputs": [],
   "source": [
    "a = Path(\"a/1.2\")"
   ],
   "metadata": {
    "collapsed": false
   }
  },
  {
   "cell_type": "code",
   "execution_count": null,
   "outputs": [],
   "source": [
    "problem_img = m.load_img(\"C:\\\\\\Users\\\\danie\\\\temp_hons_microscopy\\\\TFIIB Core\\\\64\\\\64_018.tif\")"
   ],
   "metadata": {
    "collapsed": false
   }
  },
  {
   "cell_type": "code",
   "execution_count": null,
   "outputs": [],
   "source": [
    "thresh = ski.filters.threshold_otsu(problem_img)\n",
    "thres_img = problem_img > thresh\n",
    "\n",
    "threh_mean = problem_img > 4 * np.std(problem_img)\n",
    "\n",
    "plot_images([problem_img, thres_img, threh_mean], [\"problem_img\", \"thres_img\", \"threh_mean\"])"
   ],
   "metadata": {
    "collapsed": false
   }
  },
  {
   "cell_type": "code",
   "execution_count": null,
   "outputs": [],
   "source": [
    "np.std(threh_mean)"
   ],
   "metadata": {
    "collapsed": false
   }
  },
  {
   "cell_type": "code",
   "execution_count": null,
   "outputs": [],
   "source": [
    "np.std(thres_img)"
   ],
   "metadata": {
    "collapsed": false
   }
  },
  {
   "cell_type": "code",
   "execution_count": null,
   "outputs": [],
   "source": [
    "problem_img.shape"
   ],
   "metadata": {
    "collapsed": false
   }
  },
  {
   "cell_type": "code",
   "execution_count": null,
   "outputs": [],
   "source": [
    "mu = 0\n",
    "sigma = 0\n",
    "shape = (1920, 2560)\n",
    "gauss_img = np.random.normal(mu, sigma, shape)\n",
    "gauss_img"
   ],
   "metadata": {
    "collapsed": false
   }
  },
  {
   "cell_type": "code",
   "execution_count": null,
   "outputs": [],
   "source": [
    "img = np.full((1920, 2560), 255)\n",
    "img = ski.util.random_noise(img, mode=\"speckle\")\n",
    "plt.imshow(img, cmap=\"gray\")"
   ],
   "metadata": {
    "collapsed": false
   }
  },
  {
   "cell_type": "code",
   "execution_count": null,
   "outputs": [],
   "source": [],
   "metadata": {
    "collapsed": false
   }
  },
  {
   "cell_type": "code",
   "execution_count": null,
   "outputs": [],
   "source": [
    "plt.imshow(gauss_img, cmap=\"gray\")"
   ],
   "metadata": {
    "collapsed": false
   }
  },
  {
   "cell_type": "code",
   "execution_count": null,
   "outputs": [],
   "source": [
    "np.mean(ski.filters.rank.entropy(thres_img.astype(int), ski.morphology.disk(3)))"
   ],
   "metadata": {
    "collapsed": false
   }
  },
  {
   "cell_type": "code",
   "execution_count": null,
   "outputs": [],
   "source": [
    "np.mean(ski.filters.rank.entropy(img.astype(int), ski.morphology.disk(3)))"
   ],
   "metadata": {
    "collapsed": false
   }
  },
  {
   "cell_type": "code",
   "execution_count": null,
   "outputs": [],
   "source": [
    "np.mean(ski.filters.rank.entropy(threh_mean.astype(int), ski.morphology.disk(3)))"
   ],
   "metadata": {
    "collapsed": false
   }
  },
  {
   "cell_type": "code",
   "execution_count": null,
   "outputs": [],
   "source": [
    "good_condensate_thresh = good_condensates > ski.filters.threshold_otsu(good_condensates)\n",
    "\n",
    "np.mean(ski.filters.rank.entropy(good_condensate_thresh.astype(int), ski.morphology.disk(3)))"
   ],
   "metadata": {
    "collapsed": false
   }
  },
  {
   "cell_type": "code",
   "execution_count": null,
   "outputs": [],
   "source": [
    "def calc_mean_entropy(image):\n",
    "    return np.mean(ski.filters.rank.entropy(image.astype(\"uint8\"), ski.morphology.disk(3)))"
   ],
   "metadata": {
    "collapsed": false
   }
  },
  {
   "cell_type": "code",
   "execution_count": null,
   "outputs": [],
   "source": [
    "entropy_values = []\n",
    "\n"
   ],
   "metadata": {
    "collapsed": false
   }
  },
  {
   "cell_type": "code",
   "execution_count": null,
   "outputs": [],
   "source": [
    "calc_mean_entropy(good_condensate_thresh)"
   ],
   "metadata": {
    "collapsed": false
   }
  },
  {
   "cell_type": "code",
   "execution_count": null,
   "outputs": [],
   "source": [
    "for img in Path(\"C:\\\\Users\\\\danie\\\\temp_hons_microscopy\\\\TFIIB Core\\\\64\").glob(\"*.tif\"):\n",
    "    image = m.load_img(img)\n",
    "    entropy_values.append(calc_mean_entropy(image))"
   ],
   "metadata": {
    "collapsed": false
   }
  },
  {
   "cell_type": "code",
   "execution_count": null,
   "outputs": [],
   "source": [
    "entropy_values"
   ],
   "metadata": {
    "collapsed": false
   }
  },
  {
   "cell_type": "code",
   "execution_count": null,
   "outputs": [],
   "source": [
    "\n",
    "evalues = []\n",
    "\n",
    "for img in Path(\"C:\\\\Users\\\\danie\\\\temp_hons_microscopy\\\\TFIIB Core\\\\4\").glob(\"*.tif\"):\n",
    "    image = m.load_img(img)\n",
    "    evalues.append(calc_mean_entropy(image))"
   ],
   "metadata": {
    "collapsed": false
   }
  },
  {
   "cell_type": "code",
   "execution_count": null,
   "outputs": [],
   "source": [
    "evalues  #%%\n",
    "import pandas as pd\n",
    "import skimage as ski\n",
    "import matplotlib.pyplot as plt\n",
    "import numpy as np\n",
    "from main import load_img\n",
    "import main as m\n",
    "import matplotlib.patches as mpatches\n",
    "from pathlib import Path\n",
    "from scipy import ndimage as ndi"
   ],
   "metadata": {
    "collapsed": false
   }
  },
  {
   "cell_type": "code",
   "execution_count": null,
   "outputs": [],
   "source": [
    "good_condensates = m.load_img(\"data/massive_condensates.tif\")\n",
    "small_condensates = m.load_img(\"data/small_condensates.tif\")\n",
    "uniform_fluorescence = m.load_img(\"data/uniform_fluorescence.tif\")\n",
    "irregular_condensates = m.load_img(\"data/irregular_shape.tif\")\n",
    "\n",
    "images = [good_condensates, small_condensates, uniform_fluorescence, irregular_condensates]\n",
    "image_labels = [\"good_condensates\", \"small_condensates\", \"uniform_fluorescence\", \"irregular_condensates\"]"
   ],
   "metadata": {
    "collapsed": false
   }
  },
  {
   "cell_type": "code",
   "execution_count": null,
   "outputs": [],
   "source": [
    "def plot_images(images, image_labels):\n",
    "    fig, ax = plt.subplots(1, len(images), figsize=(20, 20))\n",
    "    for i, image in enumerate(images):\n",
    "        ax[i].imshow(image, cmap=\"gray\")\n",
    "        ax[i].set_title(image_labels[i])\n",
    "    plt.show()"
   ],
   "metadata": {
    "collapsed": false
   }
  },
  {
   "cell_type": "code",
   "execution_count": null,
   "outputs": [],
   "source": [
    "plot_images(images, image_labels)"
   ],
   "metadata": {
    "collapsed": false
   }
  },
  {
   "cell_type": "code",
   "execution_count": null,
   "outputs": [],
   "source": [
    "mod = ski.morphology.closing(small_condensates, ski.morphology.disk(15))"
   ],
   "metadata": {
    "collapsed": false
   }
  },
  {
   "cell_type": "code",
   "execution_count": null,
   "outputs": [],
   "source": [
    "expo = ski.exposure.equalize_adapthist(small_condensates)\n",
    "\n",
    "plot_images([small_condensates, mod, expo], [\"small_condensates\", \"mod\", \"expo\"])"
   ],
   "metadata": {
    "collapsed": false
   }
  },
  {
   "cell_type": "code",
   "execution_count": null,
   "outputs": [],
   "source": [
    "def proposed_pre_processing(image):\n",
    "    # median = ski.filters.median(image, ski.morphology.disk(3))\n",
    "    # unsharp = ski.filters.unsharp_mask(image, radius=3, amount=1)\n",
    "\n",
    "    restored = ski.restoration.richardson_lucy(image, ski.morphology.disk(3), num_iter=30)\n",
    "\n",
    "    closing = ski.morphology.dilation(restored, ski.morphology.disk(3))\n",
    "    exposure_fix = ski.exposure.equalize_adapthist(closing)\n",
    "\n",
    "    return exposure_fix"
   ],
   "metadata": {
    "collapsed": false
   }
  },
  {
   "cell_type": "code",
   "execution_count": null,
   "outputs": [],
   "source": [
    "good_cond_mod = proposed_pre_processing(good_condensates)\n",
    "thresholded = good_cond_mod > ski.filters.threshold_otsu(good_cond_mod)\n",
    "plot_images([good_condensates, good_cond_mod, thresholded], [\"good_condensates\", \"good_cond_mod\", \"thresholded\"])"
   ],
   "metadata": {
    "collapsed": false
   }
  },
  {
   "cell_type": "code",
   "execution_count": null,
   "outputs": [],
   "source": [
    "good_cond_mod = proposed_pre_processing(small_condensates)\n",
    "thresholded = good_cond_mod > ski.filters.threshold_isodata(good_cond_mod)\n",
    "plot_images([good_condensates, good_cond_mod, thresholded], [\"good_condensates\", \"good_cond_mod\", \"thresholded\"])"
   ],
   "metadata": {
    "collapsed": false
   }
  },
  {
   "cell_type": "code",
   "execution_count": null,
   "outputs": [],
   "source": [
    "good_cond_mod = proposed_pre_processing(uniform_fluorescence)\n",
    "thresholded = good_cond_mod > ski.filters.threshold_isodata(good_cond_mod)\n",
    "plot_images([uniform_fluorescence, good_cond_mod, thresholded], [\"good_condensates\", \"good_cond_mod\", \"thresholded\"])"
   ],
   "metadata": {
    "collapsed": false
   }
  },
  {
   "cell_type": "code",
   "execution_count": null,
   "outputs": [],
   "source": [
    "np.mean(good_condensates)"
   ],
   "metadata": {
    "collapsed": false
   }
  },
  {
   "cell_type": "code",
   "execution_count": null,
   "outputs": [],
   "source": [
    "np.mean(irregular_condensates)"
   ],
   "metadata": {
    "collapsed": false
   }
  },
  {
   "cell_type": "code",
   "execution_count": null,
   "outputs": [],
   "source": [
    "edges = ski.filters.sobel(good_condensates)\n",
    "plot_images([good_condensates, edges], [\"good_condensates\", \"edges\"])"
   ],
   "metadata": {
    "collapsed": false
   }
  },
  {
   "cell_type": "code",
   "execution_count": null,
   "outputs": [],
   "source": [
    "edges = ski.filters.sobel(small_condensates)\n",
    "plot_images([small_condensates, edges], [\"small_condensates\", \"edges\"])"
   ],
   "metadata": {
    "collapsed": false
   }
  },
  {
   "cell_type": "code",
   "execution_count": null,
   "outputs": [],
   "source": [
    "edges = ski.filters.sobel(uniform_fluorescence)\n",
    "plot_images([uniform_fluorescence, edges], [\"uniform_fluorescence\", \"edges\"])"
   ],
   "metadata": {
    "collapsed": false
   }
  },
  {
   "cell_type": "code",
   "execution_count": null,
   "outputs": [],
   "source": [
    "edges = ski.filters.sobel(good_condensates)\n",
    "\n",
    "filled = ndi.binary_fill_holes(edges)\n",
    "\n",
    "plot_images([good_condensates, edges, filled], [\"good_condensates\", \"edges\", \"filled\"])\n"
   ],
   "metadata": {
    "collapsed": false
   }
  },
  {
   "cell_type": "code",
   "execution_count": null,
   "outputs": [],
   "source": [
    "print(np.std(uniform_fluorescence) / np.mean(uniform_fluorescence))\n",
    "print(np.std(good_condensates) / np.mean(good_condensates))\n",
    "print(np.std(small_condensates) / np.mean(small_condensates))\n",
    "print(np.std(irregular_condensates) / np.mean(irregular_condensates))"
   ],
   "metadata": {
    "collapsed": false
   }
  },
  {
   "cell_type": "code",
   "execution_count": null,
   "outputs": [],
   "source": [
    "a = Path(\"a/1.2\")"
   ],
   "metadata": {
    "collapsed": false
   }
  },
  {
   "cell_type": "code",
   "execution_count": null,
   "outputs": [],
   "source": [
    "problem_img = m.load_img(\"C:\\\\Users\\\\danie\\\\temp_hons_microscopy\\\\TFIIB Core\\\\64\\\\64_018.tif\")"
   ],
   "metadata": {
    "collapsed": false
   }
  },
  {
   "cell_type": "code",
   "execution_count": null,
   "outputs": [],
   "source": [
    "thresh = ski.filters.threshold_otsu(problem_img)\n",
    "thres_img = problem_img > thresh\n",
    "\n",
    "threh_mean = problem_img > 4 * np.std(problem_img)\n",
    "\n",
    "plot_images([problem_img, thres_img, threh_mean], [\"problem_img\", \"thres_img\", \"threh_mean\"])"
   ],
   "metadata": {
    "collapsed": false
   }
  },
  {
   "cell_type": "code",
   "execution_count": null,
   "outputs": [],
   "source": [
    "np.std(threh_mean)"
   ],
   "metadata": {
    "collapsed": false
   }
  },
  {
   "cell_type": "code",
   "execution_count": null,
   "outputs": [],
   "source": [
    "np.std(thres_img)"
   ],
   "metadata": {
    "collapsed": false
   }
  },
  {
   "cell_type": "code",
   "execution_count": null,
   "outputs": [],
   "source": [
    "problem_img.shape"
   ],
   "metadata": {
    "collapsed": false
   }
  },
  {
   "cell_type": "code",
   "execution_count": null,
   "outputs": [],
   "source": [
    "mu = 0\n",
    "sigma = 0\n",
    "shape = (1920, 2560)\n",
    "gauss_img = np.random.normal(mu, sigma, shape)\n",
    "gauss_img"
   ],
   "metadata": {
    "collapsed": false
   }
  },
  {
   "cell_type": "code",
   "execution_count": null,
   "outputs": [],
   "source": [
    "img = np.full((1920, 2560), 255)\n",
    "img = ski.util.random_noise(img, mode=\"speckle\")\n",
    "plt.imshow(img, cmap=\"gray\")"
   ],
   "metadata": {
    "collapsed": false
   }
  },
  {
   "cell_type": "code",
   "execution_count": null,
   "outputs": [],
   "source": [],
   "metadata": {
    "collapsed": false
   }
  },
  {
   "cell_type": "code",
   "execution_count": null,
   "outputs": [],
   "source": [
    "plt.imshow(gauss_img, cmap=\"gray\")"
   ],
   "metadata": {
    "collapsed": false
   }
  },
  {
   "cell_type": "code",
   "execution_count": null,
   "outputs": [],
   "source": [
    "np.mean(ski.filters.rank.entropy(thres_img.astype(int), ski.morphology.disk(3)))"
   ],
   "metadata": {
    "collapsed": false
   }
  },
  {
   "cell_type": "code",
   "execution_count": null,
   "outputs": [],
   "source": [
    "np.mean(ski.filters.rank.entropy(img.astype(int), ski.morphology.disk(3)))"
   ],
   "metadata": {
    "collapsed": false
   }
  },
  {
   "cell_type": "code",
   "execution_count": null,
   "outputs": [],
   "source": [
    "np.mean(ski.filters.rank.entropy(threh_mean.astype(int), ski.morphology.disk(3)))"
   ],
   "metadata": {
    "collapsed": false
   }
  },
  {
   "cell_type": "code",
   "execution_count": null,
   "outputs": [],
   "source": [
    "good_condensate_thresh = good_condensates > ski.filters.threshold_otsu(good_condensates)\n",
    "\n",
    "np.mean(ski.filters.rank.entropy(good_condensate_thresh.astype(int), ski.morphology.disk(3)))"
   ],
   "metadata": {
    "collapsed": false
   }
  },
  {
   "cell_type": "code",
   "execution_count": null,
   "outputs": [],
   "source": [
    "def calc_mean_entropy(image):\n",
    "    return np.mean(ski.filters.rank.entropy(image.astype(\"uint8\"), ski.morphology.disk(3)))"
   ],
   "metadata": {
    "collapsed": false
   }
  },
  {
   "cell_type": "code",
   "execution_count": null,
   "outputs": [],
   "source": [
    "entropy_values = []\n",
    "\n"
   ],
   "metadata": {
    "collapsed": false
   }
  },
  {
   "cell_type": "code",
   "execution_count": null,
   "outputs": [],
   "source": [
    "calc_mean_entropy(good_condensate_thresh)"
   ],
   "metadata": {
    "collapsed": false
   }
  },
  {
   "cell_type": "code",
   "execution_count": null,
   "outputs": [],
   "source": [
    "#  Let's do a test. We can try ostu vs the std method and see who comes out on top"
   ],
   "metadata": {
    "collapsed": false
   }
  },
  {
   "cell_type": "code",
   "execution_count": null,
   "outputs": [],
   "source": [
    "for img in Path(\"C:\\\\Users\\\\danie\\\\temp_hons_microscopy\\\\TFIIB Core\\\\64\").glob(\"*.tif\"):\n",
    "    image = m.load_img(img)\n",
    "    thresh_otsu = image > ski.filters.threshold_otsu(image)\n",
    "    thresh_std_2 = image > 2 * np.std(image)\n",
    "    thresh_std_3 = image > 3 * np.std(image)\n",
    "    thresh_std_4 = image > 4 * np.std(image)\n",
    "\n",
    "    print(\n",
    "        f\"Otsu: {calc_mean_entropy(thresh_otsu)}, std_2: {calc_mean_entropy(thresh_std_2)}, std_3: {calc_mean_entropy(thresh_std_3)}, std_4: {calc_mean_entropy(thresh_std_4)}\")\n",
    "\n",
    "    entropy_values.append(\n",
    "        [calc_mean_entropy(thresh_otsu), calc_mean_entropy(thresh_std_2), calc_mean_entropy(thresh_std_3),\n",
    "         calc_mean_entropy(thresh_std_4)])"
   ],
   "metadata": {
    "collapsed": false
   }
  },
  {
   "cell_type": "code",
   "execution_count": null,
   "outputs": [],
   "source": [
    "image = small_condensates\n",
    "thresh_otsu = image > ski.filters.threshold_otsu(image)\n",
    "thresh_std_2 = image > 2 * np.std(image)\n",
    "thresh_std_3 = image > 3 * np.std(image)\n",
    "thresh_std_4 = image > 4 * np.std(image)\n",
    "\n",
    "plot_images([image, thresh_otsu, thresh_std_2, thresh_std_3, thresh_std_4],\n",
    "            [\"image\", \"thresh_otsu\", \"thresh_std_2\", \"thresh_std_3\", \"thresh_std_4\"])"
   ],
   "metadata": {
    "collapsed": false
   }
  },
  {
   "cell_type": "code",
   "execution_count": null,
   "outputs": [],
   "source": [
    "print(np.std(thresh_otsu), np.std(thresh_std_2), np.std(thresh_std_3), np.std(thresh_std_4))\n",
    "print()\n",
    "print(calc_mean_entropy(thresh_otsu), calc_mean_entropy(thresh_std_2), calc_mean_entropy(thresh_std_3),\n",
    "      calc_mean_entropy(thresh_std_4))"
   ],
   "metadata": {
    "collapsed": false
   }
  },
  {
   "cell_type": "code",
   "execution_count": null,
   "outputs": [],
   "source": [
    "0.05\n",
    "evalues = []\n",
    "\n",
    "for img in Path(\"C:\\\\Users\\\\danie\\\\temp_hons_microscopy\\\\TFIIB Core\\\\4\").glob(\"*.tif\"):\n",
    "    image = m.load_img(img)\n",
    "    evalues.append(calc_mean_entropy(image))"
   ],
   "metadata": {
    "collapsed": false
   }
  },
  {
   "cell_type": "code",
   "execution_count": null,
   "outputs": [],
   "source": [
    "evalues"
   ],
   "metadata": {
    "collapsed": false
   }
  },
  {
   "cell_type": "code",
   "execution_count": null,
   "outputs": [],
   "source": [
    "img = uniform_fluorescence"
   ],
   "metadata": {
    "collapsed": false
   }
  },
  {
   "cell_type": "code",
   "execution_count": null,
   "outputs": [],
   "source": [
    "uniform_fluorescence"
   ],
   "metadata": {
    "collapsed": false
   }
  },
  {
   "cell_type": "code",
   "execution_count": null,
   "outputs": [],
   "source": [
    "np.std(uniform_fluorescence)"
   ],
   "metadata": {
    "collapsed": false
   }
  },
  {
   "cell_type": "code",
   "execution_count": null,
   "outputs": [],
   "source": [
    "thresh_img = img < 4 * np.std(img)"
   ],
   "metadata": {
    "collapsed": false
   }
  },
  {
   "cell_type": "code",
   "execution_count": null,
   "outputs": [],
   "source": [
    "thresh_img"
   ],
   "metadata": {
    "collapsed": false
   }
  },
  {
   "cell_type": "code",
   "execution_count": null,
   "outputs": [],
   "source": [
    "plt.imshow(thresh_img, cmap=\"gray\")\n",
    "plt.axis(\"off\")"
   ],
   "metadata": {
    "collapsed": false
   }
  },
  {
   "cell_type": "code",
   "execution_count": null,
   "outputs": [],
   "source": [
    "label_img = ski.measure.label(thresh_img)"
   ],
   "metadata": {
    "collapsed": false
   }
  },
  {
   "cell_type": "code",
   "execution_count": null,
   "outputs": [],
   "source": [
    "plt.imshow(label_img, cmap=\"gray\")"
   ],
   "metadata": {
    "collapsed": false
   }
  },
  {
   "cell_type": "code",
   "execution_count": null,
   "outputs": [],
   "source": [
    "plt.imshow(ski.color.label2rgb(label_img, image=img))"
   ],
   "metadata": {
    "collapsed": false
   }
  },
  {
   "cell_type": "code",
   "execution_count": null,
   "outputs": [],
   "source": [
    "np.sum(thresh_img == 1)  #%%\n",
    "import pandas as pd\n",
    "import skimage as ski\n",
    "import matplotlib.pyplot as plt\n",
    "import numpy as np\n",
    "from main import load_img\n",
    "import main as m\n",
    "import matplotlib.patches as mpatches\n",
    "from pathlib import Path\n",
    "from scipy import ndimage as ndi"
   ],
   "metadata": {
    "collapsed": false
   }
  },
  {
   "cell_type": "code",
   "execution_count": null,
   "outputs": [],
   "source": [
    "good_condensates = m.load_img(\"data/massive_condensates.tif\")\n",
    "small_condensates = m.load_img(\"data/small_condensates.tif\")\n",
    "uniform_fluorescence = m.load_img(\"data/uniform_fluorescence.tif\")\n",
    "irregular_condensates = m.load_img(\"data/irregular_shape.tif\")\n",
    "\n",
    "images = [good_condensates, small_condensates, uniform_fluorescence, irregular_condensates]\n",
    "image_labels = [\"good_condensates\", \"small_condensates\", \"uniform_fluorescence\", \"irregular_condensates\"]"
   ],
   "metadata": {
    "collapsed": false
   }
  },
  {
   "cell_type": "code",
   "execution_count": null,
   "outputs": [],
   "source": [
    "def plot_images(images, image_labels):\n",
    "    fig, ax = plt.subplots(1, len(images), figsize=(20, 20))\n",
    "    for i, image in enumerate(images):\n",
    "        ax[i].imshow(image, cmap=\"gray\")\n",
    "        ax[i].set_title(image_labels[i])\n",
    "    plt.show()"
   ],
   "metadata": {
    "collapsed": false
   }
  },
  {
   "cell_type": "code",
   "execution_count": null,
   "outputs": [],
   "source": [
    "plot_images(images, image_labels)"
   ],
   "metadata": {
    "collapsed": false
   }
  },
  {
   "cell_type": "code",
   "execution_count": null,
   "outputs": [],
   "source": [
    "bg = ski.restoration.rolling_ball(good_condensates)"
   ],
   "metadata": {
    "collapsed": false
   }
  },
  {
   "cell_type": "code",
   "execution_count": null,
   "outputs": [],
   "source": [
    "plot_images([good_condensates, bg, good_condensates - bg], [\"good_condensates\", \"bg\", \"\"])"
   ],
   "metadata": {
    "collapsed": false
   }
  },
  {
   "cell_type": "code",
   "execution_count": null,
   "outputs": [],
   "source": [
    "mod = ski.morphology.closing(small_condensates, ski.morphology.disk(15))"
   ],
   "metadata": {
    "collapsed": false
   }
  },
  {
   "cell_type": "code",
   "execution_count": null,
   "outputs": [],
   "source": [
    "expo = ski.exposure.equalize_adapthist(small_condensates)\n",
    "\n",
    "plot_images([small_condensates, mod, expo], [\"small_condensates\", \"mod\", \"expo\"])"
   ],
   "metadata": {
    "collapsed": false
   }
  },
  {
   "cell_type": "code",
   "execution_count": null,
   "outputs": [],
   "source": [
    "def proposed_pre_processing(image):\n",
    "    # median = ski.filters.median(image, ski.morphology.disk(3))\n",
    "    # unsharp = ski.filters.unsharp_mask(image, radius=3, amount=1)\n",
    "\n",
    "    restored = ski.restoration.richardson_lucy(image, ski.morphology.disk(3), num_iter=30)\n",
    "\n",
    "    closing = ski.morphology.dilation(restored, ski.morphology.disk(3))\n",
    "    exposure_fix = ski.exposure.equalize_adapthist(closing)\n",
    "\n",
    "    return exposure_fix"
   ],
   "metadata": {
    "collapsed": false
   }
  },
  {
   "cell_type": "code",
   "execution_count": null,
   "outputs": [],
   "source": [
    "good_cond_mod = proposed_pre_processing(good_condensates)\n",
    "thresholded = good_cond_mod > ski.filters.threshold_otsu(good_cond_mod)\n",
    "plot_images([good_condensates, good_cond_mod, thresholded], [\"good_condensates\", \"good_cond_mod\", \"thresholded\"])"
   ],
   "metadata": {
    "collapsed": false
   }
  },
  {
   "cell_type": "code",
   "execution_count": null,
   "outputs": [],
   "source": [
    "good_cond_mod = proposed_pre_processing(small_condensates)\n",
    "thresholded = good_cond_mod > ski.filters.threshold_isodata(good_cond_mod)\n",
    "plot_images([good_condensates, good_cond_mod, thresholded], [\"good_condensates\", \"good_cond_mod\", \"thresholded\"])"
   ],
   "metadata": {
    "collapsed": false
   }
  },
  {
   "cell_type": "code",
   "execution_count": null,
   "outputs": [],
   "source": [
    "good_cond_mod = proposed_pre_processing(uniform_fluorescence)\n",
    "thresholded = good_cond_mod > ski.filters.threshold_isodata(good_cond_mod)\n",
    "plot_images([uniform_fluorescence, good_cond_mod, thresholded], [\"good_condensates\", \"good_cond_mod\", \"thresholded\"])"
   ],
   "metadata": {
    "collapsed": false
   }
  },
  {
   "cell_type": "code",
   "execution_count": null,
   "outputs": [],
   "source": [
    "np.mean(good_condensates)"
   ],
   "metadata": {
    "collapsed": false
   }
  },
  {
   "cell_type": "code",
   "execution_count": null,
   "outputs": [],
   "source": [
    "np.mean(irregular_condensates)"
   ],
   "metadata": {
    "collapsed": false
   }
  },
  {
   "cell_type": "code",
   "execution_count": null,
   "outputs": [],
   "source": [
    "edges = ski.filters.sobel(good_condensates)\n",
    "plot_images([good_condensates, edges], [\"good_condensates\", \"edges\"])"
   ],
   "metadata": {
    "collapsed": false
   }
  },
  {
   "cell_type": "code",
   "execution_count": null,
   "outputs": [],
   "source": [
    "edges = ski.filters.sobel(small_condensates)\n",
    "plot_images([small_condensates, edges], [\"small_condensates\", \"edges\"])"
   ],
   "metadata": {
    "collapsed": false
   }
  },
  {
   "cell_type": "code",
   "execution_count": null,
   "outputs": [],
   "source": [
    "edges = ski.filters.sobel(uniform_fluorescence)\n",
    "plot_images([uniform_fluorescence, edges], [\"uniform_fluorescence\", \"edges\"])"
   ],
   "metadata": {
    "collapsed": false
   }
  },
  {
   "cell_type": "code",
   "execution_count": null,
   "outputs": [],
   "source": [
    "edges = ski.filters.sobel(good_condensates)\n",
    "\n",
    "filled = ndi.binary_fill_holes(edges)\n",
    "\n",
    "plot_images([good_condensates, edges, filled], [\"good_condensates\", \"edges\", \"filled\"])\n"
   ],
   "metadata": {
    "collapsed": false
   }
  },
  {
   "cell_type": "code",
   "execution_count": null,
   "outputs": [],
   "source": [
    "print(np.std(uniform_fluorescence) / np.mean(uniform_fluorescence))\n",
    "print(np.std(good_condensates) / np.mean(good_condensates))\n",
    "print(np.std(small_condensates) / np.mean(small_condensates))\n",
    "print(np.std(irregular_condensates) / np.mean(irregular_condensates))"
   ],
   "metadata": {
    "collapsed": false
   }
  },
  {
   "cell_type": "code",
   "execution_count": null,
   "outputs": [],
   "source": [
    "a = Path(\"a/1.2\")"
   ],
   "metadata": {
    "collapsed": false
   }
  },
  {
   "cell_type": "code",
   "execution_count": null,
   "outputs": [],
   "source": [
    "problem_img = m.load_img(\"C:\\\\Users\\\\danie\\\\temp_hons_microscopy\\\\TFIIB Core\\\\64\\\\64_018.tif\")"
   ],
   "metadata": {
    "collapsed": false
   }
  },
  {
   "cell_type": "code",
   "execution_count": null,
   "outputs": [],
   "source": [
    "thresh = ski.filters.threshold_otsu(problem_img)\n",
    "thres_img = problem_img > thresh\n",
    "\n",
    "threh_mean = problem_img > 4 * np.std(problem_img)\n",
    "\n",
    "plot_images([problem_img, thres_img, threh_mean], [\"problem_img\", \"thres_img\", \"threh_mean\"])"
   ],
   "metadata": {
    "collapsed": false
   }
  },
  {
   "cell_type": "code",
   "execution_count": null,
   "outputs": [],
   "source": [
    "np.std(threh_mean)"
   ],
   "metadata": {
    "collapsed": false
   }
  },
  {
   "cell_type": "code",
   "execution_count": null,
   "outputs": [],
   "source": [
    "np.std(thres_img)"
   ],
   "metadata": {
    "collapsed": false
   }
  },
  {
   "cell_type": "code",
   "execution_count": null,
   "outputs": [],
   "source": [
    "problem_img.shape"
   ],
   "metadata": {
    "collapsed": false
   }
  },
  {
   "cell_type": "code",
   "execution_count": null,
   "outputs": [],
   "source": [
    "mu = 0\n",
    "sigma = 0\n",
    "shape = (1920, 2560)\n",
    "gauss_img = np.random.normal(mu, sigma, shape)\n",
    "gauss_img"
   ],
   "metadata": {
    "collapsed": false
   }
  },
  {
   "cell_type": "code",
   "execution_count": null,
   "outputs": [],
   "source": [
    "img = np.full((1920, 2560), 255)\n",
    "img = ski.util.random_noise(img, mode=\"speckle\")\n",
    "plt.imshow(img, cmap=\"gray\")"
   ],
   "metadata": {
    "collapsed": false
   }
  },
  {
   "cell_type": "code",
   "execution_count": null,
   "outputs": [],
   "source": [],
   "metadata": {
    "collapsed": false
   }
  },
  {
   "cell_type": "code",
   "execution_count": null,
   "outputs": [],
   "source": [
    "plt.imshow(gauss_img, cmap=\"gray\")"
   ],
   "metadata": {
    "collapsed": false
   }
  },
  {
   "cell_type": "code",
   "execution_count": null,
   "outputs": [],
   "source": [
    "np.mean(ski.filters.rank.entropy(thres_img.astype(int), ski.morphology.disk(3)))"
   ],
   "metadata": {
    "collapsed": false
   }
  },
  {
   "cell_type": "code",
   "execution_count": null,
   "outputs": [],
   "source": [
    "np.mean(ski.filters.rank.entropy(img.astype(int), ski.morphology.disk(3)))"
   ],
   "metadata": {
    "collapsed": false
   }
  },
  {
   "cell_type": "code",
   "execution_count": null,
   "outputs": [],
   "source": [
    "np.mean(ski.filters.rank.entropy(threh_mean.astype(int), ski.morphology.disk(3)))"
   ],
   "metadata": {
    "collapsed": false
   }
  },
  {
   "cell_type": "code",
   "execution_count": null,
   "outputs": [],
   "source": [
    "good_condensate_thresh = good_condensates > ski.filters.threshold_otsu(good_condensates)\n",
    "\n",
    "np.mean(ski.filters.rank.entropy(good_condensate_thresh.astype(int), ski.morphology.disk(3)))"
   ],
   "metadata": {
    "collapsed": false
   }
  },
  {
   "cell_type": "code",
   "execution_count": null,
   "outputs": [],
   "source": [
    "def calc_mean_entropy(image):\n",
    "    return np.mean(ski.filters.rank.entropy(image.astype(\"uint8\"), ski.morphology.disk(3)))"
   ],
   "metadata": {
    "collapsed": false
   }
  },
  {
   "cell_type": "code",
   "execution_count": null,
   "outputs": [],
   "source": [
    "entropy_values = []\n",
    "\n"
   ],
   "metadata": {
    "collapsed": false
   }
  },
  {
   "cell_type": "code",
   "execution_count": null,
   "outputs": [],
   "source": [
    "calc_mean_entropy(good_condensate_thresh)"
   ],
   "metadata": {
    "collapsed": false
   }
  },
  {
   "cell_type": "code",
   "execution_count": null,
   "outputs": [],
   "source": [
    "for img in Path(\"C:\\\\Users\\\\danie\\\\temp_hons_microscopy\\\\TFIIB Core\\\\64\").glob(\"*.tif\"):\n",
    "    image = m.load_img(img)\n",
    "    entropy_values.append(calc_mean_entropy(image))"
   ],
   "metadata": {
    "collapsed": false
   }
  },
  {
   "cell_type": "code",
   "execution_count": null,
   "outputs": [],
   "source": [
    "entropy_values"
   ],
   "metadata": {
    "collapsed": false
   }
  },
  {
   "cell_type": "code",
   "execution_count": null,
   "outputs": [],
   "source": [
    "\n",
    "evalues = []\n",
    "\n",
    "for img in Path(\"C:\\\\Users\\\\danie\\\\temp_hons_microscopy\\\\TFIIB Core\\\\4\").glob(\"*.tif\"):\n",
    "    image = m.load_img(img)\n",
    "    evalues.append(calc_mean_entropy(image))"
   ],
   "metadata": {
    "collapsed": false
   }
  },
  {
   "cell_type": "code",
   "execution_count": null,
   "outputs": [],
   "source": [
    "evalues  #%%\n",
    "import pandas as pd\n",
    "import skimage as ski\n",
    "import matplotlib.pyplot as plt\n",
    "import numpy as np\n",
    "from main import load_img\n",
    "import main as m\n",
    "import matplotlib.patches as mpatches\n",
    "from pathlib import Path\n",
    "from scipy import ndimage as ndi"
   ],
   "metadata": {
    "collapsed": false
   }
  },
  {
   "cell_type": "code",
   "execution_count": null,
   "outputs": [],
   "source": [
    "good_condensates = m.load_img(\"data/massive_condensates.tif\")\n",
    "small_condensates = m.load_img(\"data/small_condensates.tif\")\n",
    "uniform_fluorescence = m.load_img(\"data/uniform_fluorescence.tif\")\n",
    "irregular_condensates = m.load_img(\"data/irregular_shape.tif\")\n",
    "\n",
    "images = [good_condensates, small_condensates, uniform_fluorescence, irregular_condensates]\n",
    "image_labels = [\"good_condensates\", \"small_condensates\", \"uniform_fluorescence\", \"irregular_condensates\"]"
   ],
   "metadata": {
    "collapsed": false
   }
  },
  {
   "cell_type": "code",
   "execution_count": null,
   "outputs": [],
   "source": [
    "def plot_images(images, image_labels):\n",
    "    fig, ax = plt.subplots(1, len(images), figsize=(20, 20))\n",
    "    for i, image in enumerate(images):\n",
    "        ax[i].imshow(image, cmap=\"gray\")\n",
    "        ax[i].set_title(image_labels[i])\n",
    "    plt.show()"
   ],
   "metadata": {
    "collapsed": false
   }
  },
  {
   "cell_type": "code",
   "execution_count": null,
   "outputs": [],
   "source": [
    "plot_images(images, image_labels)"
   ],
   "metadata": {
    "collapsed": false
   }
  },
  {
   "cell_type": "code",
   "execution_count": null,
   "outputs": [],
   "source": [
    "mod = ski.morphology.closing(small_condensates, ski.morphology.disk(15))"
   ],
   "metadata": {
    "collapsed": false
   }
  },
  {
   "cell_type": "code",
   "execution_count": null,
   "outputs": [],
   "source": [
    "expo = ski.exposure.equalize_adapthist(small_condensates)\n",
    "\n",
    "plot_images([small_condensates, mod, expo], [\"small_condensates\", \"mod\", \"expo\"])"
   ],
   "metadata": {
    "collapsed": false
   }
  },
  {
   "cell_type": "code",
   "execution_count": null,
   "outputs": [],
   "source": [
    "def proposed_pre_processing(image):\n",
    "    # median = ski.filters.median(image, ski.morphology.disk(3))\n",
    "    # unsharp = ski.filters.unsharp_mask(image, radius=3, amount=1)\n",
    "\n",
    "    restored = ski.restoration.richardson_lucy(image, ski.morphology.disk(3), num_iter=30)\n",
    "\n",
    "    closing = ski.morphology.dilation(restored, ski.morphology.disk(3))\n",
    "    exposure_fix = ski.exposure.equalize_adapthist(closing)\n",
    "\n",
    "    return exposure_fix"
   ],
   "metadata": {
    "collapsed": false
   }
  },
  {
   "cell_type": "code",
   "execution_count": null,
   "outputs": [],
   "source": [
    "good_cond_mod = proposed_pre_processing(good_condensates)\n",
    "thresholded = good_cond_mod > ski.filters.threshold_otsu(good_cond_mod)\n",
    "plot_images([good_condensates, good_cond_mod, thresholded], [\"good_condensates\", \"good_cond_mod\", \"thresholded\"])"
   ],
   "metadata": {
    "collapsed": false
   }
  },
  {
   "cell_type": "code",
   "execution_count": null,
   "outputs": [],
   "source": [
    "good_cond_mod = proposed_pre_processing(small_condensates)\n",
    "thresholded = good_cond_mod > ski.filters.threshold_isodata(good_cond_mod)\n",
    "plot_images([good_condensates, good_cond_mod, thresholded], [\"good_condensates\", \"good_cond_mod\", \"thresholded\"])"
   ],
   "metadata": {
    "collapsed": false
   }
  },
  {
   "cell_type": "code",
   "execution_count": null,
   "outputs": [],
   "source": [
    "good_cond_mod = proposed_pre_processing(uniform_fluorescence)\n",
    "thresholded = good_cond_mod > ski.filters.threshold_isodata(good_cond_mod)\n",
    "plot_images([uniform_fluorescence, good_cond_mod, thresholded], [\"good_condensates\", \"good_cond_mod\", \"thresholded\"])"
   ],
   "metadata": {
    "collapsed": false
   }
  },
  {
   "cell_type": "code",
   "execution_count": null,
   "outputs": [],
   "source": [
    "np.mean(good_condensates)"
   ],
   "metadata": {
    "collapsed": false
   }
  },
  {
   "cell_type": "code",
   "execution_count": null,
   "outputs": [],
   "source": [
    "np.mean(irregular_condensates)"
   ],
   "metadata": {
    "collapsed": false
   }
  },
  {
   "cell_type": "code",
   "execution_count": null,
   "outputs": [],
   "source": [
    "edges = ski.filters.sobel(good_condensates)\n",
    "plot_images([good_condensates, edges], [\"good_condensates\", \"edges\"])"
   ],
   "metadata": {
    "collapsed": false
   }
  },
  {
   "cell_type": "code",
   "execution_count": null,
   "outputs": [],
   "source": [
    "edges = ski.filters.sobel(small_condensates)\n",
    "plot_images([small_condensates, edges], [\"small_condensates\", \"edges\"])"
   ],
   "metadata": {
    "collapsed": false
   }
  },
  {
   "cell_type": "code",
   "execution_count": null,
   "outputs": [],
   "source": [
    "edges = ski.filters.sobel(uniform_fluorescence)\n",
    "plot_images([uniform_fluorescence, edges], [\"uniform_fluorescence\", \"edges\"])"
   ],
   "metadata": {
    "collapsed": false
   }
  },
  {
   "cell_type": "code",
   "execution_count": null,
   "outputs": [],
   "source": [
    "edges = ski.filters.sobel(good_condensates)\n",
    "\n",
    "filled = ndi.binary_fill_holes(edges)\n",
    "\n",
    "plot_images([good_condensates, edges, filled], [\"good_condensates\", \"edges\", \"filled\"])\n"
   ],
   "metadata": {
    "collapsed": false
   }
  },
  {
   "cell_type": "code",
   "execution_count": null,
   "outputs": [],
   "source": [
    "print(np.std(uniform_fluorescence) / np.mean(uniform_fluorescence))\n",
    "print(np.std(good_condensates) / np.mean(good_condensates))\n",
    "print(np.std(small_condensates) / np.mean(small_condensates))\n",
    "print(np.std(irregular_condensates) / np.mean(irregular_condensates))"
   ],
   "metadata": {
    "collapsed": false
   }
  },
  {
   "cell_type": "code",
   "execution_count": null,
   "outputs": [],
   "source": [
    "a = Path(\"a/1.2\")"
   ],
   "metadata": {
    "collapsed": false
   }
  },
  {
   "cell_type": "code",
   "execution_count": null,
   "outputs": [],
   "source": [
    "problem_img = m.load_img(\"C:\\\\Users\\\\danie\\\\temp_hons_microscopy\\\\TFIIB Core\\\\64\\\\64_018.tif\")"
   ],
   "metadata": {
    "collapsed": false
   }
  },
  {
   "cell_type": "code",
   "execution_count": null,
   "outputs": [],
   "source": [
    "thresh = ski.filters.threshold_otsu(problem_img)\n",
    "thres_img = problem_img > thresh\n",
    "\n",
    "threh_mean = problem_img > 4 * np.std(problem_img)\n",
    "\n",
    "plot_images([problem_img, thres_img, threh_mean], [\"problem_img\", \"thres_img\", \"threh_mean\"])"
   ],
   "metadata": {
    "collapsed": false
   }
  },
  {
   "cell_type": "code",
   "execution_count": null,
   "outputs": [],
   "source": [
    "np.std(threh_mean)"
   ],
   "metadata": {
    "collapsed": false
   }
  },
  {
   "cell_type": "code",
   "execution_count": null,
   "outputs": [],
   "source": [
    "np.std(thres_img)"
   ],
   "metadata": {
    "collapsed": false
   }
  },
  {
   "cell_type": "code",
   "execution_count": null,
   "outputs": [],
   "source": [
    "problem_img.shape"
   ],
   "metadata": {
    "collapsed": false
   }
  },
  {
   "cell_type": "code",
   "execution_count": null,
   "outputs": [],
   "source": [
    "mu = 0\n",
    "sigma = 0\n",
    "shape = (1920, 2560)\n",
    "gauss_img = np.random.normal(mu, sigma, shape)\n",
    "gauss_img"
   ],
   "metadata": {
    "collapsed": false
   }
  },
  {
   "cell_type": "code",
   "execution_count": null,
   "outputs": [],
   "source": [
    "img = np.full((1920, 2560), 255)\n",
    "img = ski.util.random_noise(img, mode=\"speckle\")\n",
    "plt.imshow(img, cmap=\"gray\")"
   ],
   "metadata": {
    "collapsed": false
   }
  },
  {
   "cell_type": "code",
   "execution_count": null,
   "outputs": [],
   "source": [],
   "metadata": {
    "collapsed": false
   }
  },
  {
   "cell_type": "code",
   "execution_count": null,
   "outputs": [],
   "source": [
    "plt.imshow(gauss_img, cmap=\"gray\")"
   ],
   "metadata": {
    "collapsed": false
   }
  },
  {
   "cell_type": "code",
   "execution_count": null,
   "outputs": [],
   "source": [
    "np.mean(ski.filters.rank.entropy(thres_img.astype(int), ski.morphology.disk(3)))"
   ],
   "metadata": {
    "collapsed": false
   }
  },
  {
   "cell_type": "code",
   "execution_count": null,
   "outputs": [],
   "source": [
    "np.mean(ski.filters.rank.entropy(img.astype(int), ski.morphology.disk(3)))"
   ],
   "metadata": {
    "collapsed": false
   }
  },
  {
   "cell_type": "code",
   "execution_count": null,
   "outputs": [],
   "source": [
    "np.mean(ski.filters.rank.entropy(threh_mean.astype(int), ski.morphology.disk(3)))"
   ],
   "metadata": {
    "collapsed": false
   }
  },
  {
   "cell_type": "code",
   "execution_count": null,
   "outputs": [],
   "source": [
    "good_condensate_thresh = good_condensates > ski.filters.threshold_otsu(good_condensates)\n",
    "\n",
    "np.mean(ski.filters.rank.entropy(good_condensate_thresh.astype(int), ski.morphology.disk(3)))"
   ],
   "metadata": {
    "collapsed": false
   }
  },
  {
   "cell_type": "code",
   "execution_count": null,
   "outputs": [],
   "source": [
    "def calc_mean_entropy(image):\n",
    "    return np.mean(ski.filters.rank.entropy(image.astype(\"uint8\"), ski.morphology.disk(3)))"
   ],
   "metadata": {
    "collapsed": false
   }
  },
  {
   "cell_type": "code",
   "execution_count": null,
   "outputs": [],
   "source": [
    "entropy_values = []\n",
    "\n"
   ],
   "metadata": {
    "collapsed": false
   }
  },
  {
   "cell_type": "code",
   "execution_count": null,
   "outputs": [],
   "source": [
    "calc_mean_entropy(good_condensate_thresh)"
   ],
   "metadata": {
    "collapsed": false
   }
  },
  {
   "cell_type": "code",
   "execution_count": null,
   "outputs": [],
   "source": [
    "#  Let's do a test. We can try ostu vs the std method and see who comes out on top"
   ],
   "metadata": {
    "collapsed": false
   }
  },
  {
   "cell_type": "code",
   "execution_count": null,
   "outputs": [],
   "source": [
    "for img in Path(\"C:\\\\Users\\\\danie\\\\temp_hons_microscopy\\\\TFIIB Core\\\\64\").glob(\"*.tif\"):\n",
    "    image = m.load_img(img)\n",
    "    thresh_otsu = image > ski.filters.threshold_otsu(image)\n",
    "    thresh_std_2 = image > 2 * np.std(image)\n",
    "    thresh_std_3 = image > 3 * np.std(image)\n",
    "    thresh_std_4 = image > 4 * np.std(image)\n",
    "\n",
    "    print(\n",
    "        f\"Otsu: {calc_mean_entropy(thresh_otsu)}, std_2: {calc_mean_entropy(thresh_std_2)}, std_3: {calc_mean_entropy(thresh_std_3)}, std_4: {calc_mean_entropy(thresh_std_4)}\")\n",
    "\n",
    "    entropy_values.append(\n",
    "        [calc_mean_entropy(thresh_otsu), calc_mean_entropy(thresh_std_2), calc_mean_entropy(thresh_std_3),\n",
    "         calc_mean_entropy(thresh_std_4)])"
   ],
   "metadata": {
    "collapsed": false
   }
  },
  {
   "cell_type": "code",
   "execution_count": null,
   "outputs": [],
   "source": [
    "image = small_condensates\n",
    "thresh_otsu = image > ski.filters.threshold_otsu(image)\n",
    "thresh_std_2 = image > 2 * np.std(image)\n",
    "thresh_std_3 = image > 3 * np.std(image)\n",
    "thresh_std_4 = image > 4 * np.std(image)\n",
    "\n",
    "plot_images([image, thresh_otsu, thresh_std_2, thresh_std_3, thresh_std_4],\n",
    "            [\"image\", \"thresh_otsu\", \"thresh_std_2\", \"thresh_std_3\", \"thresh_std_4\"])"
   ],
   "metadata": {
    "collapsed": false
   }
  },
  {
   "cell_type": "code",
   "execution_count": null,
   "outputs": [],
   "source": [
    "print(np.std(thresh_otsu), np.std(thresh_std_2), np.std(thresh_std_3), np.std(thresh_std_4))\n",
    "print()\n",
    "print(calc_mean_entropy(thresh_otsu), calc_mean_entropy(thresh_std_2), calc_mean_entropy(thresh_std_3),\n",
    "      calc_mean_entropy(thresh_std_4))"
   ],
   "metadata": {
    "collapsed": false
   }
  },
  {
   "cell_type": "code",
   "execution_count": null,
   "outputs": [],
   "source": [
    "0.05\n",
    "evalues = []\n",
    "\n",
    "for img in Path(\"C:\\\\Users\\\\danie\\\\temp_hons_microscopy\\\\TFIIB Core\\\\4\").glob(\"*.tif\"):\n",
    "    image = m.load_img(img)\n",
    "    evalues.append(calc_mean_entropy(image))"
   ],
   "metadata": {
    "collapsed": false
   }
  },
  {
   "cell_type": "code",
   "execution_count": null,
   "outputs": [],
   "source": [
    "evalues"
   ],
   "metadata": {
    "collapsed": false
   }
  },
  {
   "cell_type": "code",
   "execution_count": null,
   "outputs": [],
   "source": [
    "img = uniform_fluorescence"
   ],
   "metadata": {
    "collapsed": false
   }
  },
  {
   "cell_type": "code",
   "execution_count": null,
   "outputs": [],
   "source": [
    "uniform_fluorescence"
   ],
   "metadata": {
    "collapsed": false
   }
  },
  {
   "cell_type": "code",
   "execution_count": null,
   "outputs": [],
   "source": [
    "np.std(uniform_fluorescence)"
   ],
   "metadata": {
    "collapsed": false
   }
  },
  {
   "cell_type": "code",
   "execution_count": null,
   "outputs": [],
   "source": [
    "thresh_img = img > 4 * np.std(img)"
   ],
   "metadata": {
    "collapsed": false
   }
  },
  {
   "cell_type": "code",
   "execution_count": null,
   "outputs": [],
   "source": [
    "thresh_img"
   ],
   "metadata": {
    "collapsed": false
   }
  },
  {
   "cell_type": "code",
   "execution_count": null,
   "outputs": [],
   "source": [
    "plt.imshow(thresh_img)\n",
    "plt.axis(\"off\")"
   ],
   "metadata": {
    "collapsed": false
   }
  },
  {
   "cell_type": "code",
   "execution_count": null,
   "outputs": [],
   "source": [
    "label_img = ski.measure.label(thresh_img)"
   ],
   "metadata": {
    "collapsed": false
   }
  },
  {
   "cell_type": "code",
   "execution_count": null,
   "outputs": [],
   "source": [
    "plt.imshow(label_img, cmap=\"gray\")"
   ],
   "metadata": {
    "collapsed": false
   }
  },
  {
   "cell_type": "code",
   "execution_count": null,
   "outputs": [],
   "source": [
    "np.unique(label_img)"
   ],
   "metadata": {
    "collapsed": false
   }
  },
  {
   "cell_type": "code",
   "execution_count": null,
   "outputs": [],
   "source": [
    "plt.imshow(ski.color.label2rgb(label_img, image=img), cmap=\"hsv\")"
   ],
   "metadata": {
    "collapsed": false
   }
  },
  {
   "cell_type": "code",
   "execution_count": null,
   "outputs": [],
   "source": [
    "np.sum(thresh_img == 1)"
   ],
   "metadata": {
    "collapsed": false
   }
  },
  {
   "cell_type": "code",
   "execution_count": null,
   "outputs": [],
   "source": [
    "thresh_img"
   ],
   "metadata": {
    "collapsed": false
   }
  },
  {
   "cell_type": "code",
   "execution_count": null,
   "outputs": [],
   "source": [],
   "metadata": {
    "collapsed": false
   }
  },
  {
   "cell_type": "code",
   "execution_count": null,
   "outputs": [],
   "source": [
    "thresh_img"
   ],
   "metadata": {
    "collapsed": false
   }
  },
  {
   "cell_type": "code",
   "execution_count": 4,
   "outputs": [],
   "source": [
    "fl = \"C:\\\\Users\\\\danie\\\\temp_hons_microscopy\\\\NOT_TO_PROCESS\\\\IIB FL + TBP Constructs\\\\IIB FL + TBP\\\\IIBFL+TBPFL_RGB_RGB_Red.tif\"\n",
    "core = \"C:\\\\Users\\\\danie\\\\temp_hons_microscopy\\\\NOT_TO_PROCESS\\\\IIB FL + TBP Constructs\\\\IIB FL + TBP CORE\\\\IIBFL+TBPCORE_RGB_BrightfieldBlue3.tif\"\n",
    "idr = \"C:\\\\Users\\\\danie\\\\temp_hons_microscopy\\\\NOT_TO_PROCESS\\\\IIB FL + TBP Constructs\\\\IIBFL + TBP IDR\\\\IIBFL+TBPIDR_RGB_BrightfieldBlue3.tif\""
   ],
   "metadata": {
    "collapsed": false
   }
  },
  {
   "cell_type": "code",
   "execution_count": 5,
   "outputs": [
    {
     "name": "stderr",
     "output_type": "stream",
     "text": [
      "<tifffile.TiffFile 'IIBFL+TBPFL_RGB_RGB_Red.tif'> OME series cannot handle discontiguous storage ((1920, 2560, 3) != (3, 1920, 2560))\n",
      "WARNING:tifffile:<tifffile.TiffFile 'IIBFL+TBPCORE_RG…tfieldBlue3.tif'> OME series cannot handle discontiguous storage ((1920, 2560, 3) != (3, 1920, 2560))\n",
      "WARNING:tifffile:<tifffile.TiffFile 'IIBFL+TBPIDR_RG…htfieldBlue3.tif'> OME series cannot handle discontiguous storage ((1920, 2560, 3) != (3, 1920, 2560))\n"
     ]
    }
   ],
   "source": [
    "cf_fl, regions_fl = m.process_image(Path(fl), \"\")\n",
    "cf_core, regions_core = m.process_image(Path(core), \"\")\n",
    "cf_idr, regions_idr = m.process_image(Path(idr), \"\")"
   ],
   "metadata": {
    "collapsed": false
   }
  },
  {
   "cell_type": "code",
   "execution_count": 6,
   "outputs": [],
   "source": [
    "region_columns = [\"area\",\n",
    "                  \"mean_intensity\",\n",
    "                  \"perimeter\",\n",
    "                  \"axis_major_length\",\n",
    "                  \"axis_minor_length\"]\n",
    "\n",
    "cf_columns = [\n",
    "    \"condensed_fraction\",\n",
    "    \"mean_intensity\",\n",
    "    \"std_intensity\",\n",
    "    \"max_intensity\",\n",
    "    \"min_intensity\",\n",
    "    \"mean_entropy\",\n",
    "    \"mean_bg_intensity\",\n",
    "    \"mean_fg_intensity\"\n",
    "]\n",
    "\n",
    "fl_region_df = pd.DataFrame(regions_fl, columns=region_columns)\n",
    "fl_condensed_fraction_df = pd.DataFrame([cf_fl, ], columns=cf_columns)\n",
    "fl_region_df[\"prep\"] = \"FL\"\n",
    "fl_condensed_fraction_df[\"prep\"] = \"FL\"\n"
   ],
   "metadata": {
    "collapsed": false
   }
  },
  {
   "cell_type": "code",
   "execution_count": 7,
   "outputs": [],
   "source": [
    "core_region_df = pd.DataFrame(regions_core, columns=region_columns)\n",
    "core_condensed_fraction_df = pd.DataFrame([cf_core, ], columns=cf_columns)\n",
    "\n",
    "core_region_df[\"prep\"] = \"CORE\"\n",
    "core_condensed_fraction_df[\"prep\"] = \"CORE\"\n",
    "\n",
    "idr_region_df = pd.DataFrame(regions_idr, columns=region_columns)\n",
    "idr_condensed_fraction_df = pd.DataFrame([cf_idr, ], columns=cf_columns)\n",
    "\n",
    "idr_region_df[\"prep\"] = \"IDR\"\n",
    "idr_condensed_fraction_df[\"prep\"] = \"IDR\""
   ],
   "metadata": {
    "collapsed": false
   }
  },
  {
   "cell_type": "code",
   "execution_count": 8,
   "outputs": [],
   "source": [
    "dfs = pd.concat([fl_condensed_fraction_df, core_condensed_fraction_df, idr_condensed_fraction_df], axis=0)"
   ],
   "metadata": {
    "collapsed": false
   }
  },
  {
   "cell_type": "code",
   "execution_count": 9,
   "outputs": [
    {
     "data": {
      "text/plain": "   condensed_fraction  mean_intensity  std_intensity  max_intensity  \\\n0            0.035722        0.021010       0.011129       0.166667   \n0            0.031174        0.016889       0.009538       0.160000   \n0            0.026193        0.021126       0.009847       0.182500   \n\n   min_intensity  mean_entropy  mean_bg_intensity  mean_fg_intensity  prep  \n0       0.000833           0.0           0.019282           0.067653    FL  \n0       0.000000           0.0           0.015518           0.059497  CORE  \n0       0.000833           0.0           0.019886           0.067213   IDR  ",
      "text/html": "<div>\n<style scoped>\n    .dataframe tbody tr th:only-of-type {\n        vertical-align: middle;\n    }\n\n    .dataframe tbody tr th {\n        vertical-align: top;\n    }\n\n    .dataframe thead th {\n        text-align: right;\n    }\n</style>\n<table border=\"1\" class=\"dataframe\">\n  <thead>\n    <tr style=\"text-align: right;\">\n      <th></th>\n      <th>condensed_fraction</th>\n      <th>mean_intensity</th>\n      <th>std_intensity</th>\n      <th>max_intensity</th>\n      <th>min_intensity</th>\n      <th>mean_entropy</th>\n      <th>mean_bg_intensity</th>\n      <th>mean_fg_intensity</th>\n      <th>prep</th>\n    </tr>\n  </thead>\n  <tbody>\n    <tr>\n      <th>0</th>\n      <td>0.035722</td>\n      <td>0.021010</td>\n      <td>0.011129</td>\n      <td>0.166667</td>\n      <td>0.000833</td>\n      <td>0.0</td>\n      <td>0.019282</td>\n      <td>0.067653</td>\n      <td>FL</td>\n    </tr>\n    <tr>\n      <th>0</th>\n      <td>0.031174</td>\n      <td>0.016889</td>\n      <td>0.009538</td>\n      <td>0.160000</td>\n      <td>0.000000</td>\n      <td>0.0</td>\n      <td>0.015518</td>\n      <td>0.059497</td>\n      <td>CORE</td>\n    </tr>\n    <tr>\n      <th>0</th>\n      <td>0.026193</td>\n      <td>0.021126</td>\n      <td>0.009847</td>\n      <td>0.182500</td>\n      <td>0.000833</td>\n      <td>0.0</td>\n      <td>0.019886</td>\n      <td>0.067213</td>\n      <td>IDR</td>\n    </tr>\n  </tbody>\n</table>\n</div>"
     },
     "execution_count": 9,
     "metadata": {},
     "output_type": "execute_result"
    }
   ],
>>>>>>> 7570b66d25b47572dd99fb9e2b6a2de59e648589
   "source": [
    "dfs"
   ],
   "metadata": {
    "collapsed": false
   }
  },
  {
   "cell_type": "code",
   "execution_count": null,
   "outputs": [],
   "source": [
    "dfs[\"bg_fg_ratio\"] = dfs[\"mean_fg_intensity\"] / dfs[\"mean_bg_intensity\"]  #%%\n",
    "import pandas as pd\n",
    "import skimage as ski\n",
    "import matplotlib.pyplot as plt\n",
    "import numpy as np\n",
    "from main import load_img\n",
    "import main as m\n",
    "import matplotlib.patches as mpatches\n",
    "from pathlib import Path\n",
    "from scipy import ndimage as ndi"
   ],
   "metadata": {
    "collapsed": false
   }
  },
  {
   "cell_type": "code",
   "execution_count": null,
   "outputs": [],
   "source": [
    "good_condensates = m.load_img(\"data/massive_condensates.tif\")\n",
    "small_condensates = m.load_img(\"data/small_condensates.tif\")\n",
    "uniform_fluorescence = m.load_img(\"data/uniform_fluorescence.tif\")\n",
    "irregular_condensates = m.load_img(\"data/irregular_shape.tif\")\n",
    "\n",
    "images = [good_condensates, small_condensates, uniform_fluorescence, irregular_condensates]\n",
    "image_labels = [\"good_condensates\", \"small_condensates\", \"uniform_fluorescence\", \"irregular_condensates\"]"
   ],
   "metadata": {
    "collapsed": false
   }
  },
  {
   "cell_type": "code",
   "execution_count": null,
   "outputs": [],
   "source": [
    "def plot_images(images, image_labels):\n",
    "    fig, ax = plt.subplots(1, len(images), figsize=(20, 20))\n",
    "    for i, image in enumerate(images):\n",
    "        ax[i].imshow(image, cmap=\"gray\")\n",
    "        ax[i].set_title(image_labels[i])\n",
    "    plt.show()"
   ],
   "metadata": {
    "collapsed": false
   }
  },
  {
   "cell_type": "code",
   "execution_count": null,
   "outputs": [],
   "source": [
    "plot_images(images, image_labels)"
   ],
   "metadata": {
    "collapsed": false
   }
  },
  {
   "cell_type": "code",
   "execution_count": null,
   "outputs": [],
   "source": [
    "bg = ski.restoration.rolling_ball(good_condensates)"
   ],
   "metadata": {
    "collapsed": false
   }
  },
  {
   "cell_type": "code",
   "execution_count": null,
   "outputs": [],
   "source": [
    "plot_images([good_condensates, bg, good_condensates - bg], [\"good_condensates\", \"bg\", \"\"])"
   ],
   "metadata": {
    "collapsed": false
   }
  },
  {
   "cell_type": "code",
   "execution_count": null,
   "outputs": [],
   "source": [
    "mod = ski.morphology.closing(small_condensates, ski.morphology.disk(15))"
   ],
   "metadata": {
    "collapsed": false
   }
  },
  {
   "cell_type": "code",
   "execution_count": null,
   "outputs": [],
   "source": [
    "expo = ski.exposure.equalize_adapthist(small_condensates)\n",
    "\n",
    "plot_images([small_condensates, mod, expo], [\"small_condensates\", \"mod\", \"expo\"])"
   ],
   "metadata": {
    "collapsed": false
   }
  },
  {
   "cell_type": "code",
   "execution_count": null,
   "outputs": [],
   "source": [
    "def proposed_pre_processing(image):\n",
    "    # median = ski.filters.median(image, ski.morphology.disk(3))\n",
    "    # unsharp = ski.filters.unsharp_mask(image, radius=3, amount=1)\n",
    "\n",
    "    restored = ski.restoration.richardson_lucy(image, ski.morphology.disk(3), num_iter=30)\n",
    "\n",
    "    closing = ski.morphology.dilation(restored, ski.morphology.disk(3))\n",
    "    exposure_fix = ski.exposure.equalize_adapthist(closing)\n",
    "\n",
    "    return exposure_fix"
   ],
   "metadata": {
    "collapsed": false
   }
  },
  {
   "cell_type": "code",
   "execution_count": null,
   "outputs": [],
   "source": [
    "good_cond_mod = proposed_pre_processing(good_condensates)\n",
    "thresholded = good_cond_mod > ski.filters.threshold_otsu(good_cond_mod)\n",
    "plot_images([good_condensates, good_cond_mod, thresholded], [\"good_condensates\", \"good_cond_mod\", \"thresholded\"])"
   ],
   "metadata": {
    "collapsed": false
   }
  },
  {
   "cell_type": "code",
   "execution_count": null,
   "outputs": [],
   "source": [
    "good_cond_mod = proposed_pre_processing(small_condensates)\n",
    "thresholded = good_cond_mod > ski.filters.threshold_isodata(good_cond_mod)\n",
    "plot_images([good_condensates, good_cond_mod, thresholded], [\"good_condensates\", \"good_cond_mod\", \"thresholded\"])"
   ],
   "metadata": {
    "collapsed": false
   }
  },
  {
   "cell_type": "code",
   "execution_count": null,
   "outputs": [],
   "source": [
    "good_cond_mod = proposed_pre_processing(uniform_fluorescence)\n",
    "thresholded = good_cond_mod > ski.filters.threshold_isodata(good_cond_mod)\n",
    "plot_images([uniform_fluorescence, good_cond_mod, thresholded], [\"good_condensates\", \"good_cond_mod\", \"thresholded\"])"
   ],
   "metadata": {
    "collapsed": false
   }
  },
  {
   "cell_type": "code",
   "execution_count": null,
   "outputs": [],
   "source": [
    "np.mean(good_condensates)"
   ],
   "metadata": {
    "collapsed": false
   }
  },
  {
   "cell_type": "code",
   "execution_count": null,
   "outputs": [],
   "source": [
    "np.mean(irregular_condensates)"
   ],
   "metadata": {
    "collapsed": false
   }
  },
  {
   "cell_type": "code",
   "execution_count": null,
   "outputs": [],
   "source": [
    "edges = ski.filters.sobel(good_condensates)\n",
    "plot_images([good_condensates, edges], [\"good_condensates\", \"edges\"])"
   ],
   "metadata": {
    "collapsed": false
   }
  },
  {
   "cell_type": "code",
   "execution_count": null,
   "outputs": [],
   "source": [
    "edges = ski.filters.sobel(small_condensates)\n",
    "plot_images([small_condensates, edges], [\"small_condensates\", \"edges\"])"
   ],
   "metadata": {
    "collapsed": false
   }
  },
  {
   "cell_type": "code",
   "execution_count": null,
   "outputs": [],
   "source": [
    "edges = ski.filters.sobel(uniform_fluorescence)\n",
    "plot_images([uniform_fluorescence, edges], [\"uniform_fluorescence\", \"edges\"])"
   ],
   "metadata": {
    "collapsed": false
   }
  },
  {
   "cell_type": "code",
   "execution_count": null,
   "outputs": [],
   "source": [
    "edges = ski.filters.sobel(good_condensates)\n",
    "\n",
    "filled = ndi.binary_fill_holes(edges)\n",
    "\n",
    "plot_images([good_condensates, edges, filled], [\"good_condensates\", \"edges\", \"filled\"])\n"
   ],
   "metadata": {
    "collapsed": false
   }
  },
  {
   "cell_type": "code",
   "execution_count": null,
   "outputs": [],
   "source": [
    "print(np.std(uniform_fluorescence) / np.mean(uniform_fluorescence))\n",
    "print(np.std(good_condensates) / np.mean(good_condensates))\n",
    "print(np.std(small_condensates) / np.mean(small_condensates))\n",
    "print(np.std(irregular_condensates) / np.mean(irregular_condensates))"
   ],
   "metadata": {
    "collapsed": false
   }
  },
  {
   "cell_type": "code",
   "execution_count": null,
   "outputs": [],
   "source": [
    "a = Path(\"a/1.2\")"
   ],
   "metadata": {
    "collapsed": false
   }
  },
  {
   "cell_type": "code",
   "execution_count": null,
   "outputs": [],
   "source": [
    "problem_img = m.load_img(\"C:\\\\\\Users\\\\danie\\\\temp_hons_microscopy\\\\TFIIB Core\\\\64\\\\64_018.tif\")"
   ],
   "metadata": {
    "collapsed": false
   }
  },
  {
   "cell_type": "code",
   "execution_count": null,
   "outputs": [],
   "source": [
    "thresh = ski.filters.threshold_otsu(problem_img)\n",
    "thres_img = problem_img > thresh\n",
    "\n",
    "threh_mean = problem_img > 4 * np.std(problem_img)\n",
    "\n",
    "plot_images([problem_img, thres_img, threh_mean], [\"problem_img\", \"thres_img\", \"threh_mean\"])"
   ],
   "metadata": {
    "collapsed": false
   }
  },
  {
   "cell_type": "code",
   "execution_count": null,
   "outputs": [],
   "source": [
    "np.std(threh_mean)"
   ],
   "metadata": {
    "collapsed": false
   }
  },
  {
   "cell_type": "code",
   "execution_count": null,
   "outputs": [],
   "source": [
    "np.std(thres_img)"
   ],
   "metadata": {
    "collapsed": false
   }
  },
  {
   "cell_type": "code",
   "execution_count": null,
   "outputs": [],
   "source": [
    "problem_img.shape"
   ],
   "metadata": {
    "collapsed": false
   }
  },
  {
   "cell_type": "code",
   "execution_count": null,
   "outputs": [],
   "source": [
    "mu = 0\n",
    "sigma = 0\n",
    "shape = (1920, 2560)\n",
    "gauss_img = np.random.normal(mu, sigma, shape)\n",
    "gauss_img"
   ],
   "metadata": {
    "collapsed": false
   }
  },
  {
   "cell_type": "code",
   "execution_count": null,
   "outputs": [],
   "source": [
    "img = np.full((1920, 2560), 255)\n",
    "img = ski.util.random_noise(img, mode=\"speckle\")\n",
    "plt.imshow(img, cmap=\"gray\")"
   ],
   "metadata": {
    "collapsed": false
   }
  },
  {
   "cell_type": "code",
   "execution_count": null,
   "outputs": [],
   "source": [],
   "metadata": {
    "collapsed": false
   }
  },
  {
   "cell_type": "code",
   "execution_count": null,
   "outputs": [],
   "source": [
    "plt.imshow(gauss_img, cmap=\"gray\")"
   ],
   "metadata": {
    "collapsed": false
   }
  },
  {
   "cell_type": "code",
   "execution_count": null,
   "outputs": [],
   "source": [
    "np.mean(ski.filters.rank.entropy(thres_img.astype(int), ski.morphology.disk(3)))"
   ],
   "metadata": {
    "collapsed": false
   }
  },
  {
   "cell_type": "code",
   "execution_count": null,
   "outputs": [],
   "source": [
    "np.mean(ski.filters.rank.entropy(img.astype(int), ski.morphology.disk(3)))"
   ],
   "metadata": {
    "collapsed": false
   }
  },
  {
   "cell_type": "code",
   "execution_count": null,
   "outputs": [],
   "source": [
    "np.mean(ski.filters.rank.entropy(threh_mean.astype(int), ski.morphology.disk(3)))"
   ],
   "metadata": {
    "collapsed": false
   }
  },
  {
   "cell_type": "code",
   "execution_count": null,
   "outputs": [],
   "source": [
    "good_condensate_thresh = good_condensates > ski.filters.threshold_otsu(good_condensates)\n",
    "\n",
    "np.mean(ski.filters.rank.entropy(good_condensate_thresh.astype(int), ski.morphology.disk(3)))"
   ],
   "metadata": {
    "collapsed": false
   }
  },
  {
   "cell_type": "code",
   "execution_count": null,
   "outputs": [],
   "source": [
    "def calc_mean_entropy(image):\n",
    "    return np.mean(ski.filters.rank.entropy(image.astype(\"uint8\"), ski.morphology.disk(3)))"
   ],
   "metadata": {
    "collapsed": false
   }
  },
  {
   "cell_type": "code",
   "execution_count": null,
   "outputs": [],
   "source": [
    "entropy_values = []\n",
    "\n"
   ],
   "metadata": {
    "collapsed": false
   }
  },
  {
   "cell_type": "code",
   "execution_count": null,
   "outputs": [],
   "source": [
    "calc_mean_entropy(good_condensate_thresh)"
   ],
   "metadata": {
    "collapsed": false
   }
  },
  {
   "cell_type": "code",
   "execution_count": null,
   "outputs": [],
   "source": [
    "for img in Path(\"C:\\\\Users\\\\danie\\\\temp_hons_microscopy\\\\TFIIB Core\\\\64\").glob(\"*.tif\"):\n",
    "    image = m.load_img(img)\n",
    "    entropy_values.append(calc_mean_entropy(image))"
   ],
   "metadata": {
    "collapsed": false
   }
  },
  {
   "cell_type": "code",
   "execution_count": null,
   "outputs": [],
   "source": [
    "entropy_values"
   ],
   "metadata": {
    "collapsed": false
   }
  },
  {
   "cell_type": "code",
   "execution_count": null,
   "outputs": [],
   "source": [
    "\n",
    "evalues = []\n",
    "\n",
    "for img in Path(\"C:\\\\Users\\\\danie\\\\temp_hons_microscopy\\\\TFIIB Core\\\\4\").glob(\"*.tif\"):\n",
    "    image = m.load_img(img)\n",
    "    evalues.append(calc_mean_entropy(image))"
   ],
   "metadata": {
    "collapsed": false
   }
  },
  {
   "cell_type": "code",
   "execution_count": null,
   "outputs": [],
   "source": [
    "evalues  #%%\n",
    "import pandas as pd\n",
    "import skimage as ski\n",
    "import matplotlib.pyplot as plt\n",
    "import numpy as np\n",
    "from main import load_img\n",
    "import main as m\n",
    "import matplotlib.patches as mpatches\n",
    "from pathlib import Path\n",
    "from scipy import ndimage as ndi"
   ],
   "metadata": {
    "collapsed": false
   }
  },
  {
   "cell_type": "code",
   "execution_count": null,
   "outputs": [],
   "source": [
    "good_condensates = m.load_img(\"data/massive_condensates.tif\")\n",
    "small_condensates = m.load_img(\"data/small_condensates.tif\")\n",
    "uniform_fluorescence = m.load_img(\"data/uniform_fluorescence.tif\")\n",
    "irregular_condensates = m.load_img(\"data/irregular_shape.tif\")\n",
    "\n",
    "images = [good_condensates, small_condensates, uniform_fluorescence, irregular_condensates]\n",
    "image_labels = [\"good_condensates\", \"small_condensates\", \"uniform_fluorescence\", \"irregular_condensates\"]"
   ],
   "metadata": {
    "collapsed": false
   }
  },
  {
   "cell_type": "code",
   "execution_count": null,
   "outputs": [],
   "source": [
    "def plot_images(images, image_labels):\n",
    "    fig, ax = plt.subplots(1, len(images), figsize=(20, 20))\n",
    "    for i, image in enumerate(images):\n",
    "        ax[i].imshow(image, cmap=\"gray\")\n",
    "        ax[i].set_title(image_labels[i])\n",
    "    plt.show()"
   ],
   "metadata": {
    "collapsed": false
   }
  },
  {
   "cell_type": "code",
   "execution_count": null,
   "outputs": [],
   "source": [
    "plot_images(images, image_labels)"
   ],
   "metadata": {
    "collapsed": false
   }
  },
  {
   "cell_type": "code",
   "execution_count": null,
   "outputs": [],
   "source": [
    "mod = ski.morphology.closing(small_condensates, ski.morphology.disk(15))"
   ],
   "metadata": {
    "collapsed": false
   }
  },
  {
   "cell_type": "code",
   "execution_count": null,
   "outputs": [],
   "source": [
    "expo = ski.exposure.equalize_adapthist(small_condensates)\n",
    "\n",
    "plot_images([small_condensates, mod, expo], [\"small_condensates\", \"mod\", \"expo\"])"
   ],
   "metadata": {
    "collapsed": false
   }
  },
  {
   "cell_type": "code",
   "execution_count": null,
   "outputs": [],
   "source": [
    "def proposed_pre_processing(image):\n",
    "    # median = ski.filters.median(image, ski.morphology.disk(3))\n",
    "    # unsharp = ski.filters.unsharp_mask(image, radius=3, amount=1)\n",
    "\n",
    "    restored = ski.restoration.richardson_lucy(image, ski.morphology.disk(3), num_iter=30)\n",
    "\n",
    "    closing = ski.morphology.dilation(restored, ski.morphology.disk(3))\n",
    "    exposure_fix = ski.exposure.equalize_adapthist(closing)\n",
    "\n",
    "    return exposure_fix"
   ],
   "metadata": {
    "collapsed": false
   }
  },
  {
   "cell_type": "code",
   "execution_count": null,
   "outputs": [],
   "source": [
    "good_cond_mod = proposed_pre_processing(good_condensates)\n",
    "thresholded = good_cond_mod > ski.filters.threshold_otsu(good_cond_mod)\n",
    "plot_images([good_condensates, good_cond_mod, thresholded], [\"good_condensates\", \"good_cond_mod\", \"thresholded\"])"
   ],
   "metadata": {
    "collapsed": false
   }
  },
  {
   "cell_type": "code",
   "execution_count": null,
   "outputs": [],
   "source": [
    "good_cond_mod = proposed_pre_processing(small_condensates)\n",
    "thresholded = good_cond_mod > ski.filters.threshold_isodata(good_cond_mod)\n",
    "plot_images([good_condensates, good_cond_mod, thresholded], [\"good_condensates\", \"good_cond_mod\", \"thresholded\"])"
   ],
   "metadata": {
    "collapsed": false
   }
  },
  {
   "cell_type": "code",
   "execution_count": null,
   "outputs": [],
   "source": [
    "good_cond_mod = proposed_pre_processing(uniform_fluorescence)\n",
    "thresholded = good_cond_mod > ski.filters.threshold_isodata(good_cond_mod)\n",
    "plot_images([uniform_fluorescence, good_cond_mod, thresholded], [\"good_condensates\", \"good_cond_mod\", \"thresholded\"])"
   ],
   "metadata": {
    "collapsed": false
   }
  },
  {
   "cell_type": "code",
   "execution_count": null,
   "outputs": [],
   "source": [
    "np.mean(good_condensates)"
   ],
   "metadata": {
    "collapsed": false
   }
  },
  {
   "cell_type": "code",
   "execution_count": null,
   "outputs": [],
   "source": [
    "np.mean(irregular_condensates)"
   ],
   "metadata": {
    "collapsed": false
   }
  },
  {
   "cell_type": "code",
   "execution_count": null,
   "outputs": [],
   "source": [
    "edges = ski.filters.sobel(good_condensates)\n",
    "plot_images([good_condensates, edges], [\"good_condensates\", \"edges\"])"
   ],
   "metadata": {
    "collapsed": false
   }
  },
  {
   "cell_type": "code",
   "execution_count": null,
   "outputs": [],
   "source": [
    "edges = ski.filters.sobel(small_condensates)\n",
    "plot_images([small_condensates, edges], [\"small_condensates\", \"edges\"])"
   ],
   "metadata": {
    "collapsed": false
   }
  },
  {
   "cell_type": "code",
   "execution_count": null,
   "outputs": [],
   "source": [
    "edges = ski.filters.sobel(uniform_fluorescence)\n",
    "plot_images([uniform_fluorescence, edges], [\"uniform_fluorescence\", \"edges\"])"
   ],
   "metadata": {
    "collapsed": false
   }
  },
  {
   "cell_type": "code",
   "execution_count": null,
   "outputs": [],
   "source": [
    "edges = ski.filters.sobel(good_condensates)\n",
    "\n",
    "filled = ndi.binary_fill_holes(edges)\n",
    "\n",
    "plot_images([good_condensates, edges, filled], [\"good_condensates\", \"edges\", \"filled\"])\n"
   ],
   "metadata": {
    "collapsed": false
   }
  },
  {
   "cell_type": "code",
   "execution_count": null,
   "outputs": [],
   "source": [
    "print(np.std(uniform_fluorescence) / np.mean(uniform_fluorescence))\n",
    "print(np.std(good_condensates) / np.mean(good_condensates))\n",
    "print(np.std(small_condensates) / np.mean(small_condensates))\n",
    "print(np.std(irregular_condensates) / np.mean(irregular_condensates))"
   ],
   "metadata": {
    "collapsed": false
   }
  },
  {
   "cell_type": "code",
   "execution_count": null,
   "outputs": [],
   "source": [
    "a = Path(\"a/1.2\")"
   ],
   "metadata": {
    "collapsed": false
   }
  },
  {
   "cell_type": "code",
   "execution_count": null,
   "outputs": [],
   "source": [
    "problem_img = m.load_img(\"C:\\\\Users\\\\danie\\\\temp_hons_microscopy\\\\TFIIB Core\\\\64\\\\64_018.tif\")"
   ],
   "metadata": {
    "collapsed": false
   }
  },
  {
   "cell_type": "code",
   "execution_count": null,
   "outputs": [],
   "source": [
    "thresh = ski.filters.threshold_otsu(problem_img)\n",
    "thres_img = problem_img > thresh\n",
    "\n",
    "threh_mean = problem_img > 4 * np.std(problem_img)\n",
    "\n",
    "plot_images([problem_img, thres_img, threh_mean], [\"problem_img\", \"thres_img\", \"threh_mean\"])"
   ],
   "metadata": {
    "collapsed": false
   }
  },
  {
   "cell_type": "code",
   "execution_count": null,
   "outputs": [],
   "source": [
    "np.std(threh_mean)"
   ],
   "metadata": {
    "collapsed": false
   }
  },
  {
   "cell_type": "code",
   "execution_count": null,
   "outputs": [],
   "source": [
    "np.std(thres_img)"
   ],
   "metadata": {
    "collapsed": false
   }
  },
  {
   "cell_type": "code",
   "execution_count": null,
   "outputs": [],
   "source": [
    "problem_img.shape"
   ],
   "metadata": {
    "collapsed": false
   }
  },
  {
   "cell_type": "code",
   "execution_count": null,
   "outputs": [],
   "source": [
    "mu = 0\n",
    "sigma = 0\n",
    "shape = (1920, 2560)\n",
    "gauss_img = np.random.normal(mu, sigma, shape)\n",
    "gauss_img"
   ],
   "metadata": {
    "collapsed": false
   }
  },
  {
   "cell_type": "code",
   "execution_count": null,
   "outputs": [],
   "source": [
    "img = np.full((1920, 2560), 255)\n",
    "img = ski.util.random_noise(img, mode=\"speckle\")\n",
    "plt.imshow(img, cmap=\"gray\")"
   ],
   "metadata": {
    "collapsed": false
   }
  },
  {
   "cell_type": "code",
   "execution_count": null,
   "outputs": [],
   "source": [],
   "metadata": {
    "collapsed": false
   }
  },
  {
   "cell_type": "code",
   "execution_count": null,
   "outputs": [],
   "source": [
    "plt.imshow(gauss_img, cmap=\"gray\")"
   ],
   "metadata": {
    "collapsed": false
   }
  },
  {
   "cell_type": "code",
   "execution_count": null,
   "outputs": [],
   "source": [
    "np.mean(ski.filters.rank.entropy(thres_img.astype(int), ski.morphology.disk(3)))"
   ],
   "metadata": {
    "collapsed": false
   }
  },
  {
   "cell_type": "code",
   "execution_count": null,
   "outputs": [],
   "source": [
    "np.mean(ski.filters.rank.entropy(img.astype(int), ski.morphology.disk(3)))"
   ],
   "metadata": {
    "collapsed": false
   }
  },
  {
   "cell_type": "code",
   "execution_count": null,
   "outputs": [],
   "source": [
    "np.mean(ski.filters.rank.entropy(threh_mean.astype(int), ski.morphology.disk(3)))"
   ],
   "metadata": {
    "collapsed": false
   }
  },
  {
   "cell_type": "code",
   "execution_count": null,
   "outputs": [],
   "source": [
    "good_condensate_thresh = good_condensates > ski.filters.threshold_otsu(good_condensates)\n",
    "\n",
    "np.mean(ski.filters.rank.entropy(good_condensate_thresh.astype(int), ski.morphology.disk(3)))"
   ],
   "metadata": {
    "collapsed": false
   }
  },
  {
   "cell_type": "code",
   "execution_count": null,
   "outputs": [],
   "source": [
    "def calc_mean_entropy(image):\n",
    "    return np.mean(ski.filters.rank.entropy(image.astype(\"uint8\"), ski.morphology.disk(3)))"
   ],
   "metadata": {
    "collapsed": false
   }
  },
  {
   "cell_type": "code",
   "execution_count": null,
   "outputs": [],
   "source": [
    "entropy_values = []\n",
    "\n"
   ],
   "metadata": {
    "collapsed": false
   }
  },
  {
   "cell_type": "code",
   "execution_count": null,
   "outputs": [],
   "source": [
    "calc_mean_entropy(good_condensate_thresh)"
   ],
   "metadata": {
    "collapsed": false
   }
  },
  {
   "cell_type": "code",
   "execution_count": null,
   "outputs": [],
   "source": [
    "#  Let's do a test. We can try ostu vs the std method and see who comes out on top"
   ],
   "metadata": {
    "collapsed": false
   }
  },
  {
   "cell_type": "code",
   "execution_count": null,
   "outputs": [],
   "source": [
    "for img in Path(\"C:\\\\Users\\\\danie\\\\temp_hons_microscopy\\\\TFIIB Core\\\\64\").glob(\"*.tif\"):\n",
    "    image = m.load_img(img)\n",
    "    thresh_otsu = image > ski.filters.threshold_otsu(image)\n",
    "    thresh_std_2 = image > 2 * np.std(image)\n",
    "    thresh_std_3 = image > 3 * np.std(image)\n",
    "    thresh_std_4 = image > 4 * np.std(image)\n",
    "\n",
    "    print(\n",
    "        f\"Otsu: {calc_mean_entropy(thresh_otsu)}, std_2: {calc_mean_entropy(thresh_std_2)}, std_3: {calc_mean_entropy(thresh_std_3)}, std_4: {calc_mean_entropy(thresh_std_4)}\")\n",
    "\n",
    "    entropy_values.append(\n",
    "        [calc_mean_entropy(thresh_otsu), calc_mean_entropy(thresh_std_2), calc_mean_entropy(thresh_std_3),\n",
    "         calc_mean_entropy(thresh_std_4)])"
   ],
   "metadata": {
    "collapsed": false
   }
  },
  {
   "cell_type": "code",
   "execution_count": null,
   "outputs": [],
   "source": [
    "image = small_condensates\n",
    "thresh_otsu = image > ski.filters.threshold_otsu(image)\n",
    "thresh_std_2 = image > 2 * np.std(image)\n",
    "thresh_std_3 = image > 3 * np.std(image)\n",
    "thresh_std_4 = image > 4 * np.std(image)\n",
    "\n",
    "plot_images([image, thresh_otsu, thresh_std_2, thresh_std_3, thresh_std_4],\n",
    "            [\"image\", \"thresh_otsu\", \"thresh_std_2\", \"thresh_std_3\", \"thresh_std_4\"])"
   ],
   "metadata": {
    "collapsed": false
   }
  },
  {
   "cell_type": "code",
   "execution_count": null,
   "outputs": [],
   "source": [
    "print(np.std(thresh_otsu), np.std(thresh_std_2), np.std(thresh_std_3), np.std(thresh_std_4))\n",
    "print()\n",
    "print(calc_mean_entropy(thresh_otsu), calc_mean_entropy(thresh_std_2), calc_mean_entropy(thresh_std_3),\n",
    "      calc_mean_entropy(thresh_std_4))"
   ],
   "metadata": {
    "collapsed": false
   }
  },
  {
   "cell_type": "code",
   "execution_count": null,
   "outputs": [],
   "source": [
    "0.05\n",
    "evalues = []\n",
    "\n",
    "for img in Path(\"C:\\\\Users\\\\danie\\\\temp_hons_microscopy\\\\TFIIB Core\\\\4\").glob(\"*.tif\"):\n",
    "    image = m.load_img(img)\n",
    "    evalues.append(calc_mean_entropy(image))"
   ],
   "metadata": {
    "collapsed": false
   }
  },
  {
   "cell_type": "code",
   "execution_count": null,
   "outputs": [],
   "source": [
    "evalues"
   ],
   "metadata": {
    "collapsed": false
   }
  },
  {
   "cell_type": "code",
   "execution_count": null,
   "outputs": [],
   "source": [
    "img = uniform_fluorescence"
   ],
   "metadata": {
    "collapsed": false
   }
  },
  {
   "cell_type": "code",
   "execution_count": null,
   "outputs": [],
   "source": [
    "uniform_fluorescence"
   ],
   "metadata": {
    "collapsed": false
   }
  },
  {
   "cell_type": "code",
   "execution_count": null,
   "outputs": [],
   "source": [
    "np.std(uniform_fluorescence)"
   ],
   "metadata": {
    "collapsed": false
   }
  },
  {
   "cell_type": "code",
   "execution_count": null,
   "outputs": [],
   "source": [
    "thresh_img = img < 4 * np.std(img)"
   ],
   "metadata": {
    "collapsed": false
   }
  },
  {
   "cell_type": "code",
   "execution_count": null,
   "outputs": [],
   "source": [
    "thresh_img"
   ],
   "metadata": {
    "collapsed": false
   }
  },
  {
   "cell_type": "code",
   "execution_count": null,
   "outputs": [],
   "source": [
<<<<<<< HEAD
    "img = m.load_img(\"C:\\\\Users\\\\danie\\\\temp_hons_microscopy\\\\T\")"
   ],
=======
    "plt.imshow(thresh_img, cmap=\"gray\")\n",
    "plt.axis(\"off\")"
   ],
   "metadata": {
    "collapsed": false
   }
  },
  {
   "cell_type": "code",
   "execution_count": null,
   "outputs": [],
   "source": [
    "label_img = ski.measure.label(thresh_img)"
   ],
   "metadata": {
    "collapsed": false
   }
  },
  {
   "cell_type": "code",
   "execution_count": null,
   "outputs": [],
   "source": [
    "plt.imshow(label_img, cmap=\"gray\")"
   ],
   "metadata": {
    "collapsed": false
   }
  },
  {
   "cell_type": "code",
   "execution_count": null,
   "outputs": [],
   "source": [
    "plt.imshow(ski.color.label2rgb(label_img, image=img))"
   ],
   "metadata": {
    "collapsed": false
   }
  },
  {
   "cell_type": "code",
   "execution_count": null,
   "outputs": [],
   "source": [
    "np.sum(thresh_img == 1)  #%%\n",
    "import pandas as pd\n",
    "import skimage as ski\n",
    "import matplotlib.pyplot as plt\n",
    "import numpy as np\n",
    "from main import load_img\n",
    "import main as m\n",
    "import matplotlib.patches as mpatches\n",
    "from pathlib import Path\n",
    "from scipy import ndimage as ndi"
   ],
   "metadata": {
    "collapsed": false
   }
  },
  {
   "cell_type": "code",
   "execution_count": null,
   "outputs": [],
   "source": [
    "good_condensates = m.load_img(\"data/massive_condensates.tif\")\n",
    "small_condensates = m.load_img(\"data/small_condensates.tif\")\n",
    "uniform_fluorescence = m.load_img(\"data/uniform_fluorescence.tif\")\n",
    "irregular_condensates = m.load_img(\"data/irregular_shape.tif\")\n",
    "\n",
    "images = [good_condensates, small_condensates, uniform_fluorescence, irregular_condensates]\n",
    "image_labels = [\"good_condensates\", \"small_condensates\", \"uniform_fluorescence\", \"irregular_condensates\"]"
   ],
   "metadata": {
    "collapsed": false
   }
  },
  {
   "cell_type": "code",
   "execution_count": null,
   "outputs": [],
   "source": [
    "def plot_images(images, image_labels):\n",
    "    fig, ax = plt.subplots(1, len(images), figsize=(20, 20))\n",
    "    for i, image in enumerate(images):\n",
    "        ax[i].imshow(image, cmap=\"gray\")\n",
    "        ax[i].set_title(image_labels[i])\n",
    "    plt.show()"
   ],
   "metadata": {
    "collapsed": false
   }
  },
  {
   "cell_type": "code",
   "execution_count": null,
   "outputs": [],
   "source": [
    "plot_images(images, image_labels)"
   ],
   "metadata": {
    "collapsed": false
   }
  },
  {
   "cell_type": "code",
   "execution_count": null,
   "outputs": [],
   "source": [
    "bg = ski.restoration.rolling_ball(good_condensates)"
   ],
   "metadata": {
    "collapsed": false
   }
  },
  {
   "cell_type": "code",
   "execution_count": null,
   "outputs": [],
   "source": [
    "plot_images([good_condensates, bg, good_condensates - bg], [\"good_condensates\", \"bg\", \"\"])"
   ],
   "metadata": {
    "collapsed": false
   }
  },
  {
   "cell_type": "code",
   "execution_count": null,
   "outputs": [],
   "source": [
    "mod = ski.morphology.closing(small_condensates, ski.morphology.disk(15))"
   ],
   "metadata": {
    "collapsed": false
   }
  },
  {
   "cell_type": "code",
   "execution_count": null,
   "outputs": [],
   "source": [
    "expo = ski.exposure.equalize_adapthist(small_condensates)\n",
    "\n",
    "plot_images([small_condensates, mod, expo], [\"small_condensates\", \"mod\", \"expo\"])"
   ],
   "metadata": {
    "collapsed": false
   }
  },
  {
   "cell_type": "code",
   "execution_count": null,
   "outputs": [],
   "source": [
    "def proposed_pre_processing(image):\n",
    "    # median = ski.filters.median(image, ski.morphology.disk(3))\n",
    "    # unsharp = ski.filters.unsharp_mask(image, radius=3, amount=1)\n",
    "\n",
    "    restored = ski.restoration.richardson_lucy(image, ski.morphology.disk(3), num_iter=30)\n",
    "\n",
    "    closing = ski.morphology.dilation(restored, ski.morphology.disk(3))\n",
    "    exposure_fix = ski.exposure.equalize_adapthist(closing)\n",
    "\n",
    "    return exposure_fix"
   ],
   "metadata": {
    "collapsed": false
   }
  },
  {
   "cell_type": "code",
   "execution_count": null,
   "outputs": [],
   "source": [
    "good_cond_mod = proposed_pre_processing(good_condensates)\n",
    "thresholded = good_cond_mod > ski.filters.threshold_otsu(good_cond_mod)\n",
    "plot_images([good_condensates, good_cond_mod, thresholded], [\"good_condensates\", \"good_cond_mod\", \"thresholded\"])"
   ],
   "metadata": {
    "collapsed": false
   }
  },
  {
   "cell_type": "code",
   "execution_count": null,
   "outputs": [],
   "source": [
    "good_cond_mod = proposed_pre_processing(small_condensates)\n",
    "thresholded = good_cond_mod > ski.filters.threshold_isodata(good_cond_mod)\n",
    "plot_images([good_condensates, good_cond_mod, thresholded], [\"good_condensates\", \"good_cond_mod\", \"thresholded\"])"
   ],
   "metadata": {
    "collapsed": false
   }
  },
  {
   "cell_type": "code",
   "execution_count": null,
   "outputs": [],
   "source": [
    "good_cond_mod = proposed_pre_processing(uniform_fluorescence)\n",
    "thresholded = good_cond_mod > ski.filters.threshold_isodata(good_cond_mod)\n",
    "plot_images([uniform_fluorescence, good_cond_mod, thresholded], [\"good_condensates\", \"good_cond_mod\", \"thresholded\"])"
   ],
   "metadata": {
    "collapsed": false
   }
  },
  {
   "cell_type": "code",
   "execution_count": null,
   "outputs": [],
   "source": [
    "np.mean(good_condensates)"
   ],
   "metadata": {
    "collapsed": false
   }
  },
  {
   "cell_type": "code",
   "execution_count": null,
   "outputs": [],
   "source": [
    "np.mean(irregular_condensates)"
   ],
   "metadata": {
    "collapsed": false
   }
  },
  {
   "cell_type": "code",
   "execution_count": null,
   "outputs": [],
   "source": [
    "edges = ski.filters.sobel(good_condensates)\n",
    "plot_images([good_condensates, edges], [\"good_condensates\", \"edges\"])"
   ],
   "metadata": {
    "collapsed": false
   }
  },
  {
   "cell_type": "code",
   "execution_count": null,
   "outputs": [],
   "source": [
    "edges = ski.filters.sobel(small_condensates)\n",
    "plot_images([small_condensates, edges], [\"small_condensates\", \"edges\"])"
   ],
   "metadata": {
    "collapsed": false
   }
  },
  {
   "cell_type": "code",
   "execution_count": null,
   "outputs": [],
   "source": [
    "edges = ski.filters.sobel(uniform_fluorescence)\n",
    "plot_images([uniform_fluorescence, edges], [\"uniform_fluorescence\", \"edges\"])"
   ],
   "metadata": {
    "collapsed": false
   }
  },
  {
   "cell_type": "code",
   "execution_count": null,
   "outputs": [],
   "source": [
    "edges = ski.filters.sobel(good_condensates)\n",
    "\n",
    "filled = ndi.binary_fill_holes(edges)\n",
    "\n",
    "plot_images([good_condensates, edges, filled], [\"good_condensates\", \"edges\", \"filled\"])\n"
   ],
   "metadata": {
    "collapsed": false
   }
  },
  {
   "cell_type": "code",
   "execution_count": null,
   "outputs": [],
   "source": [
    "print(np.std(uniform_fluorescence) / np.mean(uniform_fluorescence))\n",
    "print(np.std(good_condensates) / np.mean(good_condensates))\n",
    "print(np.std(small_condensates) / np.mean(small_condensates))\n",
    "print(np.std(irregular_condensates) / np.mean(irregular_condensates))"
   ],
   "metadata": {
    "collapsed": false
   }
  },
  {
   "cell_type": "code",
   "execution_count": null,
   "outputs": [],
   "source": [
    "a = Path(\"a/1.2\")"
   ],
   "metadata": {
    "collapsed": false
   }
  },
  {
   "cell_type": "code",
   "execution_count": null,
   "outputs": [],
   "source": [
    "problem_img = m.load_img(\"C:\\\\Users\\\\danie\\\\temp_hons_microscopy\\\\TFIIB Core\\\\64\\\\64_018.tif\")"
   ],
   "metadata": {
    "collapsed": false
   }
  },
  {
   "cell_type": "code",
   "execution_count": null,
   "outputs": [],
   "source": [
    "thresh = ski.filters.threshold_otsu(problem_img)\n",
    "thres_img = problem_img > thresh\n",
    "\n",
    "threh_mean = problem_img > 4 * np.std(problem_img)\n",
    "\n",
    "plot_images([problem_img, thres_img, threh_mean], [\"problem_img\", \"thres_img\", \"threh_mean\"])"
   ],
   "metadata": {
    "collapsed": false
   }
  },
  {
   "cell_type": "code",
   "execution_count": null,
   "outputs": [],
   "source": [
    "np.std(threh_mean)"
   ],
   "metadata": {
    "collapsed": false
   }
  },
  {
   "cell_type": "code",
   "execution_count": null,
   "outputs": [],
   "source": [
    "np.std(thres_img)"
   ],
   "metadata": {
    "collapsed": false
   }
  },
  {
   "cell_type": "code",
   "execution_count": null,
   "outputs": [],
   "source": [
    "problem_img.shape"
   ],
   "metadata": {
    "collapsed": false
   }
  },
  {
   "cell_type": "code",
   "execution_count": null,
   "outputs": [],
   "source": [
    "mu = 0\n",
    "sigma = 0\n",
    "shape = (1920, 2560)\n",
    "gauss_img = np.random.normal(mu, sigma, shape)\n",
    "gauss_img"
   ],
   "metadata": {
    "collapsed": false
   }
  },
  {
   "cell_type": "code",
   "execution_count": null,
   "outputs": [],
   "source": [
    "img = np.full((1920, 2560), 255)\n",
    "img = ski.util.random_noise(img, mode=\"speckle\")\n",
    "plt.imshow(img, cmap=\"gray\")"
   ],
   "metadata": {
    "collapsed": false
   }
  },
  {
   "cell_type": "code",
   "execution_count": null,
   "outputs": [],
   "source": [],
   "metadata": {
    "collapsed": false
   }
  },
  {
   "cell_type": "code",
   "execution_count": null,
   "outputs": [],
   "source": [
    "plt.imshow(gauss_img, cmap=\"gray\")"
   ],
   "metadata": {
    "collapsed": false
   }
  },
  {
   "cell_type": "code",
   "execution_count": null,
   "outputs": [],
   "source": [
    "np.mean(ski.filters.rank.entropy(thres_img.astype(int), ski.morphology.disk(3)))"
   ],
   "metadata": {
    "collapsed": false
   }
  },
  {
   "cell_type": "code",
   "execution_count": null,
   "outputs": [],
   "source": [
    "np.mean(ski.filters.rank.entropy(img.astype(int), ski.morphology.disk(3)))"
   ],
   "metadata": {
    "collapsed": false
   }
  },
  {
   "cell_type": "code",
   "execution_count": null,
   "outputs": [],
   "source": [
    "np.mean(ski.filters.rank.entropy(threh_mean.astype(int), ski.morphology.disk(3)))"
   ],
   "metadata": {
    "collapsed": false
   }
  },
  {
   "cell_type": "code",
   "execution_count": null,
   "outputs": [],
   "source": [
    "good_condensate_thresh = good_condensates > ski.filters.threshold_otsu(good_condensates)\n",
    "\n",
    "np.mean(ski.filters.rank.entropy(good_condensate_thresh.astype(int), ski.morphology.disk(3)))"
   ],
   "metadata": {
    "collapsed": false
   }
  },
  {
   "cell_type": "code",
   "execution_count": null,
   "outputs": [],
   "source": [
    "def calc_mean_entropy(image):\n",
    "    return np.mean(ski.filters.rank.entropy(image.astype(\"uint8\"), ski.morphology.disk(3)))"
   ],
   "metadata": {
    "collapsed": false
   }
  },
  {
   "cell_type": "code",
   "execution_count": null,
   "outputs": [],
   "source": [
    "entropy_values = []\n",
    "\n"
   ],
   "metadata": {
    "collapsed": false
   }
  },
  {
   "cell_type": "code",
   "execution_count": null,
   "outputs": [],
   "source": [
    "calc_mean_entropy(good_condensate_thresh)"
   ],
   "metadata": {
    "collapsed": false
   }
  },
  {
   "cell_type": "code",
   "execution_count": null,
   "outputs": [],
   "source": [
    "for img in Path(\"C:\\\\Users\\\\danie\\\\temp_hons_microscopy\\\\TFIIB Core\\\\64\").glob(\"*.tif\"):\n",
    "    image = m.load_img(img)\n",
    "    entropy_values.append(calc_mean_entropy(image))"
   ],
   "metadata": {
    "collapsed": false
   }
  },
  {
   "cell_type": "code",
   "execution_count": null,
   "outputs": [],
   "source": [
    "entropy_values"
   ],
   "metadata": {
    "collapsed": false
   }
  },
  {
   "cell_type": "code",
   "execution_count": null,
   "outputs": [],
   "source": [
    "\n",
    "evalues = []\n",
    "\n",
    "for img in Path(\"C:\\\\Users\\\\danie\\\\temp_hons_microscopy\\\\TFIIB Core\\\\4\").glob(\"*.tif\"):\n",
    "    image = m.load_img(img)\n",
    "    evalues.append(calc_mean_entropy(image))"
   ],
   "metadata": {
    "collapsed": false
   }
  },
  {
   "cell_type": "code",
   "execution_count": null,
   "outputs": [],
   "source": [
    "evalues  #%%\n",
    "import pandas as pd\n",
    "import skimage as ski\n",
    "import matplotlib.pyplot as plt\n",
    "import numpy as np\n",
    "from main import load_img\n",
    "import main as m\n",
    "import matplotlib.patches as mpatches\n",
    "from pathlib import Path\n",
    "from scipy import ndimage as ndi"
   ],
   "metadata": {
    "collapsed": false
   }
  },
  {
   "cell_type": "code",
   "execution_count": null,
   "outputs": [],
   "source": [
    "good_condensates = m.load_img(\"data/massive_condensates.tif\")\n",
    "small_condensates = m.load_img(\"data/small_condensates.tif\")\n",
    "uniform_fluorescence = m.load_img(\"data/uniform_fluorescence.tif\")\n",
    "irregular_condensates = m.load_img(\"data/irregular_shape.tif\")\n",
    "\n",
    "images = [good_condensates, small_condensates, uniform_fluorescence, irregular_condensates]\n",
    "image_labels = [\"good_condensates\", \"small_condensates\", \"uniform_fluorescence\", \"irregular_condensates\"]"
   ],
   "metadata": {
    "collapsed": false
   }
  },
  {
   "cell_type": "code",
   "execution_count": null,
   "outputs": [],
   "source": [
    "def plot_images(images, image_labels):\n",
    "    fig, ax = plt.subplots(1, len(images), figsize=(20, 20))\n",
    "    for i, image in enumerate(images):\n",
    "        ax[i].imshow(image, cmap=\"gray\")\n",
    "        ax[i].set_title(image_labels[i])\n",
    "    plt.show()"
   ],
   "metadata": {
    "collapsed": false
   }
  },
  {
   "cell_type": "code",
   "execution_count": null,
   "outputs": [],
   "source": [
    "plot_images(images, image_labels)"
   ],
   "metadata": {
    "collapsed": false
   }
  },
  {
   "cell_type": "code",
   "execution_count": null,
   "outputs": [],
   "source": [
    "mod = ski.morphology.closing(small_condensates, ski.morphology.disk(15))"
   ],
   "metadata": {
    "collapsed": false
   }
  },
  {
   "cell_type": "code",
   "execution_count": null,
   "outputs": [],
   "source": [
    "expo = ski.exposure.equalize_adapthist(small_condensates)\n",
    "\n",
    "plot_images([small_condensates, mod, expo], [\"small_condensates\", \"mod\", \"expo\"])"
   ],
   "metadata": {
    "collapsed": false
   }
  },
  {
   "cell_type": "code",
   "execution_count": null,
   "outputs": [],
   "source": [
    "def proposed_pre_processing(image):\n",
    "    # median = ski.filters.median(image, ski.morphology.disk(3))\n",
    "    # unsharp = ski.filters.unsharp_mask(image, radius=3, amount=1)\n",
    "\n",
    "    restored = ski.restoration.richardson_lucy(image, ski.morphology.disk(3), num_iter=30)\n",
    "\n",
    "    closing = ski.morphology.dilation(restored, ski.morphology.disk(3))\n",
    "    exposure_fix = ski.exposure.equalize_adapthist(closing)\n",
    "\n",
    "    return exposure_fix"
   ],
   "metadata": {
    "collapsed": false
   }
  },
  {
   "cell_type": "code",
   "execution_count": null,
   "outputs": [],
   "source": [
    "good_cond_mod = proposed_pre_processing(good_condensates)\n",
    "thresholded = good_cond_mod > ski.filters.threshold_otsu(good_cond_mod)\n",
    "plot_images([good_condensates, good_cond_mod, thresholded], [\"good_condensates\", \"good_cond_mod\", \"thresholded\"])"
   ],
   "metadata": {
    "collapsed": false
   }
  },
  {
   "cell_type": "code",
   "execution_count": null,
   "outputs": [],
   "source": [
    "good_cond_mod = proposed_pre_processing(small_condensates)\n",
    "thresholded = good_cond_mod > ski.filters.threshold_isodata(good_cond_mod)\n",
    "plot_images([good_condensates, good_cond_mod, thresholded], [\"good_condensates\", \"good_cond_mod\", \"thresholded\"])"
   ],
   "metadata": {
    "collapsed": false
   }
  },
  {
   "cell_type": "code",
   "execution_count": null,
   "outputs": [],
   "source": [
    "good_cond_mod = proposed_pre_processing(uniform_fluorescence)\n",
    "thresholded = good_cond_mod > ski.filters.threshold_isodata(good_cond_mod)\n",
    "plot_images([uniform_fluorescence, good_cond_mod, thresholded], [\"good_condensates\", \"good_cond_mod\", \"thresholded\"])"
   ],
   "metadata": {
    "collapsed": false
   }
  },
  {
   "cell_type": "code",
   "execution_count": null,
   "outputs": [],
   "source": [
    "np.mean(good_condensates)"
   ],
   "metadata": {
    "collapsed": false
   }
  },
  {
   "cell_type": "code",
   "execution_count": null,
   "outputs": [],
   "source": [
    "np.mean(irregular_condensates)"
   ],
   "metadata": {
    "collapsed": false
   }
  },
  {
   "cell_type": "code",
   "execution_count": null,
   "outputs": [],
   "source": [
    "edges = ski.filters.sobel(good_condensates)\n",
    "plot_images([good_condensates, edges], [\"good_condensates\", \"edges\"])"
   ],
   "metadata": {
    "collapsed": false
   }
  },
  {
   "cell_type": "code",
   "execution_count": null,
   "outputs": [],
   "source": [
    "edges = ski.filters.sobel(small_condensates)\n",
    "plot_images([small_condensates, edges], [\"small_condensates\", \"edges\"])"
   ],
   "metadata": {
    "collapsed": false
   }
  },
  {
   "cell_type": "code",
   "execution_count": null,
   "outputs": [],
   "source": [
    "edges = ski.filters.sobel(uniform_fluorescence)\n",
    "plot_images([uniform_fluorescence, edges], [\"uniform_fluorescence\", \"edges\"])"
   ],
   "metadata": {
    "collapsed": false
   }
  },
  {
   "cell_type": "code",
   "execution_count": null,
   "outputs": [],
   "source": [
    "edges = ski.filters.sobel(good_condensates)\n",
    "\n",
    "filled = ndi.binary_fill_holes(edges)\n",
    "\n",
    "plot_images([good_condensates, edges, filled], [\"good_condensates\", \"edges\", \"filled\"])\n"
   ],
   "metadata": {
    "collapsed": false
   }
  },
  {
   "cell_type": "code",
   "execution_count": null,
   "outputs": [],
   "source": [
    "print(np.std(uniform_fluorescence) / np.mean(uniform_fluorescence))\n",
    "print(np.std(good_condensates) / np.mean(good_condensates))\n",
    "print(np.std(small_condensates) / np.mean(small_condensates))\n",
    "print(np.std(irregular_condensates) / np.mean(irregular_condensates))"
   ],
   "metadata": {
    "collapsed": false
   }
  },
  {
   "cell_type": "code",
   "execution_count": null,
   "outputs": [],
   "source": [
    "a = Path(\"a/1.2\")"
   ],
   "metadata": {
    "collapsed": false
   }
  },
  {
   "cell_type": "code",
   "execution_count": null,
   "outputs": [],
   "source": [
    "problem_img = m.load_img(\"C:\\\\Users\\\\danie\\\\temp_hons_microscopy\\\\TFIIB Core\\\\64\\\\64_018.tif\")"
   ],
   "metadata": {
    "collapsed": false
   }
  },
  {
   "cell_type": "code",
   "execution_count": null,
   "outputs": [],
   "source": [
    "thresh = ski.filters.threshold_otsu(problem_img)\n",
    "thres_img = problem_img > thresh\n",
    "\n",
    "threh_mean = problem_img > 4 * np.std(problem_img)\n",
    "\n",
    "plot_images([problem_img, thres_img, threh_mean], [\"problem_img\", \"thres_img\", \"threh_mean\"])"
   ],
   "metadata": {
    "collapsed": false
   }
  },
  {
   "cell_type": "code",
   "execution_count": null,
   "outputs": [],
   "source": [
    "np.std(threh_mean)"
   ],
   "metadata": {
    "collapsed": false
   }
  },
  {
   "cell_type": "code",
   "execution_count": null,
   "outputs": [],
   "source": [
    "np.std(thres_img)"
   ],
   "metadata": {
    "collapsed": false
   }
  },
  {
   "cell_type": "code",
   "execution_count": null,
   "outputs": [],
   "source": [
    "problem_img.shape"
   ],
   "metadata": {
    "collapsed": false
   }
  },
  {
   "cell_type": "code",
   "execution_count": null,
   "outputs": [],
   "source": [
    "mu = 0\n",
    "sigma = 0\n",
    "shape = (1920, 2560)\n",
    "gauss_img = np.random.normal(mu, sigma, shape)\n",
    "gauss_img"
   ],
   "metadata": {
    "collapsed": false
   }
  },
  {
   "cell_type": "code",
   "execution_count": null,
   "outputs": [],
   "source": [
    "img = np.full((1920, 2560), 255)\n",
    "img = ski.util.random_noise(img, mode=\"speckle\")\n",
    "plt.imshow(img, cmap=\"gray\")"
   ],
   "metadata": {
    "collapsed": false
   }
  },
  {
   "cell_type": "code",
   "execution_count": null,
   "outputs": [],
   "source": [],
   "metadata": {
    "collapsed": false
   }
  },
  {
   "cell_type": "code",
   "execution_count": null,
   "outputs": [],
   "source": [
    "plt.imshow(gauss_img, cmap=\"gray\")"
   ],
   "metadata": {
    "collapsed": false
   }
  },
  {
   "cell_type": "code",
   "execution_count": null,
   "outputs": [],
   "source": [
    "np.mean(ski.filters.rank.entropy(thres_img.astype(int), ski.morphology.disk(3)))"
   ],
   "metadata": {
    "collapsed": false
   }
  },
  {
   "cell_type": "code",
   "execution_count": null,
   "outputs": [],
   "source": [
    "np.mean(ski.filters.rank.entropy(img.astype(int), ski.morphology.disk(3)))"
   ],
   "metadata": {
    "collapsed": false
   }
  },
  {
   "cell_type": "code",
   "execution_count": null,
   "outputs": [],
   "source": [
    "np.mean(ski.filters.rank.entropy(threh_mean.astype(int), ski.morphology.disk(3)))"
   ],
   "metadata": {
    "collapsed": false
   }
  },
  {
   "cell_type": "code",
   "execution_count": null,
   "outputs": [],
   "source": [
    "good_condensate_thresh = good_condensates > ski.filters.threshold_otsu(good_condensates)\n",
    "\n",
    "np.mean(ski.filters.rank.entropy(good_condensate_thresh.astype(int), ski.morphology.disk(3)))"
   ],
   "metadata": {
    "collapsed": false
   }
  },
  {
   "cell_type": "code",
   "execution_count": null,
   "outputs": [],
   "source": [
    "def calc_mean_entropy(image):\n",
    "    return np.mean(ski.filters.rank.entropy(image.astype(\"uint8\"), ski.morphology.disk(3)))"
   ],
   "metadata": {
    "collapsed": false
   }
  },
  {
   "cell_type": "code",
   "execution_count": null,
   "outputs": [],
   "source": [
    "entropy_values = []\n",
    "\n"
   ],
   "metadata": {
    "collapsed": false
   }
  },
  {
   "cell_type": "code",
   "execution_count": null,
   "outputs": [],
   "source": [
    "calc_mean_entropy(good_condensate_thresh)"
   ],
   "metadata": {
    "collapsed": false
   }
  },
  {
   "cell_type": "code",
   "execution_count": null,
   "outputs": [],
   "source": [
    "#  Let's do a test. We can try ostu vs the std method and see who comes out on top"
   ],
   "metadata": {
    "collapsed": false
   }
  },
  {
   "cell_type": "code",
   "execution_count": null,
   "outputs": [],
   "source": [
    "for img in Path(\"C:\\\\Users\\\\danie\\\\temp_hons_microscopy\\\\TFIIB Core\\\\64\").glob(\"*.tif\"):\n",
    "    image = m.load_img(img)\n",
    "    thresh_otsu = image > ski.filters.threshold_otsu(image)\n",
    "    thresh_std_2 = image > 2 * np.std(image)\n",
    "    thresh_std_3 = image > 3 * np.std(image)\n",
    "    thresh_std_4 = image > 4 * np.std(image)\n",
    "\n",
    "    print(\n",
    "        f\"Otsu: {calc_mean_entropy(thresh_otsu)}, std_2: {calc_mean_entropy(thresh_std_2)}, std_3: {calc_mean_entropy(thresh_std_3)}, std_4: {calc_mean_entropy(thresh_std_4)}\")\n",
    "\n",
    "    entropy_values.append(\n",
    "        [calc_mean_entropy(thresh_otsu), calc_mean_entropy(thresh_std_2), calc_mean_entropy(thresh_std_3),\n",
    "         calc_mean_entropy(thresh_std_4)])"
   ],
   "metadata": {
    "collapsed": false
   }
  },
  {
   "cell_type": "code",
   "execution_count": null,
   "outputs": [],
   "source": [
    "image = small_condensates\n",
    "thresh_otsu = image > ski.filters.threshold_otsu(image)\n",
    "thresh_std_2 = image > 2 * np.std(image)\n",
    "thresh_std_3 = image > 3 * np.std(image)\n",
    "thresh_std_4 = image > 4 * np.std(image)\n",
    "\n",
    "plot_images([image, thresh_otsu, thresh_std_2, thresh_std_3, thresh_std_4],\n",
    "            [\"image\", \"thresh_otsu\", \"thresh_std_2\", \"thresh_std_3\", \"thresh_std_4\"])"
   ],
   "metadata": {
    "collapsed": false
   }
  },
  {
   "cell_type": "code",
   "execution_count": null,
   "outputs": [],
   "source": [
    "print(np.std(thresh_otsu), np.std(thresh_std_2), np.std(thresh_std_3), np.std(thresh_std_4))\n",
    "print()\n",
    "print(calc_mean_entropy(thresh_otsu), calc_mean_entropy(thresh_std_2), calc_mean_entropy(thresh_std_3),\n",
    "      calc_mean_entropy(thresh_std_4))"
   ],
   "metadata": {
    "collapsed": false
   }
  },
  {
   "cell_type": "code",
   "execution_count": null,
   "outputs": [],
   "source": [
    "0.05\n",
    "evalues = []\n",
    "\n",
    "for img in Path(\"C:\\\\Users\\\\danie\\\\temp_hons_microscopy\\\\TFIIB Core\\\\4\").glob(\"*.tif\"):\n",
    "    image = m.load_img(img)\n",
    "    evalues.append(calc_mean_entropy(image))"
   ],
   "metadata": {
    "collapsed": false
   }
  },
  {
   "cell_type": "code",
   "execution_count": null,
   "outputs": [],
   "source": [
    "evalues"
   ],
   "metadata": {
    "collapsed": false
   }
  },
  {
   "cell_type": "code",
   "execution_count": null,
   "outputs": [],
   "source": [
    "img = uniform_fluorescence"
   ],
   "metadata": {
    "collapsed": false
   }
  },
  {
   "cell_type": "code",
   "execution_count": null,
   "outputs": [],
   "source": [
    "uniform_fluorescence"
   ],
   "metadata": {
    "collapsed": false
   }
  },
  {
   "cell_type": "code",
   "execution_count": null,
   "outputs": [],
   "source": [
    "np.std(uniform_fluorescence)"
   ],
   "metadata": {
    "collapsed": false
   }
  },
  {
   "cell_type": "code",
   "execution_count": null,
   "outputs": [],
   "source": [
    "thresh_img = img > 4 * np.std(img)"
   ],
   "metadata": {
    "collapsed": false
   }
  },
  {
   "cell_type": "code",
   "execution_count": null,
   "outputs": [],
   "source": [
    "thresh_img"
   ],
   "metadata": {
    "collapsed": false
   }
  },
  {
   "cell_type": "code",
   "execution_count": null,
   "outputs": [],
   "source": [
    "plt.imshow(thresh_img)\n",
    "plt.axis(\"off\")"
   ],
   "metadata": {
    "collapsed": false
   }
  },
  {
   "cell_type": "code",
   "execution_count": null,
   "outputs": [],
   "source": [
    "label_img = ski.measure.label(thresh_img)"
   ],
   "metadata": {
    "collapsed": false
   }
  },
  {
   "cell_type": "code",
   "execution_count": null,
   "outputs": [],
   "source": [
    "plt.imshow(label_img, cmap=\"gray\")"
   ],
   "metadata": {
    "collapsed": false
   }
  },
  {
   "cell_type": "code",
   "execution_count": null,
   "outputs": [],
   "source": [
    "np.unique(label_img)"
   ],
   "metadata": {
    "collapsed": false
   }
  },
  {
   "cell_type": "code",
   "execution_count": null,
   "outputs": [],
   "source": [
    "plt.imshow(ski.color.label2rgb(label_img, image=img), cmap=\"hsv\")"
   ],
   "metadata": {
    "collapsed": false
   }
  },
  {
   "cell_type": "code",
   "execution_count": null,
   "outputs": [],
   "source": [
    "np.sum(thresh_img == 1)"
   ],
   "metadata": {
    "collapsed": false
   }
  },
  {
   "cell_type": "code",
   "execution_count": null,
   "outputs": [],
   "source": [
    "thresh_img"
   ],
   "metadata": {
    "collapsed": false
   }
  },
  {
   "cell_type": "code",
   "execution_count": null,
   "outputs": [],
   "source": [],
   "metadata": {
    "collapsed": false
   }
  },
  {
   "cell_type": "code",
   "execution_count": null,
   "outputs": [],
   "source": [
    "thresh_img"
   ],
   "metadata": {
    "collapsed": false
   }
  },
  {
   "cell_type": "code",
   "execution_count": null,
   "outputs": [],
   "source": [
    "fl = \"C:\\\\Users\\\\danie\\\\temp_hons_microscopy\\\\NOT_TO_PROCESS\\\\IIB FL + TBP Constructs\\\\IIB FL + TBP\\\\IIBFL+TBPFL_RGB_RGB_Red.tif\"\n",
    "core = \"C:\\\\Users\\\\danie\\\\temp_hons_microscopy\\\\NOT_TO_PROCESS\\\\IIB FL + TBP Constructs\\\\IIB FL + TBP CORE\\\\IIBFL+TBPCORE_RGB_BrightfieldBlue3.tif\"\n",
    "idr = \"C:\\\\Users\\\\danie\\\\temp_hons_microscopy\\\\NOT_TO_PROCESS\\\\IIB FL + TBP Constructs\\\\IIBFL + TBP IDR\\\\IIBFL+TBPIDR_RGB_BrightfieldBlue3.tif\""
   ],
   "metadata": {
    "collapsed": false
   }
  },
  {
   "cell_type": "code",
   "execution_count": null,
   "outputs": [],
   "source": [
    "cf_fl, regions_fl = m.process_image(Path(fl), \"\")\n",
    "cf_core, regions_core = m.process_image(Path(core), \"\")\n",
    "cf_idr, regions_idr = m.process_image(Path(idr), \"\")"
   ],
   "metadata": {
    "collapsed": false
   }
  },
  {
   "cell_type": "code",
   "execution_count": null,
   "outputs": [],
   "source": [
    "region_columns = [\"area\",\n",
    "                  \"mean_intensity\",\n",
    "                  \"perimeter\",\n",
    "                  \"axis_major_length\",\n",
    "                  \"axis_minor_length\"]\n",
    "\n",
    "cf_columns = [\n",
    "    \"condensed_fraction\",\n",
    "    \"mean_intensity\",\n",
    "    \"std_intensity\",\n",
    "    \"max_intensity\",\n",
    "    \"min_intensity\",\n",
    "    \"mean_entropy\"\n",
    "]\n",
    "\n",
    "fl_region_df = pd.DataFrame(regions_fl, columns=region_columns)\n",
    "fl_condensed_fraction_df = pd.DataFrame([cf_fl, ], columns=cf_columns)\n",
    "fl_region_df[\"prep\"] = \"FL\"\n",
    "fl_condensed_fraction_df[\"prep\"] = \"FL\"\n"
   ],
   "metadata": {
    "collapsed": false
   }
  },
  {
   "cell_type": "code",
   "execution_count": null,
   "outputs": [],
   "source": [
    "core_region_df = pd.DataFrame(regions_core, columns=region_columns)\n",
    "core_condensed_fraction_df = pd.DataFrame([cf_core, ], columns=cf_columns)\n",
    "\n",
    "core_region_df[\"prep\"] = \"CORE\"\n",
    "core_condensed_fraction_df[\"prep\"] = \"CORE\"\n",
    "\n",
    "idr_region_df = pd.DataFrame(regions_idr, columns=region_columns)\n",
    "idr_condensed_fraction_df = pd.DataFrame([cf_idr, ], columns=cf_columns)\n",
    "\n",
    "idr_region_df[\"prep\"] = \"IDR\"\n",
    "idr_condensed_fraction_df[\"prep\"] = \"IDR\""
   ],
   "metadata": {
    "collapsed": false
   }
  },
  {
   "cell_type": "code",
   "execution_count": null,
   "outputs": [],
   "source": [
    "dfs = pd.concat([fl_condensed_fraction_df, core_condensed_fraction_df, idr_condensed_fraction_df], axis=0)"
   ],
   "metadata": {
    "collapsed": false
   }
  },
  {
   "cell_type": "code",
   "execution_count": null,
   "outputs": [],
   "source": [
    "dfs"
   ],
   "metadata": {
    "collapsed": false
   }
  },
  {
   "cell_type": "code",
   "execution_count": null,
   "outputs": [],
   "source": [
    "regions = pd.concat([fl_region_df, core_region_df, idr_region_df], axis=0)"
   ],
   "metadata": {
    "collapsed": false
   }
  },
  {
   "cell_type": "code",
   "execution_count": null,
   "outputs": [],
   "source": [
    "regions"
   ],
   "metadata": {
    "collapsed": false
   }
  },
  {
   "cell_type": "code",
   "execution_count": null,
   "outputs": [],
   "source": [
    "import plotnine as pn"
   ],
   "metadata": {
    "collapsed": false
   }
  },
  {
   "cell_type": "code",
   "execution_count": null,
   "outputs": [],
   "source": [
    "regions[\"a2\"] = regions[\"area\"] ** 2\n",
    "regions[\"log_area\"] = np.log(regions[\"area\"])"
   ],
   "metadata": {
    "collapsed": false
   }
  },
  {
   "cell_type": "code",
   "execution_count": null,
   "outputs": [],
   "source": [
    "(\n",
    "        pn.ggplot(regions[regions[\"area\"] > 50], pn.aes(x=\"prep\", y=\"log_area\", fill=\"prep\"))\n",
    "        + pn.geom_boxplot()\n",
    "        + pn.theme_classic()\n",
    ")"
   ],
   "metadata": {
    "collapsed": false
   }
  },
  {
   "cell_type": "code",
   "execution_count": null,
   "outputs": [],
   "source": [
    "core_img = m.load_img(Path(core))"
   ],
   "metadata": {
    "collapsed": false
   }
  },
  {
   "cell_type": "code",
   "execution_count": null,
   "outputs": [],
   "source": [
    "core_thresh = core_img > ski.filters.threshold_otsu(core_img)"
   ],
   "metadata": {
    "collapsed": false
   }
  },
  {
   "cell_type": "code",
   "execution_count": null,
   "outputs": [],
   "source": [],
   "metadata": {
    "collapsed": false
   }
  },
  {
   "cell_type": "code",
   "execution_count": null,
   "outputs": [],
   "source": [
    "plt.imshow(core_thresh.astype(int), cmap=\"gray\")\n",
    "plt.show()"
   ],
   "metadata": {
    "collapsed": false
   }
  },
  {
   "cell_type": "code",
   "execution_count": null,
   "outputs": [],
   "source": [
    "unqID, idx, IDsums = np.unique(core_thresh, return_counts=True, return_inverse=True)\n"
   ],
   "metadata": {
    "collapsed": false
   }
  },
  {
   "cell_type": "code",
   "execution_count": null,
   "outputs": [],
   "source": [
    "np.bincount(idx, core_thresh.ravel())"
   ],
   "metadata": {
    "collapsed": false
   }
  },
  {
   "cell_type": "code",
   "execution_count": null,
   "outputs": [],
   "source": [
    "sum_0 = 0\n",
    "sum_1 = 1\n",
    "for row_idx, row in enumerate(core_img):\n",
    "    for col_idx, col in enumerate(row):\n",
    "        if core_thresh[row_idx, col_idx] == 0:\n",
    "            sum_0 += core_img[row_idx, col_idx]\n",
    "        else:\n",
    "            sum_1 += core_img[row_idx, col_idx]\n"
   ],
   "metadata": {
    "collapsed": false
   }
  },
  {
   "cell_type": "code",
   "execution_count": null,
   "outputs": [],
   "source": [
    "sum_0"
   ],
   "metadata": {
    "collapsed": false
   }
  },
  {
   "cell_type": "code",
   "execution_count": null,
   "outputs": [],
   "source": [
    "sum_1"
   ],
   "metadata": {
    "collapsed": false
   }
  },
  {
   "cell_type": "code",
   "execution_count": null,
   "outputs": [],
   "source": [
    "np.bincount(core_thresh.astype(int).ravel(), core_img.ravel())"
   ],
   "metadata": {
    "collapsed": false
   }
  },
  {
   "cell_type": "code",
   "execution_count": null,
   "outputs": [],
   "source": [
    "np.unique(core_thresh, return_counts=True)"
   ],
   "metadata": {
    "collapsed": false
   }
  },
  {
   "cell_type": "code",
   "execution_count": null,
   "outputs": [],
   "source": [
    "74713 / 4784441  #%%\n",
    "import pandas as pd\n",
    "import skimage as ski\n",
    "import matplotlib.pyplot as plt\n",
    "import numpy as np\n",
    "from main import load_img\n",
    "import main as m\n",
    "import matplotlib.patches as mpatches\n",
    "from pathlib import Path\n",
    "from scipy import ndimage as ndi"
   ],
   "metadata": {
    "collapsed": false
   }
  },
  {
   "cell_type": "code",
   "execution_count": null,
   "outputs": [],
   "source": [
    "good_condensates = m.load_img(\"data/massive_condensates.tif\")\n",
    "small_condensates = m.load_img(\"data/small_condensates.tif\")\n",
    "uniform_fluorescence = m.load_img(\"data/uniform_fluorescence.tif\")\n",
    "irregular_condensates = m.load_img(\"data/irregular_shape.tif\")\n",
    "\n",
    "images = [good_condensates, small_condensates, uniform_fluorescence, irregular_condensates]\n",
    "image_labels = [\"good_condensates\", \"small_condensates\", \"uniform_fluorescence\", \"irregular_condensates\"]"
   ],
   "metadata": {
    "collapsed": false
   }
  },
  {
   "cell_type": "code",
   "execution_count": null,
   "outputs": [],
   "source": [
    "def plot_images(images, image_labels):\n",
    "    fig, ax = plt.subplots(1, len(images), figsize=(20, 20))\n",
    "    for i, image in enumerate(images):\n",
    "        ax[i].imshow(image, cmap=\"gray\")\n",
    "        ax[i].set_title(image_labels[i])\n",
    "    plt.show()"
   ],
   "metadata": {
    "collapsed": false
   }
  },
  {
   "cell_type": "code",
   "execution_count": null,
   "outputs": [],
   "source": [
    "plot_images(images, image_labels)"
   ],
   "metadata": {
    "collapsed": false
   }
  },
  {
   "cell_type": "code",
   "execution_count": null,
   "outputs": [],
   "source": [
    "bg = ski.restoration.rolling_ball(good_condensates)"
   ],
   "metadata": {
    "collapsed": false
   }
  },
  {
   "cell_type": "code",
   "execution_count": null,
   "outputs": [],
   "source": [
    "plot_images([good_condensates, bg, good_condensates - bg], [\"good_condensates\", \"bg\", \"\"])"
   ],
   "metadata": {
    "collapsed": false
   }
  },
  {
   "cell_type": "code",
   "execution_count": null,
   "outputs": [],
   "source": [
    "mod = ski.morphology.closing(small_condensates, ski.morphology.disk(15))"
   ],
   "metadata": {
    "collapsed": false
   }
  },
  {
   "cell_type": "code",
   "execution_count": null,
   "outputs": [],
   "source": [
    "expo = ski.exposure.equalize_adapthist(small_condensates)\n",
    "\n",
    "plot_images([small_condensates, mod, expo], [\"small_condensates\", \"mod\", \"expo\"])"
   ],
   "metadata": {
    "collapsed": false
   }
  },
  {
   "cell_type": "code",
   "execution_count": null,
   "outputs": [],
   "source": [
    "def proposed_pre_processing(image):\n",
    "    # median = ski.filters.median(image, ski.morphology.disk(3))\n",
    "    # unsharp = ski.filters.unsharp_mask(image, radius=3, amount=1)\n",
    "\n",
    "    restored = ski.restoration.richardson_lucy(image, ski.morphology.disk(3), num_iter=30)\n",
    "\n",
    "    closing = ski.morphology.dilation(restored, ski.morphology.disk(3))\n",
    "    exposure_fix = ski.exposure.equalize_adapthist(closing)\n",
    "\n",
    "    return exposure_fix"
   ],
   "metadata": {
    "collapsed": false
   }
  },
  {
   "cell_type": "code",
   "execution_count": null,
   "outputs": [],
   "source": [
    "good_cond_mod = proposed_pre_processing(good_condensates)\n",
    "thresholded = good_cond_mod > ski.filters.threshold_otsu(good_cond_mod)\n",
    "plot_images([good_condensates, good_cond_mod, thresholded], [\"good_condensates\", \"good_cond_mod\", \"thresholded\"])"
   ],
   "metadata": {
    "collapsed": false
   }
  },
  {
   "cell_type": "code",
   "execution_count": null,
   "outputs": [],
   "source": [
    "good_cond_mod = proposed_pre_processing(small_condensates)\n",
    "thresholded = good_cond_mod > ski.filters.threshold_isodata(good_cond_mod)\n",
    "plot_images([good_condensates, good_cond_mod, thresholded], [\"good_condensates\", \"good_cond_mod\", \"thresholded\"])"
   ],
   "metadata": {
    "collapsed": false
   }
  },
  {
   "cell_type": "code",
   "execution_count": null,
   "outputs": [],
   "source": [
    "good_cond_mod = proposed_pre_processing(uniform_fluorescence)\n",
    "thresholded = good_cond_mod > ski.filters.threshold_isodata(good_cond_mod)\n",
    "plot_images([uniform_fluorescence, good_cond_mod, thresholded], [\"good_condensates\", \"good_cond_mod\", \"thresholded\"])"
   ],
   "metadata": {
    "collapsed": false
   }
  },
  {
   "cell_type": "code",
   "execution_count": null,
   "outputs": [],
   "source": [
    "np.mean(good_condensates)"
   ],
   "metadata": {
    "collapsed": false
   }
  },
  {
   "cell_type": "code",
   "execution_count": null,
   "outputs": [],
   "source": [
    "np.mean(irregular_condensates)"
   ],
   "metadata": {
    "collapsed": false
   }
  },
  {
   "cell_type": "code",
   "execution_count": null,
   "outputs": [],
   "source": [
    "edges = ski.filters.sobel(good_condensates)\n",
    "plot_images([good_condensates, edges], [\"good_condensates\", \"edges\"])"
   ],
   "metadata": {
    "collapsed": false
   }
  },
  {
   "cell_type": "code",
   "execution_count": null,
   "outputs": [],
   "source": [
    "edges = ski.filters.sobel(small_condensates)\n",
    "plot_images([small_condensates, edges], [\"small_condensates\", \"edges\"])"
   ],
   "metadata": {
    "collapsed": false
   }
  },
  {
   "cell_type": "code",
   "execution_count": null,
   "outputs": [],
   "source": [
    "edges = ski.filters.sobel(uniform_fluorescence)\n",
    "plot_images([uniform_fluorescence, edges], [\"uniform_fluorescence\", \"edges\"])"
   ],
   "metadata": {
    "collapsed": false
   }
  },
  {
   "cell_type": "code",
   "execution_count": null,
   "outputs": [],
   "source": [
    "edges = ski.filters.sobel(good_condensates)\n",
    "\n",
    "filled = ndi.binary_fill_holes(edges)\n",
    "\n",
    "plot_images([good_condensates, edges, filled], [\"good_condensates\", \"edges\", \"filled\"])\n"
   ],
   "metadata": {
    "collapsed": false
   }
  },
  {
   "cell_type": "code",
   "execution_count": null,
   "outputs": [],
   "source": [
    "print(np.std(uniform_fluorescence) / np.mean(uniform_fluorescence))\n",
    "print(np.std(good_condensates) / np.mean(good_condensates))\n",
    "print(np.std(small_condensates) / np.mean(small_condensates))\n",
    "print(np.std(irregular_condensates) / np.mean(irregular_condensates))"
   ],
   "metadata": {
    "collapsed": false
   }
  },
  {
   "cell_type": "code",
   "execution_count": null,
   "outputs": [],
   "source": [
    "a = Path(\"a/1.2\")"
   ],
   "metadata": {
    "collapsed": false
   }
  },
  {
   "cell_type": "code",
   "execution_count": null,
   "outputs": [],
   "source": [
    "problem_img = m.load_img(\"C:\\\\\\Users\\\\danie\\\\temp_hons_microscopy\\\\TFIIB Core\\\\64\\\\64_018.tif\")"
   ],
   "metadata": {
    "collapsed": false
   }
  },
  {
   "cell_type": "code",
   "execution_count": null,
   "outputs": [],
   "source": [
    "thresh = ski.filters.threshold_otsu(problem_img)\n",
    "thres_img = problem_img > thresh\n",
    "\n",
    "threh_mean = problem_img > 4 * np.std(problem_img)\n",
    "\n",
    "plot_images([problem_img, thres_img, threh_mean], [\"problem_img\", \"thres_img\", \"threh_mean\"])"
   ],
   "metadata": {
    "collapsed": false
   }
  },
  {
   "cell_type": "code",
   "execution_count": null,
   "outputs": [],
   "source": [
    "np.std(threh_mean)"
   ],
   "metadata": {
    "collapsed": false
   }
  },
  {
   "cell_type": "code",
   "execution_count": null,
   "outputs": [],
   "source": [
    "np.std(thres_img)"
   ],
   "metadata": {
    "collapsed": false
   }
  },
  {
   "cell_type": "code",
   "execution_count": null,
   "outputs": [],
   "source": [
    "problem_img.shape"
   ],
   "metadata": {
    "collapsed": false
   }
  },
  {
   "cell_type": "code",
   "execution_count": null,
   "outputs": [],
   "source": [
    "mu = 0\n",
    "sigma = 0\n",
    "shape = (1920, 2560)\n",
    "gauss_img = np.random.normal(mu, sigma, shape)\n",
    "gauss_img"
   ],
   "metadata": {
    "collapsed": false
   }
  },
  {
   "cell_type": "code",
   "execution_count": null,
   "outputs": [],
   "source": [
    "img = np.full((1920, 2560), 255)\n",
    "img = ski.util.random_noise(img, mode=\"speckle\")\n",
    "plt.imshow(img, cmap=\"gray\")"
   ],
   "metadata": {
    "collapsed": false
   }
  },
  {
   "cell_type": "code",
   "execution_count": null,
   "outputs": [],
   "source": [],
   "metadata": {
    "collapsed": false
   }
  },
  {
   "cell_type": "code",
   "execution_count": null,
   "outputs": [],
   "source": [
    "plt.imshow(gauss_img, cmap=\"gray\")"
   ],
   "metadata": {
    "collapsed": false
   }
  },
  {
   "cell_type": "code",
   "execution_count": null,
   "outputs": [],
   "source": [
    "np.mean(ski.filters.rank.entropy(thres_img.astype(int), ski.morphology.disk(3)))"
   ],
   "metadata": {
    "collapsed": false
   }
  },
  {
   "cell_type": "code",
   "execution_count": null,
   "outputs": [],
   "source": [
    "np.mean(ski.filters.rank.entropy(img.astype(int), ski.morphology.disk(3)))"
   ],
   "metadata": {
    "collapsed": false
   }
  },
  {
   "cell_type": "code",
   "execution_count": null,
   "outputs": [],
   "source": [
    "np.mean(ski.filters.rank.entropy(threh_mean.astype(int), ski.morphology.disk(3)))"
   ],
   "metadata": {
    "collapsed": false
   }
  },
  {
   "cell_type": "code",
   "execution_count": null,
   "outputs": [],
   "source": [
    "good_condensate_thresh = good_condensates > ski.filters.threshold_otsu(good_condensates)\n",
    "\n",
    "np.mean(ski.filters.rank.entropy(good_condensate_thresh.astype(int), ski.morphology.disk(3)))"
   ],
   "metadata": {
    "collapsed": false
   }
  },
  {
   "cell_type": "code",
   "execution_count": null,
   "outputs": [],
   "source": [
    "def calc_mean_entropy(image):\n",
    "    return np.mean(ski.filters.rank.entropy(image.astype(\"uint8\"), ski.morphology.disk(3)))"
   ],
   "metadata": {
    "collapsed": false
   }
  },
  {
   "cell_type": "code",
   "execution_count": null,
   "outputs": [],
   "source": [
    "entropy_values = []\n",
    "\n"
   ],
   "metadata": {
    "collapsed": false
   }
  },
  {
   "cell_type": "code",
   "execution_count": null,
   "outputs": [],
   "source": [
    "calc_mean_entropy(good_condensate_thresh)"
   ],
   "metadata": {
    "collapsed": false
   }
  },
  {
   "cell_type": "code",
   "execution_count": null,
   "outputs": [],
   "source": [
    "for img in Path(\"C:\\\\Users\\\\danie\\\\temp_hons_microscopy\\\\TFIIB Core\\\\64\").glob(\"*.tif\"):\n",
    "    image = m.load_img(img)\n",
    "    entropy_values.append(calc_mean_entropy(image))"
   ],
   "metadata": {
    "collapsed": false
   }
  },
  {
   "cell_type": "code",
   "execution_count": null,
   "outputs": [],
   "source": [
    "entropy_values"
   ],
   "metadata": {
    "collapsed": false
   }
  },
  {
   "cell_type": "code",
   "execution_count": null,
   "outputs": [],
   "source": [
    "\n",
    "evalues = []\n",
    "\n",
    "for img in Path(\"C:\\\\Users\\\\danie\\\\temp_hons_microscopy\\\\TFIIB Core\\\\4\").glob(\"*.tif\"):\n",
    "    image = m.load_img(img)\n",
    "    evalues.append(calc_mean_entropy(image))"
   ],
   "metadata": {
    "collapsed": false
   }
  },
  {
   "cell_type": "code",
   "execution_count": null,
   "outputs": [],
   "source": [
    "evalues  #%%\n",
    "import pandas as pd\n",
    "import skimage as ski\n",
    "import matplotlib.pyplot as plt\n",
    "import numpy as np\n",
    "from main import load_img\n",
    "import main as m\n",
    "import matplotlib.patches as mpatches\n",
    "from pathlib import Path\n",
    "from scipy import ndimage as ndi"
   ],
   "metadata": {
    "collapsed": false
   }
  },
  {
   "cell_type": "code",
   "execution_count": null,
   "outputs": [],
   "source": [
    "good_condensates = m.load_img(\"data/massive_condensates.tif\")\n",
    "small_condensates = m.load_img(\"data/small_condensates.tif\")\n",
    "uniform_fluorescence = m.load_img(\"data/uniform_fluorescence.tif\")\n",
    "irregular_condensates = m.load_img(\"data/irregular_shape.tif\")\n",
    "\n",
    "images = [good_condensates, small_condensates, uniform_fluorescence, irregular_condensates]\n",
    "image_labels = [\"good_condensates\", \"small_condensates\", \"uniform_fluorescence\", \"irregular_condensates\"]"
   ],
   "metadata": {
    "collapsed": false
   }
  },
  {
   "cell_type": "code",
   "execution_count": null,
   "outputs": [],
   "source": [
    "def plot_images(images, image_labels):\n",
    "    fig, ax = plt.subplots(1, len(images), figsize=(20, 20))\n",
    "    for i, image in enumerate(images):\n",
    "        ax[i].imshow(image, cmap=\"gray\")\n",
    "        ax[i].set_title(image_labels[i])\n",
    "    plt.show()"
   ],
   "metadata": {
    "collapsed": false
   }
  },
  {
   "cell_type": "code",
   "execution_count": null,
   "outputs": [],
   "source": [
    "plot_images(images, image_labels)"
   ],
   "metadata": {
    "collapsed": false
   }
  },
  {
   "cell_type": "code",
   "execution_count": null,
   "outputs": [],
   "source": [
    "mod = ski.morphology.closing(small_condensates, ski.morphology.disk(15))"
   ],
   "metadata": {
    "collapsed": false
   }
  },
  {
   "cell_type": "code",
   "execution_count": null,
   "outputs": [],
   "source": [
    "expo = ski.exposure.equalize_adapthist(small_condensates)\n",
    "\n",
    "plot_images([small_condensates, mod, expo], [\"small_condensates\", \"mod\", \"expo\"])"
   ],
   "metadata": {
    "collapsed": false
   }
  },
  {
   "cell_type": "code",
   "execution_count": null,
   "outputs": [],
   "source": [
    "def proposed_pre_processing(image):\n",
    "    # median = ski.filters.median(image, ski.morphology.disk(3))\n",
    "    # unsharp = ski.filters.unsharp_mask(image, radius=3, amount=1)\n",
    "\n",
    "    restored = ski.restoration.richardson_lucy(image, ski.morphology.disk(3), num_iter=30)\n",
    "\n",
    "    closing = ski.morphology.dilation(restored, ski.morphology.disk(3))\n",
    "    exposure_fix = ski.exposure.equalize_adapthist(closing)\n",
    "\n",
    "    return exposure_fix"
   ],
   "metadata": {
    "collapsed": false
   }
  },
  {
   "cell_type": "code",
   "execution_count": null,
   "outputs": [],
   "source": [
    "good_cond_mod = proposed_pre_processing(good_condensates)\n",
    "thresholded = good_cond_mod > ski.filters.threshold_otsu(good_cond_mod)\n",
    "plot_images([good_condensates, good_cond_mod, thresholded], [\"good_condensates\", \"good_cond_mod\", \"thresholded\"])"
   ],
   "metadata": {
    "collapsed": false
   }
  },
  {
   "cell_type": "code",
   "execution_count": null,
   "outputs": [],
   "source": [
    "good_cond_mod = proposed_pre_processing(small_condensates)\n",
    "thresholded = good_cond_mod > ski.filters.threshold_isodata(good_cond_mod)\n",
    "plot_images([good_condensates, good_cond_mod, thresholded], [\"good_condensates\", \"good_cond_mod\", \"thresholded\"])"
   ],
   "metadata": {
    "collapsed": false
   }
  },
  {
   "cell_type": "code",
   "execution_count": null,
   "outputs": [],
   "source": [
    "good_cond_mod = proposed_pre_processing(uniform_fluorescence)\n",
    "thresholded = good_cond_mod > ski.filters.threshold_isodata(good_cond_mod)\n",
    "plot_images([uniform_fluorescence, good_cond_mod, thresholded], [\"good_condensates\", \"good_cond_mod\", \"thresholded\"])"
   ],
   "metadata": {
    "collapsed": false
   }
  },
  {
   "cell_type": "code",
   "execution_count": null,
   "outputs": [],
   "source": [
    "np.mean(good_condensates)"
   ],
   "metadata": {
    "collapsed": false
   }
  },
  {
   "cell_type": "code",
   "execution_count": null,
   "outputs": [],
   "source": [
    "np.mean(irregular_condensates)"
   ],
   "metadata": {
    "collapsed": false
   }
  },
  {
   "cell_type": "code",
   "execution_count": null,
   "outputs": [],
   "source": [
    "edges = ski.filters.sobel(good_condensates)\n",
    "plot_images([good_condensates, edges], [\"good_condensates\", \"edges\"])"
   ],
   "metadata": {
    "collapsed": false
   }
  },
  {
   "cell_type": "code",
   "execution_count": null,
   "outputs": [],
   "source": [
    "edges = ski.filters.sobel(small_condensates)\n",
    "plot_images([small_condensates, edges], [\"small_condensates\", \"edges\"])"
   ],
   "metadata": {
    "collapsed": false
   }
  },
  {
   "cell_type": "code",
   "execution_count": null,
   "outputs": [],
   "source": [
    "edges = ski.filters.sobel(uniform_fluorescence)\n",
    "plot_images([uniform_fluorescence, edges], [\"uniform_fluorescence\", \"edges\"])"
   ],
   "metadata": {
    "collapsed": false
   }
  },
  {
   "cell_type": "code",
   "execution_count": null,
   "outputs": [],
   "source": [
    "edges = ski.filters.sobel(good_condensates)\n",
    "\n",
    "filled = ndi.binary_fill_holes(edges)\n",
    "\n",
    "plot_images([good_condensates, edges, filled], [\"good_condensates\", \"edges\", \"filled\"])\n"
   ],
   "metadata": {
    "collapsed": false
   }
  },
  {
   "cell_type": "code",
   "execution_count": null,
   "outputs": [],
   "source": [
    "print(np.std(uniform_fluorescence) / np.mean(uniform_fluorescence))\n",
    "print(np.std(good_condensates) / np.mean(good_condensates))\n",
    "print(np.std(small_condensates) / np.mean(small_condensates))\n",
    "print(np.std(irregular_condensates) / np.mean(irregular_condensates))"
   ],
   "metadata": {
    "collapsed": false
   }
  },
  {
   "cell_type": "code",
   "execution_count": null,
   "outputs": [],
   "source": [
    "a = Path(\"a/1.2\")"
   ],
   "metadata": {
    "collapsed": false
   }
  },
  {
   "cell_type": "code",
   "execution_count": null,
   "outputs": [],
   "source": [
    "problem_img = m.load_img(\"C:\\\\Users\\\\danie\\\\temp_hons_microscopy\\\\TFIIB Core\\\\64\\\\64_018.tif\")"
   ],
   "metadata": {
    "collapsed": false
   }
  },
  {
   "cell_type": "code",
   "execution_count": null,
   "outputs": [],
   "source": [
    "thresh = ski.filters.threshold_otsu(problem_img)\n",
    "thres_img = problem_img > thresh\n",
    "\n",
    "threh_mean = problem_img > 4 * np.std(problem_img)\n",
    "\n",
    "plot_images([problem_img, thres_img, threh_mean], [\"problem_img\", \"thres_img\", \"threh_mean\"])"
   ],
   "metadata": {
    "collapsed": false
   }
  },
  {
   "cell_type": "code",
   "execution_count": null,
   "outputs": [],
   "source": [
    "np.std(threh_mean)"
   ],
   "metadata": {
    "collapsed": false
   }
  },
  {
   "cell_type": "code",
   "execution_count": null,
   "outputs": [],
   "source": [
    "np.std(thres_img)"
   ],
   "metadata": {
    "collapsed": false
   }
  },
  {
   "cell_type": "code",
   "execution_count": null,
   "outputs": [],
   "source": [
    "problem_img.shape"
   ],
   "metadata": {
    "collapsed": false
   }
  },
  {
   "cell_type": "code",
   "execution_count": null,
   "outputs": [],
   "source": [
    "mu = 0\n",
    "sigma = 0\n",
    "shape = (1920, 2560)\n",
    "gauss_img = np.random.normal(mu, sigma, shape)\n",
    "gauss_img"
   ],
   "metadata": {
    "collapsed": false
   }
  },
  {
   "cell_type": "code",
   "execution_count": null,
   "outputs": [],
   "source": [
    "img = np.full((1920, 2560), 255)\n",
    "img = ski.util.random_noise(img, mode=\"speckle\")\n",
    "plt.imshow(img, cmap=\"gray\")"
   ],
   "metadata": {
    "collapsed": false
   }
  },
  {
   "cell_type": "code",
   "execution_count": null,
   "outputs": [],
   "source": [],
   "metadata": {
    "collapsed": false
   }
  },
  {
   "cell_type": "code",
   "execution_count": null,
   "outputs": [],
   "source": [
    "plt.imshow(gauss_img, cmap=\"gray\")"
   ],
   "metadata": {
    "collapsed": false
   }
  },
  {
   "cell_type": "code",
   "execution_count": null,
   "outputs": [],
   "source": [
    "np.mean(ski.filters.rank.entropy(thres_img.astype(int), ski.morphology.disk(3)))"
   ],
   "metadata": {
    "collapsed": false
   }
  },
  {
   "cell_type": "code",
   "execution_count": null,
   "outputs": [],
   "source": [
    "np.mean(ski.filters.rank.entropy(img.astype(int), ski.morphology.disk(3)))"
   ],
   "metadata": {
    "collapsed": false
   }
  },
  {
   "cell_type": "code",
   "execution_count": null,
   "outputs": [],
   "source": [
    "np.mean(ski.filters.rank.entropy(threh_mean.astype(int), ski.morphology.disk(3)))"
   ],
   "metadata": {
    "collapsed": false
   }
  },
  {
   "cell_type": "code",
   "execution_count": null,
   "outputs": [],
   "source": [
    "good_condensate_thresh = good_condensates > ski.filters.threshold_otsu(good_condensates)\n",
    "\n",
    "np.mean(ski.filters.rank.entropy(good_condensate_thresh.astype(int), ski.morphology.disk(3)))"
   ],
   "metadata": {
    "collapsed": false
   }
  },
  {
   "cell_type": "code",
   "execution_count": null,
   "outputs": [],
   "source": [
    "def calc_mean_entropy(image):\n",
    "    return np.mean(ski.filters.rank.entropy(image.astype(\"uint8\"), ski.morphology.disk(3)))"
   ],
   "metadata": {
    "collapsed": false
   }
  },
  {
   "cell_type": "code",
   "execution_count": null,
   "outputs": [],
   "source": [
    "entropy_values = []\n",
    "\n"
   ],
   "metadata": {
    "collapsed": false
   }
  },
  {
   "cell_type": "code",
   "execution_count": null,
   "outputs": [],
   "source": [
    "calc_mean_entropy(good_condensate_thresh)"
   ],
   "metadata": {
    "collapsed": false
   }
  },
  {
   "cell_type": "code",
   "execution_count": null,
   "outputs": [],
   "source": [
    "#  Let's do a test. We can try ostu vs the std method and see who comes out on top"
   ],
   "metadata": {
    "collapsed": false
   }
  },
  {
   "cell_type": "code",
   "execution_count": null,
   "outputs": [],
   "source": [
    "for img in Path(\"C:\\\\Users\\\\danie\\\\temp_hons_microscopy\\\\TFIIB Core\\\\64\").glob(\"*.tif\"):\n",
    "    image = m.load_img(img)\n",
    "    thresh_otsu = image > ski.filters.threshold_otsu(image)\n",
    "    thresh_std_2 = image > 2 * np.std(image)\n",
    "    thresh_std_3 = image > 3 * np.std(image)\n",
    "    thresh_std_4 = image > 4 * np.std(image)\n",
    "\n",
    "    print(\n",
    "        f\"Otsu: {calc_mean_entropy(thresh_otsu)}, std_2: {calc_mean_entropy(thresh_std_2)}, std_3: {calc_mean_entropy(thresh_std_3)}, std_4: {calc_mean_entropy(thresh_std_4)}\")\n",
    "\n",
    "    entropy_values.append(\n",
    "        [calc_mean_entropy(thresh_otsu), calc_mean_entropy(thresh_std_2), calc_mean_entropy(thresh_std_3),\n",
    "         calc_mean_entropy(thresh_std_4)])"
   ],
   "metadata": {
    "collapsed": false
   }
  },
  {
   "cell_type": "code",
   "execution_count": null,
   "outputs": [],
   "source": [
    "image = small_condensates\n",
    "thresh_otsu = image > ski.filters.threshold_otsu(image)\n",
    "thresh_std_2 = image > 2 * np.std(image)\n",
    "thresh_std_3 = image > 3 * np.std(image)\n",
    "thresh_std_4 = image > 4 * np.std(image)\n",
    "\n",
    "plot_images([image, thresh_otsu, thresh_std_2, thresh_std_3, thresh_std_4],\n",
    "            [\"image\", \"thresh_otsu\", \"thresh_std_2\", \"thresh_std_3\", \"thresh_std_4\"])"
   ],
   "metadata": {
    "collapsed": false
   }
  },
  {
   "cell_type": "code",
   "execution_count": null,
   "outputs": [],
   "source": [
    "print(np.std(thresh_otsu), np.std(thresh_std_2), np.std(thresh_std_3), np.std(thresh_std_4))\n",
    "print()\n",
    "print(calc_mean_entropy(thresh_otsu), calc_mean_entropy(thresh_std_2), calc_mean_entropy(thresh_std_3),\n",
    "      calc_mean_entropy(thresh_std_4))"
   ],
   "metadata": {
    "collapsed": false
   }
  },
  {
   "cell_type": "code",
   "execution_count": null,
   "outputs": [],
   "source": [
    "0.05\n",
    "evalues = []\n",
    "\n",
    "for img in Path(\"C:\\\\Users\\\\danie\\\\temp_hons_microscopy\\\\TFIIB Core\\\\4\").glob(\"*.tif\"):\n",
    "    image = m.load_img(img)\n",
    "    evalues.append(calc_mean_entropy(image))"
   ],
   "metadata": {
    "collapsed": false
   }
  },
  {
   "cell_type": "code",
   "execution_count": null,
   "outputs": [],
   "source": [
    "evalues"
   ],
   "metadata": {
    "collapsed": false
   }
  },
  {
   "cell_type": "code",
   "execution_count": null,
   "outputs": [],
   "source": [
    "img = uniform_fluorescence"
   ],
   "metadata": {
    "collapsed": false
   }
  },
  {
   "cell_type": "code",
   "execution_count": null,
   "outputs": [],
   "source": [
    "uniform_fluorescence"
   ],
   "metadata": {
    "collapsed": false
   }
  },
  {
   "cell_type": "code",
   "execution_count": null,
   "outputs": [],
   "source": [
    "np.std(uniform_fluorescence)"
   ],
   "metadata": {
    "collapsed": false
   }
  },
  {
   "cell_type": "code",
   "execution_count": null,
   "outputs": [],
   "source": [
    "thresh_img = img < 4 * np.std(img)"
   ],
   "metadata": {
    "collapsed": false
   }
  },
  {
   "cell_type": "code",
   "execution_count": null,
   "outputs": [],
   "source": [
    "thresh_img"
   ],
   "metadata": {
    "collapsed": false
   }
  },
  {
   "cell_type": "code",
   "execution_count": null,
   "outputs": [],
   "source": [
    "plt.imshow(thresh_img, cmap=\"gray\")\n",
    "plt.axis(\"off\")"
   ],
   "metadata": {
    "collapsed": false
   }
  },
  {
   "cell_type": "code",
   "execution_count": null,
   "outputs": [],
   "source": [
    "label_img = ski.measure.label(thresh_img)"
   ],
   "metadata": {
    "collapsed": false
   }
  },
  {
   "cell_type": "code",
   "execution_count": null,
   "outputs": [],
   "source": [
    "plt.imshow(label_img, cmap=\"gray\")"
   ],
   "metadata": {
    "collapsed": false
   }
  },
  {
   "cell_type": "code",
   "execution_count": null,
   "outputs": [],
   "source": [
    "plt.imshow(ski.color.label2rgb(label_img, image=img))"
   ],
   "metadata": {
    "collapsed": false
   }
  },
  {
   "cell_type": "code",
   "execution_count": null,
   "outputs": [],
   "source": [
    "np.sum(thresh_img == 1)  #%%\n",
    "import pandas as pd\n",
    "import skimage as ski\n",
    "import matplotlib.pyplot as plt\n",
    "import numpy as np\n",
    "from main import load_img\n",
    "import main as m\n",
    "import matplotlib.patches as mpatches\n",
    "from pathlib import Path\n",
    "from scipy import ndimage as ndi"
   ],
   "metadata": {
    "collapsed": false
   }
  },
  {
   "cell_type": "code",
   "execution_count": null,
   "outputs": [],
   "source": [
    "good_condensates = m.load_img(\"data/massive_condensates.tif\")\n",
    "small_condensates = m.load_img(\"data/small_condensates.tif\")\n",
    "uniform_fluorescence = m.load_img(\"data/uniform_fluorescence.tif\")\n",
    "irregular_condensates = m.load_img(\"data/irregular_shape.tif\")\n",
    "\n",
    "images = [good_condensates, small_condensates, uniform_fluorescence, irregular_condensates]\n",
    "image_labels = [\"good_condensates\", \"small_condensates\", \"uniform_fluorescence\", \"irregular_condensates\"]"
   ],
   "metadata": {
    "collapsed": false
   }
  },
  {
   "cell_type": "code",
   "execution_count": null,
   "outputs": [],
   "source": [
    "def plot_images(images, image_labels):\n",
    "    fig, ax = plt.subplots(1, len(images), figsize=(20, 20))\n",
    "    for i, image in enumerate(images):\n",
    "        ax[i].imshow(image, cmap=\"gray\")\n",
    "        ax[i].set_title(image_labels[i])\n",
    "    plt.show()"
   ],
   "metadata": {
    "collapsed": false
   }
  },
  {
   "cell_type": "code",
   "execution_count": null,
   "outputs": [],
   "source": [
    "plot_images(images, image_labels)"
   ],
   "metadata": {
    "collapsed": false
   }
  },
  {
   "cell_type": "code",
   "execution_count": null,
   "outputs": [],
   "source": [
    "bg = ski.restoration.rolling_ball(good_condensates)"
   ],
   "metadata": {
    "collapsed": false
   }
  },
  {
   "cell_type": "code",
   "execution_count": null,
   "outputs": [],
   "source": [
    "plot_images([good_condensates, bg, good_condensates - bg], [\"good_condensates\", \"bg\", \"\"])"
   ],
   "metadata": {
    "collapsed": false
   }
  },
  {
   "cell_type": "code",
   "execution_count": null,
   "outputs": [],
   "source": [
    "mod = ski.morphology.closing(small_condensates, ski.morphology.disk(15))"
   ],
   "metadata": {
    "collapsed": false
   }
  },
  {
   "cell_type": "code",
   "execution_count": null,
   "outputs": [],
   "source": [
    "expo = ski.exposure.equalize_adapthist(small_condensates)\n",
    "\n",
    "plot_images([small_condensates, mod, expo], [\"small_condensates\", \"mod\", \"expo\"])"
   ],
   "metadata": {
    "collapsed": false
   }
  },
  {
   "cell_type": "code",
   "execution_count": null,
   "outputs": [],
   "source": [
    "def proposed_pre_processing(image):\n",
    "    # median = ski.filters.median(image, ski.morphology.disk(3))\n",
    "    # unsharp = ski.filters.unsharp_mask(image, radius=3, amount=1)\n",
    "\n",
    "    restored = ski.restoration.richardson_lucy(image, ski.morphology.disk(3), num_iter=30)\n",
    "\n",
    "    closing = ski.morphology.dilation(restored, ski.morphology.disk(3))\n",
    "    exposure_fix = ski.exposure.equalize_adapthist(closing)\n",
    "\n",
    "    return exposure_fix"
   ],
   "metadata": {
    "collapsed": false
   }
  },
  {
   "cell_type": "code",
   "execution_count": null,
   "outputs": [],
   "source": [
    "good_cond_mod = proposed_pre_processing(good_condensates)\n",
    "thresholded = good_cond_mod > ski.filters.threshold_otsu(good_cond_mod)\n",
    "plot_images([good_condensates, good_cond_mod, thresholded], [\"good_condensates\", \"good_cond_mod\", \"thresholded\"])"
   ],
   "metadata": {
    "collapsed": false
   }
  },
  {
   "cell_type": "code",
   "execution_count": null,
   "outputs": [],
   "source": [
    "good_cond_mod = proposed_pre_processing(small_condensates)\n",
    "thresholded = good_cond_mod > ski.filters.threshold_isodata(good_cond_mod)\n",
    "plot_images([good_condensates, good_cond_mod, thresholded], [\"good_condensates\", \"good_cond_mod\", \"thresholded\"])"
   ],
   "metadata": {
    "collapsed": false
   }
  },
  {
   "cell_type": "code",
   "execution_count": null,
   "outputs": [],
   "source": [
    "good_cond_mod = proposed_pre_processing(uniform_fluorescence)\n",
    "thresholded = good_cond_mod > ski.filters.threshold_isodata(good_cond_mod)\n",
    "plot_images([uniform_fluorescence, good_cond_mod, thresholded], [\"good_condensates\", \"good_cond_mod\", \"thresholded\"])"
   ],
   "metadata": {
    "collapsed": false
   }
  },
  {
   "cell_type": "code",
   "execution_count": null,
   "outputs": [],
   "source": [
    "np.mean(good_condensates)"
   ],
   "metadata": {
    "collapsed": false
   }
  },
  {
   "cell_type": "code",
   "execution_count": null,
   "outputs": [],
   "source": [
    "np.mean(irregular_condensates)"
   ],
   "metadata": {
    "collapsed": false
   }
  },
  {
   "cell_type": "code",
   "execution_count": null,
   "outputs": [],
   "source": [
    "edges = ski.filters.sobel(good_condensates)\n",
    "plot_images([good_condensates, edges], [\"good_condensates\", \"edges\"])"
   ],
   "metadata": {
    "collapsed": false
   }
  },
  {
   "cell_type": "code",
   "execution_count": null,
   "outputs": [],
   "source": [
    "edges = ski.filters.sobel(small_condensates)\n",
    "plot_images([small_condensates, edges], [\"small_condensates\", \"edges\"])"
   ],
   "metadata": {
    "collapsed": false
   }
  },
  {
   "cell_type": "code",
   "execution_count": null,
   "outputs": [],
   "source": [
    "edges = ski.filters.sobel(uniform_fluorescence)\n",
    "plot_images([uniform_fluorescence, edges], [\"uniform_fluorescence\", \"edges\"])"
   ],
   "metadata": {
    "collapsed": false
   }
  },
  {
   "cell_type": "code",
   "execution_count": null,
   "outputs": [],
   "source": [
    "edges = ski.filters.sobel(good_condensates)\n",
    "\n",
    "filled = ndi.binary_fill_holes(edges)\n",
    "\n",
    "plot_images([good_condensates, edges, filled], [\"good_condensates\", \"edges\", \"filled\"])\n"
   ],
   "metadata": {
    "collapsed": false
   }
  },
  {
   "cell_type": "code",
   "execution_count": null,
   "outputs": [],
   "source": [
    "print(np.std(uniform_fluorescence) / np.mean(uniform_fluorescence))\n",
    "print(np.std(good_condensates) / np.mean(good_condensates))\n",
    "print(np.std(small_condensates) / np.mean(small_condensates))\n",
    "print(np.std(irregular_condensates) / np.mean(irregular_condensates))"
   ],
   "metadata": {
    "collapsed": false
   }
  },
  {
   "cell_type": "code",
   "execution_count": null,
   "outputs": [],
   "source": [
    "a = Path(\"a/1.2\")"
   ],
   "metadata": {
    "collapsed": false
   }
  },
  {
   "cell_type": "code",
   "execution_count": null,
   "outputs": [],
   "source": [
    "problem_img = m.load_img(\"C:\\\\Users\\\\danie\\\\temp_hons_microscopy\\\\TFIIB Core\\\\64\\\\64_018.tif\")"
   ],
   "metadata": {
    "collapsed": false
   }
  },
  {
   "cell_type": "code",
   "execution_count": null,
   "outputs": [],
   "source": [
    "thresh = ski.filters.threshold_otsu(problem_img)\n",
    "thres_img = problem_img > thresh\n",
    "\n",
    "threh_mean = problem_img > 4 * np.std(problem_img)\n",
    "\n",
    "plot_images([problem_img, thres_img, threh_mean], [\"problem_img\", \"thres_img\", \"threh_mean\"])"
   ],
   "metadata": {
    "collapsed": false
   }
  },
  {
   "cell_type": "code",
   "execution_count": null,
   "outputs": [],
   "source": [
    "np.std(threh_mean)"
   ],
   "metadata": {
    "collapsed": false
   }
  },
  {
   "cell_type": "code",
   "execution_count": null,
   "outputs": [],
   "source": [
    "np.std(thres_img)"
   ],
   "metadata": {
    "collapsed": false
   }
  },
  {
   "cell_type": "code",
   "execution_count": null,
   "outputs": [],
   "source": [
    "problem_img.shape"
   ],
   "metadata": {
    "collapsed": false
   }
  },
  {
   "cell_type": "code",
   "execution_count": null,
   "outputs": [],
   "source": [
    "mu = 0\n",
    "sigma = 0\n",
    "shape = (1920, 2560)\n",
    "gauss_img = np.random.normal(mu, sigma, shape)\n",
    "gauss_img"
   ],
   "metadata": {
    "collapsed": false
   }
  },
  {
   "cell_type": "code",
   "execution_count": null,
   "outputs": [],
   "source": [
    "img = np.full((1920, 2560), 255)\n",
    "img = ski.util.random_noise(img, mode=\"speckle\")\n",
    "plt.imshow(img, cmap=\"gray\")"
   ],
   "metadata": {
    "collapsed": false
   }
  },
  {
   "cell_type": "code",
   "execution_count": null,
   "outputs": [],
   "source": [],
   "metadata": {
    "collapsed": false
   }
  },
  {
   "cell_type": "code",
   "execution_count": null,
   "outputs": [],
   "source": [
    "plt.imshow(gauss_img, cmap=\"gray\")"
   ],
   "metadata": {
    "collapsed": false
   }
  },
  {
   "cell_type": "code",
   "execution_count": null,
   "outputs": [],
   "source": [
    "np.mean(ski.filters.rank.entropy(thres_img.astype(int), ski.morphology.disk(3)))"
   ],
   "metadata": {
    "collapsed": false
   }
  },
  {
   "cell_type": "code",
   "execution_count": null,
   "outputs": [],
   "source": [
    "np.mean(ski.filters.rank.entropy(img.astype(int), ski.morphology.disk(3)))"
   ],
   "metadata": {
    "collapsed": false
   }
  },
  {
   "cell_type": "code",
   "execution_count": null,
   "outputs": [],
   "source": [
    "np.mean(ski.filters.rank.entropy(threh_mean.astype(int), ski.morphology.disk(3)))"
   ],
   "metadata": {
    "collapsed": false
   }
  },
  {
   "cell_type": "code",
   "execution_count": null,
   "outputs": [],
   "source": [
    "good_condensate_thresh = good_condensates > ski.filters.threshold_otsu(good_condensates)\n",
    "\n",
    "np.mean(ski.filters.rank.entropy(good_condensate_thresh.astype(int), ski.morphology.disk(3)))"
   ],
   "metadata": {
    "collapsed": false
   }
  },
  {
   "cell_type": "code",
   "execution_count": null,
   "outputs": [],
   "source": [
    "def calc_mean_entropy(image):\n",
    "    return np.mean(ski.filters.rank.entropy(image.astype(\"uint8\"), ski.morphology.disk(3)))"
   ],
   "metadata": {
    "collapsed": false
   }
  },
  {
   "cell_type": "code",
   "execution_count": null,
   "outputs": [],
   "source": [
    "entropy_values = []\n",
    "\n"
   ],
   "metadata": {
    "collapsed": false
   }
  },
  {
   "cell_type": "code",
   "execution_count": null,
   "outputs": [],
   "source": [
    "calc_mean_entropy(good_condensate_thresh)"
   ],
   "metadata": {
    "collapsed": false
   }
  },
  {
   "cell_type": "code",
   "execution_count": null,
   "outputs": [],
   "source": [
    "for img in Path(\"C:\\\\Users\\\\danie\\\\temp_hons_microscopy\\\\TFIIB Core\\\\64\").glob(\"*.tif\"):\n",
    "    image = m.load_img(img)\n",
    "    entropy_values.append(calc_mean_entropy(image))"
   ],
   "metadata": {
    "collapsed": false
   }
  },
  {
   "cell_type": "code",
   "execution_count": null,
   "outputs": [],
   "source": [
    "entropy_values"
   ],
   "metadata": {
    "collapsed": false
   }
  },
  {
   "cell_type": "code",
   "execution_count": null,
   "outputs": [],
   "source": [
    "\n",
    "evalues = []\n",
    "\n",
    "for img in Path(\"C:\\\\Users\\\\danie\\\\temp_hons_microscopy\\\\TFIIB Core\\\\4\").glob(\"*.tif\"):\n",
    "    image = m.load_img(img)\n",
    "    evalues.append(calc_mean_entropy(image))"
   ],
   "metadata": {
    "collapsed": false
   }
  },
  {
   "cell_type": "code",
   "execution_count": null,
   "outputs": [],
   "source": [
    "evalues  #%%\n",
    "import pandas as pd\n",
    "import skimage as ski\n",
    "import matplotlib.pyplot as plt\n",
    "import numpy as np\n",
    "from main import load_img\n",
    "import main as m\n",
    "import matplotlib.patches as mpatches\n",
    "from pathlib import Path\n",
    "from scipy import ndimage as ndi"
   ],
   "metadata": {
    "collapsed": false
   }
  },
  {
   "cell_type": "code",
   "execution_count": null,
   "outputs": [],
   "source": [
    "good_condensates = m.load_img(\"data/massive_condensates.tif\")\n",
    "small_condensates = m.load_img(\"data/small_condensates.tif\")\n",
    "uniform_fluorescence = m.load_img(\"data/uniform_fluorescence.tif\")\n",
    "irregular_condensates = m.load_img(\"data/irregular_shape.tif\")\n",
    "\n",
    "images = [good_condensates, small_condensates, uniform_fluorescence, irregular_condensates]\n",
    "image_labels = [\"good_condensates\", \"small_condensates\", \"uniform_fluorescence\", \"irregular_condensates\"]"
   ],
   "metadata": {
    "collapsed": false
   }
  },
  {
   "cell_type": "code",
   "execution_count": null,
   "outputs": [],
   "source": [
    "def plot_images(images, image_labels):\n",
    "    fig, ax = plt.subplots(1, len(images), figsize=(20, 20))\n",
    "    for i, image in enumerate(images):\n",
    "        ax[i].imshow(image, cmap=\"gray\")\n",
    "        ax[i].set_title(image_labels[i])\n",
    "    plt.show()"
   ],
   "metadata": {
    "collapsed": false
   }
  },
  {
   "cell_type": "code",
   "execution_count": null,
   "outputs": [],
   "source": [
    "plot_images(images, image_labels)"
   ],
   "metadata": {
    "collapsed": false
   }
  },
  {
   "cell_type": "code",
   "execution_count": null,
   "outputs": [],
   "source": [
    "mod = ski.morphology.closing(small_condensates, ski.morphology.disk(15))"
   ],
   "metadata": {
    "collapsed": false
   }
  },
  {
   "cell_type": "code",
   "execution_count": null,
   "outputs": [],
   "source": [
    "expo = ski.exposure.equalize_adapthist(small_condensates)\n",
    "\n",
    "plot_images([small_condensates, mod, expo], [\"small_condensates\", \"mod\", \"expo\"])"
   ],
   "metadata": {
    "collapsed": false
   }
  },
  {
   "cell_type": "code",
   "execution_count": null,
   "outputs": [],
   "source": [
    "def proposed_pre_processing(image):\n",
    "    # median = ski.filters.median(image, ski.morphology.disk(3))\n",
    "    # unsharp = ski.filters.unsharp_mask(image, radius=3, amount=1)\n",
    "\n",
    "    restored = ski.restoration.richardson_lucy(image, ski.morphology.disk(3), num_iter=30)\n",
    "\n",
    "    closing = ski.morphology.dilation(restored, ski.morphology.disk(3))\n",
    "    exposure_fix = ski.exposure.equalize_adapthist(closing)\n",
    "\n",
    "    return exposure_fix"
   ],
   "metadata": {
    "collapsed": false
   }
  },
  {
   "cell_type": "code",
   "execution_count": null,
   "outputs": [],
   "source": [
    "good_cond_mod = proposed_pre_processing(good_condensates)\n",
    "thresholded = good_cond_mod > ski.filters.threshold_otsu(good_cond_mod)\n",
    "plot_images([good_condensates, good_cond_mod, thresholded], [\"good_condensates\", \"good_cond_mod\", \"thresholded\"])"
   ],
   "metadata": {
    "collapsed": false
   }
  },
  {
   "cell_type": "code",
   "execution_count": null,
   "outputs": [],
   "source": [
    "good_cond_mod = proposed_pre_processing(small_condensates)\n",
    "thresholded = good_cond_mod > ski.filters.threshold_isodata(good_cond_mod)\n",
    "plot_images([good_condensates, good_cond_mod, thresholded], [\"good_condensates\", \"good_cond_mod\", \"thresholded\"])"
   ],
   "metadata": {
    "collapsed": false
   }
  },
  {
   "cell_type": "code",
   "execution_count": null,
   "outputs": [],
   "source": [
    "good_cond_mod = proposed_pre_processing(uniform_fluorescence)\n",
    "thresholded = good_cond_mod > ski.filters.threshold_isodata(good_cond_mod)\n",
    "plot_images([uniform_fluorescence, good_cond_mod, thresholded], [\"good_condensates\", \"good_cond_mod\", \"thresholded\"])"
   ],
   "metadata": {
    "collapsed": false
   }
  },
  {
   "cell_type": "code",
   "execution_count": null,
   "outputs": [],
   "source": [
    "np.mean(good_condensates)"
   ],
   "metadata": {
    "collapsed": false
   }
  },
  {
   "cell_type": "code",
   "execution_count": null,
   "outputs": [],
   "source": [
    "np.mean(irregular_condensates)"
   ],
   "metadata": {
    "collapsed": false
   }
  },
  {
   "cell_type": "code",
   "execution_count": null,
   "outputs": [],
   "source": [
    "edges = ski.filters.sobel(good_condensates)\n",
    "plot_images([good_condensates, edges], [\"good_condensates\", \"edges\"])"
   ],
   "metadata": {
    "collapsed": false
   }
  },
  {
   "cell_type": "code",
   "execution_count": null,
   "outputs": [],
   "source": [
    "edges = ski.filters.sobel(small_condensates)\n",
    "plot_images([small_condensates, edges], [\"small_condensates\", \"edges\"])"
   ],
   "metadata": {
    "collapsed": false
   }
  },
  {
   "cell_type": "code",
   "execution_count": null,
   "outputs": [],
   "source": [
    "edges = ski.filters.sobel(uniform_fluorescence)\n",
    "plot_images([uniform_fluorescence, edges], [\"uniform_fluorescence\", \"edges\"])"
   ],
   "metadata": {
    "collapsed": false
   }
  },
  {
   "cell_type": "code",
   "execution_count": null,
   "outputs": [],
   "source": [
    "edges = ski.filters.sobel(good_condensates)\n",
    "\n",
    "filled = ndi.binary_fill_holes(edges)\n",
    "\n",
    "plot_images([good_condensates, edges, filled], [\"good_condensates\", \"edges\", \"filled\"])\n"
   ],
   "metadata": {
    "collapsed": false
   }
  },
  {
   "cell_type": "code",
   "execution_count": null,
   "outputs": [],
   "source": [
    "print(np.std(uniform_fluorescence) / np.mean(uniform_fluorescence))\n",
    "print(np.std(good_condensates) / np.mean(good_condensates))\n",
    "print(np.std(small_condensates) / np.mean(small_condensates))\n",
    "print(np.std(irregular_condensates) / np.mean(irregular_condensates))"
   ],
   "metadata": {
    "collapsed": false
   }
  },
  {
   "cell_type": "code",
   "execution_count": null,
   "outputs": [],
   "source": [
    "a = Path(\"a/1.2\")"
   ],
   "metadata": {
    "collapsed": false
   }
  },
  {
   "cell_type": "code",
   "execution_count": null,
   "outputs": [],
   "source": [
    "problem_img = m.load_img(\"C:\\\\Users\\\\danie\\\\temp_hons_microscopy\\\\TFIIB Core\\\\64\\\\64_018.tif\")"
   ],
   "metadata": {
    "collapsed": false
   }
  },
  {
   "cell_type": "code",
   "execution_count": null,
   "outputs": [],
   "source": [
    "thresh = ski.filters.threshold_otsu(problem_img)\n",
    "thres_img = problem_img > thresh\n",
    "\n",
    "threh_mean = problem_img > 4 * np.std(problem_img)\n",
    "\n",
    "plot_images([problem_img, thres_img, threh_mean], [\"problem_img\", \"thres_img\", \"threh_mean\"])"
   ],
   "metadata": {
    "collapsed": false
   }
  },
  {
   "cell_type": "code",
   "execution_count": null,
   "outputs": [],
   "source": [
    "np.std(threh_mean)"
   ],
   "metadata": {
    "collapsed": false
   }
  },
  {
   "cell_type": "code",
   "execution_count": null,
   "outputs": [],
   "source": [
    "np.std(thres_img)"
   ],
   "metadata": {
    "collapsed": false
   }
  },
  {
   "cell_type": "code",
   "execution_count": null,
   "outputs": [],
   "source": [
    "problem_img.shape"
   ],
   "metadata": {
    "collapsed": false
   }
  },
  {
   "cell_type": "code",
   "execution_count": null,
   "outputs": [],
   "source": [
    "mu = 0\n",
    "sigma = 0\n",
    "shape = (1920, 2560)\n",
    "gauss_img = np.random.normal(mu, sigma, shape)\n",
    "gauss_img"
   ],
   "metadata": {
    "collapsed": false
   }
  },
  {
   "cell_type": "code",
   "execution_count": null,
   "outputs": [],
   "source": [
    "img = np.full((1920, 2560), 255)\n",
    "img = ski.util.random_noise(img, mode=\"speckle\")\n",
    "plt.imshow(img, cmap=\"gray\")"
   ],
   "metadata": {
    "collapsed": false
   }
  },
  {
   "cell_type": "code",
   "execution_count": null,
   "outputs": [],
   "source": [],
   "metadata": {
    "collapsed": false
   }
  },
  {
   "cell_type": "code",
   "execution_count": null,
   "outputs": [],
   "source": [
    "plt.imshow(gauss_img, cmap=\"gray\")"
   ],
   "metadata": {
    "collapsed": false
   }
  },
  {
   "cell_type": "code",
   "execution_count": null,
   "outputs": [],
   "source": [
    "np.mean(ski.filters.rank.entropy(thres_img.astype(int), ski.morphology.disk(3)))"
   ],
   "metadata": {
    "collapsed": false
   }
  },
  {
   "cell_type": "code",
   "execution_count": null,
   "outputs": [],
   "source": [
    "np.mean(ski.filters.rank.entropy(img.astype(int), ski.morphology.disk(3)))"
   ],
   "metadata": {
    "collapsed": false
   }
  },
  {
   "cell_type": "code",
   "execution_count": null,
   "outputs": [],
   "source": [
    "np.mean(ski.filters.rank.entropy(threh_mean.astype(int), ski.morphology.disk(3)))"
   ],
   "metadata": {
    "collapsed": false
   }
  },
  {
   "cell_type": "code",
   "execution_count": null,
   "outputs": [],
   "source": [
    "good_condensate_thresh = good_condensates > ski.filters.threshold_otsu(good_condensates)\n",
    "\n",
    "np.mean(ski.filters.rank.entropy(good_condensate_thresh.astype(int), ski.morphology.disk(3)))"
   ],
   "metadata": {
    "collapsed": false
   }
  },
  {
   "cell_type": "code",
   "execution_count": null,
   "outputs": [],
   "source": [
    "def calc_mean_entropy(image):\n",
    "    return np.mean(ski.filters.rank.entropy(image.astype(\"uint8\"), ski.morphology.disk(3)))"
   ],
   "metadata": {
    "collapsed": false
   }
  },
  {
   "cell_type": "code",
   "execution_count": null,
   "outputs": [],
   "source": [
    "entropy_values = []\n",
    "\n"
   ],
   "metadata": {
    "collapsed": false
   }
  },
  {
   "cell_type": "code",
   "execution_count": null,
   "outputs": [],
   "source": [
    "calc_mean_entropy(good_condensate_thresh)"
   ],
   "metadata": {
    "collapsed": false
   }
  },
  {
   "cell_type": "code",
   "execution_count": null,
   "outputs": [],
   "source": [
    "#  Let's do a test. We can try ostu vs the std method and see who comes out on top"
   ],
   "metadata": {
    "collapsed": false
   }
  },
  {
   "cell_type": "code",
   "execution_count": null,
   "outputs": [],
   "source": [
    "for img in Path(\"C:\\\\Users\\\\danie\\\\temp_hons_microscopy\\\\TFIIB Core\\\\64\").glob(\"*.tif\"):\n",
    "    image = m.load_img(img)\n",
    "    thresh_otsu = image > ski.filters.threshold_otsu(image)\n",
    "    thresh_std_2 = image > 2 * np.std(image)\n",
    "    thresh_std_3 = image > 3 * np.std(image)\n",
    "    thresh_std_4 = image > 4 * np.std(image)\n",
    "\n",
    "    print(\n",
    "        f\"Otsu: {calc_mean_entropy(thresh_otsu)}, std_2: {calc_mean_entropy(thresh_std_2)}, std_3: {calc_mean_entropy(thresh_std_3)}, std_4: {calc_mean_entropy(thresh_std_4)}\")\n",
    "\n",
    "    entropy_values.append(\n",
    "        [calc_mean_entropy(thresh_otsu), calc_mean_entropy(thresh_std_2), calc_mean_entropy(thresh_std_3),\n",
    "         calc_mean_entropy(thresh_std_4)])"
   ],
   "metadata": {
    "collapsed": false
   }
  },
  {
   "cell_type": "code",
   "execution_count": null,
   "outputs": [],
   "source": [
    "image = small_condensates\n",
    "thresh_otsu = image > ski.filters.threshold_otsu(image)\n",
    "thresh_std_2 = image > 2 * np.std(image)\n",
    "thresh_std_3 = image > 3 * np.std(image)\n",
    "thresh_std_4 = image > 4 * np.std(image)\n",
    "\n",
    "plot_images([image, thresh_otsu, thresh_std_2, thresh_std_3, thresh_std_4],\n",
    "            [\"image\", \"thresh_otsu\", \"thresh_std_2\", \"thresh_std_3\", \"thresh_std_4\"])"
   ],
   "metadata": {
    "collapsed": false
   }
  },
  {
   "cell_type": "code",
   "execution_count": null,
   "outputs": [],
   "source": [
    "print(np.std(thresh_otsu), np.std(thresh_std_2), np.std(thresh_std_3), np.std(thresh_std_4))\n",
    "print()\n",
    "print(calc_mean_entropy(thresh_otsu), calc_mean_entropy(thresh_std_2), calc_mean_entropy(thresh_std_3),\n",
    "      calc_mean_entropy(thresh_std_4))"
   ],
   "metadata": {
    "collapsed": false
   }
  },
  {
   "cell_type": "code",
   "execution_count": null,
   "outputs": [],
   "source": [
    "0.05\n",
    "evalues = []\n",
    "\n",
    "for img in Path(\"C:\\\\Users\\\\danie\\\\temp_hons_microscopy\\\\TFIIB Core\\\\4\").glob(\"*.tif\"):\n",
    "    image = m.load_img(img)\n",
    "    evalues.append(calc_mean_entropy(image))"
   ],
   "metadata": {
    "collapsed": false
   }
  },
  {
   "cell_type": "code",
   "execution_count": null,
   "outputs": [],
   "source": [
    "evalues"
   ],
   "metadata": {
    "collapsed": false
   }
  },
  {
   "cell_type": "code",
   "execution_count": null,
   "outputs": [],
   "source": [
    "img = uniform_fluorescence"
   ],
   "metadata": {
    "collapsed": false
   }
  },
  {
   "cell_type": "code",
   "execution_count": null,
   "outputs": [],
   "source": [
    "uniform_fluorescence"
   ],
   "metadata": {
    "collapsed": false
   }
  },
  {
   "cell_type": "code",
   "execution_count": null,
   "outputs": [],
   "source": [
    "np.std(uniform_fluorescence)"
   ],
   "metadata": {
    "collapsed": false
   }
  },
  {
   "cell_type": "code",
   "execution_count": null,
   "outputs": [],
   "source": [
    "thresh_img = img > 4 * np.std(img)"
   ],
   "metadata": {
    "collapsed": false
   }
  },
  {
   "cell_type": "code",
   "execution_count": null,
   "outputs": [],
   "source": [
    "thresh_img"
   ],
   "metadata": {
    "collapsed": false
   }
  },
  {
   "cell_type": "code",
   "execution_count": null,
   "outputs": [],
   "source": [
    "plt.imshow(thresh_img)\n",
    "plt.axis(\"off\")"
   ],
   "metadata": {
    "collapsed": false
   }
  },
  {
   "cell_type": "code",
   "execution_count": null,
   "outputs": [],
   "source": [
    "label_img = ski.measure.label(thresh_img)"
   ],
   "metadata": {
    "collapsed": false
   }
  },
  {
   "cell_type": "code",
   "execution_count": null,
   "outputs": [],
   "source": [
    "plt.imshow(label_img, cmap=\"gray\")"
   ],
   "metadata": {
    "collapsed": false
   }
  },
  {
   "cell_type": "code",
   "execution_count": null,
   "outputs": [],
   "source": [
    "np.unique(label_img)"
   ],
   "metadata": {
    "collapsed": false
   }
  },
  {
   "cell_type": "code",
   "execution_count": null,
   "outputs": [],
   "source": [
    "plt.imshow(ski.color.label2rgb(label_img, image=img), cmap=\"hsv\")"
   ],
   "metadata": {
    "collapsed": false
   }
  },
  {
   "cell_type": "code",
   "execution_count": null,
   "outputs": [],
   "source": [
    "np.sum(thresh_img == 1)"
   ],
   "metadata": {
    "collapsed": false
   }
  },
  {
   "cell_type": "code",
   "execution_count": null,
   "outputs": [],
   "source": [
    "thresh_img"
   ],
   "metadata": {
    "collapsed": false
   }
  },
  {
   "cell_type": "code",
   "execution_count": null,
   "outputs": [],
   "source": [],
   "metadata": {
    "collapsed": false
   }
  },
  {
   "cell_type": "code",
   "execution_count": null,
   "outputs": [],
   "source": [
    "thresh_img"
   ],
   "metadata": {
    "collapsed": false
   }
  },
  {
   "cell_type": "code",
   "execution_count": null,
   "outputs": [],
   "source": [
    "fl = \"C:\\\\Users\\\\danie\\\\temp_hons_microscopy\\\\NOT_TO_PROCESS\\\\IIB FL + TBP Constructs\\\\IIB FL + TBP\\\\IIBFL+TBPFL_RGB_RGB_Red.tif\"\n",
    "core = \"C:\\\\Users\\\\danie\\\\temp_hons_microscopy\\\\NOT_TO_PROCESS\\\\IIB FL + TBP Constructs\\\\IIB FL + TBP CORE\\\\IIBFL+TBPCORE_RGB_BrightfieldBlue3.tif\"\n",
    "idr = \"C:\\\\Users\\\\danie\\\\temp_hons_microscopy\\\\NOT_TO_PROCESS\\\\IIB FL + TBP Constructs\\\\IIBFL + TBP IDR\\\\IIBFL+TBPIDR_RGB_BrightfieldBlue3.tif\""
   ],
   "metadata": {
    "collapsed": false
   }
  },
  {
   "cell_type": "code",
   "execution_count": null,
   "outputs": [],
   "source": [
    "cf_fl, regions_fl = m.process_image(Path(fl), \"\")\n",
    "cf_core, regions_core = m.process_image(Path(core), \"\")\n",
    "cf_idr, regions_idr = m.process_image(Path(idr), \"\")"
   ],
   "metadata": {
    "collapsed": false
   }
  },
  {
   "cell_type": "code",
   "execution_count": null,
   "outputs": [],
   "source": [
    "region_columns = [\"area\",\n",
    "                  \"mean_intensity\",\n",
    "                  \"perimeter\",\n",
    "                  \"axis_major_length\",\n",
    "                  \"axis_minor_length\"]\n",
    "\n",
    "cf_columns = [\n",
    "    \"condensed_fraction\",\n",
    "    \"mean_intensity\",\n",
    "    \"std_intensity\",\n",
    "    \"max_intensity\",\n",
    "    \"min_intensity\",\n",
    "    \"mean_entropy\",\n",
    "    \"mean_bg_intensity\",\n",
    "    \"mean_fg_intensity\"\n",
    "]\n",
    "\n",
    "fl_region_df = pd.DataFrame(regions_fl, columns=region_columns)\n",
    "fl_condensed_fraction_df = pd.DataFrame([cf_fl, ], columns=cf_columns)\n",
    "fl_region_df[\"prep\"] = \"FL\"\n",
    "fl_condensed_fraction_df[\"prep\"] = \"FL\"\n"
   ],
   "metadata": {
    "collapsed": false
   }
  },
  {
   "cell_type": "code",
   "execution_count": null,
   "outputs": [],
   "source": [
    "core_region_df = pd.DataFrame(regions_core, columns=region_columns)\n",
    "core_condensed_fraction_df = pd.DataFrame([cf_core, ], columns=cf_columns)\n",
    "\n",
    "core_region_df[\"prep\"] = \"CORE\"\n",
    "core_condensed_fraction_df[\"prep\"] = \"CORE\"\n",
    "\n",
    "idr_region_df = pd.DataFrame(regions_idr, columns=region_columns)\n",
    "idr_condensed_fraction_df = pd.DataFrame([cf_idr, ], columns=cf_columns)\n",
    "\n",
    "idr_region_df[\"prep\"] = \"IDR\"\n",
    "idr_condensed_fraction_df[\"prep\"] = \"IDR\""
   ],
   "metadata": {
    "collapsed": false
   }
  },
  {
   "cell_type": "code",
   "execution_count": null,
   "outputs": [],
   "source": [
    "dfs = pd.concat([fl_condensed_fraction_df, core_condensed_fraction_df, idr_condensed_fraction_df], axis=0)"
   ],
   "metadata": {
    "collapsed": false
   }
  },
  {
   "cell_type": "code",
   "execution_count": null,
   "outputs": [],
   "source": [
    "dfs"
   ],
   "metadata": {
    "collapsed": false
   }
  },
  {
   "cell_type": "code",
   "execution_count": null,
   "outputs": [],
   "source": [
    "dfs[\"bg_fg_ratio\"] = dfs[\"mean_fg_intensity\"] / dfs[\"mean_bg_intensity\"]"
   ],
   "metadata": {
    "collapsed": false
   }
  },
  {
   "cell_type": "code",
   "execution_count": 14,
   "outputs": [
    {
     "data": {
      "text/plain": "<Figure size 640x480 with 1 Axes>",
      "image/png": "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"
     },
     "metadata": {
      "image/png": {
       "width": 640,
       "height": 480
      }
     },
     "output_type": "display_data"
    },
    {
     "data": {
      "text/plain": "<Figure Size: (640 x 480)>"
     },
     "execution_count": 14,
     "metadata": {},
     "output_type": "execute_result"
    }
   ],
   "source": [
    "(\n",
    "        pn.ggplot(dfs, pn.aes(x=\"prep\", y=\"bg_fg_ratio\", fill=\"prep\"))\n",
    "        + pn.geom_boxplot()\n",
    "        + pn.theme_classic()\n",
    ")"
   ],
   "metadata": {
    "collapsed": false
   }
  },
  {
   "cell_type": "code",
   "execution_count": null,
   "outputs": [],
   "source": [
    "regions = pd.concat([fl_region_df, core_region_df, idr_region_df], axis=0)"
   ],
   "metadata": {
    "collapsed": false
   }
  },
  {
   "cell_type": "code",
   "execution_count": null,
   "outputs": [],
   "source": [
    "regions"
   ],
   "metadata": {
    "collapsed": false
   }
  },
  {
   "cell_type": "code",
   "execution_count": null,
   "outputs": [],
   "source": [
    "import plotnine as pn"
   ],
   "metadata": {
    "collapsed": false
   }
  },
  {
   "cell_type": "code",
   "execution_count": null,
   "outputs": [],
   "source": [
    "regions[\"a2\"] = regions[\"area\"] ** 2\n",
    "regions[\"log_area\"] = np.log(regions[\"area\"])"
   ],
   "metadata": {
    "collapsed": false
   }
  },
  {
   "cell_type": "code",
   "execution_count": null,
   "outputs": [],
   "source": [
    "(\n",
    "        pn.ggplot(regions[regions[\"area\"] > 50], pn.aes(x=\"prep\", y=\"log_area\", fill=\"prep\"))\n",
    "        + pn.geom_boxplot()\n",
    "        + pn.theme_classic()\n",
    ")"
   ],
   "metadata": {
    "collapsed": false
   }
  },
  {
   "cell_type": "code",
   "execution_count": null,
   "outputs": [],
   "source": [
    "core_img = m.load_img(Path(core))"
   ],
   "metadata": {
    "collapsed": false
   }
  },
  {
   "cell_type": "code",
   "execution_count": null,
   "outputs": [],
   "source": [
    "core_thresh = core_img > ski.filters.threshold_otsu(core_img)"
   ],
   "metadata": {
    "collapsed": false
   }
  },
  {
   "cell_type": "code",
   "execution_count": null,
   "outputs": [],
   "source": [],
   "metadata": {
    "collapsed": false
   }
  },
  {
   "cell_type": "code",
   "execution_count": null,
   "outputs": [],
   "source": [
    "plt.imshow(core_thresh.astype(int), cmap=\"gray\")\n",
    "plt.show()"
   ],
   "metadata": {
    "collapsed": false
   }
  },
  {
   "cell_type": "code",
   "execution_count": null,
   "outputs": [],
   "source": [
    "unqID, idx, IDsums = np.unique(core_thresh, return_counts=True, return_inverse=True)\n"
   ],
   "metadata": {
    "collapsed": false
   }
  },
  {
   "cell_type": "code",
   "execution_count": null,
   "outputs": [],
   "source": [
    "np.bincount(idx, core_thresh.ravel())"
   ],
   "metadata": {
    "collapsed": false
   }
  },
  {
   "cell_type": "code",
   "execution_count": null,
   "outputs": [],
   "source": [
    "sum_0 = 0\n",
    "sum_1 = 1\n",
    "for row_idx, row in enumerate(core_img):\n",
    "    for col_idx, col in enumerate(row):\n",
    "        if core_thresh[row_idx, col_idx] == 0:\n",
    "            sum_0 += core_img[row_idx, col_idx]\n",
    "        else:\n",
    "            sum_1 += core_img[row_idx, col_idx]\n"
   ],
   "metadata": {
    "collapsed": false
   }
  },
  {
   "cell_type": "code",
   "execution_count": null,
   "outputs": [],
   "source": [
    "sum_0"
   ],
   "metadata": {
    "collapsed": false
   }
  },
  {
   "cell_type": "code",
   "execution_count": null,
   "outputs": [],
   "source": [
    "sum_1"
   ],
   "metadata": {
    "collapsed": false
   }
  },
  {
   "cell_type": "code",
   "execution_count": null,
   "outputs": [],
   "source": [],
   "metadata": {
    "collapsed": false
   }
  },
  {
   "cell_type": "code",
   "execution_count": null,
   "outputs": [],
   "source": [
    "core_img.dtype"
   ],
   "metadata": {
    "collapsed": false
   }
  },
  {
   "cell_type": "code",
   "execution_count": null,
   "outputs": [],
   "source": [
    "np.bincount(core_thresh.astype(int).ravel(), core_img.ravel()) / np.unique(core_thresh, return_counts=True)[1]"
   ],
   "metadata": {
    "collapsed": false
   }
  },
  {
   "cell_type": "code",
   "execution_count": null,
   "outputs": [],
   "source": [
    "74713 / 4784441"
   ],
   "metadata": {
    "collapsed": false
   }
  },
  {
   "cell_type": "code",
   "execution_count": null,
   "outputs": [],
   "source": [],
   "metadata": {
    "collapsed": false
   }
  },
  {
   "cell_type": "code",
   "execution_count": null,
   "outputs": [],
   "source": [],
   "metadata": {
    "collapsed": false
   }
  },
  {
   "cell_type": "code",
   "execution_count": 11,
   "outputs": [
    {
     "ename": "NameError",
     "evalue": "name 'pn' is not defined",
     "output_type": "error",
     "traceback": [
      "\u001B[1;31m---------------------------------------------------------------------------\u001B[0m",
      "\u001B[1;31mNameError\u001B[0m                                 Traceback (most recent call last)",
      "Cell \u001B[1;32mIn[11], line 2\u001B[0m\n\u001B[0;32m      1\u001B[0m (\n\u001B[1;32m----> 2\u001B[0m         \u001B[43mpn\u001B[49m\u001B[38;5;241m.\u001B[39mggplot(dfs, pn\u001B[38;5;241m.\u001B[39maes(x\u001B[38;5;241m=\u001B[39m\u001B[38;5;124m\"\u001B[39m\u001B[38;5;124mprep\u001B[39m\u001B[38;5;124m\"\u001B[39m, y\u001B[38;5;241m=\u001B[39m\u001B[38;5;124m\"\u001B[39m\u001B[38;5;124mcondensed_fraction\u001B[39m\u001B[38;5;124m\"\u001B[39m, fill\u001B[38;5;241m=\u001B[39m\u001B[38;5;124m\"\u001B[39m\u001B[38;5;124mprep\u001B[39m\u001B[38;5;124m\"\u001B[39m))\n\u001B[0;32m      3\u001B[0m         \u001B[38;5;241m+\u001B[39m pn\u001B[38;5;241m.\u001B[39mgeom_boxplot()\n\u001B[0;32m      4\u001B[0m         \u001B[38;5;241m+\u001B[39m pn\u001B[38;5;241m.\u001B[39mtheme_classic()\n\u001B[0;32m      5\u001B[0m )\n",
      "\u001B[1;31mNameError\u001B[0m: name 'pn' is not defined"
     ]
    }
   ],
   "source": [
    "(\n",
    "        pn.ggplot(dfs, pn.aes(x=\"prep\", y=\"condensed_fraction\", fill=\"prep\"))\n",
    "        + pn.geom_boxplot()\n",
    "        + pn.theme_classic()\n",
    ")"
   ],
   "metadata": {
    "collapsed": false
   }
  },
  {
   "cell_type": "code",
   "execution_count": null,
   "outputs": [],
   "source": [
    "regions = pd.concat([fl_region_df, core_region_df, idr_region_df], axis=0)"
   ],
   "metadata": {
    "collapsed": false
   }
  },
  {
   "cell_type": "code",
   "execution_count": null,
   "outputs": [],
   "source": [
    "regions"
   ],
   "metadata": {
    "collapsed": false
   }
  },
  {
   "cell_type": "code",
   "execution_count": 12,
   "outputs": [],
   "source": [
    "import plotnine as pn"
   ],
   "metadata": {
    "collapsed": false
   }
  },
  {
   "cell_type": "code",
   "execution_count": null,
   "outputs": [],
   "source": [
    "regions[\"a2\"] = regions[\"area\"] ** 2\n",
    "regions[\"log_area\"] = np.log(regions[\"area\"])"
   ],
   "metadata": {
    "collapsed": false
   }
  },
  {
   "cell_type": "code",
   "execution_count": null,
   "outputs": [],
   "source": [
    "(\n",
    "        pn.ggplot(regions[regions[\"area\"] > 50], pn.aes(x=\"prep\", y=\"log_area\", fill=\"prep\"))\n",
    "        + pn.geom_boxplot()\n",
    "        + pn.theme_classic()\n",
    ")"
   ],
   "metadata": {
    "collapsed": false
   }
  },
  {
   "cell_type": "code",
   "execution_count": null,
   "outputs": [],
   "source": [
    "core_img = m.load_img(Path(core))"
   ],
   "metadata": {
    "collapsed": false
   }
  },
  {
   "cell_type": "code",
   "execution_count": null,
   "outputs": [],
   "source": [
    "core_thresh = core_img > ski.filters.threshold_otsu(core_img)"
   ],
   "metadata": {
    "collapsed": false
   }
  },
  {
   "cell_type": "code",
   "execution_count": null,
   "outputs": [],
   "source": [],
   "metadata": {
    "collapsed": false
   }
  },
  {
   "cell_type": "code",
   "execution_count": null,
   "outputs": [],
   "source": [
    "plt.imshow(core_thresh.astype(int), cmap=\"gray\")\n",
    "plt.show()"
   ],
   "metadata": {
    "collapsed": false
   }
  },
  {
   "cell_type": "code",
   "execution_count": null,
   "outputs": [],
   "source": [
    "unqID, idx, IDsums = np.unique(core_thresh, return_counts=True, return_inverse=True)\n"
   ],
   "metadata": {
    "collapsed": false
   }
  },
  {
   "cell_type": "code",
   "execution_count": null,
   "outputs": [],
   "source": [
    "np.bincount(idx, core_thresh.ravel())"
   ],
   "metadata": {
    "collapsed": false
   }
  },
  {
   "cell_type": "code",
   "execution_count": null,
   "outputs": [],
   "source": [
    "sum_0 = 0\n",
    "sum_1 = 1\n",
    "for row_idx, row in enumerate(core_img):\n",
    "    for col_idx, col in enumerate(row):\n",
    "        if core_thresh[row_idx, col_idx] == 0:\n",
    "            sum_0 += core_img[row_idx, col_idx]\n",
    "        else:\n",
    "            sum_1 += core_img[row_idx, col_idx]\n"
   ],
   "metadata": {
    "collapsed": false
   }
  },
  {
   "cell_type": "code",
   "execution_count": null,
   "outputs": [],
   "source": [
    "sum_0"
   ],
   "metadata": {
    "collapsed": false
   }
  },
  {
   "cell_type": "code",
   "execution_count": null,
   "outputs": [],
   "source": [
    "sum_1"
   ],
   "metadata": {
    "collapsed": false
   }
  },
  {
   "cell_type": "code",
   "execution_count": null,
   "outputs": [],
   "source": [],
   "metadata": {
    "collapsed": false
   }
  },
  {
   "cell_type": "code",
   "execution_count": null,
   "outputs": [],
   "source": [
    "core_img.dtype"
   ],
   "metadata": {
    "collapsed": false
   }
  },
  {
   "cell_type": "code",
   "execution_count": null,
   "outputs": [],
   "source": [
    "np.bincount(core_thresh.astype(int).ravel(), core_img.ravel()) / np.unique(core_thresh, return_counts=True)[1]"
   ],
   "metadata": {
    "collapsed": false
   }
  },
  {
   "cell_type": "code",
   "execution_count": null,
   "outputs": [],
   "source": [
    "74713 / 4784441"
   ],
   "metadata": {
    "collapsed": false
   }
  },
  {
   "cell_type": "code",
   "execution_count": null,
   "outputs": [],
   "source": [],
   "metadata": {
    "collapsed": false
   }
  },
  {
   "cell_type": "code",
   "execution_count": null,
   "outputs": [],
   "source": [],
>>>>>>> 7570b66d25b47572dd99fb9e2b6a2de59e648589
   "metadata": {
    "collapsed": false
   }
  }
 ],
 "metadata": {
  "kernelspec": {
   "display_name": "Python 3",
   "language": "python",
   "name": "python3"
  },
  "language_info": {
   "codemirror_mode": {
    "name": "ipython",
    "version": 2
   },
   "file_extension": ".py",
   "mimetype": "text/x-python",
   "name": "python",
   "nbconvert_exporter": "python",
   "pygments_lexer": "ipython2",
   "version": "2.7.6"
  }
 },
 "nbformat": 4,
 "nbformat_minor": 0
}
