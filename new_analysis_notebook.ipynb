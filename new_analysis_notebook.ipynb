{
 "cells": [
  {
   "cell_type": "code",
   "execution_count": null,
   "outputs": [],
   "source": [],
   "metadata": {
    "collapsed": false
   }
  },
  {
   "cell_type": "code",
   "execution_count": null,
   "outputs": [],
   "source": [],
   "metadata": {
    "collapsed": false
   }
  },
  {
   "cell_type": "code",
   "execution_count": null,
   "outputs": [],
   "source": [],
   "metadata": {
    "collapsed": false
   }
  },
  {
   "cell_type": "code",
   "execution_count": 1,
   "metadata": {
    "collapsed": true,
    "ExecuteTime": {
     "end_time": "2023-11-13T15:50:31.063287300Z",
     "start_time": "2023-11-13T15:50:26.691446800Z"
    }
   },
   "outputs": [],
   "source": [
    "import pandas as pd\n",
    "import numpy as np\n",
    "import matplotlib.pyplot as plt\n",
    "import json\n",
    "import plotnine as pn\n",
    "from pathlib import Path  #%%\n",
    "import pandas as pd\n",
    "import numpy as np\n",
    "import matplotlib.pyplot as plt\n",
    "import json\n",
    "import plotnine as pn\n",
    "from pathlib import Path\n",
    "from grapher import load_df, graph_boxplot"
   ]
  },
  {
   "cell_type": "markdown",
   "source": [
    "\n",
    "## Re-analysis of the HsTBP Constructs"
   ],
   "metadata": {
    "collapsed": false
   }
  },
  {
   "cell_type": "code",
   "execution_count": null,
   "outputs": [],
   "source": [
    "working_dir = Path(\n",
    "    \"C:\\\\Users\\\\danie\\\\OneDrive - University of Cape Town\\\\Hons Project\\\\DataAnalysis\\\\new_analysis_20231031\\\\TBP\")"
   ],
   "metadata": {
    "collapsed": false
   }
  },
  {
   "cell_type": "code",
   "execution_count": null,
   "outputs": [],
   "source": [
    "cf_data = pd.concat([pd.read_csv(file) for file in working_dir.glob(\"*fractions.csv\")])\n",
    "region_data = pd.concat([pd.read_csv(file) for file in working_dir.glob(\"*regions.csv\")])\n",
    "from math import log10, floor\n",
    "\n",
    "\n",
    "# Stolen from https://stackoverflow.com/a/3411435\n",
    "\n",
    "def round_to_1(x):\n",
    "    if x >= 0.5:\n",
    "        return round(x)\n",
    "    else:\n",
    "        return round(x, -int(floor(log10(abs(x)))))\n",
    "\n"
   ],
   "metadata": {
    "collapsed": false
   }
  },
  {
   "cell_type": "code",
   "execution_count": null,
   "outputs": [],
   "source": [
    "cf_data"
   ],
   "metadata": {
    "collapsed": false
   }
  },
  {
   "cell_type": "code",
   "execution_count": null,
   "outputs": [],
   "source": [
    "cf_data[\"dir_name\"] = cf_data[\"dir_name\"].astype(\"float\")"
   ],
   "metadata": {
    "collapsed": false
   }
  },
  {
   "cell_type": "code",
   "execution_count": null,
   "outputs": [],
   "source": [
    "replacement_table = {\n",
    "    11: 11.2,\n",
    "    179: 179.2,\n",
    "    2: 2.4,\n",
    "    22: 22.4,\n",
    "    44: 44.8,\n",
    "    5: 5.6,\n",
    "    89: 89.6,\n",
    "    19: 19.8,\n",
    "    38: 38.4,\n",
    "    76: 76.8,\n",
    "    9: 9.6\n",
    "\n",
    "}"
   ],
   "metadata": {
    "collapsed": false
   }
  },
  {
   "cell_type": "code",
   "execution_count": null,
   "outputs": [],
   "source": [
    "for key, value in replacement_table.items():\n",
    "    cf_data.loc[cf_data[\"dir_name\"] == key, \"dir_name\"] = value"
   ],
   "metadata": {
    "collapsed": false
   }
  },
  {
   "cell_type": "code",
   "execution_count": null,
   "outputs": [],
   "source": [
    "cf_data.loc[(cf_data[\"dir_name\"] == 4) & (cf_data[\"prep\"] == \"YFP-HsTBP-FL\"), \"dir_name\"] = 4.8"
   ],
   "metadata": {
    "collapsed": false
   }
  },
  {
   "cell_type": "code",
   "execution_count": null,
   "outputs": [],
   "source": [
    "cf_data[\"conc\"] = 0.0\n",
    "cf_data.loc[cf_data[\"prep\"] == \"TBP FL\", \"conc\"] = 9 / cf_data.loc[cf_data[\"prep\"] == \"TBP FL\", \"dir_name\"]\n",
    "cf_data.loc[cf_data[\"prep\"] == \"TBP Core\", \"conc\"] = 23 / cf_data.loc[cf_data[\"prep\"] == \"TBP Core\", \"dir_name\"]\n",
    "cf_data.loc[cf_data[\"prep\"] == \"TBP IDR\", \"conc\"] = 64 / cf_data.loc[cf_data[\"prep\"] == \"TBP IDR\", \"dir_name\"]"
   ],
   "metadata": {
    "collapsed": false
   }
  },
  {
   "cell_type": "code",
   "execution_count": null,
   "outputs": [],
   "source": [
    "cf_data.loc[:, \"conc\"] = cf_data[\"conc\"].apply(lambda x: round_to_1(x))"
   ],
   "metadata": {
    "collapsed": false
   }
  },
  {
   "cell_type": "code",
   "execution_count": null,
   "outputs": [],
   "source": [
    "\n",
    "# cf_data.loc[cf_data[\"prep\"] == \"TBP IDR\", \"condensed_fraction\"] = 0\n",
    "cf_data[\"conc\"] = pd.Categorical(cf_data[\"conc\"], ordered=True,\n",
    "                                 categories=sorted(np.unique(cf_data[\"conc\"]).tolist()))\n",
    "\n",
    "cf_data.loc[cf_data[\"prep\"] == \"TBP FL\", \"prep\"] = \"YFP-HsTBP-FL\"\n",
    "cf_data.loc[cf_data[\"prep\"] == \"TBP Core\", \"prep\"] = \"GFP-HsTBP-Core\"\n",
    "cf_data.loc[cf_data[\"prep\"] == \"TBP IDR\", \"prep\"] = \"YFP-HsTBP-IDR\"\n",
    "\n",
    "cf_data[\"prep\"] = pd.Categorical(cf_data[\"prep\"], ordered=True,\n",
    "                                 categories=[\"YFP-HsTBP-FL\", \"GFP-HsTBP-Core\", \"YFP-HsTBP-IDR\"])\n",
    "cf_data[\"log_condensed_fraction\"] = np.log10(1 + cf_data[\"condensed_fraction\"])"
   ],
   "metadata": {
    "collapsed": false
   }
  },
  {
   "cell_type": "code",
   "execution_count": null,
   "outputs": [],
   "source": [
    "\n",
    "plot = (\n",
    "        pn.ggplot(cf_data, pn.aes(x=\"conc\", y=\"log_condensed_fraction\", fill=\"prep\"))\n",
    "        + pn.geom_boxplot(outlier_alpha=0)\n",
    "        + pn.geom_jitter(alpha=0.5, width=0.1)\n",
    "        + pn.theme_classic()\n",
    "        + pn.labs(x=\"Protein Concentration ($\\mu$M)\", y=\"Condensed Fraction\", color=\"\", fill=\"\",\n",
    "                  shape=\"\")\n",
    "        + pn.theme(figure_size=(4, 8),\n",
    "                   legend_position=\"none\",\n",
    "                   axis_text=pn.element_text(color=\"black\", size=10, family=\"Arial\"),\n",
    "                   axis_title=pn.element_text(color=\"black\", size=10, family=\"Arial\"))\n",
    "        + pn.scale_fill_manual(values=[\"#31688e\", \"#35b779\", \"#440154\"])\n",
    "        + pn.scale_color_manual(values=[\"#1c3c52\", \"#154a31\", \"#1f0026\"])\n",
    "        + pn.facet_wrap(\"~prep\", scales=\"free\", ncol=1)\n",
    "\n",
    ")\n",
    "plot"
   ],
   "metadata": {
    "collapsed": false
   }
  },
  {
   "cell_type": "code",
   "execution_count": null,
   "outputs": [],
   "source": [
    "pn.ggsave(plot, working_dir / \"condensed_fraction.svg\", dpi=1200, width=80, height=150, units=\"mm\")"
   ],
   "metadata": {
    "collapsed": false
   }
  },
  {
   "cell_type": "code",
   "execution_count": null,
   "outputs": [],
   "source": [],
   "metadata": {
    "collapsed": false
   }
  },
  {
   "cell_type": "code",
   "execution_count": null,
   "outputs": [],
   "source": [],
   "metadata": {
    "collapsed": false
   }
  },
  {
   "cell_type": "code",
   "execution_count": null,
   "outputs": [],
   "source": [],
   "metadata": {
    "collapsed": false
   }
  },
  {
   "cell_type": "markdown",
   "source": [
    "## Re-analysis of HsTFIIB constructs"
   ],
   "metadata": {
    "collapsed": false
   }
  },
  {
   "cell_type": "code",
   "execution_count": null,
   "outputs": [],
   "source": [
    "working_dir = Path(\n",
    "    \"C:\\\\Users\\\\danie\\\\OneDrive - University of Cape Town\\\\Hons Project\\\\DataAnalysis\\\\new_analysis_20231031\\\\NiceTFIIB Images\")"
   ],
   "metadata": {
    "collapsed": false
   }
  },
  {
   "cell_type": "code",
   "execution_count": null,
   "outputs": [],
   "source": [
    "cf_data = pd.concat([pd.read_csv(file) for file in working_dir.glob(\"*fractions.csv\")])\n",
    "region_data = pd.concat([pd.read_csv(file) for file in working_dir.glob(\"*regions.csv\")])\n",
    "from math import log10, floor\n",
    "\n",
    "\n",
    "# Stolen from https://stackoverflow.com/a/3411435\n",
    "\n",
    "def round_to_1(x):\n",
    "    if x >= 0.5:\n",
    "        return round(x)\n",
    "    else:\n",
    "        return round(x, -int(floor(log10(abs(x)))))\n",
    "\n",
    "\n",
    "cf_data[\"conc\"] = 0.0\n",
    "\n",
    "cf_data.loc[cf_data[\"prep\"] == \"TFIIB FL\", \"conc\"] = 113 / cf_data.loc[cf_data[\"prep\"] == \"TFIIB FL\", \"dir_name\"]\n",
    "\n",
    "cf_data.loc[cf_data[\"prep\"] == \"TFIIB Core\", \"conc\"] = 28 / cf_data.loc[cf_data[\"prep\"] == \"TFIIB Core\", \"dir_name\"]\n",
    "cf_data.loc[cf_data[\"prep\"] == \"TFIIB IDR\", \"conc\"] = 153 / cf_data.loc[cf_data[\"prep\"] == \"TFIIB IDR\", \"dir_name\"]\n",
    "cf_data.loc[:, \"conc\"] = cf_data[\"conc\"].apply(lambda x: round_to_1(x))\n",
    "cf_data.loc[cf_data[\"prep\"] == \"TFIIB IDR\", \"condensed_fraction\"] = 0\n",
    "cf_data[\"conc\"] = pd.Categorical(cf_data[\"conc\"], ordered=True,\n",
    "                                 categories=sorted(np.unique(cf_data[\"conc\"]).tolist()))\n",
    "cf_data.loc[cf_data[\"prep\"] == \"TFIIB FL\", \"prep\"] = \"mC-HsTFIIB-FL\"\n",
    "cf_data.loc[cf_data[\"prep\"] == \"TFIIB Core\", \"prep\"] = \"GFP-HsTFIIB-Core\"\n",
    "cf_data.loc[cf_data[\"prep\"] == \"TFIIB IDR\", \"prep\"] = \"mC-HsTFIIB-IDR\"\n",
    "\n",
    "cf_data[\"prep\"] = pd.Categorical(cf_data[\"prep\"], ordered=True,\n",
    "                                 categories=[\"mC-HsTFIIB-FL\", \"GFP-HsTFIIB-Core\", \"mC-HsTFIIB-IDR\"])\n",
    "cf_data[\"log_condensed_fraction\"] = np.log10(1 + cf_data[\"condensed_fraction\"])"
   ],
   "metadata": {
    "collapsed": false
   }
  },
  {
   "cell_type": "code",
   "execution_count": null,
   "outputs": [],
   "source": [
    "\n",
    "plot = (\n",
    "        pn.ggplot(cf_data, pn.aes(x=\"conc\", y=\"log_condensed_fraction\", fill=\"prep\"))\n",
    "        + pn.geom_boxplot()\n",
    "        + pn.theme_classic()\n",
    "        + pn.labs(x=\"Protein Concentration ($\\mu$M)\", y=\"Condensed Fraction\", color=\"\", fill=\"\",\n",
    "                  shape=\"\")\n",
    "        + pn.theme(figure_size=(4, 8),\n",
    "                   legend_position=\"none\",\n",
    "                   axis_text=pn.element_text(color=\"black\", size=10, family=\"Arial\"),\n",
    "                   axis_title=pn.element_text(color=\"black\", size=10, family=\"Arial\"))\n",
    "        + pn.scale_fill_manual(values=[\"#fc8d62\", \"#66c2a5\", \"#8da0cb\"])\n",
    "        + pn.scale_color_manual(values=[\"#a1583b\", \"#3a6b5c\", \"#5d6a87\"])\n",
    "        + pn.facet_wrap(\"~prep\", scales=\"free\", ncol=1)\n",
    "\n",
    ")\n",
    "plot"
   ],
   "metadata": {
    "collapsed": false
   }
  },
  {
   "cell_type": "code",
   "execution_count": null,
   "outputs": [],
   "source": [
    "pn.ggsave(plot, working_dir / \"condensed_fraction.svg\", dpi=1200, width=80, height=150, units=\"mm\")"
   ],
   "metadata": {
    "collapsed": false
   }
  },
  {
   "cell_type": "code",
   "execution_count": null,
   "outputs": [],
   "source": [],
   "metadata": {
    "collapsed": false
   }
  },
  {
   "cell_type": "code",
   "execution_count": null,
   "outputs": [],
   "source": [],
   "metadata": {
    "collapsed": false
   }
  },
  {
   "cell_type": "markdown",
   "source": [
    "## Background Intensity plots for TBP and RNA"
   ],
   "metadata": {
    "collapsed": false
   }
  },
  {
   "cell_type": "code",
   "execution_count": 60,
   "outputs": [
    {
     "name": "stderr",
     "output_type": "stream",
     "text": [
      "C:\\Users\\danie\\AppData\\Local\\Temp\\ipykernel_35168\\865757978.py:13: FutureWarning: The default of observed=False is deprecated and will be changed to True in a future version of pandas. Pass observed=False to retain current behavior or observed=True to adopt the future default and silence this warning.\n"
     ]
    },
    {
     "data": {
      "text/plain": "<Figure size 300x300 with 1 Axes>",
      "image/png": "[encoded data removed]"
     },
     "metadata": {
      "image/png": {
       "width": 300,
       "height": 300
      }
     },
     "output_type": "display_data"
    },
    {
     "data": {
      "text/plain": "<Figure Size: (300 x 300)>"
     },
     "execution_count": 60,
     "metadata": {},
     "output_type": "execute_result"
    }
   ],
   "source": [
    "data = pd.read_csv(\n",
    "    \"C:\\\\Users\\\\danie\\\\OneDrive - University of Cape Town\\\\Hons Project\\\\DataAnalysis\\\\new_analysis_20231031\\\\TBP + RNA\\\\TBP + RNA_condensed_fractions.csv\")\n",
    "data = data[data[\"dir_name\"] != \"RNA_ONLY\"]\n",
    "data[\"dir_name\"] = data[\"dir_name\"].astype(\"float\")\n",
    "data[\"dir_name\"] = pd.Categorical(data[\"dir_name\"], ordered=True,\n",
    "                                  categories=sorted(np.unique(data[\"dir_name\"]).tolist()))\n",
    "data = data[[\"prep\", \"dir_name\", \"mean_bg_intensity\", \"mean_fg_intensity\"]].melt(\n",
    "    id_vars=[\"prep\", \"dir_name\"])\n",
    "data.loc[data[\"variable\"] == \"mean_bg_intensity\", \"variable\"] = \"Background Intensity\"\n",
    "data.loc[data[\"variable\"] == \"mean_fg_intensity\", \"variable\"] = \"Foreground Intensity\"\n",
    "\n",
    "data_means = data.copy()\n",
    "data_means = data_means.groupby([\"prep\", \"dir_name\", \"variable\"]).mean().reset_index()\n",
    "\n",
    "plot = (\n",
    "        pn.ggplot(data, pn.aes(x=\"dir_name\", y=\"value\", fill=\"variable\"))\n",
    "        + pn.geom_point()\n",
    "\n",
    "        + pn.geom_line(data_means, pn.aes(group=\"variable\"))\n",
    "        + pn.labs(x=\"RNA Concentration (ng/$\\mu$L)\", y=\"Intensity\", color=\"\", fill=\"\",\n",
    "                  shape=\"\")\n",
    "        + pn.theme_classic()\n",
    "        + pn.theme(figure_size=(3, 3),\n",
    "                   legend_position=\"bottom\",\n",
    "                   axis_text=pn.element_text(color=\"black\", size=10, family=\"Arial\"),\n",
    "                   axis_title=pn.element_text(color=\"black\", size=10, family=\"Arial\"))\n",
    "        + pn.scale_fill_manual(values=[\"#000000\", \"#557C55\"])\n",
    "    # + pn.geom_jitter()\n",
    ")\n",
    "plot"
   ],
   "metadata": {
    "collapsed": false,
    "ExecuteTime": {
     "end_time": "2023-11-13T11:37:58.032793300Z",
     "start_time": "2023-11-13T11:37:57.663028800Z"
    }
   }
  },
  {
   "cell_type": "code",
   "execution_count": 62,
   "outputs": [
    {
     "name": "stderr",
     "output_type": "stream",
     "text": [
      "C:\\Users\\danie\\code\\llps_analysis\\venv\\Lib\\site-packages\\plotnine\\ggplot.py:587: PlotnineWarning: Saving 120.00000000000001 x 80.0 mm image.\n",
      "C:\\Users\\danie\\code\\llps_analysis\\venv\\Lib\\site-packages\\plotnine\\ggplot.py:588: PlotnineWarning: Filename: C:\\Users\\danie\\OneDrive - University of Cape Town\\Hons Project\\DataAnalysis\\new_analysis_20231031\\supplementary\\bg_vs_fg_intensities\\TBP+RNA.pdf\n"
     ]
    }
   ],
   "source": [
    "pn.ggsave(plot,\n",
    "          \"C:\\\\Users\\\\danie\\\\OneDrive - University of Cape Town\\\\Hons Project\\\\DataAnalysis\\\\new_analysis_20231031\\\\supplementary\\\\bg_vs_fg_intensities\\\\TBP+RNA.pdf\",\n",
    "          dpi=1200, width=120, height=80, units=\"mm\")"
   ],
   "metadata": {
    "collapsed": false,
    "ExecuteTime": {
     "end_time": "2023-11-13T11:38:58.300253700Z",
     "start_time": "2023-11-13T11:38:57.619376600Z"
    }
   }
  },
  {
   "cell_type": "markdown",
   "source": [
    "## Analysis of TBP + DNA Data"
   ],
   "metadata": {
    "collapsed": false
   }
  },
  {
   "cell_type": "code",
   "execution_count": 4,
   "outputs": [],
   "source": [
    "data = pd.read_excel(\n",
    "    \"C:\\\\Users\\\\danie\\\\OneDrive - University of Cape Town\\\\Hons Project\\\\DataAnalysis\\\\new_analysis_20231031\\\\TBP + DNA\\\\TBP with and without DNA.xlsx\")\n",
    "fl_data = pd.read_csv(\n",
    "    \"C:\\\\Users\\\\danie\\\\OneDrive - University of Cape Town\\\\Hons Project\\\\DataAnalysis\\\\new_analysis_20231031\\\\TBP + DNA\\\\TBP FL_regions.csv\")\n",
    "fl_data[\"prep\"] = \"TBP FL\"\n",
    "fl_data = fl_data[fl_data[\"dir_name\"] == 9]\n",
    "data = pd.concat([data, fl_data])\n",
    "data.loc[data[\"dir_name\"] == 0, \"prep\"] = \"TBP FL\"\n",
    "data.loc[data[\"dir_name\"] == 0, \"dir_name\"] = 9\n",
    "data.loc[data[\"prep\"] == 'TBP + DNA 200ng Redo', \"prep\"] = \"TBP + DNA\"\n",
    "data = data[data[\"area\"] >= 50]\n",
    "\n",
    "data[\"area_log\"] = np.log10(data[\"area\"])\n",
    "data[\"dir_name\"] = pd.Categorical(data[\"dir_name\"], ordered=True,\n",
    "                                  categories=sorted(np.unique(data[\"dir_name\"]).tolist()))\n",
    "data[\"circularity\"] = (4 * np.pi * data[\"area\"]) / (data[\"perimeter\"] ** 2)"
   ],
   "metadata": {
    "collapsed": false,
    "ExecuteTime": {
     "end_time": "2023-11-13T11:10:31.866711700Z",
     "start_time": "2023-11-13T11:10:25.956241400Z"
    }
   }
  },
  {
   "cell_type": "code",
   "execution_count": null,
   "outputs": [],
   "source": [
    "plot = (\n",
    "\n",
    "        pn.ggplot(data, pn.aes(x=\"dir_name\", y=\"area_log\", fill=\"prep\", color=\"prep\"))\n",
    "        # + pn.geom_jitter()\n",
    "        + pn.geom_boxplot()\n",
    "\n",
    ")\n",
    "\n",
    "plot"
   ],
   "metadata": {
    "collapsed": false
   }
  },
  {
   "cell_type": "markdown",
   "source": [
    "## Analysis of TBP + TFIIB IDR Data"
   ],
   "metadata": {
    "collapsed": false
   }
  },
  {
   "cell_type": "code",
   "execution_count": null,
   "outputs": [],
   "source": [
    "data = pd.read_excel(\n",
    "    \"C:\\\\Users\\\\danie\\\\OneDrive - University of Cape Town\\\\Hons Project\\\\DataAnalysis\\\\new_analysis_20231031\\\\TBP Core +- TFIIB IDR\\\\condensed_fractions.xlsx\")\n",
    "\n",
    "data[\"prep\"] = pd.Categorical(data[\"prep\"], ordered=True, categories=[\n",
    "    'TBP FL',\n",
    "    'TBP Core',\n",
    "    'TBP IDR',\n",
    "    'IIB FL + TBP FL',\n",
    "    'IIB FL + TBP CORE',\n",
    "    'IIBFL + TBP IDR',\n",
    "    'IIB IDR + TBP FL',\n",
    "    'IIB IDR + TBP Core',\n",
    "    'IIB IDR + TBP IDR',\n",
    "])\n",
    "data.loc[data[\"group\"] == \"FL\", \"group\"] = \"TBP FL\"\n",
    "data.loc[data[\"group\"] == \"CORE\", \"group\"] = \"TBP C\"\n",
    "data.loc[data[\"group\"] == \"IDR\", \"group\"] = \"TBP IDR\"\n",
    "\n",
    "data[\"group\"] = pd.Categorical(data[\"group\"], ordered=True, categories=[\"TBP FL\", \"TBP C\", \"TBP IDR\"])\n",
    "\n",
    "data[\"IIBRegion\"] = pd.Categorical(data[\"IIBRegion\"], ordered=True, categories=[\"TBP\", \"FL\", \"IDR\"])"
   ],
   "metadata": {
    "collapsed": false
   }
  },
  {
   "cell_type": "code",
   "execution_count": null,
   "outputs": [],
   "source": [],
   "metadata": {
    "collapsed": false
   }
  },
  {
   "cell_type": "code",
   "execution_count": null,
   "outputs": [],
   "source": [
    "plot = (\n",
    "        pn.ggplot(data[data[\"group\"] == \"TBP C\"], pn.aes(x=\"IIBRegion\", y=\"condensed_fraction\", fill=\"prep\")) +\n",
    "        pn.geom_boxplot(outlier_alpha=0)\n",
    "        + pn.geom_jitter(alpha=0.5)\n",
    "        + pn.scale_fill_manual(\n",
    "    values=[\"#31688e\", \"#35b779\", \"#440154\", \"#fc8d62\", \"#fc8d62\", \"#fc8d62\", \"#8da0cb\", \"#8da0cb\", \"#8da0cb\"])\n",
    "        # Values: TBP FL, IIB + TBP FL, TBP Core, IIB + TBP Core, TBP IDR, IIB IDR + TBP IDR\n",
    "        # + pn.scale_color_manual(values=[\"#000000\", \"#31688e\", \"#000000\", \"#35b779\", \"#000000\", \"#440154\"])\n",
    "        + pn.scale_x_discrete(labels=[\"TBP Only\", \"+ IIB FL\", \"+ IIB IDR\"])\n",
    "        + pn.labs(x=\"\", y=\"Condensed Fraction\")\n",
    "\n",
    "        + pn.theme_classic()\n",
    "        + pn.facet_wrap(\"~group\", scales=\"free_x\", ncol=1)\n",
    "        + pn.annotate(\"segment\", x=\"TBP\", xend=\"TBP\", y=0, yend=0, color=\"black\", size=0.5)\n",
    "        + pn.theme(figure_size=(3, 3),\n",
    "                   legend_position=\"none\",\n",
    "                   axis_text=pn.element_text(color=\"black\", size=10, family=\"Arial\"),\n",
    "                   axis_title=pn.element_text(color=\"black\", size=10, family=\"Arial\"),\n",
    "                   axis_text_x=pn.element_text(angle=0),\n",
    "                   panel_spacing_y=0.1)\n",
    "\n",
    ")\n",
    "\n",
    "plot"
   ],
   "metadata": {
    "collapsed": false
   }
  },
  {
   "cell_type": "code",
   "execution_count": null,
   "outputs": [],
   "source": [
    "pn.ggsave(plot,\n",
    "          \"C:\\\\Users\\\\danie\\\\OneDrive - University of Cape Town\\\\Hons Project\\\\DataAnalysis\\\\new_analysis_20231031\\\\TBP Core +- TFIIB IDR\\\\TBP_Core_plus_IIB.svg\",\n",
    "          dpi=1200, width=3, height=3, units=\"in\")"
   ],
   "metadata": {
    "collapsed": false
   }
  },
  {
   "cell_type": "markdown",
   "source": [
    "## Analysing how the condensed fraction of TFIIB changes with and without DNA"
   ],
   "metadata": {
    "collapsed": false
   }
  },
  {
   "cell_type": "code",
   "execution_count": null,
   "outputs": [],
   "source": [
    "regions_comp = pd.read_excel(\n",
    "    \"C:\\\\Users\\\\danie\\\\OneDrive - University of Cape Town\\\\Hons Project\\\\DataAnalysis\\\\new_analysis_20231031\\\\TFIIB cond fraction accross conditions\\\\cf_data.xlsx\",\n",
    "    sheet_name=\"regions\")\n",
    "\n",
    "regions_comp[\"dir_name\"] = regions_comp[\"dir_name\"].astype(\"float\")\n",
    "regions_comp[\"conc\"] = 0.0\n",
    "regions_comp.loc[regions_comp[\"prep\"] == \"HsTFIIB Only\", \"conc\"] = 113 / regions_comp[\"dir_name\"]\n",
    "regions_comp.loc[regions_comp[\"prep\"] == \"HSTFIIB + RNA\", \"conc\"] = regions_comp.loc[\n",
    "    regions_comp[\"prep\"] == \"HSTFIIB + RNA\", \"dir_name\"]\n",
    "\n",
    "regions_comp[\"conc\"] = np.round(regions_comp[\"conc\"], 1)\n",
    "\n",
    "regions_comp[\"conc\"] = pd.Categorical(regions_comp[\"conc\"], ordered=True,\n",
    "                                      categories=sorted(np.unique(regions_comp[\"conc\"]).tolist()))\n",
    "\n",
    "regions_comp = regions_comp[regions_comp[\"area\"] > 10]\n",
    "regions_comp[\"log_area\"] = np.log10(regions_comp[\"area\"])\n",
    "regions_comp = regions_comp[(regions_comp[\"prep\"] == \"HsTFIIB + RNA\") | (\n",
    "        (regions_comp[\"prep\"] == \"HsTFIIB Only\") & (regions_comp[\"conc\"] == 3.5))]"
   ],
   "metadata": {
    "collapsed": false
   }
  },
  {
   "cell_type": "code",
   "execution_count": null,
   "outputs": [],
   "source": [
    "plot = (\n",
    "        pn.ggplot(regions_comp, pn.aes(x=\"conc\", y=\"mean_intensity\", fill=\"prep\"))\n",
    "        + pn.geom_jitter()\n",
    "        + pn.facet_wrap(\"~prep\", scales=\"free_x\")\n",
    ")\n",
    "plot"
   ],
   "metadata": {
    "collapsed": false
   }
  },
  {
   "cell_type": "code",
   "execution_count": null,
   "outputs": [],
   "source": [
    "tfii_vs_dna_vs_rna = pd.read_excel(\n",
    "    \"C:\\\\Users\\\\danie\\\\OneDrive - University of Cape Town\\\\Hons Project\\\\DataAnalysis\\\\new_analysis_20231031\\\\TFIIB cond fraction accross conditions\\\\cf_data.xlsx\")\n",
    "tfii_vs_dna_vs_rna[\"image_name\"] = tfii_vs_dna_vs_rna[\"image_name\"].astype(\"str\")\n",
    "# iib_tbp_titration[\"fold_intensity\"] = iib_tbp_titration[\"mean_fg_intensity\"] / iib_tbp_titration[\n",
    "# \"mean_bg_intensity\"]\n",
    "\n",
    "# iib_tbp_titration = iib_tbp_titration[iib_tbp_titration[\"dir_name\"] != \"NoMg\"]\n",
    "\n"
   ],
   "metadata": {
    "collapsed": false
   }
  },
  {
   "cell_type": "code",
   "execution_count": null,
   "outputs": [],
   "source": [
    "tfii_vs_dna_vs_rna"
   ],
   "metadata": {
    "collapsed": false
   }
  },
  {
   "cell_type": "code",
   "execution_count": null,
   "outputs": [],
   "source": [
    "tfii_vs_dna_vs_rna[\"image_name\"].str.contains(\"Blue3\")"
   ],
   "metadata": {
    "collapsed": false
   }
  },
  {
   "cell_type": "code",
   "execution_count": null,
   "outputs": [],
   "source": [
    "tfii_vs_dna_vs_rna[\"channel\"] = \"\"\n",
    "tfii_vs_dna_vs_rna.loc[tfii_vs_dna_vs_rna[\"image_name\"].str.contains(\"Blue3\"), \"channel\"] = \"TFIIB\"\n",
    "tfii_vs_dna_vs_rna.loc[tfii_vs_dna_vs_rna[\"image_name\"].str.contains(\"Green\"), \"channel\"] = \"TBP\"\n",
    "# tfii_vs_dna_vs_rna.loc[tfii_vs_dna_vs_rna[\"channel\"] == \"\", \"channel\"] = \"Merged\""
   ],
   "metadata": {
    "collapsed": false
   }
  },
  {
   "cell_type": "code",
   "execution_count": null,
   "outputs": [],
   "source": [
    "\n",
    "# tfii_vs_dna_vs_rna[\"dir_name\"] = tfii_vs_dna_vs_rna[\"dir_name\"].astype(\"int\")\n",
    "\n",
    "# tfii_vs_dna_vs_rna[\"conc\"] = tfii_vs_dna_vs_rna.apply(lambda row: fix_concentration(row, constructs), axis=1)\n",
    "\n",
    "tfii_vs_dna_vs_rna[\"conc\"] = np.round(tfii_vs_dna_vs_rna[\"conc\"], 1)\n",
    "\n",
    "tfii_vs_dna_vs_rna[\"conc\"] = pd.Categorical(tfii_vs_dna_vs_rna[\"conc\"], ordered=True,\n",
    "                                            categories=sorted(\n",
    "                                                np.unique(tfii_vs_dna_vs_rna[\"conc\"]).tolist()))\n"
   ],
   "metadata": {
    "collapsed": false
   }
  },
  {
   "cell_type": "code",
   "execution_count": null,
   "outputs": [],
   "source": [
    "plot = (\n",
    "        pn.ggplot(tfii_vs_dna_vs_rna[tfii_vs_dna_vs_rna[\"channel\"] != \"Merged\"],\n",
    "                  pn.aes(x=\"conc\", y=\"condensed_fraction\"))\n",
    "        + pn.geom_boxplot(pn.aes(), outlier_alpha=0)\n",
    "        + pn.geom_jitter(pn.aes(color=\"channel\"), width=0.1)\n",
    "        + pn.theme_classic()\n",
    "        + pn.labs(x=\"YFP-HsTBP-FL Concentration ($\\mu$M)\", y=\"Condensed phase intensity\", color=\"\", fill=\"\",\n",
    "                  shape=\"\")\n",
    "        + pn.theme(figure_size=(8, 4),\n",
    "                   legend_position=\"none\",\n",
    "                   axis_text=pn.element_text(color=\"black\", size=10, family=\"Arial\"),\n",
    "                   axis_title=pn.element_text(color=\"black\", size=10, family=\"Arial\"))\n",
    "        + pn.facet_wrap(\"~prep\", scales=\"free\")\n",
    "        + pn.scale_color_manual(values=[\"#190482\", \"#004225\", \"#D80032\"])\n",
    ")\n",
    "plot"
   ],
   "metadata": {
    "collapsed": false
   }
  },
  {
   "cell_type": "code",
   "execution_count": null,
   "outputs": [],
   "source": [
    "pn.ggsave(plot,\n",
    "          \"C:\\\\Users\\\\danie\\\\OneDrive - University of Cape Town\\\\Hons Project\\\\DataAnalysis\\\\new_analysis_20231031\\\\TFIIB cond fraction accross conditions\\\\condensed_phase_intensity.svg\",\n",
    "          dpi=1200, width=210, height=90, units=\"mm\")"
   ],
   "metadata": {
    "collapsed": false
   }
  },
  {
   "cell_type": "code",
   "execution_count": null,
   "outputs": [],
   "source": [
    "iib_tbp_titration = pd.read_csv(\n",
    "    \"C:\\\\Users\\\\danie\\\\OneDrive - University of Cape Town\\\\Hons Project\\\\DataAnalysis\\\\new_analysis_20231031\\\\TFIIB + TBP Titration\\\\TFIIB + TBP Titration_condensed_fractions.csv\")\n",
    "\n",
    "iib_tbp_titration[\"fold_intensity\"] = iib_tbp_titration[\"mean_fg_intensity\"] / iib_tbp_titration[\n",
    "    \"mean_bg_intensity\"]\n",
    "\n",
    "iib_tbp_titration = iib_tbp_titration[iib_tbp_titration[\"dir_name\"] != \"NoMg\"]\n",
    "\n",
    "iib_tbp_titration[\"channel\"] = \"\"\n",
    "iib_tbp_titration.loc[iib_tbp_titration[\"image_name\"].str.contains(\"Blue3\"), \"channel\"] = \"TFIIB\"\n",
    "iib_tbp_titration.loc[iib_tbp_titration[\"image_name\"].str.contains(\"Green\"), \"channel\"] = \"TBP\"\n",
    "iib_tbp_titration.loc[iib_tbp_titration[\"channel\"] == \"\", \"channel\"] = \"Merged\"\n",
    "iib_tbp_titration[\"dir_name\"] = iib_tbp_titration[\"dir_name\"].astype(\"int\")\n",
    "\n",
    "iib_tbp_titration[\"conc\"] = iib_tbp_titration.apply(lambda row: fix_concentration(row, constructs), axis=1)\n",
    "\n",
    "iib_tbp_titration[\"conc\"] = np.round(iib_tbp_titration[\"conc\"], 1)\n",
    "\n",
    "iib_tbp_titration[\"conc\"] = pd.Categorical(iib_tbp_titration[\"conc\"], ordered=True,\n",
    "                                           categories=sorted(\n",
    "                                               np.unique(iib_tbp_titration[\"conc\"]).tolist()))\n"
   ],
   "metadata": {
    "collapsed": false
   }
  },
  {
   "cell_type": "code",
   "execution_count": null,
   "outputs": [],
   "source": [
    "plot = (\n",
    "        pn.ggplot(iib_tbp_titration[iib_tbp_titration[\"channel\"] != \"Merged\"], pn.aes(x=\"conc\", y=\"mean_fg_intensity\"))\n",
    "        + pn.geom_boxplot(pn.aes(), outlier_alpha=0)\n",
    "        + pn.geom_jitter(pn.aes(color=\"channel\"), width=0.1)\n",
    "        + pn.theme_classic()\n",
    "        + pn.labs(x=\"YFP-HsTBP-FL Concentration ($\\mu$M)\", y=\"Condensed phase intensity\", color=\"\", fill=\"\",\n",
    "                  shape=\"\")\n",
    "        + pn.theme(figure_size=(8, 4),\n",
    "                   legend_position=\"none\",\n",
    "                   axis_text=pn.element_text(color=\"black\", size=10, family=\"Arial\"),\n",
    "                   axis_title=pn.element_text(color=\"black\", size=10, family=\"Arial\"))\n",
    "        + pn.facet_wrap(\"~channel\")\n",
    "        + pn.scale_color_manual(values=[\"#190482\", \"#004225\", \"#D80032\"])\n",
    ")\n",
    "plot"
   ],
   "metadata": {
    "collapsed": false
   }
  },
  {
   "cell_type": "code",
   "execution_count": null,
   "outputs": [],
   "source": [
    "pn.ggsave(plot,\n",
    "          \"C:\\\\Users\\\\danie\\\\OneDrive - University of Cape Town\\\\Hons Project\\\\DataAnalysis\\\\new_analysis_20231031\\\\TFIIB + TBP Titration\\\\condensed_phase_intensity.svg\",\n",
    "          dpi=1200, width=210, height=90, units=\"mm\")"
   ],
   "metadata": {
    "collapsed": false
   }
  },
  {
   "cell_type": "code",
   "execution_count": 37,
   "outputs": [],
   "source": [
    "iib_tbp_dna_regions = pd.read_csv(\n",
    "    \"C:\\\\Users\\\\danie\\\\OneDrive - University of Cape Town\\\\Hons Project\\\\DataAnalysis\\\\new_analysis_20231031\\\\TFIIB + TBP + DNA\\\\TFIIB + TBP + DNA_regions.csv\",\n",
    "    low_memory=False)\n",
    "\n",
    "iib_tbp_dna_regions = iib_tbp_dna_regions[iib_tbp_dna_regions[\"dir_name\"] != \"NoMg\"]\n",
    "\n",
    "iib_tbp_dna_regions[\"channel\"] = \"\"\n",
    "iib_tbp_dna_regions.loc[iib_tbp_dna_regions[\"image_name\"].str.contains(\"Blue1\"), \"channel\"] = \"DNA\"\n",
    "iib_tbp_dna_regions.loc[iib_tbp_dna_regions[\"image_name\"].str.contains(\"Green\"), \"channel\"] = \"TBP\"\n",
    "iib_tbp_dna_regions.loc[iib_tbp_dna_regions[\"image_name\"].str.contains(\"Blue6\"), \"channel\"] = \"TFIIB\"\n",
    "iib_tbp_dna_regions.loc[iib_tbp_dna_regions[\"channel\"] == \"\", \"channel\"] = \"Merged\"\n",
    "iib_tbp_dna_regions[\"dir_name\"] = iib_tbp_dna_regions[\"dir_name\"].astype(\"int\")\n",
    "iib_tbp_dna_regions[\"dir_name\"] = pd.Categorical(iib_tbp_dna_regions[\"dir_name\"], ordered=True,\n",
    "                                                 categories=sorted(\n",
    "                                                     np.unique(iib_tbp_dna_regions[\"dir_name\"]).tolist()))\n"
   ],
   "metadata": {
    "collapsed": false,
    "ExecuteTime": {
     "end_time": "2023-11-13T11:20:11.971090400Z",
     "start_time": "2023-11-13T11:20:11.742378100Z"
    }
   }
  },
  {
   "cell_type": "code",
   "execution_count": 38,
   "outputs": [
    {
     "data": {
      "text/plain": "        area  mean_intensity   perimeter  axis_major_length  \\\n0      883.0        0.131418  112.325902          36.657245   \n1      160.0        0.104167   45.798990          14.919853   \n2      304.0        0.117086   65.526912          20.251293   \n3      191.0        0.108434   51.455844          16.460351   \n4      215.0        0.107132   53.213203          17.032720   \n...      ...             ...         ...                ...   \n64434   70.0        0.215502   31.798990          12.840270   \n64435   34.0        0.217260   19.656854           7.697941   \n64436    8.0        0.201294    7.035534           3.752200   \n64437   23.0        0.215657   15.656854           6.359467   \n64438    6.0        0.195917    5.414214           3.651484   \n\n       axis_minor_length               prep dir_name  \\\n0              30.770792  TFIIB + TBP + DNA        0   \n1              13.683197  TFIIB + TBP + DNA        0   \n2              19.233059  TFIIB + TBP + DNA        0   \n3              14.889517  TFIIB + TBP + DNA        0   \n4              16.130671  TFIIB + TBP + DNA        0   \n...                  ...                ...      ...   \n64434           7.143722  TFIIB + TBP + DNA       50   \n64435           5.690504  TFIIB + TBP + DNA       50   \n64436           2.769657  TFIIB + TBP + DNA       50   \n64437           4.590973  TFIIB + TBP + DNA       50   \n64438           2.108185  TFIIB + TBP + DNA       50   \n\n                                       image_name channel  \n0       Export_0ngul_DNA_000_RGB_BrightfieldBlue6   TFIIB  \n1       Export_0ngul_DNA_000_RGB_BrightfieldBlue6   TFIIB  \n2       Export_0ngul_DNA_000_RGB_BrightfieldBlue6   TFIIB  \n3       Export_0ngul_DNA_000_RGB_BrightfieldBlue6   TFIIB  \n4       Export_0ngul_DNA_000_RGB_BrightfieldBlue6   TFIIB  \n...                                           ...     ...  \n64434  Export_50ngul_DNA_032_RGB_BrightfieldGreen     TBP  \n64435  Export_50ngul_DNA_032_RGB_BrightfieldGreen     TBP  \n64436  Export_50ngul_DNA_032_RGB_BrightfieldGreen     TBP  \n64437  Export_50ngul_DNA_032_RGB_BrightfieldGreen     TBP  \n64438  Export_50ngul_DNA_032_RGB_BrightfieldGreen     TBP  \n\n[64439 rows x 9 columns]",
      "text/html": "<div>\n<style scoped>\n    .dataframe tbody tr th:only-of-type {\n        vertical-align: middle;\n    }\n\n    .dataframe tbody tr th {\n        vertical-align: top;\n    }\n\n    .dataframe thead th {\n        text-align: right;\n    }\n</style>\n<table border=\"1\" class=\"dataframe\">\n  <thead>\n    <tr style=\"text-align: right;\">\n      <th></th>\n      <th>area</th>\n      <th>mean_intensity</th>\n      <th>perimeter</th>\n      <th>axis_major_length</th>\n      <th>axis_minor_length</th>\n      <th>prep</th>\n      <th>dir_name</th>\n      <th>image_name</th>\n      <th>channel</th>\n    </tr>\n  </thead>\n  <tbody>\n    <tr>\n      <th>0</th>\n      <td>883.0</td>\n      <td>0.131418</td>\n      <td>112.325902</td>\n      <td>36.657245</td>\n      <td>30.770792</td>\n      <td>TFIIB + TBP + DNA</td>\n      <td>0</td>\n      <td>Export_0ngul_DNA_000_RGB_BrightfieldBlue6</td>\n      <td>TFIIB</td>\n    </tr>\n    <tr>\n      <th>1</th>\n      <td>160.0</td>\n      <td>0.104167</td>\n      <td>45.798990</td>\n      <td>14.919853</td>\n      <td>13.683197</td>\n      <td>TFIIB + TBP + DNA</td>\n      <td>0</td>\n      <td>Export_0ngul_DNA_000_RGB_BrightfieldBlue6</td>\n      <td>TFIIB</td>\n    </tr>\n    <tr>\n      <th>2</th>\n      <td>304.0</td>\n      <td>0.117086</td>\n      <td>65.526912</td>\n      <td>20.251293</td>\n      <td>19.233059</td>\n      <td>TFIIB + TBP + DNA</td>\n      <td>0</td>\n      <td>Export_0ngul_DNA_000_RGB_BrightfieldBlue6</td>\n      <td>TFIIB</td>\n    </tr>\n    <tr>\n      <th>3</th>\n      <td>191.0</td>\n      <td>0.108434</td>\n      <td>51.455844</td>\n      <td>16.460351</td>\n      <td>14.889517</td>\n      <td>TFIIB + TBP + DNA</td>\n      <td>0</td>\n      <td>Export_0ngul_DNA_000_RGB_BrightfieldBlue6</td>\n      <td>TFIIB</td>\n    </tr>\n    <tr>\n      <th>4</th>\n      <td>215.0</td>\n      <td>0.107132</td>\n      <td>53.213203</td>\n      <td>17.032720</td>\n      <td>16.130671</td>\n      <td>TFIIB + TBP + DNA</td>\n      <td>0</td>\n      <td>Export_0ngul_DNA_000_RGB_BrightfieldBlue6</td>\n      <td>TFIIB</td>\n    </tr>\n    <tr>\n      <th>...</th>\n      <td>...</td>\n      <td>...</td>\n      <td>...</td>\n      <td>...</td>\n      <td>...</td>\n      <td>...</td>\n      <td>...</td>\n      <td>...</td>\n      <td>...</td>\n    </tr>\n    <tr>\n      <th>64434</th>\n      <td>70.0</td>\n      <td>0.215502</td>\n      <td>31.798990</td>\n      <td>12.840270</td>\n      <td>7.143722</td>\n      <td>TFIIB + TBP + DNA</td>\n      <td>50</td>\n      <td>Export_50ngul_DNA_032_RGB_BrightfieldGreen</td>\n      <td>TBP</td>\n    </tr>\n    <tr>\n      <th>64435</th>\n      <td>34.0</td>\n      <td>0.217260</td>\n      <td>19.656854</td>\n      <td>7.697941</td>\n      <td>5.690504</td>\n      <td>TFIIB + TBP + DNA</td>\n      <td>50</td>\n      <td>Export_50ngul_DNA_032_RGB_BrightfieldGreen</td>\n      <td>TBP</td>\n    </tr>\n    <tr>\n      <th>64436</th>\n      <td>8.0</td>\n      <td>0.201294</td>\n      <td>7.035534</td>\n      <td>3.752200</td>\n      <td>2.769657</td>\n      <td>TFIIB + TBP + DNA</td>\n      <td>50</td>\n      <td>Export_50ngul_DNA_032_RGB_BrightfieldGreen</td>\n      <td>TBP</td>\n    </tr>\n    <tr>\n      <th>64437</th>\n      <td>23.0</td>\n      <td>0.215657</td>\n      <td>15.656854</td>\n      <td>6.359467</td>\n      <td>4.590973</td>\n      <td>TFIIB + TBP + DNA</td>\n      <td>50</td>\n      <td>Export_50ngul_DNA_032_RGB_BrightfieldGreen</td>\n      <td>TBP</td>\n    </tr>\n    <tr>\n      <th>64438</th>\n      <td>6.0</td>\n      <td>0.195917</td>\n      <td>5.414214</td>\n      <td>3.651484</td>\n      <td>2.108185</td>\n      <td>TFIIB + TBP + DNA</td>\n      <td>50</td>\n      <td>Export_50ngul_DNA_032_RGB_BrightfieldGreen</td>\n      <td>TBP</td>\n    </tr>\n  </tbody>\n</table>\n<p>64439 rows × 9 columns</p>\n</div>"
     },
     "execution_count": 38,
     "metadata": {},
     "output_type": "execute_result"
    }
   ],
   "source": [
    "iib_tbp_dna_regions"
   ],
   "metadata": {
    "collapsed": false,
    "ExecuteTime": {
     "end_time": "2023-11-13T11:20:12.628054500Z",
     "start_time": "2023-11-13T11:20:12.550916100Z"
    }
   }
  },
  {
   "cell_type": "code",
   "execution_count": 39,
   "outputs": [],
   "source": [
    "iib_tbp_dna_regions[\"log_area\"] = np.log10(iib_tbp_dna_regions[\"area\"])"
   ],
   "metadata": {
    "collapsed": false,
    "ExecuteTime": {
     "end_time": "2023-11-13T11:20:13.029393200Z",
     "start_time": "2023-11-13T11:20:12.832649800Z"
    }
   }
  },
  {
   "cell_type": "code",
   "execution_count": 44,
   "outputs": [
    {
     "data": {
      "text/plain": "<Figure size 640x480 with 1 Axes>",
      "image/png": "[encoded data removed]"
     },
     "metadata": {
      "image/png": {
       "width": 640,
       "height": 480
      }
     },
     "output_type": "display_data"
    },
    {
     "data": {
      "text/plain": "<Figure Size: (640 x 480)>"
     },
     "execution_count": 44,
     "metadata": {},
     "output_type": "execute_result"
    }
   ],
   "source": [
    "(\n",
    "        pn.ggplot(\n",
    "            iib_tbp_dna_regions[(iib_tbp_dna_regions[\"channel\"] != \"Merged\") & (iib_tbp_dna_regions[\"area\"] > 1000)],\n",
    "            pn.aes(x=\"dir_name\", y=\"log_area\", fill=\"channel\"))\n",
    "        + pn.geom_boxplot(pn.aes())\n",
    ")"
   ],
   "metadata": {
    "collapsed": false,
    "ExecuteTime": {
     "end_time": "2023-11-13T11:21:05.404099500Z",
     "start_time": "2023-11-13T11:21:03.994033900Z"
    }
   }
  },
  {
   "cell_type": "code",
   "execution_count": 2,
   "outputs": [],
   "source": [
    "iib_tbp_dna_cf = pd.read_csv(\n",
    "    \"C:\\\\Users\\\\danie\\\\OneDrive - University of Cape Town\\\\Hons Project\\\\DataAnalysis\\\\new_analysis_20231031\\\\TFIIB + TBP + DNA\\\\TFIIB + TBP + DNA_condensed_fractions.csv\")\n",
    "\n",
    "iib_tbp_dna_cf[\"fold_intensity\"] = iib_tbp_dna_cf[\"mean_fg_intensity\"] / iib_tbp_dna_cf[\n",
    "    \"mean_bg_intensity\"]\n",
    "\n",
    "iib_tbp_dna_cf = iib_tbp_dna_cf[iib_tbp_dna_cf[\"dir_name\"] != \"NoMg\"]\n",
    "\n",
    "iib_tbp_dna_cf[\"channel\"] = \"\"\n",
    "iib_tbp_dna_cf.loc[iib_tbp_dna_cf[\"image_name\"].str.contains(\"Blue1\"), \"channel\"] = \"DNA\"\n",
    "iib_tbp_dna_cf.loc[iib_tbp_dna_cf[\"image_name\"].str.contains(\"Green\"), \"channel\"] = \"TBP\"\n",
    "iib_tbp_dna_cf.loc[iib_tbp_dna_cf[\"image_name\"].str.contains(\"Blue6\"), \"channel\"] = \"TFIIB\"\n",
    "iib_tbp_dna_cf.loc[iib_tbp_dna_cf[\"channel\"] == \"\", \"channel\"] = \"Merged\"\n",
    "iib_tbp_dna_cf[\"dir_name\"] = iib_tbp_dna_cf[\"dir_name\"].astype(\"int\")\n",
    "iib_tbp_dna_cf[\"dir_name\"] = pd.Categorical(iib_tbp_dna_cf[\"dir_name\"], ordered=True,\n",
    "                                            categories=sorted(\n",
    "                                                np.unique(iib_tbp_dna_cf[\"dir_name\"]).tolist()))\n"
   ],
   "metadata": {
    "collapsed": false,
    "ExecuteTime": {
     "end_time": "2023-11-13T15:51:16.674491800Z",
     "start_time": "2023-11-13T15:51:16.597075800Z"
    }
   }
  },
  {
   "cell_type": "code",
   "execution_count": 3,
   "outputs": [
    {
     "data": {
      "text/plain": "     condensed_fraction  mean_intensity  std_intensity  max_intensity  \\\n0              0.039895        0.035933       0.023063       0.208333   \n1              0.031112        0.035238       0.020857       0.208333   \n2              0.041386        0.033956       0.023030       0.203333   \n3              0.036028        0.027032       0.018549       0.200000   \n4              0.026705        0.022510       0.014769       0.191667   \n..                  ...             ...            ...            ...   \n231            0.067407        0.125367       0.094827       0.858380   \n232            0.056065        0.113554       0.081992       0.787594   \n233            0.080566        0.142246       0.096988       0.834997   \n234            0.078853        0.139327       0.098455       0.838344   \n235            0.071281        0.146853       0.102572       0.858840   \n\n     min_intensity  mean_entropy  mean_bg_intensity  mean_fg_intensity  \\\n0         0.011667             0           0.031847           0.134266   \n1         0.013333             0           0.032017           0.135567   \n2         0.010833             0           0.029818           0.129789   \n3         0.007500             0           0.023985           0.108567   \n4         0.006667             0           0.020458           0.097280   \n..             ...           ...                ...                ...   \n231       0.037487             0           0.102840           0.437038   \n232       0.031846             0           0.096126           0.406992   \n233       0.037175             0           0.117219           0.427865   \n234       0.029339             0           0.114094           0.434099   \n235       0.040904             0           0.122045           0.470067   \n\n                    prep dir_name                                 image_name  \\\n0      TFIIB + TBP + DNA        0  Export_0ngul_DNA_000_RGB_BrightfieldBlue6   \n1      TFIIB + TBP + DNA        0  Export_0ngul_DNA_001_RGB_BrightfieldBlue6   \n2      TFIIB + TBP + DNA        0  Export_0ngul_DNA_002_RGB_BrightfieldBlue6   \n3      TFIIB + TBP + DNA        0  Export_0ngul_DNA_003_RGB_BrightfieldBlue6   \n4      TFIIB + TBP + DNA        0  Export_0ngul_DNA_004_RGB_BrightfieldBlue6   \n..                   ...      ...                                        ...   \n231  TFIIB + TBP + DNA 2       50                  Export_50ngul_DNA_028_RGB   \n232  TFIIB + TBP + DNA 2       50                  Export_50ngul_DNA_029_RGB   \n233  TFIIB + TBP + DNA 2       50                  Export_50ngul_DNA_030_RGB   \n234  TFIIB + TBP + DNA 2       50                  Export_50ngul_DNA_031_RGB   \n235  TFIIB + TBP + DNA 2       50                  Export_50ngul_DNA_032_RGB   \n\n     fold_intensity channel  \n0          4.215953   TFIIB  \n1          4.234249   TFIIB  \n2          4.352632   TFIIB  \n3          4.526458   TFIIB  \n4          4.754989   TFIIB  \n..              ...     ...  \n231        4.249702  Merged  \n232        4.233965  Merged  \n233        3.650137  Merged  \n234        3.804742  Merged  \n235        3.851569  Merged  \n\n[216 rows x 13 columns]",
      "text/html": "<div>\n<style scoped>\n    .dataframe tbody tr th:only-of-type {\n        vertical-align: middle;\n    }\n\n    .dataframe tbody tr th {\n        vertical-align: top;\n    }\n\n    .dataframe thead th {\n        text-align: right;\n    }\n</style>\n<table border=\"1\" class=\"dataframe\">\n  <thead>\n    <tr style=\"text-align: right;\">\n      <th></th>\n      <th>condensed_fraction</th>\n      <th>mean_intensity</th>\n      <th>std_intensity</th>\n      <th>max_intensity</th>\n      <th>min_intensity</th>\n      <th>mean_entropy</th>\n      <th>mean_bg_intensity</th>\n      <th>mean_fg_intensity</th>\n      <th>prep</th>\n      <th>dir_name</th>\n      <th>image_name</th>\n      <th>fold_intensity</th>\n      <th>channel</th>\n    </tr>\n  </thead>\n  <tbody>\n    <tr>\n      <th>0</th>\n      <td>0.039895</td>\n      <td>0.035933</td>\n      <td>0.023063</td>\n      <td>0.208333</td>\n      <td>0.011667</td>\n      <td>0</td>\n      <td>0.031847</td>\n      <td>0.134266</td>\n      <td>TFIIB + TBP + DNA</td>\n      <td>0</td>\n      <td>Export_0ngul_DNA_000_RGB_BrightfieldBlue6</td>\n      <td>4.215953</td>\n      <td>TFIIB</td>\n    </tr>\n    <tr>\n      <th>1</th>\n      <td>0.031112</td>\n      <td>0.035238</td>\n      <td>0.020857</td>\n      <td>0.208333</td>\n      <td>0.013333</td>\n      <td>0</td>\n      <td>0.032017</td>\n      <td>0.135567</td>\n      <td>TFIIB + TBP + DNA</td>\n      <td>0</td>\n      <td>Export_0ngul_DNA_001_RGB_BrightfieldBlue6</td>\n      <td>4.234249</td>\n      <td>TFIIB</td>\n    </tr>\n    <tr>\n      <th>2</th>\n      <td>0.041386</td>\n      <td>0.033956</td>\n      <td>0.023030</td>\n      <td>0.203333</td>\n      <td>0.010833</td>\n      <td>0</td>\n      <td>0.029818</td>\n      <td>0.129789</td>\n      <td>TFIIB + TBP + DNA</td>\n      <td>0</td>\n      <td>Export_0ngul_DNA_002_RGB_BrightfieldBlue6</td>\n      <td>4.352632</td>\n      <td>TFIIB</td>\n    </tr>\n    <tr>\n      <th>3</th>\n      <td>0.036028</td>\n      <td>0.027032</td>\n      <td>0.018549</td>\n      <td>0.200000</td>\n      <td>0.007500</td>\n      <td>0</td>\n      <td>0.023985</td>\n      <td>0.108567</td>\n      <td>TFIIB + TBP + DNA</td>\n      <td>0</td>\n      <td>Export_0ngul_DNA_003_RGB_BrightfieldBlue6</td>\n      <td>4.526458</td>\n      <td>TFIIB</td>\n    </tr>\n    <tr>\n      <th>4</th>\n      <td>0.026705</td>\n      <td>0.022510</td>\n      <td>0.014769</td>\n      <td>0.191667</td>\n      <td>0.006667</td>\n      <td>0</td>\n      <td>0.020458</td>\n      <td>0.097280</td>\n      <td>TFIIB + TBP + DNA</td>\n      <td>0</td>\n      <td>Export_0ngul_DNA_004_RGB_BrightfieldBlue6</td>\n      <td>4.754989</td>\n      <td>TFIIB</td>\n    </tr>\n    <tr>\n      <th>...</th>\n      <td>...</td>\n      <td>...</td>\n      <td>...</td>\n      <td>...</td>\n      <td>...</td>\n      <td>...</td>\n      <td>...</td>\n      <td>...</td>\n      <td>...</td>\n      <td>...</td>\n      <td>...</td>\n      <td>...</td>\n      <td>...</td>\n    </tr>\n    <tr>\n      <th>231</th>\n      <td>0.067407</td>\n      <td>0.125367</td>\n      <td>0.094827</td>\n      <td>0.858380</td>\n      <td>0.037487</td>\n      <td>0</td>\n      <td>0.102840</td>\n      <td>0.437038</td>\n      <td>TFIIB + TBP + DNA 2</td>\n      <td>50</td>\n      <td>Export_50ngul_DNA_028_RGB</td>\n      <td>4.249702</td>\n      <td>Merged</td>\n    </tr>\n    <tr>\n      <th>232</th>\n      <td>0.056065</td>\n      <td>0.113554</td>\n      <td>0.081992</td>\n      <td>0.787594</td>\n      <td>0.031846</td>\n      <td>0</td>\n      <td>0.096126</td>\n      <td>0.406992</td>\n      <td>TFIIB + TBP + DNA 2</td>\n      <td>50</td>\n      <td>Export_50ngul_DNA_029_RGB</td>\n      <td>4.233965</td>\n      <td>Merged</td>\n    </tr>\n    <tr>\n      <th>233</th>\n      <td>0.080566</td>\n      <td>0.142246</td>\n      <td>0.096988</td>\n      <td>0.834997</td>\n      <td>0.037175</td>\n      <td>0</td>\n      <td>0.117219</td>\n      <td>0.427865</td>\n      <td>TFIIB + TBP + DNA 2</td>\n      <td>50</td>\n      <td>Export_50ngul_DNA_030_RGB</td>\n      <td>3.650137</td>\n      <td>Merged</td>\n    </tr>\n    <tr>\n      <th>234</th>\n      <td>0.078853</td>\n      <td>0.139327</td>\n      <td>0.098455</td>\n      <td>0.838344</td>\n      <td>0.029339</td>\n      <td>0</td>\n      <td>0.114094</td>\n      <td>0.434099</td>\n      <td>TFIIB + TBP + DNA 2</td>\n      <td>50</td>\n      <td>Export_50ngul_DNA_031_RGB</td>\n      <td>3.804742</td>\n      <td>Merged</td>\n    </tr>\n    <tr>\n      <th>235</th>\n      <td>0.071281</td>\n      <td>0.146853</td>\n      <td>0.102572</td>\n      <td>0.858840</td>\n      <td>0.040904</td>\n      <td>0</td>\n      <td>0.122045</td>\n      <td>0.470067</td>\n      <td>TFIIB + TBP + DNA 2</td>\n      <td>50</td>\n      <td>Export_50ngul_DNA_032_RGB</td>\n      <td>3.851569</td>\n      <td>Merged</td>\n    </tr>\n  </tbody>\n</table>\n<p>216 rows × 13 columns</p>\n</div>"
     },
     "execution_count": 3,
     "metadata": {},
     "output_type": "execute_result"
    }
   ],
   "source": [
    "iib_tbp_dna_cf"
   ],
   "metadata": {
    "collapsed": false,
    "ExecuteTime": {
     "end_time": "2023-11-13T15:51:18.627963600Z",
     "start_time": "2023-11-13T15:51:18.555042800Z"
    }
   }
  },
  {
   "cell_type": "code",
   "execution_count": 4,
   "outputs": [],
   "source": [
    "iib_tbp_dna_cf[\"fold_intensity\"] = iib_tbp_dna_cf[\"mean_fg_intensity\"] / iib_tbp_dna_cf[\"mean_bg_intensity\"]"
   ],
   "metadata": {
    "collapsed": false,
    "ExecuteTime": {
     "end_time": "2023-11-13T15:51:18.828295700Z",
     "start_time": "2023-11-13T15:51:18.741419100Z"
    }
   }
  },
  {
   "cell_type": "code",
   "execution_count": 5,
   "outputs": [],
   "source": [
    "iib_tbp_dna_cf[\"log_fold_intensity\"] = np.log2(iib_tbp_dna_cf[\"fold_intensity\"])"
   ],
   "metadata": {
    "collapsed": false,
    "ExecuteTime": {
     "end_time": "2023-11-13T15:51:19.612281100Z",
     "start_time": "2023-11-13T15:51:19.547973400Z"
    }
   }
  },
  {
   "cell_type": "code",
   "execution_count": 8,
   "outputs": [
    {
     "data": {
      "text/plain": "<Figure size 900x300 with 1 Axes>",
      "image/png": "[encoded data removed]"
     },
     "metadata": {
      "image/png": {
       "width": 900,
       "height": 300
      }
     },
     "output_type": "display_data"
    },
    {
     "data": {
      "text/plain": "<Figure Size: (900 x 300)>"
     },
     "execution_count": 8,
     "metadata": {},
     "output_type": "execute_result"
    }
   ],
   "source": [
    "plot = (\n",
    "        pn.ggplot(iib_tbp_dna_cf[iib_tbp_dna_cf[\"channel\"] != \"Merged\"], pn.aes(x=\"dir_name\",\n",
    "                                                                                y=\"condensed_fraction\",\n",
    "                                                                                ))\n",
    "\n",
    "        + pn.geom_boxplot(pn.aes(color=\"channel\"), outlier_alpha=0)\n",
    "        # + pn.geom_jitter(pn.aes(color=\"channel\"), width=0.1)\n",
    "        + pn.theme_classic()\n",
    "        + pn.labs(x=\"DNA Concentration (ng/$\\mu$L)\", y=\"Condensed Fraction\", color=\"\", fill=\"\",\n",
    "                  shape=\"\")\n",
    "        + pn.theme(figure_size=(9, 3),\n",
    "                   legend_position=\"top\",\n",
    "                   axis_text=pn.element_text(color=\"black\", size=12, family=\"Arial\"),\n",
    "                   axis_title=pn.element_text(color=\"black\", size=12, family=\"Arial\"))\n",
    "        + pn.scale_color_manual(values=[\"#190482\", \"#004225\", \"#D80032\"])\n",
    ")\n",
    "plot"
   ],
   "metadata": {
    "collapsed": false,
    "ExecuteTime": {
     "end_time": "2023-11-13T15:52:44.789600300Z",
     "start_time": "2023-11-13T15:52:42.795319900Z"
    }
   }
  },
  {
   "cell_type": "code",
   "execution_count": 9,
   "outputs": [
    {
     "name": "stderr",
     "output_type": "stream",
     "text": [
      "C:\\Users\\danie\\code\\llps_analysis\\venv\\Lib\\site-packages\\plotnine\\ggplot.py:587: PlotnineWarning: Saving 206.0 x 100.0 mm image.\n",
      "C:\\Users\\danie\\code\\llps_analysis\\venv\\Lib\\site-packages\\plotnine\\ggplot.py:588: PlotnineWarning: Filename: C:\\Users\\danie\\OneDrive - University of Cape Town\\Hons Project\\DataAnalysis\\new_analysis_20231031\\TFIIB + TBP + DNA\\condensed_fraction.svg\n"
     ]
    }
   ],
   "source": [
    "pn.ggsave(plot,\n",
    "          \"C:\\\\Users\\\\danie\\\\OneDrive - University of Cape Town\\\\Hons Project\\\\DataAnalysis\\\\new_analysis_20231031\\\\TFIIB + TBP + DNA\\\\condensed_fraction.svg\",\n",
    "          dpi=1200, width=206, height=100, units=\"mm\")"
   ],
   "metadata": {
    "collapsed": false,
    "ExecuteTime": {
     "end_time": "2023-11-13T15:52:50.716367800Z",
     "start_time": "2023-11-13T15:52:49.965110800Z"
    }
   }
  },
  {
   "cell_type": "code",
   "execution_count": null,
   "outputs": [],
   "source": [
    "iib_idr_tbp_cf = pd.read_csv(\n",
    "    \"C:\\\\Users\\\\danie\\\\OneDrive - University of Cape Town\\\\Hons Project\\\\DataAnalysis\\\\new_analysis_20231031\\\\TFIIB IDR + TBP all\\\\TFIIB IDR + TBP_condensed_fractions.csv\")\n",
    "\n",
    "iib_idr_tbp_cf[\"fold_intensity\"] = iib_idr_tbp_cf[\"mean_fg_intensity\"] / iib_idr_tbp_cf[\n",
    "    \"mean_bg_intensity\"]\n",
    "\n",
    "iib_idr_tbp_cf[\"channel\"] = \"\"\n",
    "iib_idr_tbp_cf.loc[iib_idr_tbp_cf[a\n",
    "\"image_name\"].str.contains(\"Blue\"), \"channel\"] = \"TFIIB\"\n",
    "iib_idr_tbp_cf.loc[iib_idr_tbp_cf[\"image_name\"].str.contains(\"Blue2\"), \"channel\"] = \"TBP\"\n",
    "iib_idr_tbp_cf.loc[iib_idr_tbp_cf[\"channel\"] == \"\", \"channel\"] = \"Merged\"\n",
    "\n",
    "iib_idr_tbp_cf[\"dir_name\"] = pd.Categorical(iib_idr_tbp_cf[\"dir_name\"], ordered=True,\n",
    "                                            categories=sorted(\n",
    "                                                np.unique(iib_idr_tbp_cf[\"dir_name\"]).tolist()))\n"
   ],
   "metadata": {
    "collapsed": false
   }
  },
  {
   "cell_type": "code",
   "execution_count": null,
   "outputs": [],
   "source": [
    "iib_idr_tbp_cf"
   ],
   "metadata": {
    "collapsed": false
   }
  },
  {
   "cell_type": "code",
   "execution_count": null,
   "outputs": [],
   "source": [
    "plot = (\n",
    "        pn.ggplot(iib_idr_tbp_cf[iib_idr_tbp_cf[\"channel\"] != \"Merged\"], pn.aes(x=\"dir_name\",\n",
    "                                                                                y=\"fold_intensity\",\n",
    "                                                                                fill=\"channel\",\n",
    "                                                                                color=\"channel\"))\n",
    "        # + pn.geom_jitter(pn.aes(), width=0.1)\n",
    "        + pn.geom_boxplot(pn.aes())\n",
    "        + pn.theme_classic()\n",
    "        + pn.labs(x=\"Mixing Experiment\", y=\"Fold Intensity\", color=\"\", fill=\"\",\n",
    "                  shape=\"\")\n",
    "        + pn.theme(figure_size=(5, 5),\n",
    "                   legend_position=\"top\",\n",
    "                   axis_text=pn.element_text(color=\"black\", size=10, family=\"Arial\"),\n",
    "                   axis_title=pn.element_text(color=\"black\", size=10, family=\"Arial\"))\n",
    "        + pn.facet_grid(\"x~.\")\n",
    ")\n",
    "plot"
   ],
   "metadata": {
    "collapsed": false
   }
  },
  {
   "cell_type": "code",
   "execution_count": null,
   "outputs": [],
   "source": [
    "\n",
    "iib_tbp_constructs_cf, iib_constructs_regions = load_df(\n",
    "    \"C:\\\\Users\\\\danie\\\\OneDrive - University of Cape Town\\\\Hons Project\\\\DataAnalysis\\\\new_analysis_20231031\\\\TFIIB FL + TBP all_quant\",\n",
    "    \"\")\n",
    "\n",
    "\n",
    "\n",
    "\n"
   ],
   "metadata": {
    "collapsed": false
   }
  },
  {
   "cell_type": "code",
   "execution_count": null,
   "outputs": [],
   "source": [
    "iib_tbp_constructs_cf[\"fold_intensity\"] = iib_tbp_constructs_cf[\"mean_fg_intensity\"] / iib_tbp_constructs_cf[\n",
    "    \"mean_bg_intensity\"]"
   ],
   "metadata": {
    "collapsed": false
   }
  },
  {
   "cell_type": "code",
   "execution_count": null,
   "outputs": [],
   "source": [
    "iib_tbp_constructs_cf[\"channel\"] = \"\"\n",
    "iib_tbp_constructs_cf.loc[iib_tbp_constructs_cf[\"image_name\"].str.contains(\"Blue\"), \"channel\"] = \"TFIIB\"\n",
    "iib_tbp_constructs_cf.loc[iib_tbp_constructs_cf[\"image_name\"].str.contains(\"Red\"), \"channel\"] = \"TBP\"\n",
    "iib_tbp_constructs_cf.loc[iib_tbp_constructs_cf[\"channel\"] == \"\", \"channel\"] = \"Merged\""
   ],
   "metadata": {
    "collapsed": false
   }
  },
  {
   "cell_type": "code",
   "execution_count": null,
   "outputs": [],
   "source": [
    "iib_tbp_constructs_cf[\"dir_name\"] = pd.Categorical(iib_tbp_constructs_cf[\"dir_name\"], ordered=True,\n",
    "                                                   categories=sorted(\n",
    "                                                       np.unique(iib_constructs_regions[\"dir_name\"]).tolist()))"
   ],
   "metadata": {
    "collapsed": false
   }
  },
  {
   "cell_type": "code",
   "execution_count": null,
   "outputs": [],
   "source": [
    "plot = (\n",
    "        pn.ggplot(iib_tbp_constructs_cf[iib_tbp_constructs_cf[\"channel\"] != \"Merged\"], pn.aes(x=\"dir_name\",\n",
    "                                                                                              y=\"condensed_fraction\",\n",
    "                                                                                              fill=\"channel\"))\n",
    "        # + pn.geom_jitter(pn.aes(), width=0.1)\n",
    "        + pn.geom_boxplot(pn.aes())\n",
    "        + pn.theme_classic()\n",
    "        + pn.labs(x=\"Mixing Experiment\", y=\"Fold Intensity\", color=\"\", fill=\"\",\n",
    "                  shape=\"\")\n",
    "        + pn.theme(figure_size=(5, 5),\n",
    "                   legend_position=\"top\",\n",
    "                   axis_text=pn.element_text(color=\"black\", size=10, family=\"Arial\"),\n",
    "                   axis_title=pn.element_text(color=\"black\", size=10, family=\"Arial\"))\n",
    ")\n",
    "plot"
   ],
   "metadata": {
    "collapsed": false
   }
  },
  {
   "cell_type": "code",
   "execution_count": null,
   "outputs": [],
   "source": [
    "pn.ggsave(plot,\n",
    "          \"C:\\\\Users\\\\danie\\\\OneDrive - University of Cape Town\\\\Hons Project\\\\DataAnalysis\\\\new_analysis_20231031\\\\TFIIB FL + TBP all_quant\\\\condensed_fraction.png\",\n",
    "          dpi=1200, width=80, height=80, units=\"mm\")"
   ],
   "metadata": {
    "collapsed": false
   }
  },
  {
   "cell_type": "code",
   "execution_count": null,
   "outputs": [],
   "source": [
    "# constructs = {\n",
    "#\n",
    "#     \"TFIIB FL\": 113,\n",
    "#     \"TFIIB Core\": 28,\n",
    "#     \"TFIIB IDR\": 153,\n",
    "# }\n",
    "\n",
    "constructs = {\n",
    "\n",
    "    \"TBP FL\": 9,\n",
    "    \"TBP Core\": 23,\n",
    "    \"TBP IDR\": 63,\n",
    "}\n"
   ],
   "metadata": {
    "collapsed": false
   }
  },
  {
   "cell_type": "code",
   "execution_count": null,
   "outputs": [],
   "source": [
    "def fix_concentration(row, constructs):\n",
    "    if row[\"dir_name\"] > 0:\n",
    "        return constructs[\"TBP IDR\"] / row[\"dir_name\"]\n",
    "    else:\n",
    "        return 0"
   ],
   "metadata": {
    "collapsed": false
   }
  },
  {
   "cell_type": "code",
   "execution_count": null,
   "outputs": [],
   "source": [
    "def load_construct_regions_and_cfs(constructs, base_dir, fix_conc=False):\n",
    "    regions_dfs = []\n",
    "    condensed_fraction_dfs = []\n",
    "\n",
    "    for key in constructs.keys():\n",
    "        temp = pd.read_csv(base_dir / key / f\"{key}_regions.csv\")\n",
    "        temp[\"prep\"] = key\n",
    "        regions_dfs.append(temp)\n",
    "        temp = pd.read_csv(base_dir / key / f\"{key}_condensed_fractions.csv\")\n",
    "        temp[\"prep\"] = key\n",
    "        condensed_fraction_dfs.append(temp)\n",
    "\n",
    "    regions = pd.concat(regions_dfs)\n",
    "    condensed_fractions = pd.concat(condensed_fraction_dfs)\n",
    "\n",
    "    if fix_conc:\n",
    "        condensed_fractions[\"conc\"] = condensed_fractions.apply(lambda row: fix_concentration(row, constructs), axis=1)\n",
    "\n",
    "    return regions, condensed_fractions\n"
   ],
   "metadata": {
    "collapsed": false
   }
  },
  {
   "cell_type": "code",
   "execution_count": 5,
   "outputs": [],
   "source": [
    "base_dir = Path(\n",
    "    \"C:\\\\Users\\\\danie\\\\OneDrive - University of Cape Town\\\\Hons Project\\\\DataAnalysis\\\\new_analysis_20231031\")"
   ],
   "metadata": {
    "collapsed": false,
    "ExecuteTime": {
     "end_time": "2023-11-13T11:11:08.780910900Z",
     "start_time": "2023-11-13T11:11:08.746910800Z"
    }
   }
  },
  {
   "cell_type": "code",
   "execution_count": null,
   "outputs": [],
   "source": [
    "regions, condensed_fractions = load_construct_regions_and_cfs(constructs, base_dir, fix_conc=True)"
   ],
   "metadata": {
    "collapsed": false
   }
  },
  {
   "cell_type": "code",
   "execution_count": null,
   "outputs": [],
   "source": [],
   "metadata": {
    "collapsed": false
   }
  },
  {
   "cell_type": "code",
   "execution_count": null,
   "outputs": [],
   "source": [
    "temp = condensed_fractions[[\"prep\", \"conc\", \"condensed_fraction\"]]"
   ],
   "metadata": {
    "collapsed": false
   }
  },
  {
   "cell_type": "code",
   "execution_count": null,
   "outputs": [],
   "source": [
    "temp.columns = [\"colour\", \"x\", \"y\"]"
   ],
   "metadata": {
    "collapsed": false
   }
  },
  {
   "cell_type": "code",
   "execution_count": null,
   "outputs": [],
   "source": [
    "\n",
    "temp.loc[:, \"x\"] = temp[\"x\"].astype(\"category\")\n",
    "temp.loc[:, \"log_y\"] = np.log10(temp[\"y\"] + 1)"
   ],
   "metadata": {
    "collapsed": false
   }
  },
  {
   "cell_type": "code",
   "execution_count": null,
   "outputs": [],
   "source": [
    "# replacement = {\n",
    "#     0.21875: 0.5,\n",
    "#     0.4375: 0.5,\n",
    "#     0.59765625: 0.5,\n",
    "#     0.875: 1,\n",
    "#     0.8828125: 1,\n",
    "#     1.1953125: 1,\n",
    "#     1.75: 2,\n",
    "#     1.765625: 2,\n",
    "#     2.390625: 2,\n",
    "#     3.5: 3.5,\n",
    "#     3.53125: 3.5,\n",
    "#     4.78125: 5,\n",
    "#     7.0: 7,\n",
    "#     7.0625: 7,\n",
    "#     9.5625: 9,\n",
    "#     14.125: 14,\n",
    "#     19.125: 20,\n",
    "#     28.25: 28,\n",
    "#     38.25: 38\n",
    "# }"
   ],
   "metadata": {
    "collapsed": false
   }
  },
  {
   "cell_type": "code",
   "execution_count": null,
   "outputs": [],
   "source": [
    "replacement = {\n",
    "    0.11842105263157894: 0.1,\n",
    "    0.12849162011173185: 0.1,\n",
    "    0.23684210526315788: 0.1,\n",
    "    0.25842696629213485: 0.1,\n",
    "    0.47368421052631576: 0.5,\n",
    "    0.4921875: 0.5,\n",
    "    0.5227272727272727: 0.5,\n",
    "    0.984375: 1,\n",
    "    1.0: 1,\n",
    "    1.0454545454545454: 1,\n",
    "    1.96875: 2,\n",
    "    2.090909090909091: 2,\n",
    "    2.25: 2,\n",
    "    3.9375: 4,\n",
    "    4.5: 5,\n",
    "    4.6: 5,\n",
    "    7.875: 8,\n",
    "    11.5: 11,\n",
    "    15.75: 16\n",
    "}"
   ],
   "metadata": {
    "collapsed": false
   }
  },
  {
   "cell_type": "code",
   "execution_count": null,
   "outputs": [],
   "source": [
    "def help(row):\n",
    "    if row[\"x\"] in replacement.keys():\n",
    "        return replacement[row[\"x\"]]\n",
    "    else:\n",
    "        return row[\"x\"]"
   ],
   "metadata": {
    "collapsed": false
   }
  },
  {
   "cell_type": "code",
   "execution_count": null,
   "outputs": [],
   "source": [
    "temp.loc[:, \"x\"] = temp.apply(lambda row: help(row), axis=1)"
   ],
   "metadata": {
    "collapsed": false
   }
  },
  {
   "cell_type": "code",
   "execution_count": null,
   "outputs": [],
   "source": [
    "temp.loc[:, \"x\"] = temp[\"x\"].astype(\"category\")"
   ],
   "metadata": {
    "collapsed": false
   }
  },
  {
   "cell_type": "code",
   "execution_count": null,
   "outputs": [],
   "source": [
    "temp[\"colour\"] = temp[\"colour\"].astype(\"str\")"
   ],
   "metadata": {
    "collapsed": false
   }
  },
  {
   "cell_type": "code",
   "execution_count": null,
   "outputs": [],
   "source": [
    "temp[temp[\"colour\"] == \"TBP Core\"] = \"TBP C\""
   ],
   "metadata": {
    "collapsed": false
   }
  },
  {
   "cell_type": "code",
   "execution_count": null,
   "outputs": [],
   "source": [
    "temp[\"x\"] = temp[\"x\"].astype(\"float\")"
   ],
   "metadata": {
    "collapsed": false
   }
  },
  {
   "cell_type": "code",
   "execution_count": null,
   "outputs": [],
   "source": [
    "np.unique(temp[\"x\"]).tolist()"
   ],
   "metadata": {
    "collapsed": false
   }
  },
  {
   "cell_type": "code",
   "execution_count": null,
   "outputs": [],
   "source": [
    "temp.loc[temp[\"colour\"] == \"TBP IDR\", \"y\"] = 0"
   ],
   "metadata": {
    "collapsed": false
   }
  },
  {
   "cell_type": "code",
   "execution_count": null,
   "outputs": [],
   "source": [
    "temp[temp[\"colour\"] == \"TBP IDR\"]"
   ],
   "metadata": {
    "collapsed": false
   }
  },
  {
   "cell_type": "code",
   "execution_count": null,
   "outputs": [],
   "source": [
    "plot = (\n",
    "        pn.ggplot(temp, pn.aes(x=\"x\", y=\"y\", shape=\"colour\", fill=\"colour\", color=\"colour\"))\n",
    "        # + pn.geom_point()\n",
    "        + pn.geom_boxplot()\n",
    "        + pn.theme_classic()\n",
    "        + pn.labs(x=\"Concentration ($\\mu$M)\", y=\"Condensed Fraction\", color=\"\", fill=\"\",\n",
    "                  shape=\"\")\n",
    "        + pn.scale_x_discrete(labels=[\"0.1\", \"0.5\", \"1\", \"2\", \"4\", \"5\", \"8\", \"11\", \"16\"])\n",
    "        + pn.theme(figure_size=(5, 5),\n",
    "                   legend_position=\"top\",\n",
    "                   axis_text=pn.element_text(color=\"black\", size=10, family=\"Arial\"),\n",
    "                   axis_title=pn.element_text(color=\"black\", size=10, family=\"Arial\"))\n",
    "        + pn.scale_fill_manual(values=[\"#35b779\", \"#31688e\", \"#440154\"])\n",
    "        + pn.scale_color_manual(values=[\"#154a31\", \"#1c3c52\", \"#1f0026\"])\n",
    ")\n",
    "plot"
   ],
   "metadata": {
    "collapsed": false
   }
  },
  {
   "cell_type": "code",
   "execution_count": null,
   "outputs": [],
   "source": [
    "plot.save(base_dir / \"condensed_fraction_boxplot_tbp.svg\", dpi=1200, width=80, height=80, units=\"mm\")"
   ],
   "metadata": {
    "collapsed": false
   }
  },
  {
   "cell_type": "code",
   "execution_count": null,
   "outputs": [],
   "source": [
    "# # TFIIB Colours:\n",
    "# + pn.scale_fill_manual(values=[\"#66c2a5\", \"#fc8d62\", \"#8da0cb\"])\n",
    "#         + pn.scale_color_manual(values=[\"#3a6b5c\", \"#a1583b\", \"#5d6a87\"])"
   ],
   "metadata": {
    "collapsed": false
   }
  },
  {
   "cell_type": "code",
   "execution_count": 6,
   "outputs": [],
   "source": [
    "rna_tfiib_regions = pd.read_csv(base_dir / \"TFIIB + RNA\" / \"HSTFIIB + RNA_regions.csv\")\n",
    "rna_tfiib_cf = pd.read_csv(base_dir / \"TFIIB + RNA\" / \"HSTFIIB + RNA_condensed_fractions.csv\")\n",
    "rna_tfiib_cf = rna_tfiib_cf[rna_tfiib_cf[\"dir_name\"] != \"RNA_control\"]\n",
    "rna_tfiib_cf[\"dir_name\"] = rna_tfiib_cf[\"dir_name\"].astype(\"int\")\n",
    "\n",
    "rna_tfiib_cf[\"dir_name\"] = pd.Categorical(rna_tfiib_cf[\"dir_name\"], ordered=True,\n",
    "                                          categories=sorted(np.unique(rna_tfiib_regions[\"dir_name\"]).tolist()))"
   ],
   "metadata": {
    "collapsed": false,
    "ExecuteTime": {
     "end_time": "2023-11-13T11:11:15.037763Z",
     "start_time": "2023-11-13T11:11:14.938726700Z"
    }
   }
  },
  {
   "cell_type": "code",
   "execution_count": 7,
   "outputs": [
    {
     "data": {
      "text/plain": "    condensed_fraction  mean_intensity  std_intensity  max_intensity  \\\n0             0.032840        0.044350       0.015657       0.887576   \n1             0.031635        0.044534       0.015672       0.904826   \n2             0.029627        0.045048       0.014418       0.907052   \n3             0.020518        0.043486       0.011733       0.921629   \n4             0.016402        0.042026       0.011681       0.912432   \n..                 ...             ...            ...            ...   \n66            0.072555        0.053182       0.027564       0.930045   \n67            0.070770        0.054522       0.027780       0.918399   \n68            0.066128        0.050523       0.029165       0.880084   \n69            0.063743        0.048270       0.029585       0.933491   \n70            0.061713        0.043807       0.027867       0.936855   \n\n    min_intensity  mean_entropy  mean_bg_intensity  mean_fg_intensity  \\\n0        0.022500           0.0           0.042002           0.113491   \n1        0.005833           0.0           0.042241           0.114738   \n2        0.011667           0.0           0.043017           0.111561   \n3        0.011667           0.0           0.042163           0.106653   \n4        0.008333           0.0           0.040851           0.112490   \n..            ...           ...                ...                ...   \n66       0.013639           0.0           0.046659           0.136565   \n67       0.021667           0.0           0.048040           0.139627   \n68       0.018333           0.0           0.043913           0.143875   \n69       0.007805           0.0           0.041663           0.145314   \n70       0.004167           0.0           0.037737           0.136093   \n\n             prep dir_name  image_name  fg_vs_bg  \n0   HSTFIIB + RNA        0      0ng_ul  2.702022  \n1   HSTFIIB + RNA        0   0ng_ul001  2.716289  \n2   HSTFIIB + RNA        0   0ng_ul002  2.593415  \n3   HSTFIIB + RNA        0   0ng_ul003  2.529530  \n4   HSTFIIB + RNA        0   0ng_ul004  2.753685  \n..            ...      ...         ...       ...  \n66  HSTFIIB + RNA       62  62ng_ul003  2.926870  \n67  HSTFIIB + RNA       62  62ng_ul004  2.906444  \n68  HSTFIIB + RNA       62  62ng_ul005  3.276371  \n69  HSTFIIB + RNA       62  62ng_ul006  3.487851  \n70  HSTFIIB + RNA       62  62ng_ul007  3.606379  \n\n[71 rows x 12 columns]",
      "text/html": "<div>\n<style scoped>\n    .dataframe tbody tr th:only-of-type {\n        vertical-align: middle;\n    }\n\n    .dataframe tbody tr th {\n        vertical-align: top;\n    }\n\n    .dataframe thead th {\n        text-align: right;\n    }\n</style>\n<table border=\"1\" class=\"dataframe\">\n  <thead>\n    <tr style=\"text-align: right;\">\n      <th></th>\n      <th>condensed_fraction</th>\n      <th>mean_intensity</th>\n      <th>std_intensity</th>\n      <th>max_intensity</th>\n      <th>min_intensity</th>\n      <th>mean_entropy</th>\n      <th>mean_bg_intensity</th>\n      <th>mean_fg_intensity</th>\n      <th>prep</th>\n      <th>dir_name</th>\n      <th>image_name</th>\n      <th>fg_vs_bg</th>\n    </tr>\n  </thead>\n  <tbody>\n    <tr>\n      <th>0</th>\n      <td>0.032840</td>\n      <td>0.044350</td>\n      <td>0.015657</td>\n      <td>0.887576</td>\n      <td>0.022500</td>\n      <td>0.0</td>\n      <td>0.042002</td>\n      <td>0.113491</td>\n      <td>HSTFIIB + RNA</td>\n      <td>0</td>\n      <td>0ng_ul</td>\n      <td>2.702022</td>\n    </tr>\n    <tr>\n      <th>1</th>\n      <td>0.031635</td>\n      <td>0.044534</td>\n      <td>0.015672</td>\n      <td>0.904826</td>\n      <td>0.005833</td>\n      <td>0.0</td>\n      <td>0.042241</td>\n      <td>0.114738</td>\n      <td>HSTFIIB + RNA</td>\n      <td>0</td>\n      <td>0ng_ul001</td>\n      <td>2.716289</td>\n    </tr>\n    <tr>\n      <th>2</th>\n      <td>0.029627</td>\n      <td>0.045048</td>\n      <td>0.014418</td>\n      <td>0.907052</td>\n      <td>0.011667</td>\n      <td>0.0</td>\n      <td>0.043017</td>\n      <td>0.111561</td>\n      <td>HSTFIIB + RNA</td>\n      <td>0</td>\n      <td>0ng_ul002</td>\n      <td>2.593415</td>\n    </tr>\n    <tr>\n      <th>3</th>\n      <td>0.020518</td>\n      <td>0.043486</td>\n      <td>0.011733</td>\n      <td>0.921629</td>\n      <td>0.011667</td>\n      <td>0.0</td>\n      <td>0.042163</td>\n      <td>0.106653</td>\n      <td>HSTFIIB + RNA</td>\n      <td>0</td>\n      <td>0ng_ul003</td>\n      <td>2.529530</td>\n    </tr>\n    <tr>\n      <th>4</th>\n      <td>0.016402</td>\n      <td>0.042026</td>\n      <td>0.011681</td>\n      <td>0.912432</td>\n      <td>0.008333</td>\n      <td>0.0</td>\n      <td>0.040851</td>\n      <td>0.112490</td>\n      <td>HSTFIIB + RNA</td>\n      <td>0</td>\n      <td>0ng_ul004</td>\n      <td>2.753685</td>\n    </tr>\n    <tr>\n      <th>...</th>\n      <td>...</td>\n      <td>...</td>\n      <td>...</td>\n      <td>...</td>\n      <td>...</td>\n      <td>...</td>\n      <td>...</td>\n      <td>...</td>\n      <td>...</td>\n      <td>...</td>\n      <td>...</td>\n      <td>...</td>\n    </tr>\n    <tr>\n      <th>66</th>\n      <td>0.072555</td>\n      <td>0.053182</td>\n      <td>0.027564</td>\n      <td>0.930045</td>\n      <td>0.013639</td>\n      <td>0.0</td>\n      <td>0.046659</td>\n      <td>0.136565</td>\n      <td>HSTFIIB + RNA</td>\n      <td>62</td>\n      <td>62ng_ul003</td>\n      <td>2.926870</td>\n    </tr>\n    <tr>\n      <th>67</th>\n      <td>0.070770</td>\n      <td>0.054522</td>\n      <td>0.027780</td>\n      <td>0.918399</td>\n      <td>0.021667</td>\n      <td>0.0</td>\n      <td>0.048040</td>\n      <td>0.139627</td>\n      <td>HSTFIIB + RNA</td>\n      <td>62</td>\n      <td>62ng_ul004</td>\n      <td>2.906444</td>\n    </tr>\n    <tr>\n      <th>68</th>\n      <td>0.066128</td>\n      <td>0.050523</td>\n      <td>0.029165</td>\n      <td>0.880084</td>\n      <td>0.018333</td>\n      <td>0.0</td>\n      <td>0.043913</td>\n      <td>0.143875</td>\n      <td>HSTFIIB + RNA</td>\n      <td>62</td>\n      <td>62ng_ul005</td>\n      <td>3.276371</td>\n    </tr>\n    <tr>\n      <th>69</th>\n      <td>0.063743</td>\n      <td>0.048270</td>\n      <td>0.029585</td>\n      <td>0.933491</td>\n      <td>0.007805</td>\n      <td>0.0</td>\n      <td>0.041663</td>\n      <td>0.145314</td>\n      <td>HSTFIIB + RNA</td>\n      <td>62</td>\n      <td>62ng_ul006</td>\n      <td>3.487851</td>\n    </tr>\n    <tr>\n      <th>70</th>\n      <td>0.061713</td>\n      <td>0.043807</td>\n      <td>0.027867</td>\n      <td>0.936855</td>\n      <td>0.004167</td>\n      <td>0.0</td>\n      <td>0.037737</td>\n      <td>0.136093</td>\n      <td>HSTFIIB + RNA</td>\n      <td>62</td>\n      <td>62ng_ul007</td>\n      <td>3.606379</td>\n    </tr>\n  </tbody>\n</table>\n<p>71 rows × 12 columns</p>\n</div>"
     },
     "execution_count": 7,
     "metadata": {},
     "output_type": "execute_result"
    }
   ],
   "source": [
    "rna_tfiib_cf[\"fg_vs_bg\"] = rna_tfiib_cf[\"mean_fg_intensity\"] / rna_tfiib_cf[\"mean_bg_intensity\"]\n",
    "rna_tfiib_cf"
   ],
   "metadata": {
    "collapsed": false,
    "ExecuteTime": {
     "end_time": "2023-11-13T11:11:17.099684700Z",
     "start_time": "2023-11-13T11:11:17.059443400Z"
    }
   }
  },
  {
   "cell_type": "code",
   "execution_count": 55,
   "outputs": [],
   "source": [
    "temp = dna_tfiib_cf.melt(id_vars=[\"dir_name\"], value_vars=[\"mean_fg_intensity\", \"mean_bg_intensity\"])\n",
    "temp.loc[temp[\"variable\"] == \"mean_fg_intensity\", \"variable\"] = \"Foreground\"\n",
    "temp.loc[temp[\"variable\"] == \"mean_bg_intensity\", \"variable\"] = \"Background\"\n",
    "temp = temp.reset_index()"
   ],
   "metadata": {
    "collapsed": false,
    "ExecuteTime": {
     "end_time": "2023-11-13T11:36:11.798705800Z",
     "start_time": "2023-11-13T11:36:11.598636800Z"
    }
   }
  },
  {
   "cell_type": "code",
   "execution_count": 58,
   "outputs": [
    {
     "name": "stderr",
     "output_type": "stream",
     "text": [
      "C:\\Users\\danie\\AppData\\Local\\Temp\\ipykernel_35168\\2363217759.py:1: FutureWarning: The default of observed=False is deprecated and will be changed to True in a future version of pandas. Pass observed=False to retain current behavior or observed=True to adopt the future default and silence this warning.\n"
     ]
    }
   ],
   "source": [
    "temp[\"mean\"] = temp.groupby([\"dir_name\", \"variable\"])[\"value\"].transform(\"mean\")"
   ],
   "metadata": {
    "collapsed": false,
    "ExecuteTime": {
     "end_time": "2023-11-13T11:36:20.786162Z",
     "start_time": "2023-11-13T11:36:20.718232600Z"
    }
   }
  },
  {
   "cell_type": "code",
   "execution_count": 10,
   "outputs": [
    {
     "name": "stderr",
     "output_type": "stream",
     "text": [
      "C:\\Users\\danie\\AppData\\Local\\Temp\\ipykernel_35168\\1452460344.py:1: FutureWarning: The default of observed=False is deprecated and will be changed to True in a future version of pandas. Pass observed=False to retain current behavior or observed=True to adopt the future default and silence this warning.\n"
     ]
    }
   ],
   "source": [
    "temp = temp.groupby([\"dir_name\", \"variable\"])[\"value\"].agg([\"mean\", \"std\", \"count\"]).reset_index()"
   ],
   "metadata": {
    "collapsed": false,
    "ExecuteTime": {
     "end_time": "2023-11-13T11:11:26.304181200Z",
     "start_time": "2023-11-13T11:11:26.263821400Z"
    }
   }
  },
  {
   "cell_type": "code",
   "execution_count": 11,
   "outputs": [],
   "source": [
    "temp[\"std_err\"] = temp[\"std\"] / np.sqrt(temp[\"count\"])"
   ],
   "metadata": {
    "collapsed": false,
    "ExecuteTime": {
     "end_time": "2023-11-13T11:11:27.046582600Z",
     "start_time": "2023-11-13T11:11:26.989049300Z"
    }
   }
  },
  {
   "cell_type": "code",
   "execution_count": 12,
   "outputs": [],
   "source": [
    "temp[\"mean_plus_two_std_errs\"] = temp[\"mean\"] + 2 * temp[\"std_err\"]\n",
    "temp[\"mean_minus_two_std_errs\"] = temp[\"mean\"] - 2 * temp[\"std_err\"]"
   ],
   "metadata": {
    "collapsed": false,
    "ExecuteTime": {
     "end_time": "2023-11-13T11:11:28.267085600Z",
     "start_time": "2023-11-13T11:11:28.220642400Z"
    }
   }
  },
  {
   "cell_type": "code",
   "execution_count": 59,
   "outputs": [
    {
     "data": {
      "text/plain": "<Figure size 640x480 with 1 Axes>",
      "image/png": "[encoded data removed]"
     },
     "metadata": {
      "image/png": {
       "width": 640,
       "height": 480
      }
     },
     "output_type": "display_data"
    },
    {
     "data": {
      "text/plain": "<Figure Size: (640 x 480)>"
     },
     "execution_count": 59,
     "metadata": {},
     "output_type": "execute_result"
    }
   ],
   "source": [
    "plot = (\n",
    "        pn.ggplot(temp, pn.aes(x=\"dir_name\", y=\"value\", fill=\"variable\"))\n",
    "        + pn.geom_point()\n",
    "        + pn.geom_line(pn.aes(y=\"mean\", group=\"variable\"))\n",
    "        # + pn.geom_errorbar(pn.aes(ymin=\"mean_minus_two_std_errs\", ymax=\"mean_plus_two_std_errs\"), width=0.2)\n",
    "        # + pn.geom_smooth(pn.aes(group=\"variable\"), method=\"lm\")\n",
    "        + pn.labs(x=\"RNA Concentration (ng/$\\mu$L)\", y=\"Mean Intensity\", color=\"\", fill=\"\",\n",
    "                  shape=\"\")\n",
    "        + pn.scale_fill_manual(values=[\"#000000\", \"#004225\"])\n",
    "\n",
    ")\n",
    "\n",
    "plot"
   ],
   "metadata": {
    "collapsed": false,
    "ExecuteTime": {
     "end_time": "2023-11-13T11:36:26.939204700Z",
     "start_time": "2023-11-13T11:36:26.691388Z"
    }
   }
  },
  {
   "cell_type": "code",
   "execution_count": 53,
   "outputs": [
    {
     "name": "stderr",
     "output_type": "stream",
     "text": [
      "C:\\Users\\danie\\code\\llps_analysis\\venv\\Lib\\site-packages\\plotnine\\ggplot.py:587: PlotnineWarning: Saving 120.00000000000001 x 80.0 mm image.\n",
      "C:\\Users\\danie\\code\\llps_analysis\\venv\\Lib\\site-packages\\plotnine\\ggplot.py:588: PlotnineWarning: Filename: C:\\Users\\danie\\OneDrive - University of Cape Town\\Hons Project\\DataAnalysis\\new_analysis_20231031\\supplementary\\bg_vs_fg_intensities\\tfiib+rna.svg\n"
     ]
    }
   ],
   "source": [
    "pn.ggsave(plot,\n",
    "          \"C:\\\\Users\\\\danie\\\\OneDrive - University of Cape Town\\\\Hons Project\\\\DataAnalysis\\\\new_analysis_20231031\\\\supplementary\\\\bg_vs_fg_intensities\\\\tfiib+rna.svg\",\n",
    "          dpi=1200, width=120, height=80, units=\"mm\")"
   ],
   "metadata": {
    "collapsed": false,
    "ExecuteTime": {
     "end_time": "2023-11-13T11:35:36.631022700Z",
     "start_time": "2023-11-13T11:35:36.190372600Z"
    }
   }
  },
  {
   "cell_type": "code",
   "execution_count": null,
   "outputs": [],
   "source": [
    "plot = (\n",
    "        pn.ggplot(rna_tfiib_cf, pn.aes(x=\"dir_name\", y=\"fg_vs_bg\"))\n",
    "\n",
    "        + pn.geom_boxplot()\n",
    "        + pn.geom_jitter(colour=\"#C70039\", alpha=0.75)\n",
    "        + pn.theme_classic()\n",
    "        + pn.labs(x=\"RNA Concentration (ng/$\\mu$L)\", y=\"Fold Intensity\", color=\"\", fill=\"\",\n",
    "                  shape=\"\")\n",
    "        # + pn.scale_x_discrete(labels=[\"0.1\", \"0.5\", \"1\", \"2\", \"4\", \"5\", \"8\", \"11\", \"16\"])\n",
    "        + pn.theme(figure_size=(5, 5),\n",
    "                   legend_position=\"top\",\n",
    "                   axis_text=pn.element_text(color=\"black\", size=10, family=\"Arial\"),\n",
    "                   axis_title=pn.element_text(color=\"black\", size=10, family=\"Arial\"))\n",
    "    # + pn.scale_fill_manual(values=[\"#35b779\", \"#31688e\", \"#440154\"])\n",
    "    # + pn.scale_color_manual(values=[\"#154a31\", \"#1c3c52\", \"#1f0026\"])\n",
    ")\n",
    "plot"
   ],
   "metadata": {
    "collapsed": false
   }
  },
  {
   "cell_type": "code",
   "execution_count": null,
   "outputs": [],
   "source": [
    "pn.ggsave(plot, base_dir / \"TFIIB + RNA\" / \"fold_intensity.svg\", dpi=1200, width=80, height=80, units=\"mm\")"
   ],
   "metadata": {
    "collapsed": false
   }
  },
  {
   "cell_type": "code",
   "execution_count": 54,
   "outputs": [],
   "source": [
    "dna_tfiib_regions = pd.read_csv(base_dir / \"TFIIB + DNA\" / \"TFIIB + DNA_regions.csv\")\n",
    "dna_tfiib_cf = pd.read_csv(base_dir / \"TFIIB + DNA\" / \"TFIIB + DNA_condensed_fractions.csv\")\n",
    "dna_tfiib_cf = dna_tfiib_cf[dna_tfiib_cf[\"dir_name\"] != \"RNA_control\"]\n",
    "dna_tfiib_cf[\"dir_name\"] = dna_tfiib_cf[\"dir_name\"].astype(\"int\")\n",
    "\n",
    "dna_tfiib_cf[\"dir_name\"] = pd.Categorical(dna_tfiib_cf[\"dir_name\"], ordered=True,\n",
    "                                          categories=sorted(np.unique(dna_tfiib_regions[\"dir_name\"]).tolist()))"
   ],
   "metadata": {
    "collapsed": false,
    "ExecuteTime": {
     "end_time": "2023-11-13T11:36:02.249640700Z",
     "start_time": "2023-11-13T11:36:01.928105200Z"
    }
   }
  },
  {
   "cell_type": "code",
   "execution_count": null,
   "outputs": [],
   "source": [
    "dna_tfiib_cf[\"channel\"] = None\n",
    "dna_tfiib_regions[\"channel\"] = None"
   ],
   "metadata": {
    "collapsed": false
   }
  },
  {
   "cell_type": "markdown",
   "source": [],
   "metadata": {
    "collapsed": false
   }
  },
  {
   "cell_type": "code",
   "execution_count": null,
   "outputs": [],
   "source": [
    "dna_tfiib_cf.loc[dna_tfiib_cf[\"image_name\"].str.contains(\"Blue\"), \"channel\"] = \"TFIIB\"\n",
    "dna_tfiib_cf.loc[dna_tfiib_cf[\"image_name\"].str.contains(\"Red\"), \"channel\"] = \"DNA\"\n",
    "\n",
    "dna_tfiib_regions.loc[dna_tfiib_regions[\"image_name\"].str.contains(\"Blue\"), \"channel\"] = \"TFIIB\"\n",
    "dna_tfiib_regions.loc[dna_tfiib_regions[\"image_name\"].str.contains(\"Red\"), \"channel\"] = \"DNA\""
   ],
   "metadata": {
    "collapsed": false
   }
  },
  {
   "cell_type": "code",
   "execution_count": null,
   "outputs": [],
   "source": [
    "dna_tfiib_cf[\"fg_vs_bg\"] = dna_tfiib_cf[\"mean_fg_intensity\"] / dna_tfiib_cf[\"mean_bg_intensity\"]"
   ],
   "metadata": {
    "collapsed": false
   }
  },
  {
   "cell_type": "code",
   "execution_count": null,
   "outputs": [],
   "source": [
    "plot = (\n",
    "        pn.ggplot(dna_tfiib_cf[dna_tfiib_cf[\"channel\"] == \"TFIIB\"], pn.aes(x=\"dir_name\", y=\"condensed_fraction\"))\n",
    "        + pn.geom_boxplot(outlier_alpha=0)\n",
    "        + pn.geom_jitter(colour=\"#C70039\", alpha=0.75, width=0.2)\n",
    "        + pn.theme_classic()\n",
    "        + pn.labs(x=\"DNA Concentration (ng/$\\mu$L)\", y=\"Condensed Fraction\", color=\"\", fill=\"\",\n",
    "                  shape=\"\")\n",
    "        # + pn.scale_x_discrete(labels=[\"0.1\", \"0.5\", \"1\", \"2\", \"4\", \"5\", \"8\", \"11\", \"16\"])\n",
    "        + pn.theme(figure_size=(5, 5),\n",
    "                   legend_position=\"top\",\n",
    "                   axis_text=pn.element_text(color=\"black\", size=10, family=\"Arial\"),\n",
    "                   axis_title=pn.element_text(color=\"black\", size=10, family=\"Arial\"))\n",
    "    # + pn.scale_fill_manual(values=[\"#35b779\", \"#31688e\", \"#440154\"])\n",
    "    # + pn.scale_color_manual(values=[\"#154a31\", \"#1c3c52\", \"#1f0026\"])\n",
    ")\n",
    "plot"
   ],
   "metadata": {
    "collapsed": false
   }
  },
  {
   "cell_type": "code",
   "execution_count": null,
   "outputs": [],
   "source": [
    "pn.ggsave(plot, base_dir / \"TFIIB + DNA\" / \"cond_fraction.svg\", dpi=1200, width=80, height=80, units=\"mm\")"
   ],
   "metadata": {
    "collapsed": false
   }
  },
  {
   "cell_type": "code",
   "execution_count": null,
   "outputs": [],
   "source": [
    "dna_tfiib_regions[\"log_area\"] = np.log10(dna_tfiib_regions[\"area\"])"
   ],
   "metadata": {
    "collapsed": false
   }
  },
  {
   "cell_type": "code",
   "execution_count": null,
   "outputs": [],
   "source": [
    "dna_tfiib_regions[dna_tfiib_regions[\"dir_name\"] == 200]"
   ],
   "metadata": {
    "collapsed": false
   }
  },
  {
   "cell_type": "code",
   "execution_count": null,
   "outputs": [],
   "source": [
    "plot = (\n",
    "        pn.ggplot(dna_tfiib_regions[dna_tfiib_regions[\"channel\"] == \"TFIIB\"], pn.aes(x=\"dir_name\", y=\"perimeter\"))\n",
    "\n",
    "        # + pn.geom_boxplot(outlier_alpha=0)\n",
    "        + pn.geom_jitter(colour=\"#C70039\", alpha=0.75, width=10)\n",
    "        + pn.theme_classic()\n",
    "        + pn.labs(x=\"DNA Concentration (ng/$\\mu$L)\", y=\"Fold Intensity\", color=\"\", fill=\"\",\n",
    "                  shape=\"\")\n",
    "        # + pn.scale_x_discrete(labels=[\"0.1\", \"0.5\", \"1\", \"2\", \"4\", \"5\", \"8\", \"11\", \"16\"])\n",
    "        + pn.theme(figure_size=(5, 5),\n",
    "                   legend_position=\"top\",\n",
    "                   axis_text=pn.element_text(color=\"black\", size=10, family=\"Arial\"),\n",
    "                   axis_title=pn.element_text(color=\"black\", size=10, family=\"Arial\"))\n",
    "    # + pn.scale_fill_manual(values=[\"#35b779\", \"#31688e\", \"#440154\"])\n",
    "    # + pn.scale_color_manual(values=[\"#154a31\", \"#1c3c52\", \"#1f0026\"])\n",
    ")\n",
    "plot"
   ],
   "metadata": {
    "collapsed": false
   }
  },
  {
   "cell_type": "code",
   "execution_count": null,
   "outputs": [],
   "source": [
    "dna_tbp_regions = pd.read_csv(base_dir / \"TBP + DNA\" / \"TBP + DNA_regions.csv\")\n",
    "dna_tbp_cf = pd.read_csv(base_dir / \"TBP + DNA\" / \"TBP + DNA_condensed_fractions.csv\")\n",
    "# dna_tbp_cf = dna_tbp_cf[dna_tbp_cf[\"dir_name\"] != \"RNA_control\"]\n",
    "dna_tbp_cf[\"dir_name\"] = dna_tbp_cf[\"dir_name\"].astype(\"int\")\n",
    "\n",
    "dna_tbp_cf[\"dir_name\"] = pd.Categorical(dna_tbp_cf[\"dir_name\"], ordered=True,\n",
    "                                        categories=sorted(np.unique(dna_tbp_regions[\"dir_name\"]).tolist()))\n",
    "\n",
    "dna_tbp_cf[\"channel\"] = None\n",
    "dna_tbp_regions[\"channel\"] = None\n",
    "\n",
    "dna_tbp_cf.loc[dna_tbp_cf[\"image_name\"].str.contains(\"Blue\"), \"channel\"] = \"TBP\"\n",
    "dna_tbp_cf.loc[dna_tbp_cf[\"image_name\"].str.contains(\"Red\"), \"channel\"] = \"DNA\"\n",
    "\n",
    "dna_tbp_regions.loc[dna_tbp_regions[\"image_name\"].str.contains(\"Blue\"), \"channel\"] = \"TBP\"\n",
    "dna_tbp_regions.loc[dna_tbp_regions[\"image_name\"].str.contains(\"Red\"), \"channel\"] = \"DNA\""
   ],
   "metadata": {
    "collapsed": false
   }
  },
  {
   "cell_type": "code",
   "execution_count": null,
   "outputs": [],
   "source": [],
   "metadata": {
    "collapsed": false
   }
  },
  {
   "cell_type": "code",
   "execution_count": null,
   "outputs": [],
   "source": [
    "dna_tbp_cf[\"fg_vs_bg\"] = (dna_tbp_cf[\"mean_fg_intensity\"]) / (dna_tbp_cf[\"mean_bg_intensity\"])\n",
    "dna_tbp_cf[\"bg_vs_fg\"] = (dna_tbp_cf[\"mean_bg_intensity\"]) / (dna_tbp_cf[\"mean_fg_intensity\"])"
   ],
   "metadata": {
    "collapsed": false
   }
  },
  {
   "cell_type": "code",
   "execution_count": null,
   "outputs": [],
   "source": [
    "dna_tbp_cf[\"log_fold_intensity\"] = np.log2(dna_tbp_cf[\"fg_vs_bg\"])"
   ],
   "metadata": {
    "collapsed": false
   }
  },
  {
   "cell_type": "markdown",
   "source": [],
   "metadata": {
    "collapsed": false
   }
  },
  {
   "cell_type": "code",
   "execution_count": null,
   "outputs": [],
   "source": [
    "plot = (\n",
    "        pn.ggplot(dna_tbp_cf[(dna_tbp_cf[\"channel\"] == \"TBP\")],\n",
    "                  pn.aes(x=\"dir_name\", y=\"condensed_fraction\"))\n",
    "        + pn.geom_boxplot(outlier_alpha=0)\n",
    "        + pn.geom_jitter(colour=\"#557C55\", alpha=0.75, width=0.2)\n",
    "        + pn.theme_classic()\n",
    "        + pn.labs(x=\"DNA Concentration (ng/$\\mu$L)\", y=\"Condensed Fraction\", color=\"\", fill=\"\",\n",
    "                  shape=\"\")\n",
    "        # + pn.scale_x_discrete(labels=[\"0.1\", \"0.5\", \"1\", \"2\", \"4\", \"5\", \"8\", \"11\", \"16\"])\n",
    "        + pn.theme(figure_size=(5, 5),\n",
    "                   legend_position=\"top\",\n",
    "                   axis_text=pn.element_text(color=\"black\", size=10, family=\"Arial\"),\n",
    "                   axis_title=pn.element_text(color=\"black\", size=10, family=\"Arial\"))\n",
    "    # + pn.scale_fill_manual(values=[\"#35b779\", \"#31688e\", \"#440154\"])\n",
    "    # + pn.scale_color_manual(values=[\"#154a31\", \"#1c3c52\", \"#1f0026\"])\n",
    ")\n",
    "plot"
   ],
   "metadata": {
    "collapsed": false
   }
  },
  {
   "cell_type": "code",
   "execution_count": null,
   "outputs": [],
   "source": [
    "pn.ggsave(plot, base_dir / \"TBP + DNA\" / \"condensed_fraction.svg\", dpi=1200, width=80, height=80, units=\"mm\")"
   ],
   "metadata": {
    "collapsed": false
   }
  },
  {
   "cell_type": "code",
   "execution_count": null,
   "outputs": [],
   "source": [
    "rna_tbp_regions = pd.read_csv(base_dir / \"TBP + RNA\" / \"TBP + RNA_regions.csv\")\n",
    "rna_tbp_cf = pd.read_csv(base_dir / \"TBP + RNA\" / \"TBP + RNA_condensed_fractions.csv\")\n",
    "rna_tbp_cf = rna_tbp_cf[rna_tbp_cf[\"dir_name\"] != \"RNA_ONLY\"]\n",
    "rna_tbp_cf[\"dir_name\"] = rna_tbp_cf[\"dir_name\"].astype(\"int\")\n",
    "\n",
    "rna_tbp_cf[\"dir_name\"] = pd.Categorical(rna_tbp_cf[\"dir_name\"], ordered=True,\n",
    "                                        categories=sorted(np.unique(rna_tbp_regions[\"dir_name\"]).tolist()))\n",
    "\n",
    "rna_tbp_cf[\"fg_vs_bg\"] = (rna_tbp_cf[\"mean_fg_intensity\"]) / (rna_tbp_cf[\"mean_bg_intensity\"])"
   ],
   "metadata": {
    "collapsed": false
   }
  },
  {
   "cell_type": "code",
   "execution_count": null,
   "outputs": [],
   "source": [
    "rna_tbp_cf[\"log_intensity\"] = np.log2(rna_tbp_cf[\"fg_vs_bg\"])"
   ],
   "metadata": {
    "collapsed": false
   }
  },
  {
   "cell_type": "code",
   "execution_count": null,
   "outputs": [],
   "source": [
    "plot = (\n",
    "        pn.ggplot(rna_tbp_cf, pn.aes(x=\"dir_name\", y=\"log_intensity\"))\n",
    "        + pn.geom_boxplot(outlier_alpha=0)\n",
    "        + pn.geom_jitter(colour=\"#557C55\", alpha=0.75, width=0.2)\n",
    "        + pn.theme_classic()\n",
    "        + pn.labs(x=\"RNA Concentration (ng/$\\mu$L)\", y=\"Log$_2$ Fold Intensity\", color=\"\", fill=\"\",\n",
    "                  shape=\"\")\n",
    "        # + pn.scale_x_discrete(labels=[\"0.1\", \"0.5\", \"1\", \"2\", \"4\", \"5\", \"8\", \"11\", \"16\"])\n",
    "        + pn.theme(figure_size=(5, 5),\n",
    "                   legend_position=\"top\",\n",
    "                   axis_text=pn.element_text(color=\"black\", size=10, family=\"Arial\"),\n",
    "                   axis_title=pn.element_text(color=\"black\", size=10, family=\"Arial\"))\n",
    "    # + pn.scale_fill_manual(values=[\"#35b779\", \"#31688e\", \"#440154\"])\n",
    "    # + pn.scale_color_manual(values=[\"#154a31\", \"#1c3c52\", \"#1f0026\"])\n",
    ")\n",
    "plot"
   ],
   "metadata": {
    "collapsed": false
   }
  },
  {
   "cell_type": "code",
   "execution_count": null,
   "outputs": [],
   "source": [
    "pn.ggsave(plot, base_dir / \"TBP + RNA\" / \"fold_intensity.svg\", dpi=1200, width=80, height=80, units=\"mm\")"
   ],
   "metadata": {
    "collapsed": false
   }
  },
  {
   "cell_type": "code",
   "execution_count": null,
   "outputs": [],
   "source": [],
   "metadata": {
    "collapsed": false
   }
  }
 ],
 "metadata": {
  "kernelspec": {
   "display_name": "Python 3",
   "language": "python",
   "name": "python3"
  },
  "language_info": {
   "codemirror_mode": {
    "name": "ipython",
    "version": 2
   },
   "file_extension": ".py",
   "mimetype": "text/x-python",
   "name": "python",
   "nbconvert_exporter": "python",
   "pygments_lexer": "ipython2",
   "version": "2.7.6"
  }
 },
 "nbformat": 4,
 "nbformat_minor": 0
}
