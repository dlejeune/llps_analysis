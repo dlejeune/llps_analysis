{
 "cells": [
  {
   "cell_type": "code",
   "execution_count": 1,
   "metadata": {
    "collapsed": true
   },
   "outputs": [],
   "source": [
    "import pandas as pd\n",
    "import numpy as np\n",
    "import matplotlib.pyplot as plt\n",
    "import json\n",
    "import plotnine as pn\n",
    "from pathlib import Path  #%%\n",
    "import pandas as pd\n",
    "import numpy as np\n",
    "import matplotlib.pyplot as plt\n",
    "import json\n",
    "import plotnine as pn\n",
    "import seaborn as sns\n",
    "from pathlib import Path"
   ]
  },
  {
   "cell_type": "code",
   "execution_count": 2,
   "outputs": [],
   "source": [
    "# constructs = {\n",
    "#\n",
    "#     \"TFIIB FL\": 113,\n",
    "#     \"TFIIB Core\": 28,\n",
    "#     \"TFIIB IDR\": 153,\n",
    "# }\n",
    "\n",
    "constructs = {\n",
    "\n",
    "    \"TBP FL\": 9,\n",
    "    \"TBP Core\": 23,\n",
    "    \"TBP IDR\": 63,\n",
    "}\n"
   ],
   "metadata": {
    "collapsed": false
   }
  },
  {
   "cell_type": "code",
   "execution_count": 3,
   "outputs": [],
   "source": [
    "def fix_concentration(row, constructs):\n",
    "    return constructs[row[\"prep\"]] / row[\"dir_name\"]"
   ],
   "metadata": {
    "collapsed": false
   }
  },
  {
   "cell_type": "code",
   "execution_count": 4,
   "outputs": [],
   "source": [
    "def load_construct_regions_and_cfs(constructs, base_dir, fix_conc=False):\n",
    "    regions_dfs = []\n",
    "    condensed_fraction_dfs = []\n",
    "\n",
    "    for key in constructs.keys():\n",
    "        temp = pd.read_csv(base_dir / key / f\"{key}_regions.csv\")\n",
    "        temp[\"prep\"] = key\n",
    "        regions_dfs.append(temp)\n",
    "        temp = pd.read_csv(base_dir / key / f\"{key}_condensed_fractions.csv\")\n",
    "        temp[\"prep\"] = key\n",
    "        condensed_fraction_dfs.append(temp)\n",
    "\n",
    "    regions = pd.concat(regions_dfs)\n",
    "    condensed_fractions = pd.concat(condensed_fraction_dfs)\n",
    "\n",
    "    if fix_conc:\n",
    "        condensed_fractions[\"conc\"] = condensed_fractions.apply(lambda row: fix_concentration(row, constructs), axis=1)\n",
    "\n",
    "    return regions, condensed_fractions\n"
   ],
   "metadata": {
    "collapsed": false
   }
  },
  {
   "cell_type": "code",
   "execution_count": 6,
   "outputs": [],
   "source": [
    "base_dir = Path(\n",
    "    \"C:\\\\Users\\\\danie\\\\OneDrive - University of Cape Town\\\\Hons Project\\\\DataAnalysis\\\\new_analysis_20231031\\\\TBP\")"
   ],
   "metadata": {
    "collapsed": false
   }
  },
  {
   "cell_type": "code",
   "execution_count": 7,
   "outputs": [],
   "source": [
    "regions, condensed_fractions = load_construct_regions_and_cfs(constructs, base_dir, fix_conc=True)"
   ],
   "metadata": {
    "collapsed": false
   }
  },
  {
   "cell_type": "code",
   "execution_count": null,
   "outputs": [],
   "source": [],
   "metadata": {
    "collapsed": false
   }
  },
  {
   "cell_type": "code",
   "execution_count": 9,
   "outputs": [],
   "source": [
    "temp = condensed_fractions[[\"prep\", \"conc\", \"condensed_fraction\"]]"
   ],
   "metadata": {
    "collapsed": false
   }
  },
  {
   "cell_type": "code",
   "execution_count": 10,
   "outputs": [],
   "source": [
    "temp.columns = [\"colour\", \"x\", \"y\"]"
   ],
   "metadata": {
    "collapsed": false
   }
  },
  {
   "cell_type": "code",
   "execution_count": 11,
   "outputs": [
    {
     "name": "stderr",
     "output_type": "stream",
     "text": [
      "C:\\Users\\danie\\AppData\\Local\\Temp\\ipykernel_9176\\2979080647.py:2: SettingWithCopyWarning: \n",
      "A value is trying to be set on a copy of a slice from a DataFrame.\n",
      "Try using .loc[row_indexer,col_indexer] = value instead\n",
      "\n",
      "See the caveats in the documentation: https://pandas.pydata.org/pandas-docs/stable/user_guide/indexing.html#returning-a-view-versus-a-copy\n"
     ]
    }
   ],
   "source": [
    "\n",
    "temp.loc[:, \"x\"] = temp[\"x\"].astype(\"category\")\n",
    "temp.loc[:, \"log_y\"] = np.log10(temp[\"y\"] + 1)"
   ],
   "metadata": {
    "collapsed": false
   }
  },
  {
   "cell_type": "code",
   "execution_count": 107,
   "outputs": [],
   "source": [
    "# replacement = {\n",
    "#     0.21875: 0.5,\n",
    "#     0.4375: 0.5,\n",
    "#     0.59765625: 0.5,\n",
    "#     0.875: 1,\n",
    "#     0.8828125: 1,\n",
    "#     1.1953125: 1,\n",
    "#     1.75: 2,\n",
    "#     1.765625: 2,\n",
    "#     2.390625: 2,\n",
    "#     3.5: 3.5,\n",
    "#     3.53125: 3.5,\n",
    "#     4.78125: 5,\n",
    "#     7.0: 7,\n",
    "#     7.0625: 7,\n",
    "#     9.5625: 9,\n",
    "#     14.125: 14,\n",
    "#     19.125: 20,\n",
    "#     28.25: 28,\n",
    "#     38.25: 38\n",
    "# }"
   ],
   "metadata": {
    "collapsed": false
   }
  },
  {
   "cell_type": "code",
   "execution_count": 24,
   "outputs": [],
   "source": [
    "replacement = {\n",
    "    0.11842105263157894: 0.1,\n",
    "    0.12849162011173185: 0.1,\n",
    "    0.23684210526315788: 0.1,\n",
    "    0.25842696629213485: 0.1,\n",
    "    0.47368421052631576: 0.5,\n",
    "    0.4921875: 0.5,\n",
    "    0.5227272727272727: 0.5,\n",
    "    0.984375: 1,\n",
    "    1.0: 1,\n",
    "    1.0454545454545454: 1,\n",
    "    1.96875: 2,\n",
    "    2.090909090909091: 2,\n",
    "    2.25: 2,\n",
    "    3.9375: 4,\n",
    "    4.5: 5,\n",
    "    4.6: 5,\n",
    "    7.875: 8,\n",
    "    11.5: 11,\n",
    "    15.75: 16\n",
    "}"
   ],
   "metadata": {
    "collapsed": false
   }
  },
  {
   "cell_type": "code",
   "execution_count": 25,
   "outputs": [],
   "source": [
    "def help(row):\n",
    "    if row[\"x\"] in replacement.keys():\n",
    "        return replacement[row[\"x\"]]\n",
    "    else:\n",
    "        return row[\"x\"]"
   ],
   "metadata": {
    "collapsed": false
   }
  },
  {
   "cell_type": "code",
   "execution_count": 26,
   "outputs": [],
   "source": [
    "temp.loc[:, \"x\"] = temp.apply(lambda row: help(row), axis=1)"
   ],
   "metadata": {
    "collapsed": false
   }
  },
  {
   "cell_type": "code",
   "execution_count": 27,
   "outputs": [],
   "source": [
    "temp.loc[:, \"x\"] = temp[\"x\"].astype(\"category\")"
   ],
   "metadata": {
    "collapsed": false
   }
  },
  {
   "cell_type": "code",
   "execution_count": 13,
   "outputs": [
    {
     "name": "stderr",
     "output_type": "stream",
     "text": [
      "C:\\Users\\danie\\AppData\\Local\\Temp\\ipykernel_9176\\1178038823.py:1: SettingWithCopyWarning: \n",
      "A value is trying to be set on a copy of a slice from a DataFrame.\n",
      "Try using .loc[row_indexer,col_indexer] = value instead\n",
      "\n",
      "See the caveats in the documentation: https://pandas.pydata.org/pandas-docs/stable/user_guide/indexing.html#returning-a-view-versus-a-copy\n"
     ]
    }
   ],
   "source": [
    "temp[\"colour\"] = temp[\"colour\"].astype(\"str\")"
   ],
   "metadata": {
    "collapsed": false
   }
  },
  {
   "cell_type": "code",
   "execution_count": 15,
   "outputs": [
    {
     "name": "stderr",
     "output_type": "stream",
     "text": [
      "C:\\Users\\danie\\AppData\\Local\\Temp\\ipykernel_9176\\247773539.py:1: SettingWithCopyWarning: \n",
      "A value is trying to be set on a copy of a slice from a DataFrame.\n",
      "Try using .loc[row_indexer,col_indexer] = value instead\n",
      "\n",
      "See the caveats in the documentation: https://pandas.pydata.org/pandas-docs/stable/user_guide/indexing.html#returning-a-view-versus-a-copy\n"
     ]
    },
    {
     "ename": "TypeError",
     "evalue": "Cannot setitem on a Categorical with a new category (TBP C), set the categories first",
     "output_type": "error",
     "traceback": [
      "\u001B[1;31m---------------------------------------------------------------------------\u001B[0m",
      "\u001B[1;31mTypeError\u001B[0m                                 Traceback (most recent call last)",
      "Cell \u001B[1;32mIn[15], line 1\u001B[0m\n\u001B[1;32m----> 1\u001B[0m \u001B[43mtemp\u001B[49m\u001B[43m[\u001B[49m\u001B[43mtemp\u001B[49m\u001B[43m[\u001B[49m\u001B[38;5;124;43m\"\u001B[39;49m\u001B[38;5;124;43mcolour\u001B[39;49m\u001B[38;5;124;43m\"\u001B[39;49m\u001B[43m]\u001B[49m\u001B[43m \u001B[49m\u001B[38;5;241;43m==\u001B[39;49m\u001B[43m \u001B[49m\u001B[38;5;124;43m\"\u001B[39;49m\u001B[38;5;124;43mTBP Core\u001B[39;49m\u001B[38;5;124;43m\"\u001B[39;49m\u001B[43m]\u001B[49m \u001B[38;5;241m=\u001B[39m \u001B[38;5;124m\"\u001B[39m\u001B[38;5;124mTBP C\u001B[39m\u001B[38;5;124m\"\u001B[39m\n",
      "File \u001B[1;32m~\\code\\llps_analysis\\env\\lib\\site-packages\\pandas\\core\\frame.py:4082\u001B[0m, in \u001B[0;36mDataFrame.__setitem__\u001B[1;34m(self, key, value)\u001B[0m\n\u001B[0;32m   4080\u001B[0m     \u001B[38;5;28mself\u001B[39m\u001B[38;5;241m.\u001B[39m_setitem_frame(key, value)\n\u001B[0;32m   4081\u001B[0m \u001B[38;5;28;01melif\u001B[39;00m \u001B[38;5;28misinstance\u001B[39m(key, (Series, np\u001B[38;5;241m.\u001B[39mndarray, \u001B[38;5;28mlist\u001B[39m, Index)):\n\u001B[1;32m-> 4082\u001B[0m     \u001B[38;5;28;43mself\u001B[39;49m\u001B[38;5;241;43m.\u001B[39;49m\u001B[43m_setitem_array\u001B[49m\u001B[43m(\u001B[49m\u001B[43mkey\u001B[49m\u001B[43m,\u001B[49m\u001B[43m \u001B[49m\u001B[43mvalue\u001B[49m\u001B[43m)\u001B[49m\n\u001B[0;32m   4083\u001B[0m \u001B[38;5;28;01melif\u001B[39;00m \u001B[38;5;28misinstance\u001B[39m(value, DataFrame):\n\u001B[0;32m   4084\u001B[0m     \u001B[38;5;28mself\u001B[39m\u001B[38;5;241m.\u001B[39m_set_item_frame_value(key, value)\n",
      "File \u001B[1;32m~\\code\\llps_analysis\\env\\lib\\site-packages\\pandas\\core\\frame.py:4117\u001B[0m, in \u001B[0;36mDataFrame._setitem_array\u001B[1;34m(self, key, value)\u001B[0m\n\u001B[0;32m   4114\u001B[0m     \u001B[38;5;28;01mif\u001B[39;00m \u001B[38;5;28misinstance\u001B[39m(value, DataFrame):\n\u001B[0;32m   4115\u001B[0m         \u001B[38;5;66;03m# GH#39931 reindex since iloc does not align\u001B[39;00m\n\u001B[0;32m   4116\u001B[0m         value \u001B[38;5;241m=\u001B[39m value\u001B[38;5;241m.\u001B[39mreindex(\u001B[38;5;28mself\u001B[39m\u001B[38;5;241m.\u001B[39mindex\u001B[38;5;241m.\u001B[39mtake(indexer))\n\u001B[1;32m-> 4117\u001B[0m     \u001B[38;5;28;43mself\u001B[39;49m\u001B[38;5;241;43m.\u001B[39;49m\u001B[43miloc\u001B[49m\u001B[43m[\u001B[49m\u001B[43mindexer\u001B[49m\u001B[43m]\u001B[49m \u001B[38;5;241m=\u001B[39m value\n\u001B[0;32m   4119\u001B[0m \u001B[38;5;28;01melse\u001B[39;00m:\n\u001B[0;32m   4120\u001B[0m     \u001B[38;5;66;03m# Note: unlike self.iloc[:, indexer] = value, this will\u001B[39;00m\n\u001B[0;32m   4121\u001B[0m     \u001B[38;5;66;03m#  never try to overwrite values inplace\u001B[39;00m\n\u001B[0;32m   4123\u001B[0m     \u001B[38;5;28;01mif\u001B[39;00m \u001B[38;5;28misinstance\u001B[39m(value, DataFrame):\n",
      "File \u001B[1;32m~\\code\\llps_analysis\\env\\lib\\site-packages\\pandas\\core\\indexing.py:885\u001B[0m, in \u001B[0;36m_LocationIndexer.__setitem__\u001B[1;34m(self, key, value)\u001B[0m\n\u001B[0;32m    882\u001B[0m \u001B[38;5;28mself\u001B[39m\u001B[38;5;241m.\u001B[39m_has_valid_setitem_indexer(key)\n\u001B[0;32m    884\u001B[0m iloc \u001B[38;5;241m=\u001B[39m \u001B[38;5;28mself\u001B[39m \u001B[38;5;28;01mif\u001B[39;00m \u001B[38;5;28mself\u001B[39m\u001B[38;5;241m.\u001B[39mname \u001B[38;5;241m==\u001B[39m \u001B[38;5;124m\"\u001B[39m\u001B[38;5;124miloc\u001B[39m\u001B[38;5;124m\"\u001B[39m \u001B[38;5;28;01melse\u001B[39;00m \u001B[38;5;28mself\u001B[39m\u001B[38;5;241m.\u001B[39mobj\u001B[38;5;241m.\u001B[39miloc\n\u001B[1;32m--> 885\u001B[0m \u001B[43miloc\u001B[49m\u001B[38;5;241;43m.\u001B[39;49m\u001B[43m_setitem_with_indexer\u001B[49m\u001B[43m(\u001B[49m\u001B[43mindexer\u001B[49m\u001B[43m,\u001B[49m\u001B[43m \u001B[49m\u001B[43mvalue\u001B[49m\u001B[43m,\u001B[49m\u001B[43m \u001B[49m\u001B[38;5;28;43mself\u001B[39;49m\u001B[38;5;241;43m.\u001B[39;49m\u001B[43mname\u001B[49m\u001B[43m)\u001B[49m\n",
      "File \u001B[1;32m~\\code\\llps_analysis\\env\\lib\\site-packages\\pandas\\core\\indexing.py:1893\u001B[0m, in \u001B[0;36m_iLocIndexer._setitem_with_indexer\u001B[1;34m(self, indexer, value, name)\u001B[0m\n\u001B[0;32m   1890\u001B[0m \u001B[38;5;66;03m# align and set the values\u001B[39;00m\n\u001B[0;32m   1891\u001B[0m \u001B[38;5;28;01mif\u001B[39;00m take_split_path:\n\u001B[0;32m   1892\u001B[0m     \u001B[38;5;66;03m# We have to operate column-wise\u001B[39;00m\n\u001B[1;32m-> 1893\u001B[0m     \u001B[38;5;28;43mself\u001B[39;49m\u001B[38;5;241;43m.\u001B[39;49m\u001B[43m_setitem_with_indexer_split_path\u001B[49m\u001B[43m(\u001B[49m\u001B[43mindexer\u001B[49m\u001B[43m,\u001B[49m\u001B[43m \u001B[49m\u001B[43mvalue\u001B[49m\u001B[43m,\u001B[49m\u001B[43m \u001B[49m\u001B[43mname\u001B[49m\u001B[43m)\u001B[49m\n\u001B[0;32m   1894\u001B[0m \u001B[38;5;28;01melse\u001B[39;00m:\n\u001B[0;32m   1895\u001B[0m     \u001B[38;5;28mself\u001B[39m\u001B[38;5;241m.\u001B[39m_setitem_single_block(indexer, value, name)\n",
      "File \u001B[1;32m~\\code\\llps_analysis\\env\\lib\\site-packages\\pandas\\core\\indexing.py:1986\u001B[0m, in \u001B[0;36m_iLocIndexer._setitem_with_indexer_split_path\u001B[1;34m(self, indexer, value, name)\u001B[0m\n\u001B[0;32m   1983\u001B[0m \u001B[38;5;28;01melse\u001B[39;00m:\n\u001B[0;32m   1984\u001B[0m     \u001B[38;5;66;03m# scalar value\u001B[39;00m\n\u001B[0;32m   1985\u001B[0m     \u001B[38;5;28;01mfor\u001B[39;00m loc \u001B[38;5;129;01min\u001B[39;00m ilocs:\n\u001B[1;32m-> 1986\u001B[0m         \u001B[38;5;28;43mself\u001B[39;49m\u001B[38;5;241;43m.\u001B[39;49m\u001B[43m_setitem_single_column\u001B[49m\u001B[43m(\u001B[49m\u001B[43mloc\u001B[49m\u001B[43m,\u001B[49m\u001B[43m \u001B[49m\u001B[43mvalue\u001B[49m\u001B[43m,\u001B[49m\u001B[43m \u001B[49m\u001B[43mpi\u001B[49m\u001B[43m)\u001B[49m\n",
      "File \u001B[1;32m~\\code\\llps_analysis\\env\\lib\\site-packages\\pandas\\core\\indexing.py:2095\u001B[0m, in \u001B[0;36m_iLocIndexer._setitem_single_column\u001B[1;34m(self, loc, value, plane_indexer)\u001B[0m\n\u001B[0;32m   2091\u001B[0m         \u001B[38;5;28mself\u001B[39m\u001B[38;5;241m.\u001B[39mobj\u001B[38;5;241m.\u001B[39misetitem(loc, value)\n\u001B[0;32m   2092\u001B[0m \u001B[38;5;28;01melse\u001B[39;00m:\n\u001B[0;32m   2093\u001B[0m     \u001B[38;5;66;03m# set value into the column (first attempting to operate inplace, then\u001B[39;00m\n\u001B[0;32m   2094\u001B[0m     \u001B[38;5;66;03m#  falling back to casting if necessary)\u001B[39;00m\n\u001B[1;32m-> 2095\u001B[0m     \u001B[38;5;28;43mself\u001B[39;49m\u001B[38;5;241;43m.\u001B[39;49m\u001B[43mobj\u001B[49m\u001B[38;5;241;43m.\u001B[39;49m\u001B[43m_mgr\u001B[49m\u001B[38;5;241;43m.\u001B[39;49m\u001B[43mcolumn_setitem\u001B[49m\u001B[43m(\u001B[49m\u001B[43mloc\u001B[49m\u001B[43m,\u001B[49m\u001B[43m \u001B[49m\u001B[43mplane_indexer\u001B[49m\u001B[43m,\u001B[49m\u001B[43m \u001B[49m\u001B[43mvalue\u001B[49m\u001B[43m)\u001B[49m\n\u001B[0;32m   2097\u001B[0m \u001B[38;5;28mself\u001B[39m\u001B[38;5;241m.\u001B[39mobj\u001B[38;5;241m.\u001B[39m_clear_item_cache()\n",
      "File \u001B[1;32m~\\code\\llps_analysis\\env\\lib\\site-packages\\pandas\\core\\internals\\managers.py:1308\u001B[0m, in \u001B[0;36mBlockManager.column_setitem\u001B[1;34m(self, loc, idx, value, inplace_only)\u001B[0m\n\u001B[0;32m   1306\u001B[0m     col_mgr\u001B[38;5;241m.\u001B[39msetitem_inplace(idx, value)\n\u001B[0;32m   1307\u001B[0m \u001B[38;5;28;01melse\u001B[39;00m:\n\u001B[1;32m-> 1308\u001B[0m     new_mgr \u001B[38;5;241m=\u001B[39m \u001B[43mcol_mgr\u001B[49m\u001B[38;5;241;43m.\u001B[39;49m\u001B[43msetitem\u001B[49m\u001B[43m(\u001B[49m\u001B[43m(\u001B[49m\u001B[43midx\u001B[49m\u001B[43m,\u001B[49m\u001B[43m)\u001B[49m\u001B[43m,\u001B[49m\u001B[43m \u001B[49m\u001B[43mvalue\u001B[49m\u001B[43m)\u001B[49m\n\u001B[0;32m   1309\u001B[0m     \u001B[38;5;28mself\u001B[39m\u001B[38;5;241m.\u001B[39miset(loc, new_mgr\u001B[38;5;241m.\u001B[39m_block\u001B[38;5;241m.\u001B[39mvalues, inplace\u001B[38;5;241m=\u001B[39m\u001B[38;5;28;01mTrue\u001B[39;00m)\n",
      "File \u001B[1;32m~\\code\\llps_analysis\\env\\lib\\site-packages\\pandas\\core\\internals\\managers.py:399\u001B[0m, in \u001B[0;36mBaseBlockManager.setitem\u001B[1;34m(self, indexer, value)\u001B[0m\n\u001B[0;32m    395\u001B[0m     \u001B[38;5;66;03m# No need to split if we either set all columns or on a single block\u001B[39;00m\n\u001B[0;32m    396\u001B[0m     \u001B[38;5;66;03m# manager\u001B[39;00m\n\u001B[0;32m    397\u001B[0m     \u001B[38;5;28mself\u001B[39m \u001B[38;5;241m=\u001B[39m \u001B[38;5;28mself\u001B[39m\u001B[38;5;241m.\u001B[39mcopy()\n\u001B[1;32m--> 399\u001B[0m \u001B[38;5;28;01mreturn\u001B[39;00m \u001B[38;5;28;43mself\u001B[39;49m\u001B[38;5;241;43m.\u001B[39;49m\u001B[43mapply\u001B[49m\u001B[43m(\u001B[49m\u001B[38;5;124;43m\"\u001B[39;49m\u001B[38;5;124;43msetitem\u001B[39;49m\u001B[38;5;124;43m\"\u001B[39;49m\u001B[43m,\u001B[49m\u001B[43m \u001B[49m\u001B[43mindexer\u001B[49m\u001B[38;5;241;43m=\u001B[39;49m\u001B[43mindexer\u001B[49m\u001B[43m,\u001B[49m\u001B[43m \u001B[49m\u001B[43mvalue\u001B[49m\u001B[38;5;241;43m=\u001B[39;49m\u001B[43mvalue\u001B[49m\u001B[43m)\u001B[49m\n",
      "File \u001B[1;32m~\\code\\llps_analysis\\env\\lib\\site-packages\\pandas\\core\\internals\\managers.py:354\u001B[0m, in \u001B[0;36mBaseBlockManager.apply\u001B[1;34m(self, f, align_keys, **kwargs)\u001B[0m\n\u001B[0;32m    352\u001B[0m         applied \u001B[38;5;241m=\u001B[39m b\u001B[38;5;241m.\u001B[39mapply(f, \u001B[38;5;241m*\u001B[39m\u001B[38;5;241m*\u001B[39mkwargs)\n\u001B[0;32m    353\u001B[0m     \u001B[38;5;28;01melse\u001B[39;00m:\n\u001B[1;32m--> 354\u001B[0m         applied \u001B[38;5;241m=\u001B[39m \u001B[38;5;28mgetattr\u001B[39m(b, f)(\u001B[38;5;241m*\u001B[39m\u001B[38;5;241m*\u001B[39mkwargs)\n\u001B[0;32m    355\u001B[0m     result_blocks \u001B[38;5;241m=\u001B[39m extend_blocks(applied, result_blocks)\n\u001B[0;32m    357\u001B[0m out \u001B[38;5;241m=\u001B[39m \u001B[38;5;28mtype\u001B[39m(\u001B[38;5;28mself\u001B[39m)\u001B[38;5;241m.\u001B[39mfrom_blocks(result_blocks, \u001B[38;5;28mself\u001B[39m\u001B[38;5;241m.\u001B[39maxes)\n",
      "File \u001B[1;32m~\\code\\llps_analysis\\env\\lib\\site-packages\\pandas\\core\\internals\\blocks.py:1758\u001B[0m, in \u001B[0;36mEABackedBlock.setitem\u001B[1;34m(self, indexer, value, using_cow)\u001B[0m\n\u001B[0;32m   1755\u001B[0m check_setitem_lengths(indexer, value, values)\n\u001B[0;32m   1757\u001B[0m \u001B[38;5;28;01mtry\u001B[39;00m:\n\u001B[1;32m-> 1758\u001B[0m     \u001B[43mvalues\u001B[49m\u001B[43m[\u001B[49m\u001B[43mindexer\u001B[49m\u001B[43m]\u001B[49m \u001B[38;5;241m=\u001B[39m value\n\u001B[0;32m   1759\u001B[0m \u001B[38;5;28;01mexcept\u001B[39;00m (\u001B[38;5;167;01mValueError\u001B[39;00m, \u001B[38;5;167;01mTypeError\u001B[39;00m) \u001B[38;5;28;01mas\u001B[39;00m err:\n\u001B[0;32m   1760\u001B[0m     _catch_deprecated_value_error(err)\n",
      "File \u001B[1;32m~\\code\\llps_analysis\\env\\lib\\site-packages\\pandas\\core\\arrays\\_mixins.py:253\u001B[0m, in \u001B[0;36mNDArrayBackedExtensionArray.__setitem__\u001B[1;34m(self, key, value)\u001B[0m\n\u001B[0;32m    251\u001B[0m \u001B[38;5;28;01mdef\u001B[39;00m \u001B[38;5;21m__setitem__\u001B[39m(\u001B[38;5;28mself\u001B[39m, key, value) \u001B[38;5;241m-\u001B[39m\u001B[38;5;241m>\u001B[39m \u001B[38;5;28;01mNone\u001B[39;00m:\n\u001B[0;32m    252\u001B[0m     key \u001B[38;5;241m=\u001B[39m check_array_indexer(\u001B[38;5;28mself\u001B[39m, key)\n\u001B[1;32m--> 253\u001B[0m     value \u001B[38;5;241m=\u001B[39m \u001B[38;5;28;43mself\u001B[39;49m\u001B[38;5;241;43m.\u001B[39;49m\u001B[43m_validate_setitem_value\u001B[49m\u001B[43m(\u001B[49m\u001B[43mvalue\u001B[49m\u001B[43m)\u001B[49m\n\u001B[0;32m    254\u001B[0m     \u001B[38;5;28mself\u001B[39m\u001B[38;5;241m.\u001B[39m_ndarray[key] \u001B[38;5;241m=\u001B[39m value\n",
      "File \u001B[1;32m~\\code\\llps_analysis\\env\\lib\\site-packages\\pandas\\core\\arrays\\categorical.py:1562\u001B[0m, in \u001B[0;36mCategorical._validate_setitem_value\u001B[1;34m(self, value)\u001B[0m\n\u001B[0;32m   1560\u001B[0m     \u001B[38;5;28;01mreturn\u001B[39;00m \u001B[38;5;28mself\u001B[39m\u001B[38;5;241m.\u001B[39m_validate_listlike(value)\n\u001B[0;32m   1561\u001B[0m \u001B[38;5;28;01melse\u001B[39;00m:\n\u001B[1;32m-> 1562\u001B[0m     \u001B[38;5;28;01mreturn\u001B[39;00m \u001B[38;5;28;43mself\u001B[39;49m\u001B[38;5;241;43m.\u001B[39;49m\u001B[43m_validate_scalar\u001B[49m\u001B[43m(\u001B[49m\u001B[43mvalue\u001B[49m\u001B[43m)\u001B[49m\n",
      "File \u001B[1;32m~\\code\\llps_analysis\\env\\lib\\site-packages\\pandas\\core\\arrays\\categorical.py:1587\u001B[0m, in \u001B[0;36mCategorical._validate_scalar\u001B[1;34m(self, fill_value)\u001B[0m\n\u001B[0;32m   1585\u001B[0m     fill_value \u001B[38;5;241m=\u001B[39m \u001B[38;5;28mself\u001B[39m\u001B[38;5;241m.\u001B[39m_unbox_scalar(fill_value)\n\u001B[0;32m   1586\u001B[0m \u001B[38;5;28;01melse\u001B[39;00m:\n\u001B[1;32m-> 1587\u001B[0m     \u001B[38;5;28;01mraise\u001B[39;00m \u001B[38;5;167;01mTypeError\u001B[39;00m(\n\u001B[0;32m   1588\u001B[0m         \u001B[38;5;124m\"\u001B[39m\u001B[38;5;124mCannot setitem on a Categorical with a new \u001B[39m\u001B[38;5;124m\"\u001B[39m\n\u001B[0;32m   1589\u001B[0m         \u001B[38;5;124mf\u001B[39m\u001B[38;5;124m\"\u001B[39m\u001B[38;5;124mcategory (\u001B[39m\u001B[38;5;132;01m{\u001B[39;00mfill_value\u001B[38;5;132;01m}\u001B[39;00m\u001B[38;5;124m), set the categories first\u001B[39m\u001B[38;5;124m\"\u001B[39m\n\u001B[0;32m   1590\u001B[0m     ) \u001B[38;5;28;01mfrom\u001B[39;00m \u001B[38;5;28;01mNone\u001B[39;00m\n\u001B[0;32m   1591\u001B[0m \u001B[38;5;28;01mreturn\u001B[39;00m fill_value\n",
      "\u001B[1;31mTypeError\u001B[0m: Cannot setitem on a Categorical with a new category (TBP C), set the categories first"
     ]
    }
   ],
   "source": [
    "temp[temp[\"colour\"] == \"TBP Core\"] = \"TBP C\""
   ],
   "metadata": {
    "collapsed": false
   }
  },
  {
   "cell_type": "code",
   "execution_count": 20,
   "outputs": [
    {
     "name": "stderr",
     "output_type": "stream",
     "text": [
      "C:\\Users\\danie\\AppData\\Local\\Temp\\ipykernel_9176\\1754751871.py:1: SettingWithCopyWarning: \n",
      "A value is trying to be set on a copy of a slice from a DataFrame.\n",
      "Try using .loc[row_indexer,col_indexer] = value instead\n",
      "\n",
      "See the caveats in the documentation: https://pandas.pydata.org/pandas-docs/stable/user_guide/indexing.html#returning-a-view-versus-a-copy\n"
     ]
    }
   ],
   "source": [
    "temp[\"x\"] = temp[\"x\"].astype(\"float\")"
   ],
   "metadata": {
    "collapsed": false
   }
  },
  {
   "cell_type": "code",
   "execution_count": 23,
   "outputs": [
    {
     "data": {
      "text/plain": "[0.11842105263157894,\n 0.12849162011173185,\n 0.23684210526315788,\n 0.25842696629213485,\n 0.47368421052631576,\n 0.4921875,\n 0.5227272727272727,\n 0.984375,\n 1.0,\n 1.0454545454545454,\n 1.96875,\n 2.090909090909091,\n 2.25,\n 3.9375,\n 4.5,\n 4.6,\n 7.875,\n 11.5,\n 15.75]"
     },
     "execution_count": 23,
     "metadata": {},
     "output_type": "execute_result"
    }
   ],
   "source": [
    "np.unique(temp[\"x\"]).tolist()"
   ],
   "metadata": {
    "collapsed": false
   }
  },
  {
   "cell_type": "code",
   "execution_count": 35,
   "outputs": [],
   "source": [
    "temp.loc[temp[\"colour\"] == \"TBP IDR\", \"y\"] = 0"
   ],
   "metadata": {
    "collapsed": false
   }
  },
  {
   "cell_type": "code",
   "execution_count": 36,
   "outputs": [
    {
     "data": {
      "text/plain": "     colour    x    y     log_y\n0   TBP IDR  0.5  0.0  0.301030\n1   TBP IDR  0.5  0.0  0.301030\n2   TBP IDR  0.5  0.0  0.301030\n3   TBP IDR  0.5  0.0  0.299059\n4   TBP IDR  0.5  0.0  0.301030\n..      ...  ...  ...       ...\n59  TBP IDR  8.0  0.0  0.301030\n60  TBP IDR  8.0  0.0  0.301030\n61  TBP IDR  8.0  0.0  0.301030\n62  TBP IDR  8.0  0.0  0.301030\n63  TBP IDR  8.0  0.0  0.301030\n\n[64 rows x 4 columns]",
      "text/html": "<div>\n<style scoped>\n    .dataframe tbody tr th:only-of-type {\n        vertical-align: middle;\n    }\n\n    .dataframe tbody tr th {\n        vertical-align: top;\n    }\n\n    .dataframe thead th {\n        text-align: right;\n    }\n</style>\n<table border=\"1\" class=\"dataframe\">\n  <thead>\n    <tr style=\"text-align: right;\">\n      <th></th>\n      <th>colour</th>\n      <th>x</th>\n      <th>y</th>\n      <th>log_y</th>\n    </tr>\n  </thead>\n  <tbody>\n    <tr>\n      <th>0</th>\n      <td>TBP IDR</td>\n      <td>0.5</td>\n      <td>0.0</td>\n      <td>0.301030</td>\n    </tr>\n    <tr>\n      <th>1</th>\n      <td>TBP IDR</td>\n      <td>0.5</td>\n      <td>0.0</td>\n      <td>0.301030</td>\n    </tr>\n    <tr>\n      <th>2</th>\n      <td>TBP IDR</td>\n      <td>0.5</td>\n      <td>0.0</td>\n      <td>0.301030</td>\n    </tr>\n    <tr>\n      <th>3</th>\n      <td>TBP IDR</td>\n      <td>0.5</td>\n      <td>0.0</td>\n      <td>0.299059</td>\n    </tr>\n    <tr>\n      <th>4</th>\n      <td>TBP IDR</td>\n      <td>0.5</td>\n      <td>0.0</td>\n      <td>0.301030</td>\n    </tr>\n    <tr>\n      <th>...</th>\n      <td>...</td>\n      <td>...</td>\n      <td>...</td>\n      <td>...</td>\n    </tr>\n    <tr>\n      <th>59</th>\n      <td>TBP IDR</td>\n      <td>8.0</td>\n      <td>0.0</td>\n      <td>0.301030</td>\n    </tr>\n    <tr>\n      <th>60</th>\n      <td>TBP IDR</td>\n      <td>8.0</td>\n      <td>0.0</td>\n      <td>0.301030</td>\n    </tr>\n    <tr>\n      <th>61</th>\n      <td>TBP IDR</td>\n      <td>8.0</td>\n      <td>0.0</td>\n      <td>0.301030</td>\n    </tr>\n    <tr>\n      <th>62</th>\n      <td>TBP IDR</td>\n      <td>8.0</td>\n      <td>0.0</td>\n      <td>0.301030</td>\n    </tr>\n    <tr>\n      <th>63</th>\n      <td>TBP IDR</td>\n      <td>8.0</td>\n      <td>0.0</td>\n      <td>0.301030</td>\n    </tr>\n  </tbody>\n</table>\n<p>64 rows × 4 columns</p>\n</div>"
     },
     "execution_count": 36,
     "metadata": {},
     "output_type": "execute_result"
    }
   ],
   "source": [
    "temp[temp[\"colour\"] == \"TBP IDR\"]"
   ],
   "metadata": {
    "collapsed": false
   }
  },
  {
   "cell_type": "code",
   "execution_count": 40,
   "outputs": [
    {
     "data": {
      "text/plain": "<Figure size 500x500 with 1 Axes>",
      "image/png": "[encoded data removed]"
     },
     "metadata": {
      "image/png": {
       "width": 500,
       "height": 500
      }
     },
     "output_type": "display_data"
    },
    {
     "data": {
      "text/plain": "<Figure Size: (500 x 500)>"
     },
     "execution_count": 40,
     "metadata": {},
     "output_type": "execute_result"
    }
   ],
   "source": [
    "plot = (\n",
    "        pn.ggplot(temp, pn.aes(x=\"x\", y=\"y\", shape=\"colour\", fill=\"colour\", color=\"colour\"))\n",
    "        # + pn.geom_point()\n",
    "        + pn.geom_boxplot()\n",
    "        + pn.theme_classic()\n",
    "        + pn.labs(x=\"Concentration ($\\mu$M)\", y=\"Condensed Fraction\", color=\"\", fill=\"\",\n",
    "                  shape=\"\")\n",
    "        + pn.scale_x_discrete(labels=[\"0.1\", \"0.5\", \"1\", \"2\", \"4\", \"5\", \"8\", \"11\", \"16\"])\n",
    "        + pn.theme(figure_size=(5, 5),\n",
    "                   legend_position=\"top\",\n",
    "                   axis_text=pn.element_text(color=\"black\", size=10, family=\"Arial\"),\n",
    "                   axis_title=pn.element_text(color=\"black\", size=10, family=\"Arial\"))\n",
    "        + pn.scale_fill_manual(values=[\"#35b779\", \"#31688e\", \"#440154\"])\n",
    "        + pn.scale_color_manual(values=[\"#154a31\", \"#1c3c52\", \"#1f0026\"])\n",
    ")\n",
    "plot"
   ],
   "metadata": {
    "collapsed": false
   }
  },
  {
   "cell_type": "code",
   "execution_count": 41,
   "outputs": [
    {
     "name": "stderr",
     "output_type": "stream",
     "text": [
      "C:\\Users\\danie\\code\\llps_analysis\\env\\lib\\site-packages\\plotnine\\ggplot.py:587: PlotnineWarning: Saving 80.0 x 80.0 mm image.\n",
      "C:\\Users\\danie\\code\\llps_analysis\\env\\lib\\site-packages\\plotnine\\ggplot.py:588: PlotnineWarning: Filename: C:\\Users\\danie\\OneDrive - University of Cape Town\\Hons Project\\DataAnalysis\\new_analysis_20231031\\TBP\\condensed_fraction_boxplot_tbp.svg\n"
     ]
    }
   ],
   "source": [
    "plot.save(base_dir / \"condensed_fraction_boxplot_tbp.svg\", dpi=1200, width=80, height=80, units=\"mm\")"
   ],
   "metadata": {
    "collapsed": false
   }
  },
  {
   "cell_type": "code",
   "execution_count": null,
   "outputs": [],
   "source": [
    "# # TFIIB Colours:\n",
    "# + pn.scale_fill_manual(values=[\"#66c2a5\", \"#fc8d62\", \"#8da0cb\"])\n",
    "#         + pn.scale_color_manual(values=[\"#3a6b5c\", \"#a1583b\", \"#5d6a87\"])"
   ],
   "metadata": {
    "collapsed": false
   }
  }
 ],
 "metadata": {
  "kernelspec": {
   "display_name": "Python 3",
   "language": "python",
   "name": "python3"
  },
  "language_info": {
   "codemirror_mode": {
    "name": "ipython",
    "version": 2
   },
   "file_extension": ".py",
   "mimetype": "text/x-python",
   "name": "python",
   "nbconvert_exporter": "python",
   "pygments_lexer": "ipython2",
   "version": "2.7.6"
  }
 },
 "nbformat": 4,
 "nbformat_minor": 0
}
