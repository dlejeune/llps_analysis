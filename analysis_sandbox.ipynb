{
 "cells": [
  {
   "cell_type": "code",
   "execution_count": 1,
   "outputs": [],
   "source": [
    "import pandas as pd\n",
    "import numpy as np\n",
    "import matplotlib.pyplot as plt\n",
    "import json\n",
    "import plotnine as pn\n",
    "from pathlib import Path  #%%\n",
    "import pandas as pd\n",
    "import numpy as np\n",
    "import matplotlib.pyplot as plt\n",
    "import json\n",
    "import plotnine as pn\n",
    "from pathlib import Path"
   ],
   "metadata": {
    "collapsed": false
   }
  },
  {
   "cell_type": "markdown",
   "source": [
    "# TBP"
   ],
   "metadata": {
    "collapsed": false
   }
  },
  {
   "cell_type": "code",
   "execution_count": null,
   "outputs": [],
   "source": [
    "stock_concentrations = {\n",
    "    \"TBP FL\": 9,\n",
    "    \"TBP Core\": 23,\n",
    "    \"TBP IDR\": 63,\n",
    "}"
   ],
   "metadata": {
    "collapsed": false
   }
  },
  {
   "cell_type": "code",
   "execution_count": 2,
   "outputs": [],
   "source": [
    "base_dir = Path(\n",
    "    \"C:\\\\Users\\\\danie\\\\OneDrive - University of Cape Town\\\\Hons Project\\\\DataAnalysis\\\\rerun_with_filtering\")\n"
   ],
   "metadata": {
    "collapsed": false
   }
  },
  {
   "cell_type": "code",
   "execution_count": null,
   "outputs": [],
   "source": [
    "regions_dfs = []\n",
    "condense_fraction_dfs = []\n",
    "\n",
    "for key in stock_concentrations.keys():\n",
    "    regions_dfs.append(pd.read_csv(base_dir / key / f\"{key}_regions.csv\"))\n",
    "    condense_fraction_dfs.append(pd.read_csv(base_dir / key / f\"{key}_condensed_fractions.csv\"))\n",
    "\n",
    "regions = pd.concat(regions_dfs)\n",
    "condensed_fractions = pd.concat(condense_fraction_dfs)"
   ],
   "metadata": {
    "collapsed": false
   }
  },
  {
   "cell_type": "code",
   "execution_count": null,
   "outputs": [],
   "source": [
    "condensed_fractions[\"conc\"] = stock_concentrations[condensed_fractions[\"prep\"]] / condensed_fractions[\"dir_name\"]"
   ],
   "metadata": {
    "collapsed": false
   }
  },
  {
   "cell_type": "code",
   "execution_count": null,
   "outputs": [],
   "source": [
    "def fix_concentration(row):\n",
    "    return stock_concentrations[row[\"prep\"]] / row[\"dir_name\"]"
   ],
   "metadata": {
    "collapsed": false
   }
  },
  {
   "cell_type": "code",
   "execution_count": null,
   "outputs": [],
   "source": [
    "condensed_fractions[\"conc\"] = condensed_fractions.apply(fix_concentration, axis=1)\n",
    "regions[\"conc\"] = regions.apply(fix_concentration, axis=1)"
   ],
   "metadata": {
    "collapsed": false
   }
  },
  {
   "cell_type": "code",
   "execution_count": null,
   "outputs": [],
   "source": [
    "condensed_fractions"
   ],
   "metadata": {
    "collapsed": false
   }
  },
  {
   "cell_type": "code",
   "execution_count": null,
   "outputs": [],
   "source": [
    "regions[\"circularity\"] = (np.square(regions[\"perimeter\"])) / (\n",
    "        4 * np.pi * regions[\"area\"])"
   ],
   "metadata": {
    "collapsed": false
   }
  },
  {
   "cell_type": "code",
   "execution_count": null,
   "outputs": [],
   "source": [
    "condensed_fractions.columns"
   ],
   "metadata": {
    "collapsed": false
   }
  },
  {
   "cell_type": "code",
   "execution_count": null,
   "outputs": [],
   "source": [
    "filtered_cond_frac = condensed_fractions[condensed_fractions[\"condensed_fraction\"] < 0.3]\n",
    "filtered_cond_frac = filtered_cond_frac[filtered_cond_frac[\"conc\"] < 10]\n",
    "tbp_cond_frac_plot = (\n",
    "        pn.ggplot(filtered_cond_frac,\n",
    "                  pn.aes(x=\"conc\", y=\"condensed_fraction\", color=\"prep\")) +\n",
    "        pn.geom_point() +\n",
    "        pn.labs(x=\"Concentration ($\\mu$M)\", y=\"Condensed Fraction\") +\n",
    "        pn.theme(figure_size=(8, 4.5))\n",
    ")\n",
    "\n",
    "tbp_cond_frac_plot"
   ],
   "metadata": {
    "collapsed": false
   }
  },
  {
   "cell_type": "code",
   "execution_count": null,
   "outputs": [],
   "source": [
    "tbp_cond_frac_plot.save(base_dir / \"Figures/tbp_cond_frac_plot_filtered.png\", width=8, height=4.5, dpi=1200)"
   ],
   "metadata": {
    "collapsed": false
   }
  },
  {
   "cell_type": "code",
   "execution_count": null,
   "outputs": [],
   "source": [
    "modded_regions = regions.copy()\n",
    "modded_regions[\"log_area\"] = np.log10(modded_regions[\"area\"])\n",
    "modded_regions = modded_regions.groupby([\"prep\", \"conc\"])[\"area\"].aggregate([\"mean\", \"std\", \"count\"]).reset_index()\n",
    "modded_regions[\"log_area_std_err\"] = modded_regions[\"std\"] / np.sqrt(modded_regions[\"count\"])\n",
    "modded_regions[\"mean_plus_std_err\"] = modded_regions[\"mean\"] + modded_regions[\"log_area_std_err\"]\n",
    "modded_regions[\"mean_minus_std_err\"] = modded_regions[\"mean\"] - modded_regions[\"log_area_std_err\"]\n",
    "tbp_region_area_plot = (\n",
    "        pn.ggplot(modded_regions,\n",
    "                  pn.aes(x=\"conc\", y=\"mean\", color=\"prep\")) +\n",
    "        pn.geom_point() +\n",
    "        pn.geom_errorbar(pn.aes(ymin=\"mean_minus_std_err\", ymax=\"mean_plus_std_err\")) +\n",
    "        pn.labs(x=\"Concentration ($\\mu$M)\", y=\"Area (pixels)\") +\n",
    "        pn.theme(figure_size=(8, 4.5))\n",
    "    # pn.scale_x_log10()\n",
    ")\n",
    "tbp_region_area_plot"
   ],
   "metadata": {
    "collapsed": false
   }
  },
  {
   "cell_type": "code",
   "execution_count": null,
   "outputs": [],
   "source": [
    "tbp_region_area_plot.save(base_dir / \"Figures/tbp_region_area_plot.png\", width=8, height=4.5, dpi=1200)"
   ],
   "metadata": {
    "collapsed": false
   }
  },
  {
   "cell_type": "code",
   "execution_count": null,
   "outputs": [],
   "source": [
    "modded_regions = regions.copy()\n",
    "modded_regions = modded_regions.groupby([\"prep\", \"conc\"])[\"circularity\"].aggregate(\n",
    "    [\"mean\", \"std\", \"count\"]).reset_index()\n",
    "modded_regions[\"circularity_std_err\"] = modded_regions[\"std\"] / np.sqrt(modded_regions[\"count\"])\n",
    "modded_regions[\"mean_plus_std_err\"] = modded_regions[\"mean\"] + modded_regions[\"circularity_std_err\"]\n",
    "modded_regions[\"mean_minus_std_err\"] = modded_regions[\"mean\"] - modded_regions[\"circularity_std_err\"]\n",
    "tbp_circularity_plot = (\n",
    "        pn.ggplot(modded_regions,\n",
    "                  pn.aes(x=\"conc\", y=\"mean\", color=\"prep\")) +\n",
    "        pn.geom_point() +\n",
    "        pn.geom_errorbar(pn.aes(ymin=\"mean_minus_std_err\", ymax=\"mean_plus_std_err\")) +\n",
    "        pn.labs(x=\"Concentration ($\\mu$M)\", y=\"Circularity\") +\n",
    "        pn.theme(figure_size=(8, 4.5))\n",
    "    # pn.scale_x_log10()\n",
    ")\n",
    "tbp_circularity_plot"
   ],
   "metadata": {
    "collapsed": false
   }
  },
  {
   "cell_type": "code",
   "execution_count": null,
   "outputs": [],
   "source": [
    "tbp_circularity_plot.save(base_dir / \"Figures/tbp_circularity_plot.png\", width=8, height=4.5, dpi=1200)"
   ],
   "metadata": {
    "collapsed": false
   }
  },
  {
   "cell_type": "markdown",
   "source": [
    "# TFIIB"
   ],
   "metadata": {
    "collapsed": false
   }
  },
  {
   "cell_type": "code",
   "execution_count": null,
   "outputs": [],
   "source": [
    "stock_concentrations = {\n",
    "    \"TFIIB FL\": 113,\n",
    "    \"TFIIB Core\": 28,\n",
    "    \"TFIIB IDR\": 153,\n",
    "}"
   ],
   "metadata": {
    "collapsed": false
   }
  },
  {
   "cell_type": "code",
   "execution_count": null,
   "outputs": [],
   "source": [
    "base_dir = Path(\n",
    "    \"C:\\\\Users\\\\danie\\\\OneDrive - University of Cape Town\\\\Hons Project\\\\DataAnalysis\\\\rerun_with_filtering\")\n"
   ],
   "metadata": {
    "collapsed": false
   }
  },
  {
   "cell_type": "code",
   "execution_count": null,
   "outputs": [],
   "source": [
    "regions_dfs = []\n",
    "condense_fraction_dfs = []\n",
    "\n",
    "for key in stock_concentrations.keys():\n",
    "    regions_dfs.append(pd.read_csv(base_dir / key / f\"{key}_regions.csv\"))\n",
    "    condense_fraction_dfs.append(pd.read_csv(base_dir / key / f\"{key}_condensed_fractions.csv\"))\n",
    "\n",
    "regions = pd.concat(regions_dfs)\n",
    "condensed_fractions = pd.concat(condense_fraction_dfs)"
   ],
   "metadata": {
    "collapsed": false
   }
  },
  {
   "cell_type": "code",
   "execution_count": null,
   "outputs": [],
   "source": [
    "def fix_concentration(row):\n",
    "    return stock_concentrations[row[\"prep\"]] / row[\"dir_name\"]"
   ],
   "metadata": {
    "collapsed": false
   }
  },
  {
   "cell_type": "code",
   "execution_count": null,
   "outputs": [],
   "source": [
    "condensed_fractions[\"conc\"] = condensed_fractions.apply(fix_concentration, axis=1)\n",
    "regions[\"conc\"] = regions.apply(fix_concentration, axis=1)"
   ],
   "metadata": {
    "collapsed": false
   }
  },
  {
   "cell_type": "code",
   "execution_count": null,
   "outputs": [],
   "source": [
    "condensed_fractions"
   ],
   "metadata": {
    "collapsed": false
   }
  },
  {
   "cell_type": "code",
   "execution_count": null,
   "outputs": [],
   "source": [
    "regions[\"circularity\"] = (np.square(regions[\"perimeter\"])) / (\n",
    "        4 * np.pi * regions[\"area\"])"
   ],
   "metadata": {
    "collapsed": false
   }
  },
  {
   "cell_type": "code",
   "execution_count": null,
   "outputs": [],
   "source": [
    "condensed_fractions.columns"
   ],
   "metadata": {
    "collapsed": false
   }
  },
  {
   "cell_type": "code",
   "execution_count": null,
   "outputs": [],
   "source": [
    "filtered_cond_frac = condensed_fractions[condensed_fractions[\"condensed_fraction\"] < 0.3]\n",
    "filtered_cond_frac = filtered_cond_frac[filtered_cond_frac[\"conc\"] < 30]\n",
    "iib_cond_frac_plot = (\n",
    "        pn.ggplot(filtered_cond_frac,\n",
    "                  pn.aes(x=\"conc\", y=\"condensed_fraction\", color=\"prep\")) +\n",
    "        pn.geom_point() +\n",
    "        pn.labs(x=\"Concentration ($\\mu$M)\", y=\"Condensed Fraction\") +\n",
    "        pn.theme(figure_size=(8, 4.5))\n",
    ")\n",
    "\n",
    "iib_cond_frac_plot"
   ],
   "metadata": {
    "collapsed": false
   }
  },
  {
   "cell_type": "code",
   "execution_count": null,
   "outputs": [],
   "source": [
    "iib_cond_frac_plot.save(base_dir / \"Figures/tbp_cond_frac_plot_with_points_filtered.png\", width=8, height=4.5, dpi=1200)"
   ],
   "metadata": {
    "collapsed": false
   }
  },
  {
   "cell_type": "code",
   "execution_count": null,
   "outputs": [],
   "source": [
    "modded_regions = regions.copy()\n",
    "modded_regions[\"log_area\"] = np.log10(modded_regions[\"area\"])\n",
    "modded_regions = modded_regions.groupby([\"prep\", \"conc\"])[\"area\"].aggregate([\"mean\", \"std\", \"count\"]).reset_index()\n",
    "modded_regions[\"log_area_std_err\"] = modded_regions[\"std\"] / np.sqrt(modded_regions[\"count\"])\n",
    "modded_regions[\"mean_plus_std_err\"] = modded_regions[\"mean\"] + modded_regions[\"log_area_std_err\"]\n",
    "modded_regions[\"mean_minus_std_err\"] = modded_regions[\"mean\"] - modded_regions[\"log_area_std_err\"]\n",
    "iib_region_area_plot = (\n",
    "        pn.ggplot(modded_regions,\n",
    "                  pn.aes(x=\"conc\", y=\"mean\", color=\"prep\")) +\n",
    "        pn.geom_point() +\n",
    "        pn.geom_errorbar(pn.aes(ymin=\"mean_minus_std_err\", ymax=\"mean_plus_std_err\")) +\n",
    "        pn.labs(x=\"Concentration ($\\mu$M)\", y=\"Area (pixels)\") +\n",
    "        pn.theme(figure_size=(8, 4.5))\n",
    "    # pn.scale_x_log10()\n",
    ")\n",
    "iib_region_area_plot"
   ],
   "metadata": {
    "collapsed": false
   }
  },
  {
   "cell_type": "code",
   "execution_count": null,
   "outputs": [],
   "source": [
    "iib_region_area_plot.save(base_dir / \"Figures/iib_region_area_plot.png\", width=8, height=4.5, dpi=1200)"
   ],
   "metadata": {
    "collapsed": false
   }
  },
  {
   "cell_type": "code",
   "execution_count": null,
   "outputs": [],
   "source": [
    "modded_regions = regions.copy()\n",
    "modded_regions = modded_regions.groupby([\"prep\", \"conc\"])[\"circularity\"].aggregate(\n",
    "    [\"mean\", \"std\", \"count\"]).reset_index()\n",
    "modded_regions[\"circularity_std_err\"] = modded_regions[\"std\"] / np.sqrt(modded_regions[\"count\"])\n",
    "modded_regions[\"mean_plus_std_err\"] = modded_regions[\"mean\"] + modded_regions[\"circularity_std_err\"]\n",
    "modded_regions[\"mean_minus_std_err\"] = modded_regions[\"mean\"] - modded_regions[\"circularity_std_err\"]\n",
    "iib_circularity_plot = (\n",
    "        pn.ggplot(modded_regions,\n",
    "                  pn.aes(x=\"conc\", y=\"mean\", color=\"prep\")) +\n",
    "        pn.geom_point() +\n",
    "        pn.geom_errorbar(pn.aes(ymin=\"mean_minus_std_err\", ymax=\"mean_plus_std_err\")) +\n",
    "        pn.labs(x=\"Concentration ($\\mu$M)\", y=\"Circularity\") +\n",
    "        pn.theme(figure_size=(8, 4.5))\n",
    "    # pn.scale_x_log10()\n",
    ")\n",
    "iib_circularity_plot"
   ],
   "metadata": {
    "collapsed": false
   }
  },
  {
   "cell_type": "code",
   "execution_count": null,
   "outputs": [],
   "source": [
    "iib_circularity_plot.save(base_dir / \"Figures/iib_circularity_plot.png\", width=8, height=4.5, dpi=1200)"
   ],
   "metadata": {
    "collapsed": false
   }
  },
  {
   "cell_type": "code",
   "execution_count": null,
   "outputs": [],
   "source": [
    "modded_regions = regions.copy()\n",
    "modded_regions = modded_regions.groupby([\"prep\", \"conc\"])[\"mean_intensity\"].aggregate(\n",
    "    [\"mean\", \"std\", \"count\"]).reset_index()\n",
    "modded_regions[\"intensity_std_err\"] = modded_regions[\"std\"] / np.sqrt(modded_regions[\"count\"])\n",
    "modded_regions[\"mean_plus_std_err\"] = modded_regions[\"mean\"] + modded_regions[\"intensity_std_err\"]\n",
    "modded_regions[\"mean_minus_std_err\"] = modded_regions[\"mean\"] - modded_regions[\"intensity_std_err\"]\n",
    "iib_intensity_plot = (\n",
    "        pn.ggplot(modded_regions,\n",
    "                  pn.aes(x=\"conc\", y=\"mean\", color=\"prep\")) +\n",
    "        pn.geom_point() +\n",
    "        pn.geom_errorbar(pn.aes(ymin=\"mean_minus_std_err\", ymax=\"mean_plus_std_err\")) +\n",
    "        pn.labs(x=\"Concentration ($\\mu$M)\", y=\"Mean Intensity\") +\n",
    "        pn.theme(figure_size=(8, 4.5))\n",
    "    # pn.scale_x_log10()\n",
    ")\n",
    "iib_intensity_plot"
   ],
   "metadata": {
    "collapsed": false
   }
  },
  {
   "cell_type": "code",
   "execution_count": null,
   "outputs": [],
   "source": [
    "iib_intensity_plot.save(base_dir / \"Figures/iib_intensity_plot.png\", width=8, height=4.5, dpi=1200)"
   ],
   "metadata": {
    "collapsed": false
   }
  },
  {
   "cell_type": "markdown",
   "source": [
    "# TBP + RNA"
   ],
   "metadata": {
    "collapsed": false
   }
  },
  {
   "cell_type": "code",
   "execution_count": null,
   "outputs": [],
   "source": [
    "tbp_rna_regions = pd.read_csv(base_dir / \"TBP + RNA\" / \"TBP + RNA_regions.csv\")\n",
    "tbp_rna_condensed_fractions = pd.read_csv(base_dir / \"TBP + RNA\" / \"TBP + RNA_condensed_fractions.csv\")"
   ],
   "metadata": {
    "collapsed": false
   }
  },
  {
   "cell_type": "code",
   "execution_count": null,
   "outputs": [],
   "source": [
    "tbp_rna_regions[\"circularity\"] = (np.square(tbp_rna_regions[\"perimeter\"])) / (\n",
    "        4 * np.pi * tbp_rna_regions[\"area\"])"
   ],
   "metadata": {
    "collapsed": false
   }
  },
  {
   "cell_type": "code",
   "execution_count": null,
   "outputs": [],
   "source": [
    "# filtered_cond_frac = condensed_fractions[condensed_fractions[\"condensed_fraction\"] < 0.3]\n",
    "# filtered_cond_frac = filtered_cond_frac[filtered_cond_frac[\"conc\"] < 30]\n",
    "cond_frac_plot = (\n",
    "        pn.ggplot(tbp_rna_condensed_fractions,\n",
    "                  pn.aes(x=\"dir_name\", y=\"condensed_fraction\", color=\"prep\")) +\n",
    "        pn.geom_point() +\n",
    "        pn.labs(x=\"Concentration (ng/$\\mu$L)\", y=\"Condensed Fraction\") +\n",
    "        pn.theme(figure_size=(8, 4.5))\n",
    ")\n",
    "\n",
    "cond_frac_plot"
   ],
   "metadata": {
    "collapsed": false
   }
  },
  {
   "cell_type": "code",
   "execution_count": null,
   "outputs": [],
   "source": [
    "cond_frac_plot.save(base_dir / \"Figures/tbp_rna_cond_frac_plot.png\", width=8, height=4.5, dpi=1200)"
   ],
   "metadata": {
    "collapsed": false
   }
  },
  {
   "cell_type": "code",
   "execution_count": null,
   "outputs": [],
   "source": [
    "modded_regions = tbp_rna_regions.copy()\n",
    "# modded_regions = modded_regions.groupby([\"prep\", \"dir_name\"])[\"mean_intensity\"].aggregate(\n",
    "#     [\"mean\", \"std\", \"count\"]).reset_index()\n",
    "# modded_regions[\"intensity_std_err\"] = modded_regions[\"std\"] / np.sqrt(modded_regions[\"count\"])\n",
    "# modded_regions[\"mean_plus_std_err\"] = modded_regions[\"mean\"] + modded_regions[\"intensity_std_err\"]\n",
    "# modded_regions[\"mean_minus_std_err\"] = modded_regions[\"mean\"] - modded_regions[\"intensity_std_err\"]\n",
    "intensity_plot = (\n",
    "        pn.ggplot(modded_regions,\n",
    "                  pn.aes(x=\"dir_name\", y=\"mean_intensity\", color=\"prep\")) +\n",
    "        pn.geom_jitter(width=50) +\n",
    "        # pn.geom_errorbar(pn.aes(ymin=\"mean_minus_std_err\", ymax=\"mean_plus_std_err\")) +\n",
    "        pn.labs(x=\"Concentration ($\\mu$M)\", y=\"Mean Intensity\") +\n",
    "        pn.theme(figure_size=(8, 4.5))\n",
    "    # pn.scale_x_log10()\n",
    ")\n",
    "intensity_plot"
   ],
   "metadata": {
    "collapsed": false
   }
  },
  {
   "cell_type": "code",
   "execution_count": null,
   "outputs": [],
   "source": [
    "intensity_plot.save(base_dir / \"Figures/tbp_rna_intensity_plot_jitter.png\", width=8, height=4.5, dpi=1200)"
   ],
   "metadata": {
    "collapsed": false
   }
  },
  {
   "cell_type": "code",
   "execution_count": null,
   "outputs": [],
   "source": [],
   "metadata": {
    "collapsed": false
   }
  },
  {
   "cell_type": "markdown",
   "source": [
    "# IIB + RNA"
   ],
   "metadata": {
    "collapsed": false
   }
  },
  {
   "cell_type": "code",
   "execution_count": 6,
   "outputs": [],
   "source": [
    "iib_rna_regions = pd.read_csv(base_dir / \"TFIIB + RNA\" / \"TFIIB + RNA_regions.csv\")\n",
    "iib_rna_condensed_fractions = pd.read_csv(base_dir / \"TFIIB + RNA\" / \"TFIIB + RNA_condensed_fractions.csv\")"
   ],
   "metadata": {
    "collapsed": false
   }
  },
  {
   "cell_type": "code",
   "execution_count": 5,
   "outputs": [
    {
     "ename": "NameError",
     "evalue": "name 'iib_rna_regions' is not defined",
     "output_type": "error",
     "traceback": [
      "\u001B[1;31m---------------------------------------------------------------------------\u001B[0m",
      "\u001B[1;31mNameError\u001B[0m                                 Traceback (most recent call last)",
      "Cell \u001B[1;32mIn[5], line 1\u001B[0m\n\u001B[1;32m----> 1\u001B[0m iib_rna_regions[\u001B[38;5;124m\"\u001B[39m\u001B[38;5;124mcircularity\u001B[39m\u001B[38;5;124m\"\u001B[39m] \u001B[38;5;241m=\u001B[39m (np\u001B[38;5;241m.\u001B[39msquare(\u001B[43miib_rna_regions\u001B[49m[\u001B[38;5;124m\"\u001B[39m\u001B[38;5;124mperimeter\u001B[39m\u001B[38;5;124m\"\u001B[39m])) \u001B[38;5;241m/\u001B[39m (\n\u001B[0;32m      2\u001B[0m         \u001B[38;5;241m4\u001B[39m \u001B[38;5;241m*\u001B[39m np\u001B[38;5;241m.\u001B[39mpi \u001B[38;5;241m*\u001B[39m iib_rna_regions[\u001B[38;5;124m\"\u001B[39m\u001B[38;5;124marea\u001B[39m\u001B[38;5;124m\"\u001B[39m])\n",
      "\u001B[1;31mNameError\u001B[0m: name 'iib_rna_regions' is not defined"
     ]
    }
   ],
   "source": [
    "iib_rna_regions[\"circularity\"] = (np.square(iib_rna_regions[\"perimeter\"])) / (\n",
    "        4 * np.pi * iib_rna_regions[\"area\"])"
   ],
   "metadata": {
    "collapsed": false
   }
  },
  {
   "cell_type": "code",
   "execution_count": null,
   "outputs": [],
   "source": [
    "filtered_cond_frac = iib_rna_condensed_fractions[iib_rna_condensed_fractions[\"condensed_fraction\"] < 0.3]\n",
    "# filtered_cond_frac = filtered_cond_frac[filtered_cond_frac[\"conc\"] < 30]\n",
    "cond_frac_plot = (\n",
    "        pn.ggplot(filtered_cond_frac,\n",
    "                  pn.aes(x=\"dir_name\", y=\"condensed_fraction\", color=\"prep\")) +\n",
    "        pn.geom_point() +\n",
    "        pn.labs(x=\"Concentration (ng/$\\mu$L)\", y=\"Condensed Fraction\") +\n",
    "        pn.theme(figure_size=(8, 4.5))\n",
    ")\n",
    "\n",
    "cond_frac_plot"
   ],
   "metadata": {
    "collapsed": false
   }
  },
  {
   "cell_type": "code",
   "execution_count": null,
   "outputs": [],
   "source": [
    "cond_frac_plot.save(base_dir / \"Figures/iib_rna_cond_frac_plot.png\", width=8, height=4.5, dpi=1200)"
   ],
   "metadata": {
    "collapsed": false
   }
  },
  {
   "cell_type": "code",
   "execution_count": null,
   "outputs": [],
   "source": [
    "np.unique(iib_rna_regions[\"dir_name\"])"
   ],
   "metadata": {
    "collapsed": false
   }
  },
  {
   "cell_type": "code",
   "execution_count": null,
   "outputs": [],
   "source": [
    "from pandas.api.types import CategoricalDtype\n",
    "\n",
    "categories = CategoricalDtype(categories=[\"0\", \"31\", \"62\", \"125\", \"250\", \"500\", \"1000\"], ordered=True)\n",
    "modded_regions = iib_rna_regions.copy()\n",
    "modded_regions = modded_regions.groupby([\"prep\", \"dir_name\"])[\"mean_intensity\"].aggregate(\n",
    "    [\"mean\", \"std\", \"count\"]).reset_index()\n",
    "modded_regions[\"intensity_std_err\"] = modded_regions[\"std\"] / np.sqrt(modded_regions[\"count\"])\n",
    "modded_regions[\"mean_plus_std_err\"] = modded_regions[\"mean\"] + 2 * modded_regions[\"intensity_std_err\"]\n",
    "modded_regions[\"mean_minus_std_err\"] = modded_regions[\"mean\"] - 2 * modded_regions[\"intensity_std_err\"]\n",
    "modded_regions[\"dir_name\"] = modded_regions[\"dir_name\"].astype(str)\n",
    "modded_regions[\"dir_name\"] = modded_regions[\"dir_name\"].astype(categories)\n",
    "intensity_plot = (\n",
    "        pn.ggplot(modded_regions,\n",
    "                  pn.aes(x=\"dir_name\", y=\"mean\", color=\"prep\")) +\n",
    "        pn.geom_col() +\n",
    "        pn.geom_errorbar(pn.aes(ymin=\"mean_minus_std_err\", ymax=\"mean_plus_std_err\")) +\n",
    "        pn.labs(x=\"Concentration (ng/$\\mu$L)\", y=\"Mean Intensity\") +\n",
    "        pn.theme(figure_size=(8, 4.5))\n",
    "    # pn.scale_x_log10()\n",
    ")\n",
    "intensity_plot"
   ],
   "metadata": {
    "collapsed": false
   }
  },
  {
   "cell_type": "code",
   "execution_count": null,
   "outputs": [],
   "source": [
    "intensity_plot.save(base_dir / \"Figures/iib_rna_intensity_plot_bar.png\", width=8, height=4.5, dpi=1200)"
   ],
   "metadata": {
    "collapsed": false
   }
  },
  {
   "cell_type": "code",
   "execution_count": null,
   "outputs": [],
   "source": [],
   "metadata": {
    "collapsed": false
   }
  },
  {
   "cell_type": "markdown",
   "source": [
    "# IIB + DNA"
   ],
   "metadata": {
    "collapsed": false
   }
  },
  {
   "cell_type": "code",
   "execution_count": 3,
   "outputs": [],
   "source": [
    "iib_dna_regions = pd.read_csv(base_dir / \"TFIIB + DNA\" / \"TFIIB + DNA_regions.csv\")\n",
    "iib_dna_condensed_fractions = pd.read_csv(base_dir / \"TFIIB + DNA\" / \"TFIIB + DNA_condensed_fractions.csv\")"
   ],
   "metadata": {
    "collapsed": false
   }
  },
  {
   "cell_type": "code",
   "execution_count": 7,
   "outputs": [],
   "source": [
    "iib_dna_regions[\"circularity\"] = (np.square(iib_dna_regions[\"perimeter\"])) / (\n",
    "        4 * np.pi * iib_dna_regions[\"area\"])"
   ],
   "metadata": {
    "collapsed": false
   }
  },
  {
   "cell_type": "code",
   "execution_count": 10,
   "outputs": [
    {
     "data": {
      "text/plain": "Empty DataFrame\nColumns: [condensed_fraction, mean_intensity, std_intensity, max_intensity, min_intensity, prep, dir_name, image_name]\nIndex: []",
      "text/html": "<div>\n<style scoped>\n    .dataframe tbody tr th:only-of-type {\n        vertical-align: middle;\n    }\n\n    .dataframe tbody tr th {\n        vertical-align: top;\n    }\n\n    .dataframe thead th {\n        text-align: right;\n    }\n</style>\n<table border=\"1\" class=\"dataframe\">\n  <thead>\n    <tr style=\"text-align: right;\">\n      <th></th>\n      <th>condensed_fraction</th>\n      <th>mean_intensity</th>\n      <th>std_intensity</th>\n      <th>max_intensity</th>\n      <th>min_intensity</th>\n      <th>prep</th>\n      <th>dir_name</th>\n      <th>image_name</th>\n    </tr>\n  </thead>\n  <tbody>\n  </tbody>\n</table>\n</div>"
     },
     "execution_count": 10,
     "metadata": {},
     "output_type": "execute_result"
    }
   ],
   "source": [
    "iib_dna_condensed_fractions"
   ],
   "metadata": {
    "collapsed": false
   }
  },
  {
   "cell_type": "code",
   "execution_count": 9,
   "outputs": [
    {
     "ename": "TypeError",
     "evalue": "object of type 'NoneType' has no len()",
     "output_type": "error",
     "traceback": [
      "\u001B[1;31m---------------------------------------------------------------------------\u001B[0m",
      "\u001B[1;31mTypeError\u001B[0m                                 Traceback (most recent call last)",
      "File \u001B[1;32m~\\code\\llps_analysis\\env\\lib\\site-packages\\IPython\\core\\formatters.py:708\u001B[0m, in \u001B[0;36mPlainTextFormatter.__call__\u001B[1;34m(self, obj)\u001B[0m\n\u001B[0;32m    701\u001B[0m stream \u001B[38;5;241m=\u001B[39m StringIO()\n\u001B[0;32m    702\u001B[0m printer \u001B[38;5;241m=\u001B[39m pretty\u001B[38;5;241m.\u001B[39mRepresentationPrinter(stream, \u001B[38;5;28mself\u001B[39m\u001B[38;5;241m.\u001B[39mverbose,\n\u001B[0;32m    703\u001B[0m     \u001B[38;5;28mself\u001B[39m\u001B[38;5;241m.\u001B[39mmax_width, \u001B[38;5;28mself\u001B[39m\u001B[38;5;241m.\u001B[39mnewline,\n\u001B[0;32m    704\u001B[0m     max_seq_length\u001B[38;5;241m=\u001B[39m\u001B[38;5;28mself\u001B[39m\u001B[38;5;241m.\u001B[39mmax_seq_length,\n\u001B[0;32m    705\u001B[0m     singleton_pprinters\u001B[38;5;241m=\u001B[39m\u001B[38;5;28mself\u001B[39m\u001B[38;5;241m.\u001B[39msingleton_printers,\n\u001B[0;32m    706\u001B[0m     type_pprinters\u001B[38;5;241m=\u001B[39m\u001B[38;5;28mself\u001B[39m\u001B[38;5;241m.\u001B[39mtype_printers,\n\u001B[0;32m    707\u001B[0m     deferred_pprinters\u001B[38;5;241m=\u001B[39m\u001B[38;5;28mself\u001B[39m\u001B[38;5;241m.\u001B[39mdeferred_printers)\n\u001B[1;32m--> 708\u001B[0m \u001B[43mprinter\u001B[49m\u001B[38;5;241;43m.\u001B[39;49m\u001B[43mpretty\u001B[49m\u001B[43m(\u001B[49m\u001B[43mobj\u001B[49m\u001B[43m)\u001B[49m\n\u001B[0;32m    709\u001B[0m printer\u001B[38;5;241m.\u001B[39mflush()\n\u001B[0;32m    710\u001B[0m \u001B[38;5;28;01mreturn\u001B[39;00m stream\u001B[38;5;241m.\u001B[39mgetvalue()\n",
      "File \u001B[1;32m~\\code\\llps_analysis\\env\\lib\\site-packages\\IPython\\lib\\pretty.py:410\u001B[0m, in \u001B[0;36mRepresentationPrinter.pretty\u001B[1;34m(self, obj)\u001B[0m\n\u001B[0;32m    407\u001B[0m                         \u001B[38;5;28;01mreturn\u001B[39;00m meth(obj, \u001B[38;5;28mself\u001B[39m, cycle)\n\u001B[0;32m    408\u001B[0m                 \u001B[38;5;28;01mif\u001B[39;00m \u001B[38;5;28mcls\u001B[39m \u001B[38;5;129;01mis\u001B[39;00m \u001B[38;5;129;01mnot\u001B[39;00m \u001B[38;5;28mobject\u001B[39m \\\n\u001B[0;32m    409\u001B[0m                         \u001B[38;5;129;01mand\u001B[39;00m \u001B[38;5;28mcallable\u001B[39m(\u001B[38;5;28mcls\u001B[39m\u001B[38;5;241m.\u001B[39m\u001B[38;5;18m__dict__\u001B[39m\u001B[38;5;241m.\u001B[39mget(\u001B[38;5;124m'\u001B[39m\u001B[38;5;124m__repr__\u001B[39m\u001B[38;5;124m'\u001B[39m)):\n\u001B[1;32m--> 410\u001B[0m                     \u001B[38;5;28;01mreturn\u001B[39;00m \u001B[43m_repr_pprint\u001B[49m\u001B[43m(\u001B[49m\u001B[43mobj\u001B[49m\u001B[43m,\u001B[49m\u001B[43m \u001B[49m\u001B[38;5;28;43mself\u001B[39;49m\u001B[43m,\u001B[49m\u001B[43m \u001B[49m\u001B[43mcycle\u001B[49m\u001B[43m)\u001B[49m\n\u001B[0;32m    412\u001B[0m     \u001B[38;5;28;01mreturn\u001B[39;00m _default_pprint(obj, \u001B[38;5;28mself\u001B[39m, cycle)\n\u001B[0;32m    413\u001B[0m \u001B[38;5;28;01mfinally\u001B[39;00m:\n",
      "File \u001B[1;32m~\\code\\llps_analysis\\env\\lib\\site-packages\\IPython\\lib\\pretty.py:778\u001B[0m, in \u001B[0;36m_repr_pprint\u001B[1;34m(obj, p, cycle)\u001B[0m\n\u001B[0;32m    776\u001B[0m \u001B[38;5;250m\u001B[39m\u001B[38;5;124;03m\"\"\"A pprint that just redirects to the normal repr function.\"\"\"\u001B[39;00m\n\u001B[0;32m    777\u001B[0m \u001B[38;5;66;03m# Find newlines and replace them with p.break_()\u001B[39;00m\n\u001B[1;32m--> 778\u001B[0m output \u001B[38;5;241m=\u001B[39m \u001B[38;5;28;43mrepr\u001B[39;49m\u001B[43m(\u001B[49m\u001B[43mobj\u001B[49m\u001B[43m)\u001B[49m\n\u001B[0;32m    779\u001B[0m lines \u001B[38;5;241m=\u001B[39m output\u001B[38;5;241m.\u001B[39msplitlines()\n\u001B[0;32m    780\u001B[0m \u001B[38;5;28;01mwith\u001B[39;00m p\u001B[38;5;241m.\u001B[39mgroup():\n",
      "File \u001B[1;32m~\\code\\llps_analysis\\env\\lib\\site-packages\\plotnine\\ggplot.py:114\u001B[0m, in \u001B[0;36mggplot.__repr__\u001B[1;34m(self)\u001B[0m\n\u001B[0;32m    110\u001B[0m \u001B[38;5;28;01mdef\u001B[39;00m \u001B[38;5;21m__repr__\u001B[39m(\u001B[38;5;28mself\u001B[39m) \u001B[38;5;241m-\u001B[39m\u001B[38;5;241m>\u001B[39m \u001B[38;5;28mstr\u001B[39m:\n\u001B[0;32m    111\u001B[0m \u001B[38;5;250m    \u001B[39m\u001B[38;5;124;03m\"\"\"\u001B[39;00m\n\u001B[0;32m    112\u001B[0m \u001B[38;5;124;03m    Print/show the plot\u001B[39;00m\n\u001B[0;32m    113\u001B[0m \u001B[38;5;124;03m    \"\"\"\u001B[39;00m\n\u001B[1;32m--> 114\u001B[0m     figure \u001B[38;5;241m=\u001B[39m \u001B[38;5;28;43mself\u001B[39;49m\u001B[38;5;241;43m.\u001B[39;49m\u001B[43mdraw\u001B[49m\u001B[43m(\u001B[49m\u001B[43mshow\u001B[49m\u001B[38;5;241;43m=\u001B[39;49m\u001B[38;5;28;43;01mTrue\u001B[39;49;00m\u001B[43m)\u001B[49m\n\u001B[0;32m    116\u001B[0m     dpi \u001B[38;5;241m=\u001B[39m figure\u001B[38;5;241m.\u001B[39mget_dpi()\n\u001B[0;32m    117\u001B[0m     W \u001B[38;5;241m=\u001B[39m \u001B[38;5;28mint\u001B[39m(figure\u001B[38;5;241m.\u001B[39mget_figwidth() \u001B[38;5;241m*\u001B[39m dpi)\n",
      "File \u001B[1;32m~\\code\\llps_analysis\\env\\lib\\site-packages\\plotnine\\ggplot.py:224\u001B[0m, in \u001B[0;36mggplot.draw\u001B[1;34m(self, show)\u001B[0m\n\u001B[0;32m    222\u001B[0m \u001B[38;5;28mself\u001B[39m \u001B[38;5;241m=\u001B[39m deepcopy(\u001B[38;5;28mself\u001B[39m)\n\u001B[0;32m    223\u001B[0m \u001B[38;5;28;01mwith\u001B[39;00m plot_context(\u001B[38;5;28mself\u001B[39m, show\u001B[38;5;241m=\u001B[39mshow):\n\u001B[1;32m--> 224\u001B[0m     \u001B[38;5;28;43mself\u001B[39;49m\u001B[38;5;241;43m.\u001B[39;49m\u001B[43m_build\u001B[49m\u001B[43m(\u001B[49m\u001B[43m)\u001B[49m\n\u001B[0;32m    226\u001B[0m     \u001B[38;5;66;03m# setup\u001B[39;00m\n\u001B[0;32m    227\u001B[0m     figure, axs \u001B[38;5;241m=\u001B[39m \u001B[38;5;28mself\u001B[39m\u001B[38;5;241m.\u001B[39m_create_figure()\n",
      "File \u001B[1;32m~\\code\\llps_analysis\\env\\lib\\site-packages\\plotnine\\ggplot.py:325\u001B[0m, in \u001B[0;36mggplot._build\u001B[1;34m(self)\u001B[0m\n\u001B[0;32m    322\u001B[0m \u001B[38;5;66;03m# Map and train positions so that statistics have access\u001B[39;00m\n\u001B[0;32m    323\u001B[0m \u001B[38;5;66;03m# to ranges and all positions are numeric\u001B[39;00m\n\u001B[0;32m    324\u001B[0m layout\u001B[38;5;241m.\u001B[39mtrain_position(layers, scales)\n\u001B[1;32m--> 325\u001B[0m \u001B[43mlayout\u001B[49m\u001B[38;5;241;43m.\u001B[39;49m\u001B[43mmap_position\u001B[49m\u001B[43m(\u001B[49m\u001B[43mlayers\u001B[49m\u001B[43m)\u001B[49m\n\u001B[0;32m    327\u001B[0m \u001B[38;5;66;03m# Apply and map statistics\u001B[39;00m\n\u001B[0;32m    328\u001B[0m layers\u001B[38;5;241m.\u001B[39mcompute_statistic(layout)\n",
      "File \u001B[1;32m~\\code\\llps_analysis\\env\\lib\\site-packages\\plotnine\\facets\\layout.py:130\u001B[0m, in \u001B[0;36mLayout.map_position\u001B[1;34m(self, layers)\u001B[0m\n\u001B[0;32m    126\u001B[0m     x_vars \u001B[38;5;241m=\u001B[39m \u001B[38;5;28mlist\u001B[39m(\n\u001B[0;32m    127\u001B[0m         \u001B[38;5;28mset\u001B[39m(\u001B[38;5;28mself\u001B[39m\u001B[38;5;241m.\u001B[39mpanel_scales_x[\u001B[38;5;241m0\u001B[39m]\u001B[38;5;241m.\u001B[39maesthetics) \u001B[38;5;241m&\u001B[39m \u001B[38;5;28mset\u001B[39m(data\u001B[38;5;241m.\u001B[39mcolumns)\n\u001B[0;32m    128\u001B[0m     )\n\u001B[0;32m    129\u001B[0m     SCALE_X \u001B[38;5;241m=\u001B[39m _layout[\u001B[38;5;124m\"\u001B[39m\u001B[38;5;124mSCALE_X\u001B[39m\u001B[38;5;124m\"\u001B[39m]\u001B[38;5;241m.\u001B[39miloc[match_id]\u001B[38;5;241m.\u001B[39mtolist()\n\u001B[1;32m--> 130\u001B[0m     \u001B[38;5;28;43mself\u001B[39;49m\u001B[38;5;241;43m.\u001B[39;49m\u001B[43mpanel_scales_x\u001B[49m\u001B[38;5;241;43m.\u001B[39;49m\u001B[43mmap\u001B[49m\u001B[43m(\u001B[49m\u001B[43mdata\u001B[49m\u001B[43m,\u001B[49m\u001B[43m \u001B[49m\u001B[43mx_vars\u001B[49m\u001B[43m,\u001B[49m\u001B[43m \u001B[49m\u001B[43mSCALE_X\u001B[49m\u001B[43m)\u001B[49m\n\u001B[0;32m    132\u001B[0m \u001B[38;5;28;01mif\u001B[39;00m \u001B[38;5;28mself\u001B[39m\u001B[38;5;241m.\u001B[39mpanel_scales_y:\n\u001B[0;32m    133\u001B[0m     y_vars \u001B[38;5;241m=\u001B[39m \u001B[38;5;28mlist\u001B[39m(\n\u001B[0;32m    134\u001B[0m         \u001B[38;5;28mset\u001B[39m(\u001B[38;5;28mself\u001B[39m\u001B[38;5;241m.\u001B[39mpanel_scales_y[\u001B[38;5;241m0\u001B[39m]\u001B[38;5;241m.\u001B[39maesthetics) \u001B[38;5;241m&\u001B[39m \u001B[38;5;28mset\u001B[39m(data\u001B[38;5;241m.\u001B[39mcolumns)\n\u001B[0;32m    135\u001B[0m     )\n",
      "File \u001B[1;32m~\\code\\llps_analysis\\env\\lib\\site-packages\\plotnine\\scales\\scales.py:181\u001B[0m, in \u001B[0;36mScales.map\u001B[1;34m(self, data, vars, idx)\u001B[0m\n\u001B[0;32m    179\u001B[0m \u001B[38;5;28;01mfor\u001B[39;00m i, sc \u001B[38;5;129;01min\u001B[39;00m \u001B[38;5;28menumerate\u001B[39m(\u001B[38;5;28mself\u001B[39m, start\u001B[38;5;241m=\u001B[39m\u001B[38;5;241m1\u001B[39m):\n\u001B[0;32m    180\u001B[0m     bool_idx \u001B[38;5;241m=\u001B[39m i \u001B[38;5;241m==\u001B[39m idx\n\u001B[1;32m--> 181\u001B[0m     results \u001B[38;5;241m=\u001B[39m \u001B[43msc\u001B[49m\u001B[38;5;241;43m.\u001B[39;49m\u001B[43mmap\u001B[49m\u001B[43m(\u001B[49m\u001B[43mdata\u001B[49m\u001B[38;5;241;43m.\u001B[39;49m\u001B[43mloc\u001B[49m\u001B[43m[\u001B[49m\u001B[43mbool_idx\u001B[49m\u001B[43m,\u001B[49m\u001B[43m \u001B[49m\u001B[43mcol\u001B[49m\u001B[43m]\u001B[49m\u001B[43m)\u001B[49m\n\u001B[0;32m    182\u001B[0m     \u001B[38;5;28;01mif\u001B[39;00m use_df:\n\u001B[0;32m    183\u001B[0m         df\u001B[38;5;241m.\u001B[39mloc[bool_idx, col] \u001B[38;5;241m=\u001B[39m results\n",
      "File \u001B[1;32m~\\code\\llps_analysis\\env\\lib\\site-packages\\plotnine\\scales\\scale_xy.py:85\u001B[0m, in \u001B[0;36mscale_position_discrete.map\u001B[1;34m(self, series, limits)\u001B[0m\n\u001B[0;32m     82\u001B[0m     limits \u001B[38;5;241m=\u001B[39m \u001B[38;5;28mself\u001B[39m\u001B[38;5;241m.\u001B[39mlimits\n\u001B[0;32m     83\u001B[0m \u001B[38;5;28;01mif\u001B[39;00m array_kind\u001B[38;5;241m.\u001B[39mdiscrete(series):\n\u001B[0;32m     84\u001B[0m     \u001B[38;5;66;03m# TODO: Rewrite without using numpy\u001B[39;00m\n\u001B[1;32m---> 85\u001B[0m     seq \u001B[38;5;241m=\u001B[39m np\u001B[38;5;241m.\u001B[39marange(\u001B[38;5;241m1\u001B[39m, \u001B[38;5;28;43mlen\u001B[39;49m\u001B[43m(\u001B[49m\u001B[43mlimits\u001B[49m\u001B[43m)\u001B[49m \u001B[38;5;241m+\u001B[39m \u001B[38;5;241m1\u001B[39m)\n\u001B[0;32m     86\u001B[0m     idx \u001B[38;5;241m=\u001B[39m np\u001B[38;5;241m.\u001B[39masarray(match(series, limits, nomatch\u001B[38;5;241m=\u001B[39m\u001B[38;5;28mlen\u001B[39m(series)))\n\u001B[0;32m     87\u001B[0m     \u001B[38;5;28;01mif\u001B[39;00m \u001B[38;5;129;01mnot\u001B[39;00m \u001B[38;5;28mlen\u001B[39m(idx):\n",
      "\u001B[1;31mTypeError\u001B[0m: object of type 'NoneType' has no len()"
     ]
    }
   ],
   "source": [
    "# filtered_cond_frac = iib_dna_condensed_fractions[iib_dna_condensed_fractions[\"condensed_fraction\"] < 0.3]\n",
    "# filtered_cond_frac = filtered_cond_frac[filtered_cond_frac[\"conc\"] < 30]\n",
    "cond_frac_plot = (\n",
    "        pn.ggplot(iib_dna_condensed_fractions,\n",
    "                  pn.aes(x=\"dir_name\", y=\"condensed_fraction\", color=\"prep\")) +\n",
    "        pn.geom_point() +\n",
    "        pn.labs(x=\"Concentration (ng/$\\mu$L)\", y=\"Condensed Fraction\") +\n",
    "        pn.theme(figure_size=(8, 4.5))\n",
    ")\n",
    "\n",
    "cond_frac_plot"
   ],
   "metadata": {
    "collapsed": false
   }
  },
  {
   "cell_type": "code",
   "execution_count": null,
   "outputs": [],
   "source": [
    "cond_frac_plot.save(base_dir / \"Figures/iib_rna_cond_frac_plot.png\", width=8, height=4.5, dpi=1200)"
   ],
   "metadata": {
    "collapsed": false
   }
  },
  {
   "cell_type": "code",
   "execution_count": null,
   "outputs": [],
   "source": [
    "np.unique(iib_rna_regions[\"dir_name\"])"
   ],
   "metadata": {
    "collapsed": false
   }
  },
  {
   "cell_type": "code",
   "execution_count": null,
   "outputs": [],
   "source": [
    "from pandas.api.types import CategoricalDtype\n",
    "\n",
    "categories = CategoricalDtype(categories=[\"0\", \"31\", \"62\", \"125\", \"250\", \"500\", \"1000\"], ordered=True)\n",
    "modded_regions = iib_rna_regions.copy()\n",
    "modded_regions = modded_regions.groupby([\"prep\", \"dir_name\"])[\"mean_intensity\"].aggregate(\n",
    "    [\"mean\", \"std\", \"count\"]).reset_index()\n",
    "modded_regions[\"intensity_std_err\"] = modded_regions[\"std\"] / np.sqrt(modded_regions[\"count\"])\n",
    "modded_regions[\"mean_plus_std_err\"] = modded_regions[\"mean\"] + 2 * modded_regions[\"intensity_std_err\"]\n",
    "modded_regions[\"mean_minus_std_err\"] = modded_regions[\"mean\"] - 2 * modded_regions[\"intensity_std_err\"]\n",
    "modded_regions[\"dir_name\"] = modded_regions[\"dir_name\"].astype(str)\n",
    "modded_regions[\"dir_name\"] = modded_regions[\"dir_name\"].astype(categories)\n",
    "intensity_plot = (\n",
    "        pn.ggplot(modded_regions,\n",
    "                  pn.aes(x=\"dir_name\", y=\"mean\", color=\"prep\")) +\n",
    "        pn.geom_col() +\n",
    "        pn.geom_errorbar(pn.aes(ymin=\"mean_minus_std_err\", ymax=\"mean_plus_std_err\")) +\n",
    "        pn.labs(x=\"Concentration (ng/$\\mu$L)\", y=\"Mean Intensity\") +\n",
    "        pn.theme(figure_size=(8, 4.5))\n",
    "    # pn.scale_x_log10()\n",
    ")\n",
    "intensity_plot"
   ],
   "metadata": {
    "collapsed": false
   }
  },
  {
   "cell_type": "code",
   "execution_count": null,
   "outputs": [],
   "source": [
    "intensity_plot.save(base_dir / \"Figures/iib_rna_intensity_plot_bar.png\", width=8, height=4.5, dpi=1200)"
   ],
   "metadata": {
    "collapsed": false
   }
  }
 ],
 "metadata": {
  "kernelspec": {
   "display_name": "Python 3",
   "language": "python",
   "name": "python3"
  },
  "language_info": {
   "codemirror_mode": {
    "name": "ipython",
    "version": 2
   },
   "file_extension": ".py",
   "mimetype": "text/x-python",
   "name": "python",
   "nbconvert_exporter": "python",
   "pygments_lexer": "ipython2",
   "version": "2.7.6"
  }
 },
 "nbformat": 4,
 "nbformat_minor": 5
}
