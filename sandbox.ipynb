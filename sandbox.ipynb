{
 "cells": [
  {
   "cell_type": "code",
   "execution_count": null,
   "outputs": [],
   "source": [],
   "metadata": {
    "collapsed": false
   }
  },
  {
   "cell_type": "code",
   "execution_count": 1,
   "metadata": {
    "collapsed": true,
    "ExecuteTime": {
     "end_time": "2023-11-04T14:06:37.575627900Z",
     "start_time": "2023-11-04T14:06:35.814534400Z"
    }
   },
   "outputs": [],
   "source": [
    "import pandas as pd\n",
    "import skimage as ski\n",
    "import matplotlib.pyplot as plt\n",
    "import numpy as np\n",
    "from main import load_img\n",
    "import main as m\n",
    "import matplotlib.patches as mpatches\n",
    "from pathlib import Path\n",
    "from scipy import ndimage as ndi"
   ]
  },
  {
   "cell_type": "code",
   "execution_count": null,
   "outputs": [],
   "source": [
    "good_condensates = m.load_img(\"data/massive_condensates.tif\")\n",
    "small_condensates = m.load_img(\"data/small_condensates.tif\")\n",
    "uniform_fluorescence = m.load_img(\"data/uniform_fluorescence.tif\")\n",
    "irregular_condensates = m.load_img(\"data/irregular_shape.tif\")\n",
    "\n",
    "images = [good_condensates, small_condensates, uniform_fluorescence, irregular_condensates]\n",
    "image_labels = [\"good_condensates\", \"small_condensates\", \"uniform_fluorescence\", \"irregular_condensates\"]"
   ],
   "metadata": {
    "collapsed": false
   }
  },
  {
   "cell_type": "code",
   "execution_count": 2,
   "outputs": [],
   "source": [
    "def plot_images(images, image_labels):\n",
    "    fig, ax = plt.subplots(1, len(images), figsize=(20, 20))\n",
    "    for i, image in enumerate(images):\n",
    "        ax[i].imshow(image, cmap=\"gray\")\n",
    "        ax[i].set_title(image_labels[i])\n",
    "    plt.show()"
   ],
   "metadata": {
    "collapsed": false,
    "ExecuteTime": {
     "end_time": "2023-11-01T10:16:41.697276500Z",
     "start_time": "2023-11-01T10:16:40.137125Z"
    }
   }
  },
  {
   "cell_type": "code",
   "execution_count": null,
   "outputs": [],
   "source": [
    "def proposed_pre_processing(image):\n",
    "    # median = ski.filters.median(image, ski.morphology.disk(3))\n",
    "    # unsharp = ski.filters.unsharp_mask(image, radius=3, amount=1)\n",
    "\n",
    "    restored = ski.restoration.richardson_lucy(image, ski.morphology.disk(3), num_iter=30)\n",
    "\n",
    "    closing = ski.morphology.dilation(restored, ski.morphology.disk(3))\n",
    "    exposure_fix = ski.exposure.equalize_adapthist(closing)\n",
    "\n",
    "    return exposure_fix"
   ],
   "metadata": {
    "collapsed": false
   }
  },
  {
   "cell_type": "code",
   "execution_count": null,
   "outputs": [],
   "source": [
    "problem_img = m.load_img(\"C:\\\\Users\\\\danie\\\\temp_hons_microscopy\\\\TFIIB Core\\\\64\\\\64_018.tif\")"
   ],
   "metadata": {
    "collapsed": false
   }
  },
  {
   "cell_type": "code",
   "execution_count": null,
   "outputs": [],
   "source": [
    "thresh = ski.filters.threshold_otsu(problem_img)\n",
    "thres_img = problem_img > thresh\n",
    "\n",
    "threh_mean = problem_img > 4 * np.std(problem_img)\n",
    "\n",
    "plot_images([problem_img, thres_img, threh_mean], [\"problem_img\", \"thres_img\", \"threh_mean\"])"
   ],
   "metadata": {
    "collapsed": false
   }
  },
  {
   "cell_type": "code",
   "execution_count": null,
   "outputs": [],
   "source": [
    "np.std(threh_mean)"
   ],
   "metadata": {
    "collapsed": false
   }
  },
  {
   "cell_type": "code",
   "execution_count": null,
   "outputs": [],
   "source": [
    "np.std(thres_img)"
   ],
   "metadata": {
    "collapsed": false
   }
  },
  {
   "cell_type": "code",
   "execution_count": null,
   "outputs": [],
   "source": [
    "problem_img.shape"
   ],
   "metadata": {
    "collapsed": false
   }
  },
  {
   "cell_type": "code",
   "execution_count": null,
   "outputs": [],
   "source": [
    "mu = 0\n",
    "sigma = 0\n",
    "shape = (1920, 2560)\n",
    "gauss_img = np.random.normal(mu, sigma, shape)\n",
    "gauss_img"
   ],
   "metadata": {
    "collapsed": false
   }
  },
  {
   "cell_type": "code",
   "execution_count": null,
   "outputs": [],
   "source": [
    "img = np.full((1920, 2560), 255)\n",
    "img = ski.util.random_noise(img, mode=\"speckle\")\n",
    "plt.imshow(img, cmap=\"gray\")"
   ],
   "metadata": {
    "collapsed": false
   }
  }
 ],
 "metadata": {
  "kernelspec": {
   "display_name": "Python 3",
   "language": "python",
   "name": "python3"
  },
  "language_info": {
   "codemirror_mode": {
    "name": "ipython",
    "version": 2
   },
   "file_extension": ".py",
   "mimetype": "text/x-python",
   "name": "python",
   "nbconvert_exporter": "python",
   "pygments_lexer": "ipython2",
   "version": "2.7.6"
  }
 },
 "nbformat": 4,
 "nbformat_minor": 0
}
