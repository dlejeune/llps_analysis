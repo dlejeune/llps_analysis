{
 "cells": [
  {
   "cell_type": "code",
   "execution_count": 1,
   "metadata": {
    "collapsed": true
   },
   "outputs": [],
   "source": [
    "import pandas as pd\n",
    "import skimage as ski\n",
    "import matplotlib.pyplot as plt\n",
    "import numpy as np\n",
    "from main import load_img\n",
    "import main as m\n",
    "import matplotlib.patches as mpatches\n",
    "from pathlib import Path\n",
    "from scipy import ndimage as ndi"
   ]
  },
  {
   "cell_type": "code",
   "execution_count": null,
   "outputs": [],
   "source": [
    "good_condensates = m.load_img(\"data/massive_condensates.tif\")\n",
    "small_condensates = m.load_img(\"data/small_condensates.tif\")\n",
    "uniform_fluorescence = m.load_img(\"data/uniform_fluorescence.tif\")\n",
    "irregular_condensates = m.load_img(\"data/irregular_shape.tif\")\n",
    "\n",
    "images = [good_condensates, small_condensates, uniform_fluorescence, irregular_condensates]\n",
    "image_labels = [\"good_condensates\", \"small_condensates\", \"uniform_fluorescence\", \"irregular_condensates\"]"
   ],
   "metadata": {
    "collapsed": false
   }
  },
  {
   "cell_type": "code",
   "execution_count": 2,
   "outputs": [],
   "source": [
    "def plot_images(images, image_labels):\n",
    "    fig, ax = plt.subplots(1, len(images), figsize=(20, 20))\n",
    "    for i, image in enumerate(images):\n",
    "        ax[i].imshow(image, cmap=\"gray\")\n",
    "        ax[i].set_title(image_labels[i])\n",
    "    plt.show()"
   ],
   "metadata": {
    "collapsed": false,
    "ExecuteTime": {
     "end_time": "2023-11-01T10:16:41.697276500Z",
     "start_time": "2023-11-01T10:16:40.137125Z"
    }
   }
  },
  {
   "cell_type": "code",
   "execution_count": null,
   "outputs": [],
   "source": [
    "plot_images(images, image_labels)"
   ],
   "metadata": {
    "collapsed": false
   }
  },
  {
   "cell_type": "code",
   "execution_count": null,
   "outputs": [],
   "source": [
    "bg = ski.restoration.rolling_ball(good_condensates)"
   ],
   "metadata": {
    "collapsed": false
   }
  },
  {
   "cell_type": "code",
   "execution_count": null,
   "outputs": [],
   "source": [
    "plot_images([good_condensates, bg, good_condensates - bg], [\"good_condensates\", \"bg\", \"\"])"
   ],
   "metadata": {
    "collapsed": false
   }
  },
  {
   "cell_type": "code",
   "execution_count": null,
   "outputs": [],
   "source": [
    "mod = ski.morphology.closing(small_condensates, ski.morphology.disk(15))"
   ],
   "metadata": {
    "collapsed": false
   }
  },
  {
   "cell_type": "code",
   "execution_count": null,
   "outputs": [],
   "source": [
    "expo = ski.exposure.equalize_adapthist(small_condensates)\n",
    "\n",
    "plot_images([small_condensates, mod, expo], [\"small_condensates\", \"mod\", \"expo\"])"
   ],
   "metadata": {
    "collapsed": false
   }
  },
  {
   "cell_type": "code",
   "execution_count": null,
   "outputs": [],
   "source": [
    "def proposed_pre_processing(image):\n",
    "    # median = ski.filters.median(image, ski.morphology.disk(3))\n",
    "    # unsharp = ski.filters.unsharp_mask(image, radius=3, amount=1)\n",
    "\n",
    "    restored = ski.restoration.richardson_lucy(image, ski.morphology.disk(3), num_iter=30)\n",
    "\n",
    "    closing = ski.morphology.dilation(restored, ski.morphology.disk(3))\n",
    "    exposure_fix = ski.exposure.equalize_adapthist(closing)\n",
    "\n",
    "    return exposure_fix"
   ],
   "metadata": {
    "collapsed": false
   }
  },
  {
   "cell_type": "code",
   "execution_count": null,
   "outputs": [],
   "source": [
    "good_cond_mod = proposed_pre_processing(good_condensates)\n",
    "thresholded = good_cond_mod > ski.filters.threshold_otsu(good_cond_mod)\n",
    "plot_images([good_condensates, good_cond_mod, thresholded], [\"good_condensates\", \"good_cond_mod\", \"thresholded\"])"
   ],
   "metadata": {
    "collapsed": false
   }
  },
  {
   "cell_type": "code",
   "execution_count": null,
   "outputs": [],
   "source": [
    "good_cond_mod = proposed_pre_processing(small_condensates)\n",
    "thresholded = good_cond_mod > ski.filters.threshold_isodata(good_cond_mod)\n",
    "plot_images([good_condensates, good_cond_mod, thresholded], [\"good_condensates\", \"good_cond_mod\", \"thresholded\"])"
   ],
   "metadata": {
    "collapsed": false
   }
  },
  {
   "cell_type": "code",
   "execution_count": null,
   "outputs": [],
   "source": [
    "good_cond_mod = proposed_pre_processing(uniform_fluorescence)\n",
    "thresholded = good_cond_mod > ski.filters.threshold_isodata(good_cond_mod)\n",
    "plot_images([uniform_fluorescence, good_cond_mod, thresholded], [\"good_condensates\", \"good_cond_mod\", \"thresholded\"])"
   ],
   "metadata": {
    "collapsed": false
   }
  },
  {
   "cell_type": "code",
   "execution_count": null,
   "outputs": [],
   "source": [
    "np.mean(good_condensates)"
   ],
   "metadata": {
    "collapsed": false
   }
  },
  {
   "cell_type": "code",
   "execution_count": null,
   "outputs": [],
   "source": [
    "np.mean(irregular_condensates)"
   ],
   "metadata": {
    "collapsed": false
   }
  },
  {
   "cell_type": "code",
   "execution_count": null,
   "outputs": [],
   "source": [
    "edges = ski.filters.sobel(good_condensates)\n",
    "plot_images([good_condensates, edges], [\"good_condensates\", \"edges\"])"
   ],
   "metadata": {
    "collapsed": false
   }
  },
  {
   "cell_type": "code",
   "execution_count": null,
   "outputs": [],
   "source": [
    "edges = ski.filters.sobel(small_condensates)\n",
    "plot_images([small_condensates, edges], [\"small_condensates\", \"edges\"])"
   ],
   "metadata": {
    "collapsed": false
   }
  },
  {
   "cell_type": "code",
   "execution_count": null,
   "outputs": [],
   "source": [
    "edges = ski.filters.sobel(uniform_fluorescence)\n",
    "plot_images([uniform_fluorescence, edges], [\"uniform_fluorescence\", \"edges\"])"
   ],
   "metadata": {
    "collapsed": false
   }
  },
  {
   "cell_type": "code",
   "execution_count": null,
   "outputs": [],
   "source": [
    "edges = ski.filters.sobel(good_condensates)\n",
    "\n",
    "filled = ndi.binary_fill_holes(edges)\n",
    "\n",
    "plot_images([good_condensates, edges, filled], [\"good_condensates\", \"edges\", \"filled\"])\n"
   ],
   "metadata": {
    "collapsed": false
   }
  },
  {
   "cell_type": "code",
   "execution_count": null,
   "outputs": [],
   "source": [
    "print(np.std(uniform_fluorescence) / np.mean(uniform_fluorescence))\n",
    "print(np.std(good_condensates) / np.mean(good_condensates))\n",
    "print(np.std(small_condensates) / np.mean(small_condensates))\n",
    "print(np.std(irregular_condensates) / np.mean(irregular_condensates))"
   ],
   "metadata": {
    "collapsed": false
   }
  },
  {
   "cell_type": "code",
   "execution_count": null,
   "outputs": [],
   "source": [
    "a = Path(\"a/1.2\")"
   ],
   "metadata": {
    "collapsed": false
   }
  },
  {
   "cell_type": "code",
   "execution_count": null,
   "outputs": [],
   "source": [
    "problem_img = m.load_img(\"C:\\\\Users\\\\danie\\\\temp_hons_microscopy\\\\TFIIB Core\\\\64\\\\64_018.tif\")"
   ],
   "metadata": {
    "collapsed": false
   }
  },
  {
   "cell_type": "code",
   "execution_count": null,
   "outputs": [],
   "source": [
    "thresh = ski.filters.threshold_otsu(problem_img)\n",
    "thres_img = problem_img > thresh\n",
    "\n",
    "threh_mean = problem_img > 4 * np.std(problem_img)\n",
    "\n",
    "plot_images([problem_img, thres_img, threh_mean], [\"problem_img\", \"thres_img\", \"threh_mean\"])"
   ],
   "metadata": {
    "collapsed": false
   }
  },
  {
   "cell_type": "code",
   "execution_count": null,
   "outputs": [],
   "source": [
    "np.std(threh_mean)"
   ],
   "metadata": {
    "collapsed": false
   }
  },
  {
   "cell_type": "code",
   "execution_count": null,
   "outputs": [],
   "source": [
    "np.std(thres_img)"
   ],
   "metadata": {
    "collapsed": false
   }
  },
  {
   "cell_type": "code",
   "execution_count": null,
   "outputs": [],
   "source": [
    "problem_img.shape"
   ],
   "metadata": {
    "collapsed": false
   }
  },
  {
   "cell_type": "code",
   "execution_count": null,
   "outputs": [],
   "source": [
    "mu = 0\n",
    "sigma = 0\n",
    "shape = (1920, 2560)\n",
    "gauss_img = np.random.normal(mu, sigma, shape)\n",
    "gauss_img"
   ],
   "metadata": {
    "collapsed": false
   }
  },
  {
   "cell_type": "code",
   "execution_count": null,
   "outputs": [],
   "source": [
    "img = np.full((1920, 2560), 255)\n",
    "img = ski.util.random_noise(img, mode=\"speckle\")\n",
    "plt.imshow(img, cmap=\"gray\")"
   ],
   "metadata": {
    "collapsed": false
   }
  },
  {
   "cell_type": "code",
   "execution_count": null,
   "outputs": [],
   "source": [],
   "metadata": {
    "collapsed": false
   }
  },
  {
   "cell_type": "code",
   "execution_count": null,
   "outputs": [],
   "source": [
    "plt.imshow(gauss_img, cmap=\"gray\")"
   ],
   "metadata": {
    "collapsed": false
   }
  },
  {
   "cell_type": "code",
   "execution_count": null,
   "outputs": [],
   "source": [
    "np.mean(ski.filters.rank.entropy(thres_img.astype(int), ski.morphology.disk(3)))"
   ],
   "metadata": {
    "collapsed": false
   }
  },
  {
   "cell_type": "code",
   "execution_count": null,
   "outputs": [],
   "source": [
    "np.mean(ski.filters.rank.entropy(img.astype(int), ski.morphology.disk(3)))"
   ],
   "metadata": {
    "collapsed": false
   }
  },
  {
   "cell_type": "code",
   "execution_count": null,
   "outputs": [],
   "source": [
    "np.mean(ski.filters.rank.entropy(threh_mean.astype(int), ski.morphology.disk(3)))"
   ],
   "metadata": {
    "collapsed": false
   }
  },
  {
   "cell_type": "code",
   "execution_count": null,
   "outputs": [],
   "source": [
    "good_condensate_thresh = good_condensates > ski.filters.threshold_otsu(good_condensates)\n",
    "\n",
    "np.mean(ski.filters.rank.entropy(good_condensate_thresh.astype(int), ski.morphology.disk(3)))"
   ],
   "metadata": {
    "collapsed": false
   }
  },
  {
   "cell_type": "code",
   "execution_count": null,
   "outputs": [],
   "source": [
    "def calc_mean_entropy(image):\n",
    "    return np.mean(ski.filters.rank.entropy(image.astype(\"uint8\"), ski.morphology.disk(3)))"
   ],
   "metadata": {
    "collapsed": false
   }
  },
  {
   "cell_type": "code",
   "execution_count": null,
   "outputs": [],
   "source": [
    "entropy_values = []\n",
    "\n"
   ],
   "metadata": {
    "collapsed": false
   }
  },
  {
   "cell_type": "code",
   "execution_count": null,
   "outputs": [],
   "source": [
    "calc_mean_entropy(good_condensate_thresh)"
   ],
   "metadata": {
    "collapsed": false
   }
  },
  {
   "cell_type": "code",
   "execution_count": null,
   "outputs": [],
   "source": [
    "for img in Path(\"C:\\\\Users\\\\danie\\\\temp_hons_microscopy\\\\TFIIB Core\\\\64\").glob(\"*.tif\"):\n",
    "    image = m.load_img(img)\n",
    "    entropy_values.append(calc_mean_entropy(image))"
   ],
   "metadata": {
    "collapsed": false
   }
  },
  {
   "cell_type": "code",
   "execution_count": null,
   "outputs": [],
   "source": [
    "entropy_values"
   ],
   "metadata": {
    "collapsed": false
   }
  },
  {
   "cell_type": "code",
   "execution_count": null,
   "outputs": [],
   "source": [
    "\n",
    "evalues = []\n",
    "\n",
    "for img in Path(\"C:\\\\Users\\\\danie\\\\temp_hons_microscopy\\\\TFIIB Core\\\\4\").glob(\"*.tif\"):\n",
    "    image = m.load_img(img)\n",
    "    evalues.append(calc_mean_entropy(image))"
   ],
   "metadata": {
    "collapsed": false,
    "pycharm": {
     "is_executing": true
    }
   }
  },
  {
   "cell_type": "code",
   "execution_count": null,
   "outputs": [],
   "source": [
    "evalues  #%%\n",
    "import pandas as pd\n",
    "import skimage as ski\n",
    "import matplotlib.pyplot as plt\n",
    "import numpy as np\n",
    "from main import load_img\n",
    "import main as m\n",
    "import matplotlib.patches as mpatches\n",
    "from pathlib import Path\n",
    "from scipy import ndimage as ndi"
   ],
   "metadata": {
    "collapsed": false
   }
  },
  {
   "cell_type": "code",
   "execution_count": null,
   "outputs": [],
   "source": [
    "good_condensates = m.load_img(\"data/massive_condensates.tif\")\n",
    "small_condensates = m.load_img(\"data/small_condensates.tif\")\n",
    "uniform_fluorescence = m.load_img(\"data/uniform_fluorescence.tif\")\n",
    "irregular_condensates = m.load_img(\"data/irregular_shape.tif\")\n",
    "\n",
    "images = [good_condensates, small_condensates, uniform_fluorescence, irregular_condensates]\n",
    "image_labels = [\"good_condensates\", \"small_condensates\", \"uniform_fluorescence\", \"irregular_condensates\"]"
   ],
   "metadata": {
    "collapsed": false
   }
  },
  {
   "cell_type": "code",
   "execution_count": null,
   "outputs": [],
   "source": [
    "def plot_images(images, image_labels):\n",
    "    fig, ax = plt.subplots(1, len(images), figsize=(20, 20))\n",
    "    for i, image in enumerate(images):\n",
    "        ax[i].imshow(image, cmap=\"gray\")\n",
    "        ax[i].set_title(image_labels[i])\n",
    "    plt.show()"
   ],
   "metadata": {
    "collapsed": false
   }
  },
  {
   "cell_type": "code",
   "execution_count": null,
   "outputs": [],
   "source": [
    "plot_images(images, image_labels)"
   ],
   "metadata": {
    "collapsed": false
   }
  },
  {
   "cell_type": "code",
   "execution_count": null,
   "outputs": [],
   "source": [
    "mod = ski.morphology.closing(small_condensates, ski.morphology.disk(15))"
   ],
   "metadata": {
    "collapsed": false
   }
  },
  {
   "cell_type": "code",
   "execution_count": null,
   "outputs": [],
   "source": [
    "expo = ski.exposure.equalize_adapthist(small_condensates)\n",
    "\n",
    "plot_images([small_condensates, mod, expo], [\"small_condensates\", \"mod\", \"expo\"])"
   ],
   "metadata": {
    "collapsed": false
   }
  },
  {
   "cell_type": "code",
   "execution_count": null,
   "outputs": [],
   "source": [
    "def proposed_pre_processing(image):\n",
    "    # median = ski.filters.median(image, ski.morphology.disk(3))\n",
    "    # unsharp = ski.filters.unsharp_mask(image, radius=3, amount=1)\n",
    "\n",
    "    restored = ski.restoration.richardson_lucy(image, ski.morphology.disk(3), num_iter=30)\n",
    "\n",
    "    closing = ski.morphology.dilation(restored, ski.morphology.disk(3))\n",
    "    exposure_fix = ski.exposure.equalize_adapthist(closing)\n",
    "\n",
    "    return exposure_fix"
   ],
   "metadata": {
    "collapsed": false
   }
  },
  {
   "cell_type": "code",
   "execution_count": null,
   "outputs": [],
   "source": [
    "good_cond_mod = proposed_pre_processing(good_condensates)\n",
    "thresholded = good_cond_mod > ski.filters.threshold_otsu(good_cond_mod)\n",
    "plot_images([good_condensates, good_cond_mod, thresholded], [\"good_condensates\", \"good_cond_mod\", \"thresholded\"])"
   ],
   "metadata": {
    "collapsed": false
   }
  },
  {
   "cell_type": "code",
   "execution_count": null,
   "outputs": [],
   "source": [
    "good_cond_mod = proposed_pre_processing(small_condensates)\n",
    "thresholded = good_cond_mod > ski.filters.threshold_isodata(good_cond_mod)\n",
    "plot_images([good_condensates, good_cond_mod, thresholded], [\"good_condensates\", \"good_cond_mod\", \"thresholded\"])"
   ],
   "metadata": {
    "collapsed": false
   }
  },
  {
   "cell_type": "code",
   "execution_count": null,
   "outputs": [],
   "source": [
    "good_cond_mod = proposed_pre_processing(uniform_fluorescence)\n",
    "thresholded = good_cond_mod > ski.filters.threshold_isodata(good_cond_mod)\n",
    "plot_images([uniform_fluorescence, good_cond_mod, thresholded], [\"good_condensates\", \"good_cond_mod\", \"thresholded\"])"
   ],
   "metadata": {
    "collapsed": false
   }
  },
  {
   "cell_type": "code",
   "execution_count": null,
   "outputs": [],
   "source": [
    "np.mean(good_condensates)"
   ],
   "metadata": {
    "collapsed": false
   }
  },
  {
   "cell_type": "code",
   "execution_count": null,
   "outputs": [],
   "source": [
    "np.mean(irregular_condensates)"
   ],
   "metadata": {
    "collapsed": false
   }
  },
  {
   "cell_type": "code",
   "execution_count": null,
   "outputs": [],
   "source": [
    "edges = ski.filters.sobel(good_condensates)\n",
    "plot_images([good_condensates, edges], [\"good_condensates\", \"edges\"])"
   ],
   "metadata": {
    "collapsed": false
   }
  },
  {
   "cell_type": "code",
   "execution_count": null,
   "outputs": [],
   "source": [
    "edges = ski.filters.sobel(small_condensates)\n",
    "plot_images([small_condensates, edges], [\"small_condensates\", \"edges\"])"
   ],
   "metadata": {
    "collapsed": false
   }
  },
  {
   "cell_type": "code",
   "execution_count": null,
   "outputs": [],
   "source": [
    "edges = ski.filters.sobel(uniform_fluorescence)\n",
    "plot_images([uniform_fluorescence, edges], [\"uniform_fluorescence\", \"edges\"])"
   ],
   "metadata": {
    "collapsed": false
   }
  },
  {
   "cell_type": "code",
   "execution_count": null,
   "outputs": [],
   "source": [
    "edges = ski.filters.sobel(good_condensates)\n",
    "\n",
    "filled = ndi.binary_fill_holes(edges)\n",
    "\n",
    "plot_images([good_condensates, edges, filled], [\"good_condensates\", \"edges\", \"filled\"])\n"
   ],
   "metadata": {
    "collapsed": false
   }
  },
  {
   "cell_type": "code",
   "execution_count": null,
   "outputs": [],
   "source": [
    "print(np.std(uniform_fluorescence) / np.mean(uniform_fluorescence))\n",
    "print(np.std(good_condensates) / np.mean(good_condensates))\n",
    "print(np.std(small_condensates) / np.mean(small_condensates))\n",
    "print(np.std(irregular_condensates) / np.mean(irregular_condensates))"
   ],
   "metadata": {
    "collapsed": false
   }
  },
  {
   "cell_type": "code",
   "execution_count": null,
   "outputs": [],
   "source": [
    "a = Path(\"a/1.2\")"
   ],
   "metadata": {
    "collapsed": false
   }
  },
  {
   "cell_type": "code",
   "execution_count": null,
   "outputs": [],
   "source": [
    "problem_img = m.load_img(\"C:\\\\Users\\\\danie\\\\temp_hons_microscopy\\\\TFIIB Core\\\\64\\\\64_018.tif\")"
   ],
   "metadata": {
    "collapsed": false
   }
  },
  {
   "cell_type": "code",
   "execution_count": null,
   "outputs": [],
   "source": [
    "thresh = ski.filters.threshold_otsu(problem_img)\n",
    "thres_img = problem_img > thresh\n",
    "\n",
    "threh_mean = problem_img > 4 * np.std(problem_img)\n",
    "\n",
    "plot_images([problem_img, thres_img, threh_mean], [\"problem_img\", \"thres_img\", \"threh_mean\"])"
   ],
   "metadata": {
    "collapsed": false
   }
  },
  {
   "cell_type": "code",
   "execution_count": null,
   "outputs": [],
   "source": [
    "np.std(threh_mean)"
   ],
   "metadata": {
    "collapsed": false
   }
  },
  {
   "cell_type": "code",
   "execution_count": null,
   "outputs": [],
   "source": [
    "np.std(thres_img)"
   ],
   "metadata": {
    "collapsed": false
   }
  },
  {
   "cell_type": "code",
   "execution_count": null,
   "outputs": [],
   "source": [
    "problem_img.shape"
   ],
   "metadata": {
    "collapsed": false
   }
  },
  {
   "cell_type": "code",
   "execution_count": null,
   "outputs": [],
   "source": [
    "mu = 0\n",
    "sigma = 0\n",
    "shape = (1920, 2560)\n",
    "gauss_img = np.random.normal(mu, sigma, shape)\n",
    "gauss_img"
   ],
   "metadata": {
    "collapsed": false
   }
  },
  {
   "cell_type": "code",
   "execution_count": null,
   "outputs": [],
   "source": [
    "img = np.full((1920, 2560), 255)\n",
    "img = ski.util.random_noise(img, mode=\"speckle\")\n",
    "plt.imshow(img, cmap=\"gray\")"
   ],
   "metadata": {
    "collapsed": false
   }
  },
  {
   "cell_type": "code",
   "execution_count": null,
   "outputs": [],
   "source": [],
   "metadata": {
    "collapsed": false
   }
  },
  {
   "cell_type": "code",
   "execution_count": null,
   "outputs": [],
   "source": [
    "plt.imshow(gauss_img, cmap=\"gray\")"
   ],
   "metadata": {
    "collapsed": false
   }
  },
  {
   "cell_type": "code",
   "execution_count": null,
   "outputs": [],
   "source": [
    "np.mean(ski.filters.rank.entropy(thres_img.astype(int), ski.morphology.disk(3)))"
   ],
   "metadata": {
    "collapsed": false
   }
  },
  {
   "cell_type": "code",
   "execution_count": null,
   "outputs": [],
   "source": [
    "np.mean(ski.filters.rank.entropy(img.astype(int), ski.morphology.disk(3)))"
   ],
   "metadata": {
    "collapsed": false
   }
  },
  {
   "cell_type": "code",
   "execution_count": null,
   "outputs": [],
   "source": [
    "np.mean(ski.filters.rank.entropy(threh_mean.astype(int), ski.morphology.disk(3)))"
   ],
   "metadata": {
    "collapsed": false
   }
  },
  {
   "cell_type": "code",
   "execution_count": null,
   "outputs": [],
   "source": [
    "good_condensate_thresh = good_condensates > ski.filters.threshold_otsu(good_condensates)\n",
    "\n",
    "np.mean(ski.filters.rank.entropy(good_condensate_thresh.astype(int), ski.morphology.disk(3)))"
   ],
   "metadata": {
    "collapsed": false
   }
  },
  {
   "cell_type": "code",
   "execution_count": null,
   "outputs": [],
   "source": [
    "def calc_mean_entropy(image):\n",
    "    return np.mean(ski.filters.rank.entropy(image.astype(\"uint8\"), ski.morphology.disk(3)))"
   ],
   "metadata": {
    "collapsed": false
   }
  },
  {
   "cell_type": "code",
   "execution_count": null,
   "outputs": [],
   "source": [
    "entropy_values = []\n",
    "\n"
   ],
   "metadata": {
    "collapsed": false
   }
  },
  {
   "cell_type": "code",
   "execution_count": null,
   "outputs": [],
   "source": [
    "calc_mean_entropy(good_condensate_thresh)"
   ],
   "metadata": {
    "collapsed": false
   }
  },
  {
   "cell_type": "code",
   "execution_count": null,
   "outputs": [],
   "source": [
    "#  Let's do a test. We can try ostu vs the std method and see who comes out on top"
   ],
   "metadata": {
    "collapsed": false
   }
  },
  {
   "cell_type": "code",
   "execution_count": null,
   "outputs": [],
   "source": [
    "for img in Path(\"C:\\\\Users\\\\danie\\\\temp_hons_microscopy\\\\TFIIB Core\\\\64\").glob(\"*.tif\"):\n",
    "    image = m.load_img(img)\n",
    "    thresh_otsu = image > ski.filters.threshold_otsu(image)\n",
    "    thresh_std_2 = image > 2 * np.std(image)\n",
    "    thresh_std_3 = image > 3 * np.std(image)\n",
    "    thresh_std_4 = image > 4 * np.std(image)\n",
    "\n",
    "    print(\n",
    "        f\"Otsu: {calc_mean_entropy(thresh_otsu)}, std_2: {calc_mean_entropy(thresh_std_2)}, std_3: {calc_mean_entropy(thresh_std_3)}, std_4: {calc_mean_entropy(thresh_std_4)}\")\n",
    "\n",
    "    entropy_values.append(\n",
    "        [calc_mean_entropy(thresh_otsu), calc_mean_entropy(thresh_std_2), calc_mean_entropy(thresh_std_3),\n",
    "         calc_mean_entropy(thresh_std_4)])"
   ],
   "metadata": {
    "collapsed": false
   }
  },
  {
   "cell_type": "code",
   "execution_count": null,
   "outputs": [],
   "source": [
    "image = small_condensates\n",
    "thresh_otsu = image > ski.filters.threshold_otsu(image)\n",
    "thresh_std_2 = image > 2 * np.std(image)\n",
    "thresh_std_3 = image > 3 * np.std(image)\n",
    "thresh_std_4 = image > 4 * np.std(image)\n",
    "\n",
    "plot_images([image, thresh_otsu, thresh_std_2, thresh_std_3, thresh_std_4],\n",
    "            [\"image\", \"thresh_otsu\", \"thresh_std_2\", \"thresh_std_3\", \"thresh_std_4\"])"
   ],
   "metadata": {
    "collapsed": false
   }
  },
  {
   "cell_type": "code",
   "execution_count": null,
   "outputs": [],
   "source": [
    "print(np.std(thresh_otsu), np.std(thresh_std_2), np.std(thresh_std_3), np.std(thresh_std_4))\n",
    "print()\n",
    "print(calc_mean_entropy(thresh_otsu), calc_mean_entropy(thresh_std_2), calc_mean_entropy(thresh_std_3),\n",
    "      calc_mean_entropy(thresh_std_4))"
   ],
   "metadata": {
    "collapsed": false
   }
  },
  {
   "cell_type": "code",
   "execution_count": null,
   "outputs": [],
   "source": [
    "0.05\n",
    "evalues = []\n",
    "\n",
    "for img in Path(\"C:\\\\Users\\\\danie\\\\temp_hons_microscopy\\\\TFIIB Core\\\\4\").glob(\"*.tif\"):\n",
    "    image = m.load_img(img)\n",
    "    evalues.append(calc_mean_entropy(image))"
   ],
   "metadata": {
    "collapsed": false
   }
  },
  {
   "cell_type": "code",
   "execution_count": null,
   "outputs": [],
   "source": [
    "evalues"
   ],
   "metadata": {
    "collapsed": false
   }
  },
  {
   "cell_type": "code",
   "execution_count": null,
   "outputs": [],
   "source": [
    "img = uniform_fluorescence"
   ],
   "metadata": {
    "collapsed": false
   }
  },
  {
   "cell_type": "code",
   "execution_count": null,
   "outputs": [],
   "source": [
    "uniform_fluorescence"
   ],
   "metadata": {
    "collapsed": false
   }
  },
  {
   "cell_type": "code",
   "execution_count": null,
   "outputs": [],
   "source": [
    "np.std(uniform_fluorescence)"
   ],
   "metadata": {
    "collapsed": false
   }
  },
  {
   "cell_type": "code",
   "execution_count": null,
   "outputs": [],
   "source": [
    "thresh_img = img < 4 * np.std(img)"
   ],
   "metadata": {
    "collapsed": false
   }
  },
  {
   "cell_type": "code",
   "execution_count": null,
   "outputs": [],
   "source": [
    "thresh_img"
   ],
   "metadata": {
    "collapsed": false
   }
  },
  {
   "cell_type": "code",
   "execution_count": null,
   "outputs": [],
   "source": [
    "plt.imshow(thresh_img, cmap=\"gray\")\n",
    "plt.axis(\"off\")"
   ],
   "metadata": {
    "collapsed": false
   }
  },
  {
   "cell_type": "code",
   "execution_count": null,
   "outputs": [],
   "source": [
    "label_img = ski.measure.label(thresh_img)"
   ],
   "metadata": {
    "collapsed": false
   }
  },
  {
   "cell_type": "code",
   "execution_count": null,
   "outputs": [],
   "source": [
    "plt.imshow(label_img, cmap=\"gray\")"
   ],
   "metadata": {
    "collapsed": false
   }
  },
  {
   "cell_type": "code",
   "execution_count": null,
   "outputs": [],
   "source": [
    "plt.imshow(ski.color.label2rgb(label_img, image=img))"
   ],
   "metadata": {
    "collapsed": false
   }
  },
  {
   "cell_type": "code",
   "execution_count": null,
   "outputs": [],
   "source": [
    "np.sum(thresh_img == 1)  #%%\n",
    "import pandas as pd\n",
    "import skimage as ski\n",
    "import matplotlib.pyplot as plt\n",
    "import numpy as np\n",
    "from main import load_img\n",
    "import main as m\n",
    "import matplotlib.patches as mpatches\n",
    "from pathlib import Path\n",
    "from scipy import ndimage as ndi"
   ],
   "metadata": {
    "collapsed": false
   }
  },
  {
   "cell_type": "code",
   "execution_count": null,
   "outputs": [],
   "source": [
    "good_condensates = m.load_img(\"data/massive_condensates.tif\")\n",
    "small_condensates = m.load_img(\"data/small_condensates.tif\")\n",
    "uniform_fluorescence = m.load_img(\"data/uniform_fluorescence.tif\")\n",
    "irregular_condensates = m.load_img(\"data/irregular_shape.tif\")\n",
    "\n",
    "images = [good_condensates, small_condensates, uniform_fluorescence, irregular_condensates]\n",
    "image_labels = [\"good_condensates\", \"small_condensates\", \"uniform_fluorescence\", \"irregular_condensates\"]"
   ],
   "metadata": {
    "collapsed": false
   }
  },
  {
   "cell_type": "code",
   "execution_count": null,
   "outputs": [],
   "source": [
    "def plot_images(images, image_labels):\n",
    "    fig, ax = plt.subplots(1, len(images), figsize=(20, 20))\n",
    "    for i, image in enumerate(images):\n",
    "        ax[i].imshow(image, cmap=\"gray\")\n",
    "        ax[i].set_title(image_labels[i])\n",
    "    plt.show()"
   ],
   "metadata": {
    "collapsed": false
   }
  },
  {
   "cell_type": "code",
   "execution_count": null,
   "outputs": [],
   "source": [
    "plot_images(images, image_labels)"
   ],
   "metadata": {
    "collapsed": false
   }
  },
  {
   "cell_type": "code",
   "execution_count": null,
   "outputs": [],
   "source": [
    "bg = ski.restoration.rolling_ball(good_condensates)"
   ],
   "metadata": {
    "collapsed": false
   }
  },
  {
   "cell_type": "code",
   "execution_count": null,
   "outputs": [],
   "source": [
    "plot_images([good_condensates, bg, good_condensates - bg], [\"good_condensates\", \"bg\", \"\"])"
   ],
   "metadata": {
    "collapsed": false
   }
  },
  {
   "cell_type": "code",
   "execution_count": null,
   "outputs": [],
   "source": [
    "mod = ski.morphology.closing(small_condensates, ski.morphology.disk(15))"
   ],
   "metadata": {
    "collapsed": false
   }
  },
  {
   "cell_type": "code",
   "execution_count": null,
   "outputs": [],
   "source": [
    "expo = ski.exposure.equalize_adapthist(small_condensates)\n",
    "\n",
    "plot_images([small_condensates, mod, expo], [\"small_condensates\", \"mod\", \"expo\"])"
   ],
   "metadata": {
    "collapsed": false
   }
  },
  {
   "cell_type": "code",
   "execution_count": null,
   "outputs": [],
   "source": [
    "def proposed_pre_processing(image):\n",
    "    # median = ski.filters.median(image, ski.morphology.disk(3))\n",
    "    # unsharp = ski.filters.unsharp_mask(image, radius=3, amount=1)\n",
    "\n",
    "    restored = ski.restoration.richardson_lucy(image, ski.morphology.disk(3), num_iter=30)\n",
    "\n",
    "    closing = ski.morphology.dilation(restored, ski.morphology.disk(3))\n",
    "    exposure_fix = ski.exposure.equalize_adapthist(closing)\n",
    "\n",
    "    return exposure_fix"
   ],
   "metadata": {
    "collapsed": false
   }
  },
  {
   "cell_type": "code",
   "execution_count": null,
   "outputs": [],
   "source": [
    "good_cond_mod = proposed_pre_processing(good_condensates)\n",
    "thresholded = good_cond_mod > ski.filters.threshold_otsu(good_cond_mod)\n",
    "plot_images([good_condensates, good_cond_mod, thresholded], [\"good_condensates\", \"good_cond_mod\", \"thresholded\"])"
   ],
   "metadata": {
    "collapsed": false
   }
  },
  {
   "cell_type": "code",
   "execution_count": null,
   "outputs": [],
   "source": [
    "good_cond_mod = proposed_pre_processing(small_condensates)\n",
    "thresholded = good_cond_mod > ski.filters.threshold_isodata(good_cond_mod)\n",
    "plot_images([good_condensates, good_cond_mod, thresholded], [\"good_condensates\", \"good_cond_mod\", \"thresholded\"])"
   ],
   "metadata": {
    "collapsed": false
   }
  },
  {
   "cell_type": "code",
   "execution_count": null,
   "outputs": [],
   "source": [
    "good_cond_mod = proposed_pre_processing(uniform_fluorescence)\n",
    "thresholded = good_cond_mod > ski.filters.threshold_isodata(good_cond_mod)\n",
    "plot_images([uniform_fluorescence, good_cond_mod, thresholded], [\"good_condensates\", \"good_cond_mod\", \"thresholded\"])"
   ],
   "metadata": {
    "collapsed": false
   }
  },
  {
   "cell_type": "code",
   "execution_count": null,
   "outputs": [],
   "source": [
    "np.mean(good_condensates)"
   ],
   "metadata": {
    "collapsed": false
   }
  },
  {
   "cell_type": "code",
   "execution_count": null,
   "outputs": [],
   "source": [
    "np.mean(irregular_condensates)"
   ],
   "metadata": {
    "collapsed": false
   }
  },
  {
   "cell_type": "code",
   "execution_count": null,
   "outputs": [],
   "source": [
    "edges = ski.filters.sobel(good_condensates)\n",
    "plot_images([good_condensates, edges], [\"good_condensates\", \"edges\"])"
   ],
   "metadata": {
    "collapsed": false
   }
  },
  {
   "cell_type": "code",
   "execution_count": null,
   "outputs": [],
   "source": [
    "edges = ski.filters.sobel(small_condensates)\n",
    "plot_images([small_condensates, edges], [\"small_condensates\", \"edges\"])"
   ],
   "metadata": {
    "collapsed": false
   }
  },
  {
   "cell_type": "code",
   "execution_count": null,
   "outputs": [],
   "source": [
    "edges = ski.filters.sobel(uniform_fluorescence)\n",
    "plot_images([uniform_fluorescence, edges], [\"uniform_fluorescence\", \"edges\"])"
   ],
   "metadata": {
    "collapsed": false
   }
  },
  {
   "cell_type": "code",
   "execution_count": null,
   "outputs": [],
   "source": [
    "edges = ski.filters.sobel(good_condensates)\n",
    "\n",
    "filled = ndi.binary_fill_holes(edges)\n",
    "\n",
    "plot_images([good_condensates, edges, filled], [\"good_condensates\", \"edges\", \"filled\"])\n"
   ],
   "metadata": {
    "collapsed": false
   }
  },
  {
   "cell_type": "code",
   "execution_count": null,
   "outputs": [],
   "source": [
    "print(np.std(uniform_fluorescence) / np.mean(uniform_fluorescence))\n",
    "print(np.std(good_condensates) / np.mean(good_condensates))\n",
    "print(np.std(small_condensates) / np.mean(small_condensates))\n",
    "print(np.std(irregular_condensates) / np.mean(irregular_condensates))"
   ],
   "metadata": {
    "collapsed": false
   }
  },
  {
   "cell_type": "code",
   "execution_count": null,
   "outputs": [],
   "source": [
    "a = Path(\"a/1.2\")"
   ],
   "metadata": {
    "collapsed": false
   }
  },
  {
   "cell_type": "code",
   "execution_count": null,
   "outputs": [],
   "source": [
    "problem_img = m.load_img(\"C:\\\\Users\\\\danie\\\\temp_hons_microscopy\\\\TFIIB Core\\\\64\\\\64_018.tif\")"
   ],
   "metadata": {
    "collapsed": false
   }
  },
  {
   "cell_type": "code",
   "execution_count": null,
   "outputs": [],
   "source": [
    "thresh = ski.filters.threshold_otsu(problem_img)\n",
    "thres_img = problem_img > thresh\n",
    "\n",
    "threh_mean = problem_img > 4 * np.std(problem_img)\n",
    "\n",
    "plot_images([problem_img, thres_img, threh_mean], [\"problem_img\", \"thres_img\", \"threh_mean\"])"
   ],
   "metadata": {
    "collapsed": false
   }
  },
  {
   "cell_type": "code",
   "execution_count": null,
   "outputs": [],
   "source": [
    "np.std(threh_mean)"
   ],
   "metadata": {
    "collapsed": false
   }
  },
  {
   "cell_type": "code",
   "execution_count": null,
   "outputs": [],
   "source": [
    "np.std(thres_img)"
   ],
   "metadata": {
    "collapsed": false
   }
  },
  {
   "cell_type": "code",
   "execution_count": null,
   "outputs": [],
   "source": [
    "problem_img.shape"
   ],
   "metadata": {
    "collapsed": false
   }
  },
  {
   "cell_type": "code",
   "execution_count": null,
   "outputs": [],
   "source": [
    "mu = 0\n",
    "sigma = 0\n",
    "shape = (1920, 2560)\n",
    "gauss_img = np.random.normal(mu, sigma, shape)\n",
    "gauss_img"
   ],
   "metadata": {
    "collapsed": false
   }
  },
  {
   "cell_type": "code",
   "execution_count": null,
   "outputs": [],
   "source": [
    "img = np.full((1920, 2560), 255)\n",
    "img = ski.util.random_noise(img, mode=\"speckle\")\n",
    "plt.imshow(img, cmap=\"gray\")"
   ],
   "metadata": {
    "collapsed": false
   }
  },
  {
   "cell_type": "code",
   "execution_count": null,
   "outputs": [],
   "source": [],
   "metadata": {
    "collapsed": false
   }
  },
  {
   "cell_type": "code",
   "execution_count": null,
   "outputs": [],
   "source": [
    "plt.imshow(gauss_img, cmap=\"gray\")"
   ],
   "metadata": {
    "collapsed": false
   }
  },
  {
   "cell_type": "code",
   "execution_count": null,
   "outputs": [],
   "source": [
    "np.mean(ski.filters.rank.entropy(thres_img.astype(int), ski.morphology.disk(3)))"
   ],
   "metadata": {
    "collapsed": false
   }
  },
  {
   "cell_type": "code",
   "execution_count": null,
   "outputs": [],
   "source": [
    "np.mean(ski.filters.rank.entropy(img.astype(int), ski.morphology.disk(3)))"
   ],
   "metadata": {
    "collapsed": false
   }
  },
  {
   "cell_type": "code",
   "execution_count": null,
   "outputs": [],
   "source": [
    "np.mean(ski.filters.rank.entropy(threh_mean.astype(int), ski.morphology.disk(3)))"
   ],
   "metadata": {
    "collapsed": false
   }
  },
  {
   "cell_type": "code",
   "execution_count": null,
   "outputs": [],
   "source": [
    "good_condensate_thresh = good_condensates > ski.filters.threshold_otsu(good_condensates)\n",
    "\n",
    "np.mean(ski.filters.rank.entropy(good_condensate_thresh.astype(int), ski.morphology.disk(3)))"
   ],
   "metadata": {
    "collapsed": false
   }
  },
  {
   "cell_type": "code",
   "execution_count": null,
   "outputs": [],
   "source": [
    "def calc_mean_entropy(image):\n",
    "    return np.mean(ski.filters.rank.entropy(image.astype(\"uint8\"), ski.morphology.disk(3)))"
   ],
   "metadata": {
    "collapsed": false
   }
  },
  {
   "cell_type": "code",
   "execution_count": null,
   "outputs": [],
   "source": [
    "entropy_values = []\n",
    "\n"
   ],
   "metadata": {
    "collapsed": false
   }
  },
  {
   "cell_type": "code",
   "execution_count": null,
   "outputs": [],
   "source": [
    "calc_mean_entropy(good_condensate_thresh)"
   ],
   "metadata": {
    "collapsed": false
   }
  },
  {
   "cell_type": "code",
   "execution_count": null,
   "outputs": [],
   "source": [
    "for img in Path(\"C:\\\\Users\\\\danie\\\\temp_hons_microscopy\\\\TFIIB Core\\\\64\").glob(\"*.tif\"):\n",
    "    image = m.load_img(img)\n",
    "    entropy_values.append(calc_mean_entropy(image))"
   ],
   "metadata": {
    "collapsed": false
   }
  },
  {
   "cell_type": "code",
   "execution_count": null,
   "outputs": [],
   "source": [
    "entropy_values"
   ],
   "metadata": {
    "collapsed": false
   }
  },
  {
   "cell_type": "code",
   "execution_count": null,
   "outputs": [],
   "source": [
    "\n",
    "evalues = []\n",
    "\n",
    "for img in Path(\"C:\\\\Users\\\\danie\\\\temp_hons_microscopy\\\\TFIIB Core\\\\4\").glob(\"*.tif\"):\n",
    "    image = m.load_img(img)\n",
    "    evalues.append(calc_mean_entropy(image))"
   ],
   "metadata": {
    "collapsed": false
   }
  },
  {
   "cell_type": "code",
   "execution_count": null,
   "outputs": [],
   "source": [
    "evalues  #%%\n",
    "import pandas as pd\n",
    "import skimage as ski\n",
    "import matplotlib.pyplot as plt\n",
    "import numpy as np\n",
    "from main import load_img\n",
    "import main as m\n",
    "import matplotlib.patches as mpatches\n",
    "from pathlib import Path\n",
    "from scipy import ndimage as ndi"
   ],
   "metadata": {
    "collapsed": false
   }
  },
  {
   "cell_type": "code",
   "execution_count": null,
   "outputs": [],
   "source": [
    "good_condensates = m.load_img(\"data/massive_condensates.tif\")\n",
    "small_condensates = m.load_img(\"data/small_condensates.tif\")\n",
    "uniform_fluorescence = m.load_img(\"data/uniform_fluorescence.tif\")\n",
    "irregular_condensates = m.load_img(\"data/irregular_shape.tif\")\n",
    "\n",
    "images = [good_condensates, small_condensates, uniform_fluorescence, irregular_condensates]\n",
    "image_labels = [\"good_condensates\", \"small_condensates\", \"uniform_fluorescence\", \"irregular_condensates\"]"
   ],
   "metadata": {
    "collapsed": false
   }
  },
  {
   "cell_type": "code",
   "execution_count": null,
   "outputs": [],
   "source": [
    "def plot_images(images, image_labels):\n",
    "    fig, ax = plt.subplots(1, len(images), figsize=(20, 20))\n",
    "    for i, image in enumerate(images):\n",
    "        ax[i].imshow(image, cmap=\"gray\")\n",
    "        ax[i].set_title(image_labels[i])\n",
    "    plt.show()"
   ],
   "metadata": {
    "collapsed": false
   }
  },
  {
   "cell_type": "code",
   "execution_count": null,
   "outputs": [],
   "source": [
    "plot_images(images, image_labels)"
   ],
   "metadata": {
    "collapsed": false
   }
  },
  {
   "cell_type": "code",
   "execution_count": null,
   "outputs": [],
   "source": [
    "mod = ski.morphology.closing(small_condensates, ski.morphology.disk(15))"
   ],
   "metadata": {
    "collapsed": false
   }
  },
  {
   "cell_type": "code",
   "execution_count": null,
   "outputs": [],
   "source": [
    "expo = ski.exposure.equalize_adapthist(small_condensates)\n",
    "\n",
    "plot_images([small_condensates, mod, expo], [\"small_condensates\", \"mod\", \"expo\"])"
   ],
   "metadata": {
    "collapsed": false
   }
  },
  {
   "cell_type": "code",
   "execution_count": null,
   "outputs": [],
   "source": [
    "def proposed_pre_processing(image):\n",
    "    # median = ski.filters.median(image, ski.morphology.disk(3))\n",
    "    # unsharp = ski.filters.unsharp_mask(image, radius=3, amount=1)\n",
    "\n",
    "    restored = ski.restoration.richardson_lucy(image, ski.morphology.disk(3), num_iter=30)\n",
    "\n",
    "    closing = ski.morphology.dilation(restored, ski.morphology.disk(3))\n",
    "    exposure_fix = ski.exposure.equalize_adapthist(closing)\n",
    "\n",
    "    return exposure_fix"
   ],
   "metadata": {
    "collapsed": false
   }
  },
  {
   "cell_type": "code",
   "execution_count": null,
   "outputs": [],
   "source": [
    "good_cond_mod = proposed_pre_processing(good_condensates)\n",
    "thresholded = good_cond_mod > ski.filters.threshold_otsu(good_cond_mod)\n",
    "plot_images([good_condensates, good_cond_mod, thresholded], [\"good_condensates\", \"good_cond_mod\", \"thresholded\"])"
   ],
   "metadata": {
    "collapsed": false
   }
  },
  {
   "cell_type": "code",
   "execution_count": null,
   "outputs": [],
   "source": [
    "good_cond_mod = proposed_pre_processing(small_condensates)\n",
    "thresholded = good_cond_mod > ski.filters.threshold_isodata(good_cond_mod)\n",
    "plot_images([good_condensates, good_cond_mod, thresholded], [\"good_condensates\", \"good_cond_mod\", \"thresholded\"])"
   ],
   "metadata": {
    "collapsed": false
   }
  },
  {
   "cell_type": "code",
   "execution_count": null,
   "outputs": [],
   "source": [
    "good_cond_mod = proposed_pre_processing(uniform_fluorescence)\n",
    "thresholded = good_cond_mod > ski.filters.threshold_isodata(good_cond_mod)\n",
    "plot_images([uniform_fluorescence, good_cond_mod, thresholded], [\"good_condensates\", \"good_cond_mod\", \"thresholded\"])"
   ],
   "metadata": {
    "collapsed": false
   }
  },
  {
   "cell_type": "code",
   "execution_count": null,
   "outputs": [],
   "source": [
    "np.mean(good_condensates)"
   ],
   "metadata": {
    "collapsed": false
   }
  },
  {
   "cell_type": "code",
   "execution_count": null,
   "outputs": [],
   "source": [
    "np.mean(irregular_condensates)"
   ],
   "metadata": {
    "collapsed": false
   }
  },
  {
   "cell_type": "code",
   "execution_count": null,
   "outputs": [],
   "source": [
    "edges = ski.filters.sobel(good_condensates)\n",
    "plot_images([good_condensates, edges], [\"good_condensates\", \"edges\"])"
   ],
   "metadata": {
    "collapsed": false
   }
  },
  {
   "cell_type": "code",
   "execution_count": null,
   "outputs": [],
   "source": [
    "edges = ski.filters.sobel(small_condensates)\n",
    "plot_images([small_condensates, edges], [\"small_condensates\", \"edges\"])"
   ],
   "metadata": {
    "collapsed": false
   }
  },
  {
   "cell_type": "code",
   "execution_count": null,
   "outputs": [],
   "source": [
    "edges = ski.filters.sobel(uniform_fluorescence)\n",
    "plot_images([uniform_fluorescence, edges], [\"uniform_fluorescence\", \"edges\"])"
   ],
   "metadata": {
    "collapsed": false
   }
  },
  {
   "cell_type": "code",
   "execution_count": null,
   "outputs": [],
   "source": [
    "edges = ski.filters.sobel(good_condensates)\n",
    "\n",
    "filled = ndi.binary_fill_holes(edges)\n",
    "\n",
    "plot_images([good_condensates, edges, filled], [\"good_condensates\", \"edges\", \"filled\"])\n"
   ],
   "metadata": {
    "collapsed": false
   }
  },
  {
   "cell_type": "code",
   "execution_count": null,
   "outputs": [],
   "source": [
    "print(np.std(uniform_fluorescence) / np.mean(uniform_fluorescence))\n",
    "print(np.std(good_condensates) / np.mean(good_condensates))\n",
    "print(np.std(small_condensates) / np.mean(small_condensates))\n",
    "print(np.std(irregular_condensates) / np.mean(irregular_condensates))"
   ],
   "metadata": {
    "collapsed": false
   }
  },
  {
   "cell_type": "code",
   "execution_count": null,
   "outputs": [],
   "source": [
    "a = Path(\"a/1.2\")"
   ],
   "metadata": {
    "collapsed": false
   }
  },
  {
   "cell_type": "code",
   "execution_count": null,
   "outputs": [],
   "source": [
    "problem_img = m.load_img(\"C:\\\\Users\\\\danie\\\\temp_hons_microscopy\\\\TFIIB Core\\\\64\\\\64_018.tif\")"
   ],
   "metadata": {
    "collapsed": false
   }
  },
  {
   "cell_type": "code",
   "execution_count": null,
   "outputs": [],
   "source": [
    "thresh = ski.filters.threshold_otsu(problem_img)\n",
    "thres_img = problem_img > thresh\n",
    "\n",
    "threh_mean = problem_img > 4 * np.std(problem_img)\n",
    "\n",
    "plot_images([problem_img, thres_img, threh_mean], [\"problem_img\", \"thres_img\", \"threh_mean\"])"
   ],
   "metadata": {
    "collapsed": false
   }
  },
  {
   "cell_type": "code",
   "execution_count": null,
   "outputs": [],
   "source": [
    "np.std(threh_mean)"
   ],
   "metadata": {
    "collapsed": false
   }
  },
  {
   "cell_type": "code",
   "execution_count": null,
   "outputs": [],
   "source": [
    "np.std(thres_img)"
   ],
   "metadata": {
    "collapsed": false
   }
  },
  {
   "cell_type": "code",
   "execution_count": null,
   "outputs": [],
   "source": [
    "problem_img.shape"
   ],
   "metadata": {
    "collapsed": false
   }
  },
  {
   "cell_type": "code",
   "execution_count": null,
   "outputs": [],
   "source": [
    "mu = 0\n",
    "sigma = 0\n",
    "shape = (1920, 2560)\n",
    "gauss_img = np.random.normal(mu, sigma, shape)\n",
    "gauss_img"
   ],
   "metadata": {
    "collapsed": false
   }
  },
  {
   "cell_type": "code",
   "execution_count": null,
   "outputs": [],
   "source": [
    "img = np.full((1920, 2560), 255)\n",
    "img = ski.util.random_noise(img, mode=\"speckle\")\n",
    "plt.imshow(img, cmap=\"gray\")"
   ],
   "metadata": {
    "collapsed": false
   }
  },
  {
   "cell_type": "code",
   "execution_count": null,
   "outputs": [],
   "source": [],
   "metadata": {
    "collapsed": false
   }
  },
  {
   "cell_type": "code",
   "execution_count": null,
   "outputs": [],
   "source": [
    "plt.imshow(gauss_img, cmap=\"gray\")"
   ],
   "metadata": {
    "collapsed": false
   }
  },
  {
   "cell_type": "code",
   "execution_count": null,
   "outputs": [],
   "source": [
    "np.mean(ski.filters.rank.entropy(thres_img.astype(int), ski.morphology.disk(3)))"
   ],
   "metadata": {
    "collapsed": false
   }
  },
  {
   "cell_type": "code",
   "execution_count": null,
   "outputs": [],
   "source": [
    "np.mean(ski.filters.rank.entropy(img.astype(int), ski.morphology.disk(3)))"
   ],
   "metadata": {
    "collapsed": false
   }
  },
  {
   "cell_type": "code",
   "execution_count": null,
   "outputs": [],
   "source": [
    "np.mean(ski.filters.rank.entropy(threh_mean.astype(int), ski.morphology.disk(3)))"
   ],
   "metadata": {
    "collapsed": false
   }
  },
  {
   "cell_type": "code",
   "execution_count": null,
   "outputs": [],
   "source": [
    "good_condensate_thresh = good_condensates > ski.filters.threshold_otsu(good_condensates)\n",
    "\n",
    "np.mean(ski.filters.rank.entropy(good_condensate_thresh.astype(int), ski.morphology.disk(3)))"
   ],
   "metadata": {
    "collapsed": false
   }
  },
  {
   "cell_type": "code",
   "execution_count": null,
   "outputs": [],
   "source": [
    "def calc_mean_entropy(image):\n",
    "    return np.mean(ski.filters.rank.entropy(image.astype(\"uint8\"), ski.morphology.disk(3)))"
   ],
   "metadata": {
    "collapsed": false
   }
  },
  {
   "cell_type": "code",
   "execution_count": null,
   "outputs": [],
   "source": [
    "entropy_values = []\n",
    "\n"
   ],
   "metadata": {
    "collapsed": false
   }
  },
  {
   "cell_type": "code",
   "execution_count": null,
   "outputs": [],
   "source": [
    "calc_mean_entropy(good_condensate_thresh)"
   ],
   "metadata": {
    "collapsed": false
   }
  },
  {
   "cell_type": "code",
   "execution_count": null,
   "outputs": [],
   "source": [
    "#  Let's do a test. We can try ostu vs the std method and see who comes out on top"
   ],
   "metadata": {
    "collapsed": false
   }
  },
  {
   "cell_type": "code",
   "execution_count": null,
   "outputs": [],
   "source": [
    "for img in Path(\"C:\\\\Users\\\\danie\\\\temp_hons_microscopy\\\\TFIIB Core\\\\64\").glob(\"*.tif\"):\n",
    "    image = m.load_img(img)\n",
    "    thresh_otsu = image > ski.filters.threshold_otsu(image)\n",
    "    thresh_std_2 = image > 2 * np.std(image)\n",
    "    thresh_std_3 = image > 3 * np.std(image)\n",
    "    thresh_std_4 = image > 4 * np.std(image)\n",
    "\n",
    "    print(\n",
    "        f\"Otsu: {calc_mean_entropy(thresh_otsu)}, std_2: {calc_mean_entropy(thresh_std_2)}, std_3: {calc_mean_entropy(thresh_std_3)}, std_4: {calc_mean_entropy(thresh_std_4)}\")\n",
    "\n",
    "    entropy_values.append(\n",
    "        [calc_mean_entropy(thresh_otsu), calc_mean_entropy(thresh_std_2), calc_mean_entropy(thresh_std_3),\n",
    "         calc_mean_entropy(thresh_std_4)])"
   ],
   "metadata": {
    "collapsed": false
   }
  },
  {
   "cell_type": "code",
   "execution_count": null,
   "outputs": [],
   "source": [
    "image = small_condensates\n",
    "thresh_otsu = image > ski.filters.threshold_otsu(image)\n",
    "thresh_std_2 = image > 2 * np.std(image)\n",
    "thresh_std_3 = image > 3 * np.std(image)\n",
    "thresh_std_4 = image > 4 * np.std(image)\n",
    "\n",
    "plot_images([image, thresh_otsu, thresh_std_2, thresh_std_3, thresh_std_4],\n",
    "            [\"image\", \"thresh_otsu\", \"thresh_std_2\", \"thresh_std_3\", \"thresh_std_4\"])"
   ],
   "metadata": {
    "collapsed": false
   }
  },
  {
   "cell_type": "code",
   "execution_count": null,
   "outputs": [],
   "source": [
    "print(np.std(thresh_otsu), np.std(thresh_std_2), np.std(thresh_std_3), np.std(thresh_std_4))\n",
    "print()\n",
    "print(calc_mean_entropy(thresh_otsu), calc_mean_entropy(thresh_std_2), calc_mean_entropy(thresh_std_3),\n",
    "      calc_mean_entropy(thresh_std_4))"
   ],
   "metadata": {
    "collapsed": false
   }
  },
  {
   "cell_type": "code",
   "execution_count": null,
   "outputs": [],
   "source": [
    "0.05\n",
    "evalues = []\n",
    "\n",
    "for img in Path(\"C:\\\\Users\\\\danie\\\\temp_hons_microscopy\\\\TFIIB Core\\\\4\").glob(\"*.tif\"):\n",
    "    image = m.load_img(img)\n",
    "    evalues.append(calc_mean_entropy(image))"
   ],
   "metadata": {
    "collapsed": false
   }
  },
  {
   "cell_type": "code",
   "execution_count": null,
   "outputs": [],
   "source": [
    "evalues"
   ],
   "metadata": {
    "collapsed": false
   }
  },
  {
   "cell_type": "code",
   "execution_count": null,
   "outputs": [],
   "source": [
    "img = uniform_fluorescence"
   ],
   "metadata": {
    "collapsed": false
   }
  },
  {
   "cell_type": "code",
   "execution_count": null,
   "outputs": [],
   "source": [
    "uniform_fluorescence"
   ],
   "metadata": {
    "collapsed": false
   }
  },
  {
   "cell_type": "code",
   "execution_count": null,
   "outputs": [],
   "source": [
    "np.std(uniform_fluorescence)"
   ],
   "metadata": {
    "collapsed": false
   }
  },
  {
   "cell_type": "code",
   "execution_count": null,
   "outputs": [],
   "source": [
    "thresh_img = img > 4 * np.std(img)"
   ],
   "metadata": {
    "collapsed": false
   }
  },
  {
   "cell_type": "code",
   "execution_count": null,
   "outputs": [],
   "source": [
    "thresh_img"
   ],
   "metadata": {
    "collapsed": false
   }
  },
  {
   "cell_type": "code",
   "execution_count": null,
   "outputs": [],
   "source": [
    "plt.imshow(thresh_img)\n",
    "plt.axis(\"off\")"
   ],
   "metadata": {
    "collapsed": false
   }
  },
  {
   "cell_type": "code",
   "execution_count": null,
   "outputs": [],
   "source": [
    "label_img = ski.measure.label(thresh_img)"
   ],
   "metadata": {
    "collapsed": false
   }
  },
  {
   "cell_type": "code",
   "execution_count": null,
   "outputs": [],
   "source": [
    "plt.imshow(label_img, cmap=\"gray\")"
   ],
   "metadata": {
    "collapsed": false
   }
  },
  {
   "cell_type": "code",
   "execution_count": null,
   "outputs": [],
   "source": [
    "np.unique(label_img)"
   ],
   "metadata": {
    "collapsed": false
   }
  },
  {
   "cell_type": "code",
   "execution_count": null,
   "outputs": [],
   "source": [
    "plt.imshow(ski.color.label2rgb(label_img, image=img), cmap=\"hsv\")"
   ],
   "metadata": {
    "collapsed": false
   }
  },
  {
   "cell_type": "code",
   "execution_count": null,
   "outputs": [],
   "source": [
    "np.sum(thresh_img == 1)"
   ],
   "metadata": {
    "collapsed": false
   }
  },
  {
   "cell_type": "code",
   "execution_count": null,
   "outputs": [],
   "source": [
    "thresh_img"
   ],
   "metadata": {
    "collapsed": false
   }
  },
  {
   "cell_type": "code",
   "execution_count": null,
   "outputs": [],
   "source": [],
   "metadata": {
    "collapsed": false
   }
  },
  {
   "cell_type": "code",
   "execution_count": null,
   "outputs": [],
   "source": [
    "thresh_img"
   ],
   "metadata": {
    "collapsed": false
   }
  },
  {
   "cell_type": "code",
   "execution_count": null,
   "outputs": [],
   "source": [
    "img = m.load_img(\"C:\\\\Users\\\\danie\\\\temp_hons_microscopy\\\\T\")"
   ],
   "metadata": {
    "collapsed": false
   }
  }
 ],
 "metadata": {
  "kernelspec": {
   "display_name": "Python 3",
   "language": "python",
   "name": "python3"
  },
  "language_info": {
   "codemirror_mode": {
    "name": "ipython",
    "version": 2
   },
   "file_extension": ".py",
   "mimetype": "text/x-python",
   "name": "python",
   "nbconvert_exporter": "python",
   "pygments_lexer": "ipython2",
   "version": "2.7.6"
  }
 },
 "nbformat": 4,
 "nbformat_minor": 0
}
