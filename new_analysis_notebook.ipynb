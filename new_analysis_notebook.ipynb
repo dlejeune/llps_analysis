{
 "cells": [
  {
   "cell_type": "code",
   "execution_count": 1,
   "metadata": {
    "collapsed": true,
    "ExecuteTime": {
     "end_time": "2023-11-04T14:06:45.067025400Z",
     "start_time": "2023-11-04T14:06:43.820712400Z"
    }
   },
   "outputs": [],
   "source": [
    "import pandas as pd\n",
    "import numpy as np\n",
    "import matplotlib.pyplot as plt\n",
    "import json\n",
    "import plotnine as pn\n",
    "from pathlib import Path  #%%\n",
    "import pandas as pd\n",
    "import numpy as np\n",
    "import matplotlib.pyplot as plt\n",
    "import json\n",
    "import plotnine as pn\n",
    "from pathlib import Path\n",
    "from grapher import load_df, graph_boxplot"
   ]
  },
  {
   "cell_type": "code",
   "execution_count": null,
   "outputs": [],
   "source": [],
   "metadata": {
    "collapsed": false
   }
  },
  {
   "cell_type": "code",
   "execution_count": 43,
   "outputs": [],
   "source": [
    "iib_tbp_dna_cf = pd.read_csv(\n",
    "    \"C:\\\\Users\\\\danie\\\\OneDrive - University of Cape Town\\\\Hons Project\\\\DataAnalysis\\\\new_analysis_20231031\\\\TFIIB + TBP + DNA\\\\TFIIB + TBP + DNA_condensed_fractions.csv\")\n",
    "\n",
    "iib_tbp_dna_cf[\"fold_intensity\"] = iib_tbp_dna_cf[\"mean_fg_intensity\"] / iib_tbp_dna_cf[\n",
    "    \"mean_bg_intensity\"]\n",
    "\n",
    "iib_tbp_dna_cf = iib_tbp_dna_cf[iib_tbp_dna_cf[\"dir_name\"] != \"NoMg\"]\n",
    "\n",
    "iib_tbp_dna_cf[\"channel\"] = \"\"\n",
    "iib_tbp_dna_cf.loc[iib_tbp_dna_cf[\"image_name\"].str.contains(\"Blue1\"), \"channel\"] = \"DNA\"\n",
    "iib_tbp_dna_cf.loc[iib_tbp_dna_cf[\"image_name\"].str.contains(\"Green\"), \"channel\"] = \"TBP\"\n",
    "iib_tbp_dna_cf.loc[iib_tbp_dna_cf[\"image_name\"].str.contains(\"Blue6\"), \"channel\"] = \"TFIIB\"\n",
    "iib_tbp_dna_cf.loc[iib_tbp_dna_cf[\"channel\"] == \"\", \"channel\"] = \"Merged\"\n",
    "iib_tbp_dna_cf[\"dir_name\"] = iib_tbp_dna_cf[\"dir_name\"].astype(\"int\")\n",
    "iib_tbp_dna_cf[\"dir_name\"] = pd.Categorical(iib_tbp_dna_cf[\"dir_name\"], ordered=True,\n",
    "                                            categories=sorted(\n",
    "                                                np.unique(iib_tbp_dna_cf[\"dir_name\"]).tolist()))\n"
   ],
   "metadata": {
    "collapsed": false,
    "ExecuteTime": {
     "end_time": "2023-11-04T16:27:43.662487400Z",
     "start_time": "2023-11-04T16:27:43.497631Z"
    }
   }
  },
  {
   "cell_type": "code",
   "execution_count": 44,
   "outputs": [
    {
     "data": {
      "text/plain": "     condensed_fraction  mean_intensity  std_intensity  max_intensity  \\\n0              0.039895        0.035933       0.023063       0.208333   \n1              0.031112        0.035238       0.020857       0.208333   \n2              0.041386        0.033956       0.023030       0.203333   \n3              0.036028        0.027032       0.018549       0.200000   \n4              0.026705        0.022510       0.014769       0.191667   \n..                  ...             ...            ...            ...   \n231            0.067407        0.125367       0.094827       0.858380   \n232            0.056065        0.113554       0.081992       0.787594   \n233            0.080566        0.142246       0.096988       0.834997   \n234            0.078853        0.139327       0.098455       0.838344   \n235            0.071281        0.146853       0.102572       0.858840   \n\n     min_intensity  mean_entropy  mean_bg_intensity  mean_fg_intensity  \\\n0         0.011667             0           0.031847           0.134266   \n1         0.013333             0           0.032017           0.135567   \n2         0.010833             0           0.029818           0.129789   \n3         0.007500             0           0.023985           0.108567   \n4         0.006667             0           0.020458           0.097280   \n..             ...           ...                ...                ...   \n231       0.037487             0           0.102840           0.437038   \n232       0.031846             0           0.096126           0.406992   \n233       0.037175             0           0.117219           0.427865   \n234       0.029339             0           0.114094           0.434099   \n235       0.040904             0           0.122045           0.470067   \n\n                    prep dir_name                                 image_name  \\\n0      TFIIB + TBP + DNA        0  Export_0ngul_DNA_000_RGB_BrightfieldBlue6   \n1      TFIIB + TBP + DNA        0  Export_0ngul_DNA_001_RGB_BrightfieldBlue6   \n2      TFIIB + TBP + DNA        0  Export_0ngul_DNA_002_RGB_BrightfieldBlue6   \n3      TFIIB + TBP + DNA        0  Export_0ngul_DNA_003_RGB_BrightfieldBlue6   \n4      TFIIB + TBP + DNA        0  Export_0ngul_DNA_004_RGB_BrightfieldBlue6   \n..                   ...      ...                                        ...   \n231  TFIIB + TBP + DNA 2       50                  Export_50ngul_DNA_028_RGB   \n232  TFIIB + TBP + DNA 2       50                  Export_50ngul_DNA_029_RGB   \n233  TFIIB + TBP + DNA 2       50                  Export_50ngul_DNA_030_RGB   \n234  TFIIB + TBP + DNA 2       50                  Export_50ngul_DNA_031_RGB   \n235  TFIIB + TBP + DNA 2       50                  Export_50ngul_DNA_032_RGB   \n\n     fold_intensity channel  \n0          4.215953   TFIIB  \n1          4.234249   TFIIB  \n2          4.352632   TFIIB  \n3          4.526458   TFIIB  \n4          4.754989   TFIIB  \n..              ...     ...  \n231        4.249702  Merged  \n232        4.233965  Merged  \n233        3.650137  Merged  \n234        3.804742  Merged  \n235        3.851569  Merged  \n\n[216 rows x 13 columns]",
      "text/html": "<div>\n<style scoped>\n    .dataframe tbody tr th:only-of-type {\n        vertical-align: middle;\n    }\n\n    .dataframe tbody tr th {\n        vertical-align: top;\n    }\n\n    .dataframe thead th {\n        text-align: right;\n    }\n</style>\n<table border=\"1\" class=\"dataframe\">\n  <thead>\n    <tr style=\"text-align: right;\">\n      <th></th>\n      <th>condensed_fraction</th>\n      <th>mean_intensity</th>\n      <th>std_intensity</th>\n      <th>max_intensity</th>\n      <th>min_intensity</th>\n      <th>mean_entropy</th>\n      <th>mean_bg_intensity</th>\n      <th>mean_fg_intensity</th>\n      <th>prep</th>\n      <th>dir_name</th>\n      <th>image_name</th>\n      <th>fold_intensity</th>\n      <th>channel</th>\n    </tr>\n  </thead>\n  <tbody>\n    <tr>\n      <th>0</th>\n      <td>0.039895</td>\n      <td>0.035933</td>\n      <td>0.023063</td>\n      <td>0.208333</td>\n      <td>0.011667</td>\n      <td>0</td>\n      <td>0.031847</td>\n      <td>0.134266</td>\n      <td>TFIIB + TBP + DNA</td>\n      <td>0</td>\n      <td>Export_0ngul_DNA_000_RGB_BrightfieldBlue6</td>\n      <td>4.215953</td>\n      <td>TFIIB</td>\n    </tr>\n    <tr>\n      <th>1</th>\n      <td>0.031112</td>\n      <td>0.035238</td>\n      <td>0.020857</td>\n      <td>0.208333</td>\n      <td>0.013333</td>\n      <td>0</td>\n      <td>0.032017</td>\n      <td>0.135567</td>\n      <td>TFIIB + TBP + DNA</td>\n      <td>0</td>\n      <td>Export_0ngul_DNA_001_RGB_BrightfieldBlue6</td>\n      <td>4.234249</td>\n      <td>TFIIB</td>\n    </tr>\n    <tr>\n      <th>2</th>\n      <td>0.041386</td>\n      <td>0.033956</td>\n      <td>0.023030</td>\n      <td>0.203333</td>\n      <td>0.010833</td>\n      <td>0</td>\n      <td>0.029818</td>\n      <td>0.129789</td>\n      <td>TFIIB + TBP + DNA</td>\n      <td>0</td>\n      <td>Export_0ngul_DNA_002_RGB_BrightfieldBlue6</td>\n      <td>4.352632</td>\n      <td>TFIIB</td>\n    </tr>\n    <tr>\n      <th>3</th>\n      <td>0.036028</td>\n      <td>0.027032</td>\n      <td>0.018549</td>\n      <td>0.200000</td>\n      <td>0.007500</td>\n      <td>0</td>\n      <td>0.023985</td>\n      <td>0.108567</td>\n      <td>TFIIB + TBP + DNA</td>\n      <td>0</td>\n      <td>Export_0ngul_DNA_003_RGB_BrightfieldBlue6</td>\n      <td>4.526458</td>\n      <td>TFIIB</td>\n    </tr>\n    <tr>\n      <th>4</th>\n      <td>0.026705</td>\n      <td>0.022510</td>\n      <td>0.014769</td>\n      <td>0.191667</td>\n      <td>0.006667</td>\n      <td>0</td>\n      <td>0.020458</td>\n      <td>0.097280</td>\n      <td>TFIIB + TBP + DNA</td>\n      <td>0</td>\n      <td>Export_0ngul_DNA_004_RGB_BrightfieldBlue6</td>\n      <td>4.754989</td>\n      <td>TFIIB</td>\n    </tr>\n    <tr>\n      <th>...</th>\n      <td>...</td>\n      <td>...</td>\n      <td>...</td>\n      <td>...</td>\n      <td>...</td>\n      <td>...</td>\n      <td>...</td>\n      <td>...</td>\n      <td>...</td>\n      <td>...</td>\n      <td>...</td>\n      <td>...</td>\n      <td>...</td>\n    </tr>\n    <tr>\n      <th>231</th>\n      <td>0.067407</td>\n      <td>0.125367</td>\n      <td>0.094827</td>\n      <td>0.858380</td>\n      <td>0.037487</td>\n      <td>0</td>\n      <td>0.102840</td>\n      <td>0.437038</td>\n      <td>TFIIB + TBP + DNA 2</td>\n      <td>50</td>\n      <td>Export_50ngul_DNA_028_RGB</td>\n      <td>4.249702</td>\n      <td>Merged</td>\n    </tr>\n    <tr>\n      <th>232</th>\n      <td>0.056065</td>\n      <td>0.113554</td>\n      <td>0.081992</td>\n      <td>0.787594</td>\n      <td>0.031846</td>\n      <td>0</td>\n      <td>0.096126</td>\n      <td>0.406992</td>\n      <td>TFIIB + TBP + DNA 2</td>\n      <td>50</td>\n      <td>Export_50ngul_DNA_029_RGB</td>\n      <td>4.233965</td>\n      <td>Merged</td>\n    </tr>\n    <tr>\n      <th>233</th>\n      <td>0.080566</td>\n      <td>0.142246</td>\n      <td>0.096988</td>\n      <td>0.834997</td>\n      <td>0.037175</td>\n      <td>0</td>\n      <td>0.117219</td>\n      <td>0.427865</td>\n      <td>TFIIB + TBP + DNA 2</td>\n      <td>50</td>\n      <td>Export_50ngul_DNA_030_RGB</td>\n      <td>3.650137</td>\n      <td>Merged</td>\n    </tr>\n    <tr>\n      <th>234</th>\n      <td>0.078853</td>\n      <td>0.139327</td>\n      <td>0.098455</td>\n      <td>0.838344</td>\n      <td>0.029339</td>\n      <td>0</td>\n      <td>0.114094</td>\n      <td>0.434099</td>\n      <td>TFIIB + TBP + DNA 2</td>\n      <td>50</td>\n      <td>Export_50ngul_DNA_031_RGB</td>\n      <td>3.804742</td>\n      <td>Merged</td>\n    </tr>\n    <tr>\n      <th>235</th>\n      <td>0.071281</td>\n      <td>0.146853</td>\n      <td>0.102572</td>\n      <td>0.858840</td>\n      <td>0.040904</td>\n      <td>0</td>\n      <td>0.122045</td>\n      <td>0.470067</td>\n      <td>TFIIB + TBP + DNA 2</td>\n      <td>50</td>\n      <td>Export_50ngul_DNA_032_RGB</td>\n      <td>3.851569</td>\n      <td>Merged</td>\n    </tr>\n  </tbody>\n</table>\n<p>216 rows × 13 columns</p>\n</div>"
     },
     "execution_count": 44,
     "metadata": {},
     "output_type": "execute_result"
    }
   ],
   "source": [
    "iib_tbp_dna_cf"
   ],
   "metadata": {
    "collapsed": false,
    "ExecuteTime": {
     "end_time": "2023-11-04T16:27:45.579626600Z",
     "start_time": "2023-11-04T16:27:45.562288100Z"
    }
   }
  },
  {
   "cell_type": "code",
   "execution_count": null,
   "outputs": [],
   "source": [],
   "metadata": {
    "collapsed": false
   }
  },
  {
   "cell_type": "code",
   "execution_count": 62,
   "outputs": [
    {
     "data": {
      "text/plain": "<Figure size 900x300 with 3 Axes>",
      "image/png": "[encoded data removed]"
     },
     "metadata": {
      "image/png": {
       "width": 900,
       "height": 300
      }
     },
     "output_type": "display_data"
    },
    {
     "data": {
      "text/plain": "<Figure Size: (900 x 300)>"
     },
     "execution_count": 62,
     "metadata": {},
     "output_type": "execute_result"
    }
   ],
   "source": [
    "plot = (\n",
    "        pn.ggplot(iib_tbp_dna_cf[iib_tbp_dna_cf[\"channel\"] != \"Merged\"], pn.aes(x=\"dir_name\",\n",
    "                                                                                y=\"condensed_fraction\",\n",
    "                                                                                ))\n",
    "\n",
    "        + pn.geom_boxplot(pn.aes())\n",
    "        + pn.geom_jitter(pn.aes(color=\"channel\"), width=0.1)\n",
    "        + pn.theme_classic()\n",
    "        + pn.labs(x=\"DNA Concentration (ng/$\\mu$L)\", y=\"Condensed Fraction\", color=\"\", fill=\"\",\n",
    "                  shape=\"\")\n",
    "        + pn.theme(figure_size=(9, 3),\n",
    "                   legend_position=\"none\",\n",
    "                   axis_text=pn.element_text(color=\"black\", size=10, family=\"Arial\"),\n",
    "                   axis_title=pn.element_text(color=\"black\", size=10, family=\"Arial\"))\n",
    "        + pn.facet_wrap(\"~channel\")\n",
    "        + pn.scale_color_manual(values=[\"#190482\", \"#004225\", \"#D80032\"])\n",
    ")\n",
    "plot"
   ],
   "metadata": {
    "collapsed": false,
    "ExecuteTime": {
     "end_time": "2023-11-04T16:38:04.197797500Z",
     "start_time": "2023-11-04T16:38:02.656149100Z"
    }
   }
  },
  {
   "cell_type": "code",
   "execution_count": 68,
   "outputs": [
    {
     "name": "stderr",
     "output_type": "stream",
     "text": [
      "C:\\Users\\danie\\code\\llps_analysis\\venv\\Lib\\site-packages\\plotnine\\ggplot.py:587: PlotnineWarning: Saving 210.00000000000003 x 90.00000000000001 mm image.\n",
      "C:\\Users\\danie\\code\\llps_analysis\\venv\\Lib\\site-packages\\plotnine\\ggplot.py:588: PlotnineWarning: Filename: C:\\Users\\danie\\OneDrive - University of Cape Town\\Hons Project\\DataAnalysis\\new_analysis_20231031\\TFIIB + TBP + DNA\\condensed_fraction.svg\n"
     ]
    }
   ],
   "source": [
    "pn.ggsave(plot,\n",
    "          \"C:\\\\Users\\\\danie\\\\OneDrive - University of Cape Town\\\\Hons Project\\\\DataAnalysis\\\\new_analysis_20231031\\\\TFIIB + TBP + DNA\\\\condensed_fraction.svg\",\n",
    "          dpi=1200, width=210, height=90, units=\"mm\")"
   ],
   "metadata": {
    "collapsed": false,
    "ExecuteTime": {
     "end_time": "2023-11-04T17:06:30.762932500Z",
     "start_time": "2023-11-04T17:06:29.341266700Z"
    }
   }
  },
  {
   "cell_type": "code",
   "execution_count": 29,
   "outputs": [],
   "source": [
    "iib_idr_tbp_cf = pd.read_csv(\n",
    "    \"C:\\\\Users\\\\danie\\\\OneDrive - University of Cape Town\\\\Hons Project\\\\DataAnalysis\\\\new_analysis_20231031\\\\TFIIB IDR + TBP all\\\\TFIIB IDR + TBP_condensed_fractions.csv\")\n",
    "\n",
    "iib_idr_tbp_cf[\"fold_intensity\"] = iib_idr_tbp_cf[\"mean_fg_intensity\"] / iib_idr_tbp_cf[\n",
    "    \"mean_bg_intensity\"]\n",
    "\n",
    "iib_idr_tbp_cf[\"channel\"] = \"\"\n",
    "iib_idr_tbp_cf.loc[iib_idr_tbp_cf[a\n",
    "\"image_name\"].str.contains(\"Blue\"), \"channel\"] = \"TFIIB\"\n",
    "iib_idr_tbp_cf.loc[iib_idr_tbp_cf[\"image_name\"].str.contains(\"Blue2\"), \"channel\"] = \"TBP\"\n",
    "iib_idr_tbp_cf.loc[iib_idr_tbp_cf[\"channel\"] == \"\", \"channel\"] = \"Merged\"\n",
    "\n",
    "iib_idr_tbp_cf[\"dir_name\"] = pd.Categorical(iib_idr_tbp_cf[\"dir_name\"], ordered=True,\n",
    "                                            categories=sorted(\n",
    "                                                np.unique(iib_idr_tbp_cf[\"dir_name\"]).tolist()))\n"
   ],
   "metadata": {
    "collapsed": false,
    "ExecuteTime": {
     "end_time": "2023-11-04T14:51:53.967698100Z",
     "start_time": "2023-11-04T14:51:53.941347400Z"
    }
   }
  },
  {
   "cell_type": "code",
   "execution_count": 30,
   "outputs": [
    {
     "data": {
      "text/plain": "    condensed_fraction  mean_intensity  std_intensity  max_intensity  \\\n0             0.038153        0.088358       0.074816       0.715400   \n1             0.031470        0.085096       0.073130       0.715400   \n2             0.029593        0.092479       0.074090       0.715400   \n3             0.026569        0.094073       0.068150       0.715400   \n4             0.045589        0.132243       0.090294       0.715400   \n..                 ...             ...            ...            ...   \n85            0.000000        0.234221       0.010088       0.417396   \n86            0.000000        0.238573       0.009366       0.404022   \n87            0.000000        0.243699       0.009409       0.416808   \n88            0.000000        0.247727       0.009476       0.437257   \n89            0.000000        0.251865       0.010393       0.433007   \n\n    min_intensity  mean_entropy  mean_bg_intensity  mean_fg_intensity  \\\n0        0.019638           0.0           0.075769           0.405729   \n1        0.014027           0.0           0.073745           0.434455   \n2        0.019638           0.0           0.081427           0.454883   \n3        0.016833           0.0           0.084475           0.445695   \n4        0.028055           0.0           0.115289           0.487180   \n..            ...           ...                ...                ...   \n85       0.170775           0.0           0.000000           0.234221   \n86       0.171058           0.0           0.000000           0.238573   \n87       0.174942           0.0           0.000000           0.243699   \n88       0.181692           0.0           0.000000           0.247727   \n89       0.187280           0.0           0.000000           0.251865   \n\n               prep            dir_name  \\\n0   TFIIB IDR + TBP  IIB IDR + TBP Core   \n1   TFIIB IDR + TBP  IIB IDR + TBP Core   \n2   TFIIB IDR + TBP  IIB IDR + TBP Core   \n3   TFIIB IDR + TBP  IIB IDR + TBP Core   \n4   TFIIB IDR + TBP  IIB IDR + TBP Core   \n..              ...                 ...   \n85  TFIIB IDR + TBP   IIB IDR + TBP IDR   \n86  TFIIB IDR + TBP   IIB IDR + TBP IDR   \n87  TFIIB IDR + TBP   IIB IDR + TBP IDR   \n88  TFIIB IDR + TBP   IIB IDR + TBP IDR   \n89  TFIIB IDR + TBP   IIB IDR + TBP IDR   \n\n                                        image_name  fold_intensity channel  \n0   Export_IIBIDR+TBP Core001_RGB_BrightfieldBlue2        5.354791     TBP  \n1   Export_IIBIDR+TBP Core002_RGB_BrightfieldBlue2        5.891323     TBP  \n2   Export_IIBIDR+TBP Core003_RGB_BrightfieldBlue2        5.586382     TBP  \n3   Export_IIBIDR+TBP Core004_RGB_BrightfieldBlue2        5.276038     TBP  \n4   Export_IIBIDR+TBP Core005_RGB_BrightfieldBlue2        4.225744     TBP  \n..                                             ...             ...     ...  \n85                    Export_IIBIDR+TBP IDR006_RGB             inf  Merged  \n86                    Export_IIBIDR+TBP IDR007_RGB             inf  Merged  \n87                    Export_IIBIDR+TBP IDR008_RGB             inf  Merged  \n88                    Export_IIBIDR+TBP IDR009_RGB             inf  Merged  \n89                       Export_IIBIDR+TBP IDR_RGB             inf  Merged  \n\n[90 rows x 13 columns]",
      "text/html": "<div>\n<style scoped>\n    .dataframe tbody tr th:only-of-type {\n        vertical-align: middle;\n    }\n\n    .dataframe tbody tr th {\n        vertical-align: top;\n    }\n\n    .dataframe thead th {\n        text-align: right;\n    }\n</style>\n<table border=\"1\" class=\"dataframe\">\n  <thead>\n    <tr style=\"text-align: right;\">\n      <th></th>\n      <th>condensed_fraction</th>\n      <th>mean_intensity</th>\n      <th>std_intensity</th>\n      <th>max_intensity</th>\n      <th>min_intensity</th>\n      <th>mean_entropy</th>\n      <th>mean_bg_intensity</th>\n      <th>mean_fg_intensity</th>\n      <th>prep</th>\n      <th>dir_name</th>\n      <th>image_name</th>\n      <th>fold_intensity</th>\n      <th>channel</th>\n    </tr>\n  </thead>\n  <tbody>\n    <tr>\n      <th>0</th>\n      <td>0.038153</td>\n      <td>0.088358</td>\n      <td>0.074816</td>\n      <td>0.715400</td>\n      <td>0.019638</td>\n      <td>0.0</td>\n      <td>0.075769</td>\n      <td>0.405729</td>\n      <td>TFIIB IDR + TBP</td>\n      <td>IIB IDR + TBP Core</td>\n      <td>Export_IIBIDR+TBP Core001_RGB_BrightfieldBlue2</td>\n      <td>5.354791</td>\n      <td>TBP</td>\n    </tr>\n    <tr>\n      <th>1</th>\n      <td>0.031470</td>\n      <td>0.085096</td>\n      <td>0.073130</td>\n      <td>0.715400</td>\n      <td>0.014027</td>\n      <td>0.0</td>\n      <td>0.073745</td>\n      <td>0.434455</td>\n      <td>TFIIB IDR + TBP</td>\n      <td>IIB IDR + TBP Core</td>\n      <td>Export_IIBIDR+TBP Core002_RGB_BrightfieldBlue2</td>\n      <td>5.891323</td>\n      <td>TBP</td>\n    </tr>\n    <tr>\n      <th>2</th>\n      <td>0.029593</td>\n      <td>0.092479</td>\n      <td>0.074090</td>\n      <td>0.715400</td>\n      <td>0.019638</td>\n      <td>0.0</td>\n      <td>0.081427</td>\n      <td>0.454883</td>\n      <td>TFIIB IDR + TBP</td>\n      <td>IIB IDR + TBP Core</td>\n      <td>Export_IIBIDR+TBP Core003_RGB_BrightfieldBlue2</td>\n      <td>5.586382</td>\n      <td>TBP</td>\n    </tr>\n    <tr>\n      <th>3</th>\n      <td>0.026569</td>\n      <td>0.094073</td>\n      <td>0.068150</td>\n      <td>0.715400</td>\n      <td>0.016833</td>\n      <td>0.0</td>\n      <td>0.084475</td>\n      <td>0.445695</td>\n      <td>TFIIB IDR + TBP</td>\n      <td>IIB IDR + TBP Core</td>\n      <td>Export_IIBIDR+TBP Core004_RGB_BrightfieldBlue2</td>\n      <td>5.276038</td>\n      <td>TBP</td>\n    </tr>\n    <tr>\n      <th>4</th>\n      <td>0.045589</td>\n      <td>0.132243</td>\n      <td>0.090294</td>\n      <td>0.715400</td>\n      <td>0.028055</td>\n      <td>0.0</td>\n      <td>0.115289</td>\n      <td>0.487180</td>\n      <td>TFIIB IDR + TBP</td>\n      <td>IIB IDR + TBP Core</td>\n      <td>Export_IIBIDR+TBP Core005_RGB_BrightfieldBlue2</td>\n      <td>4.225744</td>\n      <td>TBP</td>\n    </tr>\n    <tr>\n      <th>...</th>\n      <td>...</td>\n      <td>...</td>\n      <td>...</td>\n      <td>...</td>\n      <td>...</td>\n      <td>...</td>\n      <td>...</td>\n      <td>...</td>\n      <td>...</td>\n      <td>...</td>\n      <td>...</td>\n      <td>...</td>\n      <td>...</td>\n    </tr>\n    <tr>\n      <th>85</th>\n      <td>0.000000</td>\n      <td>0.234221</td>\n      <td>0.010088</td>\n      <td>0.417396</td>\n      <td>0.170775</td>\n      <td>0.0</td>\n      <td>0.000000</td>\n      <td>0.234221</td>\n      <td>TFIIB IDR + TBP</td>\n      <td>IIB IDR + TBP IDR</td>\n      <td>Export_IIBIDR+TBP IDR006_RGB</td>\n      <td>inf</td>\n      <td>Merged</td>\n    </tr>\n    <tr>\n      <th>86</th>\n      <td>0.000000</td>\n      <td>0.238573</td>\n      <td>0.009366</td>\n      <td>0.404022</td>\n      <td>0.171058</td>\n      <td>0.0</td>\n      <td>0.000000</td>\n      <td>0.238573</td>\n      <td>TFIIB IDR + TBP</td>\n      <td>IIB IDR + TBP IDR</td>\n      <td>Export_IIBIDR+TBP IDR007_RGB</td>\n      <td>inf</td>\n      <td>Merged</td>\n    </tr>\n    <tr>\n      <th>87</th>\n      <td>0.000000</td>\n      <td>0.243699</td>\n      <td>0.009409</td>\n      <td>0.416808</td>\n      <td>0.174942</td>\n      <td>0.0</td>\n      <td>0.000000</td>\n      <td>0.243699</td>\n      <td>TFIIB IDR + TBP</td>\n      <td>IIB IDR + TBP IDR</td>\n      <td>Export_IIBIDR+TBP IDR008_RGB</td>\n      <td>inf</td>\n      <td>Merged</td>\n    </tr>\n    <tr>\n      <th>88</th>\n      <td>0.000000</td>\n      <td>0.247727</td>\n      <td>0.009476</td>\n      <td>0.437257</td>\n      <td>0.181692</td>\n      <td>0.0</td>\n      <td>0.000000</td>\n      <td>0.247727</td>\n      <td>TFIIB IDR + TBP</td>\n      <td>IIB IDR + TBP IDR</td>\n      <td>Export_IIBIDR+TBP IDR009_RGB</td>\n      <td>inf</td>\n      <td>Merged</td>\n    </tr>\n    <tr>\n      <th>89</th>\n      <td>0.000000</td>\n      <td>0.251865</td>\n      <td>0.010393</td>\n      <td>0.433007</td>\n      <td>0.187280</td>\n      <td>0.0</td>\n      <td>0.000000</td>\n      <td>0.251865</td>\n      <td>TFIIB IDR + TBP</td>\n      <td>IIB IDR + TBP IDR</td>\n      <td>Export_IIBIDR+TBP IDR_RGB</td>\n      <td>inf</td>\n      <td>Merged</td>\n    </tr>\n  </tbody>\n</table>\n<p>90 rows × 13 columns</p>\n</div>"
     },
     "execution_count": 30,
     "metadata": {},
     "output_type": "execute_result"
    }
   ],
   "source": [
    "iib_idr_tbp_cf"
   ],
   "metadata": {
    "collapsed": false,
    "ExecuteTime": {
     "end_time": "2023-11-04T14:51:56.349397Z",
     "start_time": "2023-11-04T14:51:56.324909400Z"
    }
   }
  },
  {
   "cell_type": "code",
   "execution_count": 38,
   "outputs": [
    {
     "ename": "PlotnineError",
     "evalue": "'At least one layer must contain all variables used for facetting'",
     "output_type": "error",
     "traceback": [
      "\u001B[1;31m---------------------------------------------------------------------------\u001B[0m",
      "\u001B[1;31mPlotnineError\u001B[0m                             Traceback (most recent call last)",
      "File \u001B[1;32m~\\code\\llps_analysis\\venv\\Lib\\site-packages\\IPython\\core\\formatters.py:708\u001B[0m, in \u001B[0;36mPlainTextFormatter.__call__\u001B[1;34m(self, obj)\u001B[0m\n\u001B[0;32m    701\u001B[0m stream \u001B[38;5;241m=\u001B[39m StringIO()\n\u001B[0;32m    702\u001B[0m printer \u001B[38;5;241m=\u001B[39m pretty\u001B[38;5;241m.\u001B[39mRepresentationPrinter(stream, \u001B[38;5;28mself\u001B[39m\u001B[38;5;241m.\u001B[39mverbose,\n\u001B[0;32m    703\u001B[0m     \u001B[38;5;28mself\u001B[39m\u001B[38;5;241m.\u001B[39mmax_width, \u001B[38;5;28mself\u001B[39m\u001B[38;5;241m.\u001B[39mnewline,\n\u001B[0;32m    704\u001B[0m     max_seq_length\u001B[38;5;241m=\u001B[39m\u001B[38;5;28mself\u001B[39m\u001B[38;5;241m.\u001B[39mmax_seq_length,\n\u001B[0;32m    705\u001B[0m     singleton_pprinters\u001B[38;5;241m=\u001B[39m\u001B[38;5;28mself\u001B[39m\u001B[38;5;241m.\u001B[39msingleton_printers,\n\u001B[0;32m    706\u001B[0m     type_pprinters\u001B[38;5;241m=\u001B[39m\u001B[38;5;28mself\u001B[39m\u001B[38;5;241m.\u001B[39mtype_printers,\n\u001B[0;32m    707\u001B[0m     deferred_pprinters\u001B[38;5;241m=\u001B[39m\u001B[38;5;28mself\u001B[39m\u001B[38;5;241m.\u001B[39mdeferred_printers)\n\u001B[1;32m--> 708\u001B[0m \u001B[43mprinter\u001B[49m\u001B[38;5;241;43m.\u001B[39;49m\u001B[43mpretty\u001B[49m\u001B[43m(\u001B[49m\u001B[43mobj\u001B[49m\u001B[43m)\u001B[49m\n\u001B[0;32m    709\u001B[0m printer\u001B[38;5;241m.\u001B[39mflush()\n\u001B[0;32m    710\u001B[0m \u001B[38;5;28;01mreturn\u001B[39;00m stream\u001B[38;5;241m.\u001B[39mgetvalue()\n",
      "File \u001B[1;32m~\\code\\llps_analysis\\venv\\Lib\\site-packages\\IPython\\lib\\pretty.py:410\u001B[0m, in \u001B[0;36mRepresentationPrinter.pretty\u001B[1;34m(self, obj)\u001B[0m\n\u001B[0;32m    407\u001B[0m                         \u001B[38;5;28;01mreturn\u001B[39;00m meth(obj, \u001B[38;5;28mself\u001B[39m, cycle)\n\u001B[0;32m    408\u001B[0m                 \u001B[38;5;28;01mif\u001B[39;00m \u001B[38;5;28mcls\u001B[39m \u001B[38;5;129;01mis\u001B[39;00m \u001B[38;5;129;01mnot\u001B[39;00m \u001B[38;5;28mobject\u001B[39m \\\n\u001B[0;32m    409\u001B[0m                         \u001B[38;5;129;01mand\u001B[39;00m \u001B[38;5;28mcallable\u001B[39m(\u001B[38;5;28mcls\u001B[39m\u001B[38;5;241m.\u001B[39m\u001B[38;5;18m__dict__\u001B[39m\u001B[38;5;241m.\u001B[39mget(\u001B[38;5;124m'\u001B[39m\u001B[38;5;124m__repr__\u001B[39m\u001B[38;5;124m'\u001B[39m)):\n\u001B[1;32m--> 410\u001B[0m                     \u001B[38;5;28;01mreturn\u001B[39;00m \u001B[43m_repr_pprint\u001B[49m\u001B[43m(\u001B[49m\u001B[43mobj\u001B[49m\u001B[43m,\u001B[49m\u001B[43m \u001B[49m\u001B[38;5;28;43mself\u001B[39;49m\u001B[43m,\u001B[49m\u001B[43m \u001B[49m\u001B[43mcycle\u001B[49m\u001B[43m)\u001B[49m\n\u001B[0;32m    412\u001B[0m     \u001B[38;5;28;01mreturn\u001B[39;00m _default_pprint(obj, \u001B[38;5;28mself\u001B[39m, cycle)\n\u001B[0;32m    413\u001B[0m \u001B[38;5;28;01mfinally\u001B[39;00m:\n",
      "File \u001B[1;32m~\\code\\llps_analysis\\venv\\Lib\\site-packages\\IPython\\lib\\pretty.py:778\u001B[0m, in \u001B[0;36m_repr_pprint\u001B[1;34m(obj, p, cycle)\u001B[0m\n\u001B[0;32m    776\u001B[0m \u001B[38;5;250m\u001B[39m\u001B[38;5;124;03m\"\"\"A pprint that just redirects to the normal repr function.\"\"\"\u001B[39;00m\n\u001B[0;32m    777\u001B[0m \u001B[38;5;66;03m# Find newlines and replace them with p.break_()\u001B[39;00m\n\u001B[1;32m--> 778\u001B[0m output \u001B[38;5;241m=\u001B[39m \u001B[38;5;28mrepr\u001B[39m(obj)\n\u001B[0;32m    779\u001B[0m lines \u001B[38;5;241m=\u001B[39m output\u001B[38;5;241m.\u001B[39msplitlines()\n\u001B[0;32m    780\u001B[0m \u001B[38;5;28;01mwith\u001B[39;00m p\u001B[38;5;241m.\u001B[39mgroup():\n",
      "File \u001B[1;32m~\\code\\llps_analysis\\venv\\Lib\\site-packages\\plotnine\\ggplot.py:114\u001B[0m, in \u001B[0;36mggplot.__repr__\u001B[1;34m(self)\u001B[0m\n\u001B[0;32m    110\u001B[0m \u001B[38;5;28;01mdef\u001B[39;00m \u001B[38;5;21m__repr__\u001B[39m(\u001B[38;5;28mself\u001B[39m) \u001B[38;5;241m-\u001B[39m\u001B[38;5;241m>\u001B[39m \u001B[38;5;28mstr\u001B[39m:\n\u001B[0;32m    111\u001B[0m \u001B[38;5;250m    \u001B[39m\u001B[38;5;124;03m\"\"\"\u001B[39;00m\n\u001B[0;32m    112\u001B[0m \u001B[38;5;124;03m    Print/show the plot\u001B[39;00m\n\u001B[0;32m    113\u001B[0m \u001B[38;5;124;03m    \"\"\"\u001B[39;00m\n\u001B[1;32m--> 114\u001B[0m     figure \u001B[38;5;241m=\u001B[39m \u001B[38;5;28;43mself\u001B[39;49m\u001B[38;5;241;43m.\u001B[39;49m\u001B[43mdraw\u001B[49m\u001B[43m(\u001B[49m\u001B[43mshow\u001B[49m\u001B[38;5;241;43m=\u001B[39;49m\u001B[38;5;28;43;01mTrue\u001B[39;49;00m\u001B[43m)\u001B[49m\n\u001B[0;32m    116\u001B[0m     dpi \u001B[38;5;241m=\u001B[39m figure\u001B[38;5;241m.\u001B[39mget_dpi()\n\u001B[0;32m    117\u001B[0m     W \u001B[38;5;241m=\u001B[39m \u001B[38;5;28mint\u001B[39m(figure\u001B[38;5;241m.\u001B[39mget_figwidth() \u001B[38;5;241m*\u001B[39m dpi)\n",
      "File \u001B[1;32m~\\code\\llps_analysis\\venv\\Lib\\site-packages\\plotnine\\ggplot.py:224\u001B[0m, in \u001B[0;36mggplot.draw\u001B[1;34m(self, show)\u001B[0m\n\u001B[0;32m    222\u001B[0m \u001B[38;5;28mself\u001B[39m \u001B[38;5;241m=\u001B[39m deepcopy(\u001B[38;5;28mself\u001B[39m)\n\u001B[0;32m    223\u001B[0m \u001B[38;5;28;01mwith\u001B[39;00m plot_context(\u001B[38;5;28mself\u001B[39m, show\u001B[38;5;241m=\u001B[39mshow):\n\u001B[1;32m--> 224\u001B[0m     \u001B[38;5;28;43mself\u001B[39;49m\u001B[38;5;241;43m.\u001B[39;49m\u001B[43m_build\u001B[49m\u001B[43m(\u001B[49m\u001B[43m)\u001B[49m\n\u001B[0;32m    226\u001B[0m     \u001B[38;5;66;03m# setup\u001B[39;00m\n\u001B[0;32m    227\u001B[0m     figure, axs \u001B[38;5;241m=\u001B[39m \u001B[38;5;28mself\u001B[39m\u001B[38;5;241m.\u001B[39m_create_figure()\n",
      "File \u001B[1;32m~\\code\\llps_analysis\\venv\\Lib\\site-packages\\plotnine\\ggplot.py:310\u001B[0m, in \u001B[0;36mggplot._build\u001B[1;34m(self)\u001B[0m\n\u001B[0;32m    306\u001B[0m layers\u001B[38;5;241m.\u001B[39msetup(\u001B[38;5;28mself\u001B[39m)\n\u001B[0;32m    308\u001B[0m \u001B[38;5;66;03m# Initialise panels, add extra data for margins & missing\u001B[39;00m\n\u001B[0;32m    309\u001B[0m \u001B[38;5;66;03m# facetting variables, and add on a PANEL variable to data\u001B[39;00m\n\u001B[1;32m--> 310\u001B[0m \u001B[43mlayout\u001B[49m\u001B[38;5;241;43m.\u001B[39;49m\u001B[43msetup\u001B[49m\u001B[43m(\u001B[49m\u001B[43mlayers\u001B[49m\u001B[43m,\u001B[49m\u001B[43m \u001B[49m\u001B[38;5;28;43mself\u001B[39;49m\u001B[43m)\u001B[49m\n\u001B[0;32m    312\u001B[0m \u001B[38;5;66;03m# Compute aesthetics to produce data with generalised\u001B[39;00m\n\u001B[0;32m    313\u001B[0m \u001B[38;5;66;03m# variable names\u001B[39;00m\n\u001B[0;32m    314\u001B[0m layers\u001B[38;5;241m.\u001B[39mcompute_aesthetics(\u001B[38;5;28mself\u001B[39m)\n",
      "File \u001B[1;32m~\\code\\llps_analysis\\venv\\Lib\\site-packages\\plotnine\\facets\\layout.py:78\u001B[0m, in \u001B[0;36mLayout.setup\u001B[1;34m(self, layers, plot)\u001B[0m\n\u001B[0;32m     76\u001B[0m \u001B[38;5;66;03m# Generate panel layout\u001B[39;00m\n\u001B[0;32m     77\u001B[0m data \u001B[38;5;241m=\u001B[39m \u001B[38;5;28mself\u001B[39m\u001B[38;5;241m.\u001B[39mfacet\u001B[38;5;241m.\u001B[39msetup_data(data)\n\u001B[1;32m---> 78\u001B[0m \u001B[38;5;28mself\u001B[39m\u001B[38;5;241m.\u001B[39mlayout \u001B[38;5;241m=\u001B[39m \u001B[38;5;28;43mself\u001B[39;49m\u001B[38;5;241;43m.\u001B[39;49m\u001B[43mfacet\u001B[49m\u001B[38;5;241;43m.\u001B[39;49m\u001B[43mcompute_layout\u001B[49m\u001B[43m(\u001B[49m\u001B[43mdata\u001B[49m\u001B[43m)\u001B[49m\n\u001B[0;32m     79\u001B[0m \u001B[38;5;28mself\u001B[39m\u001B[38;5;241m.\u001B[39mlayout \u001B[38;5;241m=\u001B[39m \u001B[38;5;28mself\u001B[39m\u001B[38;5;241m.\u001B[39mcoord\u001B[38;5;241m.\u001B[39msetup_layout(\u001B[38;5;28mself\u001B[39m\u001B[38;5;241m.\u001B[39mlayout)\n\u001B[0;32m     80\u001B[0m \u001B[38;5;28mself\u001B[39m\u001B[38;5;241m.\u001B[39mcheck_layout()\n",
      "File \u001B[1;32m~\\code\\llps_analysis\\venv\\Lib\\site-packages\\plotnine\\facets\\facet_grid.py:134\u001B[0m, in \u001B[0;36mfacet_grid.compute_layout\u001B[1;34m(self, data)\u001B[0m\n\u001B[0;32m    131\u001B[0m \u001B[38;5;28;01mif\u001B[39;00m \u001B[38;5;129;01mnot\u001B[39;00m \u001B[38;5;28mself\u001B[39m\u001B[38;5;241m.\u001B[39mrows \u001B[38;5;129;01mand\u001B[39;00m \u001B[38;5;129;01mnot\u001B[39;00m \u001B[38;5;28mself\u001B[39m\u001B[38;5;241m.\u001B[39mcols:\n\u001B[0;32m    132\u001B[0m     \u001B[38;5;28;01mreturn\u001B[39;00m layout_null()\n\u001B[1;32m--> 134\u001B[0m base_rows \u001B[38;5;241m=\u001B[39m \u001B[43mcombine_vars\u001B[49m\u001B[43m(\u001B[49m\n\u001B[0;32m    135\u001B[0m \u001B[43m    \u001B[49m\u001B[43mdata\u001B[49m\u001B[43m,\u001B[49m\u001B[43m \u001B[49m\u001B[38;5;28;43mself\u001B[39;49m\u001B[38;5;241;43m.\u001B[39;49m\u001B[43mplot\u001B[49m\u001B[38;5;241;43m.\u001B[39;49m\u001B[43menvironment\u001B[49m\u001B[43m,\u001B[49m\u001B[43m \u001B[49m\u001B[38;5;28;43mself\u001B[39;49m\u001B[38;5;241;43m.\u001B[39;49m\u001B[43mrows\u001B[49m\u001B[43m,\u001B[49m\u001B[43m \u001B[49m\u001B[43mdrop\u001B[49m\u001B[38;5;241;43m=\u001B[39;49m\u001B[38;5;28;43mself\u001B[39;49m\u001B[38;5;241;43m.\u001B[39;49m\u001B[43mdrop\u001B[49m\n\u001B[0;32m    136\u001B[0m \u001B[43m\u001B[49m\u001B[43m)\u001B[49m\n\u001B[0;32m    138\u001B[0m \u001B[38;5;28;01mif\u001B[39;00m \u001B[38;5;129;01mnot\u001B[39;00m \u001B[38;5;28mself\u001B[39m\u001B[38;5;241m.\u001B[39mas_table:\n\u001B[0;32m    139\u001B[0m     \u001B[38;5;66;03m# Reverse the order of the rows\u001B[39;00m\n\u001B[0;32m    140\u001B[0m     base_rows \u001B[38;5;241m=\u001B[39m base_rows[::\u001B[38;5;241m-\u001B[39m\u001B[38;5;241m1\u001B[39m]\n",
      "File \u001B[1;32m~\\code\\llps_analysis\\venv\\Lib\\site-packages\\plotnine\\facets\\facet.py:516\u001B[0m, in \u001B[0;36mcombine_vars\u001B[1;34m(data, environment, vars, drop)\u001B[0m\n\u001B[0;32m    514\u001B[0m has_all \u001B[38;5;241m=\u001B[39m [x\u001B[38;5;241m.\u001B[39mshape[\u001B[38;5;241m1\u001B[39m] \u001B[38;5;241m==\u001B[39m \u001B[38;5;28mlen\u001B[39m(\u001B[38;5;28mvars\u001B[39m) \u001B[38;5;28;01mfor\u001B[39;00m x \u001B[38;5;129;01min\u001B[39;00m values]\n\u001B[0;32m    515\u001B[0m \u001B[38;5;28;01mif\u001B[39;00m \u001B[38;5;129;01mnot\u001B[39;00m \u001B[38;5;28many\u001B[39m(has_all):\n\u001B[1;32m--> 516\u001B[0m     \u001B[38;5;28;01mraise\u001B[39;00m PlotnineError(\n\u001B[0;32m    517\u001B[0m         \u001B[38;5;124m\"\u001B[39m\u001B[38;5;124mAt least one layer must contain all variables \u001B[39m\u001B[38;5;124m\"\u001B[39m\n\u001B[0;32m    518\u001B[0m         \u001B[38;5;124m\"\u001B[39m\u001B[38;5;124mused for facetting\u001B[39m\u001B[38;5;124m\"\u001B[39m\n\u001B[0;32m    519\u001B[0m     )\n\u001B[0;32m    520\u001B[0m base \u001B[38;5;241m=\u001B[39m pd\u001B[38;5;241m.\u001B[39mconcat([x \u001B[38;5;28;01mfor\u001B[39;00m i, x \u001B[38;5;129;01min\u001B[39;00m \u001B[38;5;28menumerate\u001B[39m(values) \u001B[38;5;28;01mif\u001B[39;00m has_all[i]], axis\u001B[38;5;241m=\u001B[39m\u001B[38;5;241m0\u001B[39m)\n\u001B[0;32m    521\u001B[0m base \u001B[38;5;241m=\u001B[39m base\u001B[38;5;241m.\u001B[39mdrop_duplicates()\n",
      "\u001B[1;31mPlotnineError\u001B[0m: 'At least one layer must contain all variables used for facetting'"
     ]
    }
   ],
   "source": [
    "plot = (\n",
    "        pn.ggplot(iib_idr_tbp_cf[iib_idr_tbp_cf[\"channel\"] != \"Merged\"], pn.aes(x=\"dir_name\",\n",
    "                                                                                y=\"fold_intensity\",\n",
    "                                                                                fill=\"channel\",\n",
    "                                                                                color=\"channel\"))\n",
    "        # + pn.geom_jitter(pn.aes(), width=0.1)\n",
    "        + pn.geom_boxplot(pn.aes())\n",
    "        + pn.theme_classic()\n",
    "        + pn.labs(x=\"Mixing Experiment\", y=\"Fold Intensity\", color=\"\", fill=\"\",\n",
    "                  shape=\"\")\n",
    "        + pn.theme(figure_size=(5, 5),\n",
    "                   legend_position=\"top\",\n",
    "                   axis_text=pn.element_text(color=\"black\", size=10, family=\"Arial\"),\n",
    "                   axis_title=pn.element_text(color=\"black\", size=10, family=\"Arial\"))\n",
    "        + pn.facet_grid(\"x~.\")\n",
    ")\n",
    "plot"
   ],
   "metadata": {
    "collapsed": false,
    "ExecuteTime": {
     "end_time": "2023-11-04T14:54:16.492061800Z",
     "start_time": "2023-11-04T14:54:16.382526900Z"
    }
   }
  },
  {
   "cell_type": "code",
   "execution_count": 3,
   "outputs": [],
   "source": [
    "\n",
    "iib_tbp_constructs_cf, iib_constructs_regions = load_df(\n",
    "    \"C:\\\\Users\\\\danie\\\\OneDrive - University of Cape Town\\\\Hons Project\\\\DataAnalysis\\\\new_analysis_20231031\\\\TFIIB FL + TBP all_quant\",\n",
    "    \"\")\n",
    "\n",
    "\n",
    "\n",
    "\n"
   ],
   "metadata": {
    "collapsed": false,
    "ExecuteTime": {
     "end_time": "2023-11-04T14:07:02.018201900Z",
     "start_time": "2023-11-04T14:07:01.558290100Z"
    }
   }
  },
  {
   "cell_type": "code",
   "execution_count": 11,
   "outputs": [],
   "source": [
    "iib_tbp_constructs_cf[\"fold_intensity\"] = iib_tbp_constructs_cf[\"mean_fg_intensity\"] / iib_tbp_constructs_cf[\n",
    "    \"mean_bg_intensity\"]"
   ],
   "metadata": {
    "collapsed": false,
    "ExecuteTime": {
     "end_time": "2023-11-04T14:09:50.467936600Z",
     "start_time": "2023-11-04T14:09:50.406278800Z"
    }
   }
  },
  {
   "cell_type": "code",
   "execution_count": 14,
   "outputs": [],
   "source": [
    "iib_tbp_constructs_cf[\"channel\"] = \"\"\n",
    "iib_tbp_constructs_cf.loc[iib_tbp_constructs_cf[\"image_name\"].str.contains(\"Blue\"), \"channel\"] = \"TFIIB\"\n",
    "iib_tbp_constructs_cf.loc[iib_tbp_constructs_cf[\"image_name\"].str.contains(\"Red\"), \"channel\"] = \"TBP\"\n",
    "iib_tbp_constructs_cf.loc[iib_tbp_constructs_cf[\"channel\"] == \"\", \"channel\"] = \"Merged\""
   ],
   "metadata": {
    "collapsed": false,
    "ExecuteTime": {
     "end_time": "2023-11-04T14:11:48.174986Z",
     "start_time": "2023-11-04T14:11:48.145636600Z"
    }
   }
  },
  {
   "cell_type": "code",
   "execution_count": 18,
   "outputs": [],
   "source": [
    "iib_tbp_constructs_cf[\"dir_name\"] = pd.Categorical(iib_tbp_constructs_cf[\"dir_name\"], ordered=True,\n",
    "                                                   categories=sorted(\n",
    "                                                       np.unique(iib_constructs_regions[\"dir_name\"]).tolist()))"
   ],
   "metadata": {
    "collapsed": false,
    "ExecuteTime": {
     "end_time": "2023-11-04T14:14:34.449664300Z",
     "start_time": "2023-11-04T14:14:34.303152700Z"
    }
   }
  },
  {
   "cell_type": "code",
   "execution_count": 24,
   "outputs": [
    {
     "data": {
      "text/plain": "<Figure size 500x500 with 1 Axes>",
      "image/png": "[encoded data removed]"
     },
     "metadata": {
      "image/png": {
       "width": 500,
       "height": 500
      }
     },
     "output_type": "display_data"
    },
    {
     "data": {
      "text/plain": "<Figure Size: (500 x 500)>"
     },
     "execution_count": 24,
     "metadata": {},
     "output_type": "execute_result"
    }
   ],
   "source": [
    "plot = (\n",
    "        pn.ggplot(iib_tbp_constructs_cf[iib_tbp_constructs_cf[\"channel\"] != \"Merged\"], pn.aes(x=\"dir_name\",\n",
    "                                                                                              y=\"condensed_fraction\",\n",
    "                                                                                              fill=\"channel\"))\n",
    "        # + pn.geom_jitter(pn.aes(), width=0.1)\n",
    "        + pn.geom_boxplot(pn.aes())\n",
    "        + pn.theme_classic()\n",
    "        + pn.labs(x=\"Mixing Experiment\", y=\"Fold Intensity\", color=\"\", fill=\"\",\n",
    "                  shape=\"\")\n",
    "        + pn.theme(figure_size=(5, 5),\n",
    "                   legend_position=\"top\",\n",
    "                   axis_text=pn.element_text(color=\"black\", size=10, family=\"Arial\"),\n",
    "                   axis_title=pn.element_text(color=\"black\", size=10, family=\"Arial\"))\n",
    ")\n",
    "plot"
   ],
   "metadata": {
    "collapsed": false,
    "ExecuteTime": {
     "end_time": "2023-11-04T14:17:45.822237Z",
     "start_time": "2023-11-04T14:17:45.351178500Z"
    }
   }
  },
  {
   "cell_type": "code",
   "execution_count": 26,
   "outputs": [
    {
     "name": "stderr",
     "output_type": "stream",
     "text": [
      "C:\\Users\\danie\\code\\llps_analysis\\venv\\Lib\\site-packages\\plotnine\\ggplot.py:587: PlotnineWarning: Saving 80.0 x 80.0 mm image.\n",
      "C:\\Users\\danie\\code\\llps_analysis\\venv\\Lib\\site-packages\\plotnine\\ggplot.py:588: PlotnineWarning: Filename: C:\\Users\\danie\\OneDrive - University of Cape Town\\Hons Project\\DataAnalysis\\new_analysis_20231031\\TFIIB FL + TBP all_quant\\condensed_fraction.png\n"
     ]
    }
   ],
   "source": [
    "pn.ggsave(plot,\n",
    "          \"C:\\\\Users\\\\danie\\\\OneDrive - University of Cape Town\\\\Hons Project\\\\DataAnalysis\\\\new_analysis_20231031\\\\TFIIB FL + TBP all_quant\\\\condensed_fraction.png\",\n",
    "          dpi=1200, width=80, height=80, units=\"mm\")"
   ],
   "metadata": {
    "collapsed": false,
    "ExecuteTime": {
     "end_time": "2023-11-04T14:18:57.784162400Z",
     "start_time": "2023-11-04T14:18:56.525609800Z"
    }
   }
  },
  {
   "cell_type": "code",
   "execution_count": null,
   "outputs": [],
   "source": [
    "# constructs = {\n",
    "#\n",
    "#     \"TFIIB FL\": 113,\n",
    "#     \"TFIIB Core\": 28,\n",
    "#     \"TFIIB IDR\": 153,\n",
    "# }\n",
    "\n",
    "constructs = {\n",
    "\n",
    "    \"TBP FL\": 9,\n",
    "    \"TBP Core\": 23,\n",
    "    \"TBP IDR\": 63,\n",
    "}\n"
   ],
   "metadata": {
    "collapsed": false
   }
  },
  {
   "cell_type": "code",
   "execution_count": null,
   "outputs": [],
   "source": [
    "def fix_concentration(row, constructs):\n",
    "    return constructs[row[\"prep\"]] / row[\"dir_name\"]"
   ],
   "metadata": {
    "collapsed": false
   }
  },
  {
   "cell_type": "code",
   "execution_count": null,
   "outputs": [],
   "source": [
    "def load_construct_regions_and_cfs(constructs, base_dir, fix_conc=False):\n",
    "    regions_dfs = []\n",
    "    condensed_fraction_dfs = []\n",
    "\n",
    "    for key in constructs.keys():\n",
    "        temp = pd.read_csv(base_dir / key / f\"{key}_regions.csv\")\n",
    "        temp[\"prep\"] = key\n",
    "        regions_dfs.append(temp)\n",
    "        temp = pd.read_csv(base_dir / key / f\"{key}_condensed_fractions.csv\")\n",
    "        temp[\"prep\"] = key\n",
    "        condensed_fraction_dfs.append(temp)\n",
    "\n",
    "    regions = pd.concat(regions_dfs)\n",
    "    condensed_fractions = pd.concat(condensed_fraction_dfs)\n",
    "\n",
    "    if fix_conc:\n",
    "        condensed_fractions[\"conc\"] = condensed_fractions.apply(lambda row: fix_concentration(row, constructs), axis=1)\n",
    "\n",
    "    return regions, condensed_fractions\n"
   ],
   "metadata": {
    "collapsed": false
   }
  },
  {
   "cell_type": "code",
   "execution_count": null,
   "outputs": [],
   "source": [
    "base_dir = Path(\n",
    "    \"C:\\\\Users\\\\danie\\\\OneDrive - University of Cape Town\\\\Hons Project\\\\DataAnalysis\\\\new_analysis_20231031\")"
   ],
   "metadata": {
    "collapsed": false
   }
  },
  {
   "cell_type": "code",
   "execution_count": null,
   "outputs": [],
   "source": [
    "regions, condensed_fractions = load_construct_regions_and_cfs(constructs, base_dir, fix_conc=True)"
   ],
   "metadata": {
    "collapsed": false
   }
  },
  {
   "cell_type": "code",
   "execution_count": null,
   "outputs": [],
   "source": [],
   "metadata": {
    "collapsed": false
   }
  },
  {
   "cell_type": "code",
   "execution_count": null,
   "outputs": [],
   "source": [
    "temp = condensed_fractions[[\"prep\", \"conc\", \"condensed_fraction\"]]"
   ],
   "metadata": {
    "collapsed": false
   }
  },
  {
   "cell_type": "code",
   "execution_count": null,
   "outputs": [],
   "source": [
    "temp.columns = [\"colour\", \"x\", \"y\"]"
   ],
   "metadata": {
    "collapsed": false
   }
  },
  {
   "cell_type": "code",
   "execution_count": null,
   "outputs": [],
   "source": [
    "\n",
    "temp.loc[:, \"x\"] = temp[\"x\"].astype(\"category\")\n",
    "temp.loc[:, \"log_y\"] = np.log10(temp[\"y\"] + 1)"
   ],
   "metadata": {
    "collapsed": false
   }
  },
  {
   "cell_type": "code",
   "execution_count": null,
   "outputs": [],
   "source": [
    "# replacement = {\n",
    "#     0.21875: 0.5,\n",
    "#     0.4375: 0.5,\n",
    "#     0.59765625: 0.5,\n",
    "#     0.875: 1,\n",
    "#     0.8828125: 1,\n",
    "#     1.1953125: 1,\n",
    "#     1.75: 2,\n",
    "#     1.765625: 2,\n",
    "#     2.390625: 2,\n",
    "#     3.5: 3.5,\n",
    "#     3.53125: 3.5,\n",
    "#     4.78125: 5,\n",
    "#     7.0: 7,\n",
    "#     7.0625: 7,\n",
    "#     9.5625: 9,\n",
    "#     14.125: 14,\n",
    "#     19.125: 20,\n",
    "#     28.25: 28,\n",
    "#     38.25: 38\n",
    "# }"
   ],
   "metadata": {
    "collapsed": false
   }
  },
  {
   "cell_type": "code",
   "execution_count": null,
   "outputs": [],
   "source": [
    "replacement = {\n",
    "    0.11842105263157894: 0.1,\n",
    "    0.12849162011173185: 0.1,\n",
    "    0.23684210526315788: 0.1,\n",
    "    0.25842696629213485: 0.1,\n",
    "    0.47368421052631576: 0.5,\n",
    "    0.4921875: 0.5,\n",
    "    0.5227272727272727: 0.5,\n",
    "    0.984375: 1,\n",
    "    1.0: 1,\n",
    "    1.0454545454545454: 1,\n",
    "    1.96875: 2,\n",
    "    2.090909090909091: 2,\n",
    "    2.25: 2,\n",
    "    3.9375: 4,\n",
    "    4.5: 5,\n",
    "    4.6: 5,\n",
    "    7.875: 8,\n",
    "    11.5: 11,\n",
    "    15.75: 16\n",
    "}"
   ],
   "metadata": {
    "collapsed": false
   }
  },
  {
   "cell_type": "code",
   "execution_count": null,
   "outputs": [],
   "source": [
    "def help(row):\n",
    "    if row[\"x\"] in replacement.keys():\n",
    "        return replacement[row[\"x\"]]\n",
    "    else:\n",
    "        return row[\"x\"]"
   ],
   "metadata": {
    "collapsed": false
   }
  },
  {
   "cell_type": "code",
   "execution_count": null,
   "outputs": [],
   "source": [
    "temp.loc[:, \"x\"] = temp.apply(lambda row: help(row), axis=1)"
   ],
   "metadata": {
    "collapsed": false
   }
  },
  {
   "cell_type": "code",
   "execution_count": null,
   "outputs": [],
   "source": [
    "temp.loc[:, \"x\"] = temp[\"x\"].astype(\"category\")"
   ],
   "metadata": {
    "collapsed": false
   }
  },
  {
   "cell_type": "code",
   "execution_count": null,
   "outputs": [],
   "source": [
    "temp[\"colour\"] = temp[\"colour\"].astype(\"str\")"
   ],
   "metadata": {
    "collapsed": false
   }
  },
  {
   "cell_type": "code",
   "execution_count": null,
   "outputs": [],
   "source": [
    "temp[temp[\"colour\"] == \"TBP Core\"] = \"TBP C\""
   ],
   "metadata": {
    "collapsed": false
   }
  },
  {
   "cell_type": "code",
   "execution_count": null,
   "outputs": [],
   "source": [
    "temp[\"x\"] = temp[\"x\"].astype(\"float\")"
   ],
   "metadata": {
    "collapsed": false
   }
  },
  {
   "cell_type": "code",
   "execution_count": null,
   "outputs": [],
   "source": [
    "np.unique(temp[\"x\"]).tolist()"
   ],
   "metadata": {
    "collapsed": false
   }
  },
  {
   "cell_type": "code",
   "execution_count": null,
   "outputs": [],
   "source": [
    "temp.loc[temp[\"colour\"] == \"TBP IDR\", \"y\"] = 0"
   ],
   "metadata": {
    "collapsed": false
   }
  },
  {
   "cell_type": "code",
   "execution_count": null,
   "outputs": [],
   "source": [
    "temp[temp[\"colour\"] == \"TBP IDR\"]"
   ],
   "metadata": {
    "collapsed": false
   }
  },
  {
   "cell_type": "code",
   "execution_count": null,
   "outputs": [],
   "source": [
    "plot = (\n",
    "        pn.ggplot(temp, pn.aes(x=\"x\", y=\"y\", shape=\"colour\", fill=\"colour\", color=\"colour\"))\n",
    "        # + pn.geom_point()\n",
    "        + pn.geom_boxplot()\n",
    "        + pn.theme_classic()\n",
    "        + pn.labs(x=\"Concentration ($\\mu$M)\", y=\"Condensed Fraction\", color=\"\", fill=\"\",\n",
    "                  shape=\"\")\n",
    "        + pn.scale_x_discrete(labels=[\"0.1\", \"0.5\", \"1\", \"2\", \"4\", \"5\", \"8\", \"11\", \"16\"])\n",
    "        + pn.theme(figure_size=(5, 5),\n",
    "                   legend_position=\"top\",\n",
    "                   axis_text=pn.element_text(color=\"black\", size=10, family=\"Arial\"),\n",
    "                   axis_title=pn.element_text(color=\"black\", size=10, family=\"Arial\"))\n",
    "        + pn.scale_fill_manual(values=[\"#35b779\", \"#31688e\", \"#440154\"])\n",
    "        + pn.scale_color_manual(values=[\"#154a31\", \"#1c3c52\", \"#1f0026\"])\n",
    ")\n",
    "plot"
   ],
   "metadata": {
    "collapsed": false
   }
  },
  {
   "cell_type": "code",
   "execution_count": null,
   "outputs": [],
   "source": [
    "plot.save(base_dir / \"condensed_fraction_boxplot_tbp.svg\", dpi=1200, width=80, height=80, units=\"mm\")"
   ],
   "metadata": {
    "collapsed": false
   }
  },
  {
   "cell_type": "code",
   "execution_count": null,
   "outputs": [],
   "source": [
    "# # TFIIB Colours:\n",
    "# + pn.scale_fill_manual(values=[\"#66c2a5\", \"#fc8d62\", \"#8da0cb\"])\n",
    "#         + pn.scale_color_manual(values=[\"#3a6b5c\", \"#a1583b\", \"#5d6a87\"])"
   ],
   "metadata": {
    "collapsed": false
   }
  },
  {
   "cell_type": "code",
   "execution_count": null,
   "outputs": [],
   "source": [
    "rna_tfiib_regions = pd.read_csv(base_dir / \"TFIIB + RNA\" / \"HSTFIIB + RNA_regions.csv\")\n",
    "rna_tfiib_cf = pd.read_csv(base_dir / \"TFIIB + RNA\" / \"HSTFIIB + RNA_condensed_fractions.csv\")\n",
    "rna_tfiib_cf = rna_tfiib_cf[rna_tfiib_cf[\"dir_name\"] != \"RNA_control\"]\n",
    "rna_tfiib_cf[\"dir_name\"] = rna_tfiib_cf[\"dir_name\"].astype(\"int\")\n",
    "\n",
    "rna_tfiib_cf[\"dir_name\"] = pd.Categorical(rna_tfiib_cf[\"dir_name\"], ordered=True,\n",
    "                                          categories=sorted(np.unique(rna_tfiib_regions[\"dir_name\"]).tolist()))"
   ],
   "metadata": {
    "collapsed": false
   }
  },
  {
   "cell_type": "code",
   "execution_count": null,
   "outputs": [],
   "source": [
    "rna_tfiib_cf[\"fg_vs_bg\"] = rna_tfiib_cf[\"mean_fg_intensity\"] / rna_tfiib_cf[\"mean_bg_intensity\"]\n",
    "rna_tfiib_cf"
   ],
   "metadata": {
    "collapsed": false
   }
  },
  {
   "cell_type": "code",
   "execution_count": null,
   "outputs": [],
   "source": [
    "temp = rna_tfiib_cf.melt(id_vars=[\"dir_name\"], value_vars=[\"mean_fg_intensity\", \"mean_bg_intensity\"])\n",
    "temp.loc[temp[\"variable\"] == \"mean_fg_intensity\", \"variable\"] = \"Foreground\"\n",
    "temp.loc[temp[\"variable\"] == \"mean_bg_intensity\", \"variable\"] = \"Background\"\n",
    "temp = temp.reset_index()"
   ],
   "metadata": {
    "collapsed": false
   }
  },
  {
   "cell_type": "code",
   "execution_count": null,
   "outputs": [],
   "source": [
    "temp[\"mean\"] = temp.groupby([\"dir_name\", \"variable\"])[\"value\"].transform(\"mean\")"
   ],
   "metadata": {
    "collapsed": false
   }
  },
  {
   "cell_type": "code",
   "execution_count": null,
   "outputs": [],
   "source": [
    "temp = temp.groupby([\"dir_name\", \"variable\"])[\"value\"].agg([\"mean\", \"std\", \"count\"]).reset_index()"
   ],
   "metadata": {
    "collapsed": false
   }
  },
  {
   "cell_type": "code",
   "execution_count": null,
   "outputs": [],
   "source": [
    "temp[\"std_err\"] = temp[\"std\"] / np.sqrt(temp[\"count\"])"
   ],
   "metadata": {
    "collapsed": false
   }
  },
  {
   "cell_type": "code",
   "execution_count": null,
   "outputs": [],
   "source": [
    "temp[\"mean_plus_two_std_errs\"] = temp[\"mean\"] + 2 * temp[\"std_err\"]\n",
    "temp[\"mean_minus_two_std_errs\"] = temp[\"mean\"] - 2 * temp[\"std_err\"]"
   ],
   "metadata": {
    "collapsed": false
   }
  },
  {
   "cell_type": "code",
   "execution_count": null,
   "outputs": [],
   "source": [
    "(\n",
    "        pn.ggplot(temp, pn.aes(x=\"dir_name\", y=\"mean\", color=\"variable\"))\n",
    "        + pn.geom_point()\n",
    "        # + pn.geom_line(pn.aes(group=\"variable\"))\n",
    "        + pn.geom_errorbar(pn.aes(ymin=\"mean_minus_two_std_errs\", ymax=\"mean_plus_two_std_errs\"), width=0.2)\n",
    "        + pn.geom_smooth(pn.aes(group=\"variable\"), method=\"lm\")\n",
    "        + pn.labs(x=\"RNA Concentration (ng/$\\mu$L)\", y=\"Mean Intensity\", color=\"\", fill=\"\",\n",
    "                  shape=\"\",\n",
    "                  caption=\"Mean Foreground and Background intensities as RNA is titrated into HsTFIIB FL.\\nMean of ten datapoints with error bars showing 2 standard errors from the mean\")\n",
    "\n",
    ")"
   ],
   "metadata": {
    "collapsed": false
   }
  },
  {
   "cell_type": "code",
   "execution_count": null,
   "outputs": [],
   "source": [
    "plot = (\n",
    "        pn.ggplot(rna_tfiib_cf, pn.aes(x=\"dir_name\", y=\"fg_vs_bg\"))\n",
    "\n",
    "        + pn.geom_boxplot()\n",
    "        + pn.geom_jitter(colour=\"#C70039\", alpha=0.75)\n",
    "        + pn.theme_classic()\n",
    "        + pn.labs(x=\"RNA Concentration (ng/$\\mu$L)\", y=\"Fold Intensity\", color=\"\", fill=\"\",\n",
    "                  shape=\"\")\n",
    "        # + pn.scale_x_discrete(labels=[\"0.1\", \"0.5\", \"1\", \"2\", \"4\", \"5\", \"8\", \"11\", \"16\"])\n",
    "        + pn.theme(figure_size=(5, 5),\n",
    "                   legend_position=\"top\",\n",
    "                   axis_text=pn.element_text(color=\"black\", size=10, family=\"Arial\"),\n",
    "                   axis_title=pn.element_text(color=\"black\", size=10, family=\"Arial\"))\n",
    "    # + pn.scale_fill_manual(values=[\"#35b779\", \"#31688e\", \"#440154\"])\n",
    "    # + pn.scale_color_manual(values=[\"#154a31\", \"#1c3c52\", \"#1f0026\"])\n",
    ")\n",
    "plot"
   ],
   "metadata": {
    "collapsed": false
   }
  },
  {
   "cell_type": "code",
   "execution_count": null,
   "outputs": [],
   "source": [
    "pn.ggsave(plot, base_dir / \"TFIIB + RNA\" / \"fold_intensity.svg\", dpi=1200, width=80, height=80, units=\"mm\")"
   ],
   "metadata": {
    "collapsed": false
   }
  },
  {
   "cell_type": "code",
   "execution_count": null,
   "outputs": [],
   "source": [
    "dna_tfiib_regions = pd.read_csv(base_dir / \"TFIIB + DNA\" / \"TFIIB + DNA_regions.csv\")\n",
    "dna_tfiib_cf = pd.read_csv(base_dir / \"TFIIB + DNA\" / \"TFIIB + DNA_condensed_fractions.csv\")\n",
    "dna_tfiib_cf = dna_tfiib_cf[dna_tfiib_cf[\"dir_name\"] != \"RNA_control\"]\n",
    "dna_tfiib_cf[\"dir_name\"] = dna_tfiib_cf[\"dir_name\"].astype(\"int\")\n",
    "\n",
    "dna_tfiib_cf[\"dir_name\"] = pd.Categorical(dna_tfiib_cf[\"dir_name\"], ordered=True,\n",
    "                                          categories=sorted(np.unique(dna_tfiib_regions[\"dir_name\"]).tolist()))"
   ],
   "metadata": {
    "collapsed": false
   }
  },
  {
   "cell_type": "code",
   "execution_count": null,
   "outputs": [],
   "source": [
    "dna_tfiib_cf[\"channel\"] = None\n",
    "dna_tfiib_regions[\"channel\"] = None"
   ],
   "metadata": {
    "collapsed": false
   }
  },
  {
   "cell_type": "markdown",
   "source": [],
   "metadata": {
    "collapsed": false
   }
  },
  {
   "cell_type": "code",
   "execution_count": null,
   "outputs": [],
   "source": [
    "dna_tfiib_cf.loc[dna_tfiib_cf[\"image_name\"].str.contains(\"Blue\"), \"channel\"] = \"TFIIB\"\n",
    "dna_tfiib_cf.loc[dna_tfiib_cf[\"image_name\"].str.contains(\"Red\"), \"channel\"] = \"DNA\"\n",
    "\n",
    "dna_tfiib_regions.loc[dna_tfiib_regions[\"image_name\"].str.contains(\"Blue\"), \"channel\"] = \"TFIIB\"\n",
    "dna_tfiib_regions.loc[dna_tfiib_regions[\"image_name\"].str.contains(\"Red\"), \"channel\"] = \"DNA\""
   ],
   "metadata": {
    "collapsed": false
   }
  },
  {
   "cell_type": "code",
   "execution_count": null,
   "outputs": [],
   "source": [
    "dna_tfiib_cf[\"fg_vs_bg\"] = dna_tfiib_cf[\"mean_fg_intensity\"] / dna_tfiib_cf[\"mean_bg_intensity\"]"
   ],
   "metadata": {
    "collapsed": false
   }
  },
  {
   "cell_type": "code",
   "execution_count": null,
   "outputs": [],
   "source": [
    "plot = (\n",
    "        pn.ggplot(dna_tfiib_cf[dna_tfiib_cf[\"channel\"] == \"TFIIB\"], pn.aes(x=\"dir_name\", y=\"condensed_fraction\"))\n",
    "        + pn.geom_boxplot(outlier_alpha=0)\n",
    "        + pn.geom_jitter(colour=\"#C70039\", alpha=0.75, width=0.2)\n",
    "        + pn.theme_classic()\n",
    "        + pn.labs(x=\"DNA Concentration (ng/$\\mu$L)\", y=\"Condensed Fraction\", color=\"\", fill=\"\",\n",
    "                  shape=\"\")\n",
    "        # + pn.scale_x_discrete(labels=[\"0.1\", \"0.5\", \"1\", \"2\", \"4\", \"5\", \"8\", \"11\", \"16\"])\n",
    "        + pn.theme(figure_size=(5, 5),\n",
    "                   legend_position=\"top\",\n",
    "                   axis_text=pn.element_text(color=\"black\", size=10, family=\"Arial\"),\n",
    "                   axis_title=pn.element_text(color=\"black\", size=10, family=\"Arial\"))\n",
    "    # + pn.scale_fill_manual(values=[\"#35b779\", \"#31688e\", \"#440154\"])\n",
    "    # + pn.scale_color_manual(values=[\"#154a31\", \"#1c3c52\", \"#1f0026\"])\n",
    ")\n",
    "plot"
   ],
   "metadata": {
    "collapsed": false
   }
  },
  {
   "cell_type": "code",
   "execution_count": null,
   "outputs": [],
   "source": [
    "pn.ggsave(plot, base_dir / \"TFIIB + DNA\" / \"cond_fraction.svg\", dpi=1200, width=80, height=80, units=\"mm\")"
   ],
   "metadata": {
    "collapsed": false
   }
  },
  {
   "cell_type": "code",
   "execution_count": null,
   "outputs": [],
   "source": [
    "dna_tfiib_regions[\"log_area\"] = np.log10(dna_tfiib_regions[\"area\"])"
   ],
   "metadata": {
    "collapsed": false
   }
  },
  {
   "cell_type": "code",
   "execution_count": null,
   "outputs": [],
   "source": [
    "dna_tfiib_regions[dna_tfiib_regions[\"dir_name\"] == 200]"
   ],
   "metadata": {
    "collapsed": false
   }
  },
  {
   "cell_type": "code",
   "execution_count": null,
   "outputs": [],
   "source": [
    "plot = (\n",
    "        pn.ggplot(dna_tfiib_regions[dna_tfiib_regions[\"channel\"] == \"TFIIB\"], pn.aes(x=\"dir_name\", y=\"perimeter\"))\n",
    "\n",
    "        # + pn.geom_boxplot(outlier_alpha=0)\n",
    "        + pn.geom_jitter(colour=\"#C70039\", alpha=0.75, width=10)\n",
    "        + pn.theme_classic()\n",
    "        + pn.labs(x=\"DNA Concentration (ng/$\\mu$L)\", y=\"Fold Intensity\", color=\"\", fill=\"\",\n",
    "                  shape=\"\")\n",
    "        # + pn.scale_x_discrete(labels=[\"0.1\", \"0.5\", \"1\", \"2\", \"4\", \"5\", \"8\", \"11\", \"16\"])\n",
    "        + pn.theme(figure_size=(5, 5),\n",
    "                   legend_position=\"top\",\n",
    "                   axis_text=pn.element_text(color=\"black\", size=10, family=\"Arial\"),\n",
    "                   axis_title=pn.element_text(color=\"black\", size=10, family=\"Arial\"))\n",
    "    # + pn.scale_fill_manual(values=[\"#35b779\", \"#31688e\", \"#440154\"])\n",
    "    # + pn.scale_color_manual(values=[\"#154a31\", \"#1c3c52\", \"#1f0026\"])\n",
    ")\n",
    "plot"
   ],
   "metadata": {
    "collapsed": false
   }
  },
  {
   "cell_type": "code",
   "execution_count": null,
   "outputs": [],
   "source": [
    "dna_tbp_regions = pd.read_csv(base_dir / \"TBP + DNA\" / \"TBP + DNA_regions.csv\")\n",
    "dna_tbp_cf = pd.read_csv(base_dir / \"TBP + DNA\" / \"TBP + DNA_condensed_fractions.csv\")\n",
    "# dna_tbp_cf = dna_tbp_cf[dna_tbp_cf[\"dir_name\"] != \"RNA_control\"]\n",
    "dna_tbp_cf[\"dir_name\"] = dna_tbp_cf[\"dir_name\"].astype(\"int\")\n",
    "\n",
    "dna_tbp_cf[\"dir_name\"] = pd.Categorical(dna_tbp_cf[\"dir_name\"], ordered=True,\n",
    "                                        categories=sorted(np.unique(dna_tbp_regions[\"dir_name\"]).tolist()))\n",
    "\n",
    "dna_tbp_cf[\"channel\"] = None\n",
    "dna_tbp_regions[\"channel\"] = None\n",
    "\n",
    "dna_tbp_cf.loc[dna_tbp_cf[\"image_name\"].str.contains(\"Blue\"), \"channel\"] = \"TBP\"\n",
    "dna_tbp_cf.loc[dna_tbp_cf[\"image_name\"].str.contains(\"Red\"), \"channel\"] = \"DNA\"\n",
    "\n",
    "dna_tbp_regions.loc[dna_tbp_regions[\"image_name\"].str.contains(\"Blue\"), \"channel\"] = \"TBP\"\n",
    "dna_tbp_regions.loc[dna_tbp_regions[\"image_name\"].str.contains(\"Red\"), \"channel\"] = \"DNA\""
   ],
   "metadata": {
    "collapsed": false
   }
  },
  {
   "cell_type": "code",
   "execution_count": null,
   "outputs": [],
   "source": [],
   "metadata": {
    "collapsed": false
   }
  },
  {
   "cell_type": "code",
   "execution_count": null,
   "outputs": [],
   "source": [
    "dna_tbp_cf[\"fg_vs_bg\"] = (dna_tbp_cf[\"mean_fg_intensity\"]) / (dna_tbp_cf[\"mean_bg_intensity\"])\n",
    "dna_tbp_cf[\"bg_vs_fg\"] = (dna_tbp_cf[\"mean_bg_intensity\"]) / (dna_tbp_cf[\"mean_fg_intensity\"])"
   ],
   "metadata": {
    "collapsed": false
   }
  },
  {
   "cell_type": "markdown",
   "source": [],
   "metadata": {
    "collapsed": false
   }
  },
  {
   "cell_type": "code",
   "execution_count": null,
   "outputs": [],
   "source": [
    "plot = (\n",
    "        pn.ggplot(dna_tbp_cf[(dna_tbp_cf[\"channel\"] == \"TBP\")],\n",
    "                  pn.aes(x=\"dir_name\", y=\"fg_vs_bg\"))\n",
    "        + pn.geom_boxplot(outlier_alpha=0)\n",
    "        + pn.geom_jitter(colour=\"#A7D397\", alpha=0.75, width=0.2)\n",
    "        + pn.theme_classic()\n",
    "        + pn.labs(x=\"DNA Concentration (ng/$\\mu$L)\", y=\"Fold Intensity\", color=\"\", fill=\"\",\n",
    "                  shape=\"\")\n",
    "        # + pn.scale_x_discrete(labels=[\"0.1\", \"0.5\", \"1\", \"2\", \"4\", \"5\", \"8\", \"11\", \"16\"])\n",
    "        + pn.theme(figure_size=(5, 5),\n",
    "                   legend_position=\"top\",\n",
    "                   axis_text=pn.element_text(color=\"black\", size=10, family=\"Arial\"),\n",
    "                   axis_title=pn.element_text(color=\"black\", size=10, family=\"Arial\"))\n",
    "    # + pn.scale_fill_manual(values=[\"#35b779\", \"#31688e\", \"#440154\"])\n",
    "    # + pn.scale_color_manual(values=[\"#154a31\", \"#1c3c52\", \"#1f0026\"])\n",
    ")\n",
    "plot"
   ],
   "metadata": {
    "collapsed": false
   }
  },
  {
   "cell_type": "code",
   "execution_count": null,
   "outputs": [],
   "source": [
    "pn.ggsave(plot, base_dir / \"TBP + DNA\" / \"fold_intensity.png\", dpi=1200, width=80, height=80, units=\"mm\")"
   ],
   "metadata": {
    "collapsed": false
   }
  },
  {
   "cell_type": "code",
   "execution_count": null,
   "outputs": [],
   "source": [
    "rna_tbp_regions = pd.read_csv(base_dir / \"TBP + RNA\" / \"TBP + RNA_regions.csv\")\n",
    "rna_tbp_cf = pd.read_csv(base_dir / \"TBP + RNA\" / \"TBP + RNA_condensed_fractions.csv\")\n",
    "rna_tbp_cf = rna_tbp_cf[rna_tbp_cf[\"dir_name\"] != \"RNA_ONLY\"]\n",
    "rna_tbp_cf[\"dir_name\"] = rna_tbp_cf[\"dir_name\"].astype(\"int\")\n",
    "\n",
    "rna_tbp_cf[\"dir_name\"] = pd.Categorical(rna_tbp_cf[\"dir_name\"], ordered=True,\n",
    "                                        categories=sorted(np.unique(rna_tbp_regions[\"dir_name\"]).tolist()))\n",
    "\n",
    "rna_tbp_cf[\"fg_vs_bg\"] = (rna_tbp_cf[\"mean_fg_intensity\"]) / (rna_tbp_cf[\"mean_bg_intensity\"])"
   ],
   "metadata": {
    "collapsed": false
   }
  },
  {
   "cell_type": "code",
   "execution_count": null,
   "outputs": [],
   "source": [
    "plot = (\n",
    "        pn.ggplot(rna_tbp_cf, pn.aes(x=\"dir_name\", y=\"condensed_fraction\"))\n",
    "        + pn.geom_boxplot(outlier_alpha=0)\n",
    "        + pn.geom_jitter(colour=\"#A7D397\", alpha=0.75, width=0.2)\n",
    "        + pn.theme_classic()\n",
    "        + pn.labs(x=\"RNA Concentration (ng/$\\mu$L)\", y=\"Condensed Fraction\", color=\"\", fill=\"\",\n",
    "                  shape=\"\")\n",
    "        # + pn.scale_x_discrete(labels=[\"0.1\", \"0.5\", \"1\", \"2\", \"4\", \"5\", \"8\", \"11\", \"16\"])\n",
    "        + pn.theme(figure_size=(5, 5),\n",
    "                   legend_position=\"top\",\n",
    "                   axis_text=pn.element_text(color=\"black\", size=10, family=\"Arial\"),\n",
    "                   axis_title=pn.element_text(color=\"black\", size=10, family=\"Arial\"))\n",
    "    # + pn.scale_fill_manual(values=[\"#35b779\", \"#31688e\", \"#440154\"])\n",
    "    # + pn.scale_color_manual(values=[\"#154a31\", \"#1c3c52\", \"#1f0026\"])\n",
    ")\n",
    "plot"
   ],
   "metadata": {
    "collapsed": false
   }
  },
  {
   "cell_type": "code",
   "execution_count": null,
   "outputs": [],
   "source": [
    "pn.ggsave(plot, base_dir / \"TBP + RNA\" / \"condensed_fraction.svg\", dpi=1200, width=80, height=80, units=\"mm\")"
   ],
   "metadata": {
    "collapsed": false
   }
  },
  {
   "cell_type": "code",
   "execution_count": null,
   "outputs": [],
   "source": [],
   "metadata": {
    "collapsed": false
   }
  }
 ],
 "metadata": {
  "kernelspec": {
   "display_name": "Python 3",
   "language": "python",
   "name": "python3"
  },
  "language_info": {
   "codemirror_mode": {
    "name": "ipython",
    "version": 2
   },
   "file_extension": ".py",
   "mimetype": "text/x-python",
   "name": "python",
   "nbconvert_exporter": "python",
   "pygments_lexer": "ipython2",
   "version": "2.7.6"
  }
 },
 "nbformat": 4,
 "nbformat_minor": 0
}
